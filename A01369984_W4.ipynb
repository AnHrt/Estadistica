{
 "cells": [
  {
   "cell_type": "markdown",
   "metadata": {},
   "source": [
    "#### **Workshop #4**\n",
    "\n",
    "> **Angeles Arista Huerta** */  Agosto 2022*"
   ]
  },
  {
   "cell_type": "markdown",
   "metadata": {},
   "source": [
    "Se peude aplicar pruebas de hipótesis para probar afirmaciones sobre variables aleatorias. \n",
    "\n",
    "Estas variables aleatorias pueden ser una media, diferencia de 2 medias, correlación y también coeficientes de un modelo de regresión lineal.\n",
    "\n",
    "La covarianza y la correlación son medidas de relación lineal entre 2 variables aleatorias, X e Y."
   ]
  },
  {
   "cell_type": "markdown",
   "metadata": {},
   "source": [
    "**Regresión lineal**\n",
    "\n",
    "El modelo de regresión lineal simple se utiliza para comprender la relación lineal entre dos variables. Suponiendo que una variable (variable independiente **IV**), puede utilizarse como predictor de la otra variable (la variable dependiente **DV**).\n",
    "\n",
    "Mide la relación lineal entre 2 variables aleatorias (X e Y), la diferencia radica en que X explica los movimientos Y, por lo que Y depende del movimiento de X\n",
    "\n",
    "El modelo de regresión calcula una ecuación lineal (línea de regresión) para representar cuánto Y (en promedio) se mueve con los movimientos de X, y cuál es el valor esperado de Y cuando X=0.\n",
    "\n",
    "Así mismo se utilizan modelos de regresión lineal para realizar predicciones o pronósticos de la variable dependiente."
   ]
  },
  {
   "cell_type": "markdown",
   "metadata": {},
   "source": [
    "El modelo de regresión simple considera una variable infependinte, a diferencia de una regresión multiple que se compone de más de una variable independiente. La similitud entre ambas regresiones es que solo condiferan una variable dependiente.\n",
    "\n",
    "Algunas aplicaciones de los modelos de regresión son:\n",
    "\n",
    "* Comprender la relación entre una variable dependiente y una o más variables independientes, también llamadas variables explicativas\n",
    "\n",
    "* Predecir o estimar el valor esperado de la variable dependiente de acuerdo con el valor específico de las variables explicativas\n",
    "\n",
    "###### En los modelos de regresión se asume que existe una relación lineal entre la variable dependiente y las variables independientes. Podría ser posible que en realidad, la relación no sea lineal. Un modelo de regresión lineal no captura relaciones no lineales a menos que hagamos transformaciones matemáticas específicas de las variables."
   ]
  },
  {
   "cell_type": "markdown",
   "metadata": {},
   "source": [
    "El Modelo de Mercado establece que el rendimiento esperado de una acción viene dado por su coeficiente *alfa* más su coeficiente *beta* de mercado, multiplicado por el rendimiento del mercado. En términos matemáticos:\n",
    "\n",
    "> E[Ri] = alpha + beta*(Rmercado)\n",
    "\n",
    "*Se puede simplificar la ecuación sustituyendo alpha=beta0 & beta=beta1*\n",
    "\n",
    "> E[Ri] = abeta0 + beta1*(Rmercado)\n",
    "\n",
    "Es posible estimar los coeficientes de B0 & B1 ejecutando un modelo de regresión lineal simple. Este especifica que la rentabilidad del mercado es la variable independiente y la rentabilidad de las acciones es la variable dependiente. ***Es recomendado utilizar retornos continuos compuestos en lugar de simples para estimar el modelos de regresión de mercado.***"
   ]
  },
  {
   "cell_type": "markdown",
   "metadata": {},
   "source": [
    "El modelo de regresión de mercado se puede expresar como:\n",
    "\n",
    "> r(i,t) = b0 + b1 *r(M,t) + Et \n",
    "* ###### **Et - error en el tiempo t**. Gracias al CTL, el error se comporta como una variable aleatoria distribuida normal ∼ N(0, SD_error) ya que el error es en realidad una combinación lineal de variables aleatorias; se espera que el término de error tenga media=0 y una desviación estándar específica .\n",
    "* ###### **r(i,t) - es el retorno del stock i en el tiempo t** \n",
    "* ###### **r(M,t) - es el retorno de mercado en el tiempo t**\n",
    "* ###### **b0 & b1 - son definidos como coeficientes de regresión**"
   ]
  },
  {
   "cell_type": "markdown",
   "metadata": {},
   "source": [
    "##### **Tipos de estructura de datos**\n",
    "\n",
    "El modelo de mercado es una modelo de regresión de series temporales. En ell es posible analizar la relación entre 2 variables que representan una caracteristica o atributo(retornos) de dos *sujetos* a lo largo del tiempo: ***Un indice bursátil y un indice de mercado.***\n",
    "\n",
    "*La estructura o tipos de datos en un modelo de mercado son series temporales.*\n",
    "###### (Este tipo de modelos de regresión se denomina regresión de serie temporal extraída.)\n",
    "\n",
    "Existen tres tipos de datos utilizados en modelos de regresión:\n",
    "* *Series temporales*: cada observación representa un perioso y cada columna representa una o más variables, las cuales son caracteristicas de uno o más sujetos. Se tienen uno o más variables medidas en un periodi de tiempo.\n",
    "* *Sección transversal*: cada observación representa un sujeto en un solo periodo de tiempo, y cada columna representa variables o caracteristicas de los sujetos.\n",
    "* *Datos de panel*: esta es una combinación estructura de series temporales con sección transversal*\n",
    "\n",
    "***El modelo de mercado se puede considerar como un modelo de regresión de series temporales.***\n",
    "\n",
    "Otra manera de clasidicar un modelo de regresión es basandonos en la cantidad de variables independientes. \n",
    " * Si el modelo de regresión considera solo una variable independiente, es un modelo de *regresión simple*. \n",
    " * Si el modelo considera mas de una variable independiente, es un modelo de *regresión multiple*."
   ]
  },
  {
   "cell_type": "markdown",
   "metadata": {},
   "source": [
    "---\n",
    "En el caso de una regresión simple, es necesario estimar los mejores valores de las coeficientes de beta0 y beta1 . Si Y es una variable dependiente y X es una variable independiente, la ecuación de regresión es:\n",
    "> yi = b0 + b1(xi) + Ei\n",
    "\n",
    "La regresión lineal esta dada por el valor esperado de Y (y_prima):\n",
    "> E[yi] = b0 + b1(xi) = yi'\n",
    "\n",
    "###### donde:\n",
    "* i - va de 1 a N(total de observaciones de la muestra)\n",
    "\n",
    "Las coeficientes de beta0 y beta1  definen la regresión lineal, por lo que:\n",
    "* Si beta0 cambia, la intercección de la linea de mueve .\n",
    "* Si beta1 cambia, la pendiente de la linea cambia.\n",
    "\n",
    "Si se traza todos los pares de (Xi, Yi) es posible visualizar si existe una relación lineal entre Y y X. *(En un trazado de dispersión, cada par de (Xi, Yi) es un punto del trazado.)*"
   ]
  },
  {
   "cell_type": "markdown",
   "metadata": {},
   "source": [
    "---"
   ]
  },
  {
   "cell_type": "markdown",
   "metadata": {},
   "source": [
    "**El metodo OLS (Ordinaty Least Square)**\n",
    "\n",
    "*Minimo ordinario cuadrado*: Es un metodo de optimización para estimar los mejores valores para los coeficientes de beta y sus estandar errors en un modelo de regresión lineal.\n",
    "\n",
    "El proposito es encontrar la mejor regresión lineal que represente de la mejor manera todos los puntos de (Xi, Yi).\n",
    "\n",
    "El OLS intenta minimizar la suma de los cuadrados del error de la ecuación de regresión. \n",
    "\n",
    "Su objetivo es:\n",
    "* Minimizar:\n",
    "> Sum (y - y')^2\n",
    "\n",
    "Al sustituirlo en la ecuación de regresión se obtiene: \n",
    "* Minimizar:\n",
    "> Sum[yi - (b0 + b1 * xi)]^2\n",
    "\n"
   ]
  }
 ],
 "metadata": {
  "kernelspec": {
   "display_name": "Python 3.10.7 64-bit (microsoft store)",
   "language": "python",
   "name": "python3"
  },
  "language_info": {
   "name": "python",
   "version": "3.10.7"
  },
  "orig_nbformat": 4,
  "vscode": {
   "interpreter": {
    "hash": "f58006e3a6b3697db5a2671151387509a500f2e72d8fe07fc4154091e95c0813"
   }
  }
 },
 "nbformat": 4,
 "nbformat_minor": 2
}
