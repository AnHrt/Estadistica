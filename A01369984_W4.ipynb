{
 "cells": [
  {
   "cell_type": "markdown",
   "metadata": {},
   "source": [
    "#### **Workshop #4**\n",
    "\n",
    "> **Angeles Arista Huerta** */  Agosto 2022*"
   ]
  }
 ],
 "metadata": {
  "kernelspec": {
   "display_name": "Python 3.10.7 64-bit (microsoft store)",
   "language": "python",
   "name": "python3"
  },
  "language_info": {
   "name": "python",
   "version": "3.10.7"
  },
  "orig_nbformat": 4,
  "vscode": {
   "interpreter": {
    "hash": "f58006e3a6b3697db5a2671151387509a500f2e72d8fe07fc4154091e95c0813"
   }
  }
 },
 "nbformat": 4,
 "nbformat_minor": 2
}
