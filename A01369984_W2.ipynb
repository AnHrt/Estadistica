{
 "cells": [
  {
   "cell_type": "markdown",
   "metadata": {},
   "source": [
    "**Workshop #2**\n",
    "\n",
    "**Angeles Arista Huerta** */  Agosto 2022*"
   ]
  },
  {
   "cell_type": "markdown",
   "metadata": {},
   "source": [
    "**Teorema de limite central (CLT)**\n",
    "\n",
    "Para una variable aleatoria con cualquier probabilidad de distribución, cuando se toma una muestra, la media de la muestra tendrá las siguientes caracteristicas.\n",
    "\n",
    "1. La distribución de las medias de la muestra será cercana a una distribución normal, cuando se toman muchos grupos(el tamaño de los grupos debe ser igual o mayor que 25). Esto sucedo no sólo con la media de la muestra, sino también con otras combinaciones lineales como la suma o el promedio ponderado de la variable.\n",
    "\n",
    "2. La desviaión estandar de las medias de la muestra serpa mucho menor que la desviación estandar de lo sindividuos. Esto quiere decir que la desviación estandar de la muestra se reducira con un factor de *1/sqrt(N)*\n",
    "\n",
    "El CLT dice que, sin importar la distribución original de probabilidad de cualquier variable aleatoria, si tomamos grupos de esta variable:\n",
    "\n",
    "* los medios de estos grupos tendrán una distribución de probabilidad cercana a la distribución normal\n",
    "\n",
    "* la desviación estándar de la media se reducirá según el número de elementos de cada grupo.\n",
    "\n",
    "La varianza esperada de la media de la muestra es igual a la varianza de los individuos dividida por N\n",
    "> ###### VAR(mediaX) = [VAR(x)] / N \n",
    "\n",
    "La desviación estándar esperada de la media muestral de una variable aleatoria es igual a la desviación estándar individual de la variable dividida por la raíz al cuadrado de N.\n",
    "\n",
    "> ###### SD(mediaX) = SD(X) / sqrt(N)\n",
    "\n",
    "De esta manera se pueden hacer inferencias sobre la media muestral de cualquier variable aleatoria.Normalmente se analiza los medios de variable cuando se busca aprender algo sobre el mundo real.\n",
    "\n",
    "Con la CLT tenemos una teoría para hacer inferencias sobre las medias poblacionales y la desviación estándar de cualquier variable aleatoria usando muestras. El método para hacer este tipo de inferencias es la Prueba de Hipótesis."
   ]
  },
  {
   "cell_type": "markdown",
   "metadata": {},
   "source": [
    "**Distribución de probabilidad uniforme**\n",
    "\n",
    "La *función de densidad de probabilidad* para una variable uniforme es :\n",
    "> ###### f(x) = {(1/b-a) ; a <= x <= b}\n",
    "> ###### ¬{0  ; otherwise}\n",
    "La función es igual a cero para valores fuera del rango de *[a,b]*.\n",
    "\n",
    "El *area bajo la linea* (1/(b-a)) es 1 (100%) ya que es un PDF. \n",
    "\n",
    "El *valor esperado* de una variable x esta dado por el punto medio del rango de *a* & *b*\n",
    "> ###### E(x) = (a + b) / 2\n",
    "*En otras palabras el valor esperado de una variable aleatoria es la media teorica de las variable de acuerdo con su distribución de probabilidad.*\n",
    "\n",
    "La *varianza* de una variable con distribución uniforme es:\n",
    "> ###### Var(x) = (b - a)^2 / 12"
   ]
  },
  {
   "cell_type": "markdown",
   "metadata": {},
   "source": [
    "**Simulación de Monte Carlos**\n",
    "\n",
    "La creación de números aleatorios que siguen distribuciones de probabilidad específicas se suele llamar simulación de Monte Carlos.\n",
    "\n"
   ]
  },
  {
   "cell_type": "code",
   "execution_count": 2,
   "metadata": {},
   "outputs": [],
   "source": [
    "# Importar librerias\n",
    "\n",
    "from symbulate import *\n",
    "#'exec(%matplotlib inline)' \n",
    "import matplotlib\n",
    "import matplotlib.pyplot as plt"
   ]
  },
  {
   "cell_type": "code",
   "execution_count": 3,
   "metadata": {},
   "outputs": [
    {
     "data": {
      "image/png": "[encoded data removed]",
      "text/plain": [
       "<Figure size 432x288 with 1 Axes>"
      ]
     },
     "metadata": {
      "needs_background": "light"
     },
     "output_type": "display_data"
    }
   ],
   "source": [
    "# Simulación con distribución de probabilidad uniforme\n",
    "# Definimos una variable aleatoria uniforme X \n",
    "# simulación de 10.000 números aleatorios uniformes, valores de 0 a 40\n",
    "\n",
    "plt.clf()           # Limpiar espacio de gráfica\n",
    "P = Uniform(0,40)   # Definir el tipo de probabilidad de la función como uniforme\n",
    "X =RV(P)            # Definir X como una variable aleatoria de tipo P(uniforme)\n",
    "x=X.sim(10000)      #Simular valores de x y guardarlos en un arreglo\n",
    "x.plot()\n",
    "plt.show()"
   ]
  },
  {
   "cell_type": "markdown",
   "metadata": {},
   "source": [
    "### Reto\n",
    "\n",
    "Instrucciones:\n",
    "\n",
    "*CALCULE LA MEDIA Y LA DESVIACIÓN ESTÁNDAR DE ESTA VARIABLE X UNIFORME SIMULADA. ¿QUÉ TAN CERCANAS ESTABAN ESTAS MEDIAS Y DESVIACIÓN ESTÁNDAR DE LA MEDIA TEÓRICA Y LA DESVIACIÓN ESTÁNDAR?*\n",
    "\n",
    "*INTERPRETE EL HISTOGRAMA ANTERIOR. ¿QUÉ VES? EXPLIQUE CON SUS PALABRAS.*"
   ]
  },
  {
   "cell_type": "code",
   "execution_count": 5,
   "metadata": {},
   "outputs": [
    {
     "data": {
      "text/html": [
       "\n",
       "    <table>\n",
       "      <thead>\n",
       "        <th width=\"10%\">Index</th>\n",
       "        <th width=\"90%\">Result</th>\n",
       "      </thead>\n",
       "      <tbody>\n",
       "        \n",
       "        <tr>\n",
       "          <td>0</td><td>(23.250580355149282, 31.880880380309748, 15.269757393559992, 4.632368520389312, 33.52883110593875, ....</td>\n",
       "        </tr>\n",
       "        \n",
       "        <tr>\n",
       "          <td>1</td><td>(34.03883954120531, 21.730304138247043, 11.104417016789817, 13.32023450461612, 38.89765925506693, .....</td>\n",
       "        </tr>\n",
       "        \n",
       "        <tr>\n",
       "          <td>2</td><td>(11.086299919936927, 29.795687211051703, 7.1985056180865525, 17.67815094413899, 16.38383541808323, ....</td>\n",
       "        </tr>\n",
       "        \n",
       "        <tr>\n",
       "          <td>3</td><td>(15.635613583046496, 33.248308198320856, 5.0773236681155876, 19.422947337875392, 19.96709540249288, ...</td>\n",
       "        </tr>\n",
       "        \n",
       "        <tr>\n",
       "          <td>4</td><td>(29.25314150289992, 14.953549919565905, 7.894717206930282, 0.8911015289128654, 12.006669025045813, ....</td>\n",
       "        </tr>\n",
       "        \n",
       "        <tr>\n",
       "          <td>5</td><td>(31.79548826978388, 7.956894949979447, 34.32336779963358, 38.49902459340232, 30.561247201134876, ......</td>\n",
       "        </tr>\n",
       "        \n",
       "        <tr>\n",
       "          <td>6</td><td>(28.035249975518074, 18.957686368095622, 2.843706462858302, 33.75413869092341, 13.895563900089911, ....</td>\n",
       "        </tr>\n",
       "        \n",
       "        <tr>\n",
       "          <td>7</td><td>(31.447872552188297, 20.02072903289532, 5.1142704117421545, 29.606011800439592, 7.202469094391577, ....</td>\n",
       "        </tr>\n",
       "        \n",
       "        <tr>\n",
       "          <td>8</td><td>(32.43600290685441, 17.06725193579718, 2.1535649549609293, 24.43223131730701, 3.535094292265746, ......</td>\n",
       "        </tr>\n",
       "        <tr><td>...</td><td>...</td></tr>\n",
       "        <tr>\n",
       "          <td>9999</td><td>(3.7369852500753, 12.592072777157878, 19.442710463388483, 34.436326671614665, 13.470216257940578, .....</td>\n",
       "        </tr>\n",
       "        \n",
       "      </tbody>\n",
       "    </table>\n",
       "        "
      ],
      "text/plain": [
       "Index Result\n",
       "0     (23.250580355149282, 31.880880380309748, 15.269757393559992, 4.632368520389312, 33.52883110593875, ..., 4.9174266592402915)\n",
       "1     (34.03883954120531, 21.730304138247043, 11.104417016789817, 13.32023450461612, 38.89765925506693, ..., 37.89875480505303)\n",
       "2     (11.086299919936927, 29.795687211051703, 7.1985056180865525, 17.67815094413899, 16.38383541808323, ..., 35.404974804386164)\n",
       "3     (15.635613583046496, 33.248308198320856, 5.0773236681155876, 19.422947337875392, 19.96709540249288, ..., 23.551969956665815)\n",
       "4     (29.25314150289992, 14.953549919565905, 7.894717206930282, 0.8911015289128654, 12.006669025045813, ..., 13.682752373753818)\n",
       "5     (31.79548826978388, 7.956894949979447, 34.32336779963358, 38.49902459340232, 30.561247201134876, ..., 31.06574547847179)\n",
       "6     (28.035249975518074, 18.957686368095622, 2.843706462858302, 33.75413869092341, 13.895563900089911, ..., 20.503914349187774)\n",
       "7     (31.447872552188297, 20.02072903289532, 5.1142704117421545, 29.606011800439592, 7.202469094391577, ..., 6.96803936143652)\n",
       "8     (32.43600290685441, 17.06725193579718, 2.1535649549609293, 24.43223131730701, 3.535094292265746, ..., 21.11302322728895)\n",
       "....  .........................................................................................................................\n",
       "9999  (3.7369852500753, 12.592072777157878, 19.442710463388483, 34.436326671614665, 13.470216257940578, ..., 7.059066782860022)"
      ]
     },
     "execution_count": 5,
     "metadata": {},
     "output_type": "execute_result"
    }
   ],
   "source": [
    "# Genera 10.000 grupos de 25 variables aleatorias uniformes \n",
    "# para terminar en una matriz de 10.000 filas y 25 columnas\n",
    "\n",
    "# Define la probabilidad como un vector de 25 numeros aleatorios uniformes\n",
    "P = Uniform(0,40) ** 25\n",
    "XVECTOR =RV(P)              # Definir un vector de variables aleatorias con 25 valores\n",
    "xmatrix=XVECTOR.sim(10000)  # Simular 10,000 vectores para obtener una matriz\n",
    "xmatrix\n"
   ]
  },
  {
   "cell_type": "code",
   "execution_count": 6,
   "metadata": {},
   "outputs": [
    {
     "data": {
      "text/html": [
       "\n",
       "    <table>\n",
       "      <thead>\n",
       "        <th width=\"10%\">Index</th>\n",
       "        <th width=\"90%\">Result</th>\n",
       "      </thead>\n",
       "      <tbody>\n",
       "        \n",
       "        <tr>\n",
       "          <td>0</td><td>18.878056962276244</td>\n",
       "        </tr>\n",
       "        \n",
       "        <tr>\n",
       "          <td>1</td><td>20.36003763556946</td>\n",
       "        </tr>\n",
       "        \n",
       "        <tr>\n",
       "          <td>2</td><td>17.715864412297293</td>\n",
       "        </tr>\n",
       "        \n",
       "        <tr>\n",
       "          <td>3</td><td>18.79113543323794</td>\n",
       "        </tr>\n",
       "        \n",
       "        <tr>\n",
       "          <td>4</td><td>20.696692446268315</td>\n",
       "        </tr>\n",
       "        \n",
       "        <tr>\n",
       "          <td>5</td><td>19.473908151448107</td>\n",
       "        </tr>\n",
       "        \n",
       "        <tr>\n",
       "          <td>6</td><td>16.450964467395792</td>\n",
       "        </tr>\n",
       "        \n",
       "        <tr>\n",
       "          <td>7</td><td>21.157321106710892</td>\n",
       "        </tr>\n",
       "        \n",
       "        <tr>\n",
       "          <td>8</td><td>17.717120312510065</td>\n",
       "        </tr>\n",
       "        <tr><td>...</td><td>...</td></tr>\n",
       "        <tr>\n",
       "          <td>9999</td><td>17.95276815086389</td>\n",
       "        </tr>\n",
       "        \n",
       "      </tbody>\n",
       "    </table>\n",
       "        "
      ],
      "text/plain": [
       "Index Result\n",
       "0     18.878056962276244\n",
       "1     20.36003763556946\n",
       "2     17.715864412297293\n",
       "3     18.79113543323794\n",
       "4     20.696692446268315\n",
       "5     19.473908151448107\n",
       "6     16.450964467395792\n",
       "7     21.157321106710892\n",
       "8     17.717120312510065\n",
       "....  .................\n",
       "9999  17.95276815086389"
      ]
     },
     "execution_count": 6,
     "metadata": {},
     "output_type": "execute_result"
    }
   ],
   "source": [
    "# Obtener medias del vector\n",
    "# El segundo parametro es la operación matematica aplicada para cada renglon del vector\n",
    "# Simula 10,000 medias de cada vector de 25 numeros distribuidos\n",
    "\n",
    "xmean = RV(P,mean).sim(10000)\n",
    "xmean"
   ]
  },
  {
   "cell_type": "code",
   "execution_count": 7,
   "metadata": {},
   "outputs": [
    {
     "data": {
      "image/png": "[encoded data removed]",
      "text/plain": [
       "<Figure size 432x288 with 1 Axes>"
      ]
     },
     "metadata": {
      "needs_background": "light"
     },
     "output_type": "display_data"
    }
   ],
   "source": [
    "# Histograma de distribución uniforme\n",
    "plt.clf()\n",
    "xmean.plot()\n",
    "plt.show()"
   ]
  },
  {
   "cell_type": "markdown",
   "metadata": {},
   "source": [
    "**EL HISTOGRAMA MUETRA UNA DISTRIBUCIÓN NORMAL, SE OBSERVA QUE SE TIENE UNA MAYOR CANTIDAD DE VALORES EN 20**"
   ]
  },
  {
   "cell_type": "markdown",
   "metadata": {},
   "source": [
    "### Reto\n",
    "\n",
    "Instrucciones:\n",
    "\n",
    "*CALCULE LA MEDIA Y LA DESVIACIÓN ESTÁNDAR DE LA VARIABLE XMEAN. ¿EN QUÉ MEDIDA SON SIMILARES O DIFERENTES ESTOS VALORES DE LA MEDIA Y LA DESVIACIÓN ESTÁNDAR DE X?* \n",
    "\n",
    "*¿QUÉ PUEDE VER EN EL HISTOGRAMA ANTERIOR? ¿EL HISTOGRAMA DE LOS MEDIOS DE MUESTRA DE UNA VARIABLE ALEATORIA UNIFORME SE PARECE A UNA VARIABLE DISTRIBUIDA UNIFORME? ¿VE UNA LÓGICA? EXPLIQUE BREVEMENTE LO QUE PIENSA.*\n",
    "\n",
    "*¿QUÉ VES? ¿EN QUÉ SE DIFERENCIA EL HISTOGRAMA DE X DEL HISTOGRAMA DE LAS MUESTRAS DE X?*"
   ]
  },
  {
   "cell_type": "code",
   "execution_count": null,
   "metadata": {},
   "outputs": [],
   "source": [
    "# Grafica ambas variables en la misma gráfica; \n",
    "# la variable uniforme x original y la variable xsample \n",
    "plt.clf()\n",
    "xmean.plot()\n",
    "x.plot()\n",
    "plt.show()"
   ]
  },
  {
   "cell_type": "markdown",
   "metadata": {},
   "source": [
    "**Simulación de numeros con una probabilidad de distribución normal**"
   ]
  },
  {
   "cell_type": "code",
   "execution_count": 8,
   "metadata": {},
   "outputs": [
    {
     "data": {
      "image/png": "[encoded data removed]",
      "text/plain": [
       "<Figure size 432x288 with 1 Axes>"
      ]
     },
     "metadata": {
      "needs_background": "light"
     },
     "output_type": "display_data"
    }
   ],
   "source": [
    "# Simular una variable distribuida normal\n",
    "# Y con media = 20 & devación estándar = 10.\n",
    "\n",
    "plt.clf()                    # Limpiar espacio de gráfica\n",
    "P = Normal(mean=20, sd=10)   # Definir el tipo de probabilidad de la función como uniforme\n",
    "Y = RV(P)                    # Definir X como una variable aleatoria de tipo P(normal)\n",
    "y = Y.sim(10000)             # Simular valores de Y y guardarlos en un arreglo\n",
    "y.plot()\n",
    "plt.show()"
   ]
  },
  {
   "cell_type": "markdown",
   "metadata": {},
   "source": [
    "**EL HISTOGRAMA MUETRA UNA DISTRIBUCIÓN NORMAL, SE OBSERVA QUE SE TIENE UNA MAYOR CANTIDAD DE VALORES EN 20**\n",
    "**A DIFERENCIA DEL HISTOGRAMA ANTERIOR ESTE MUESTRA UN RANGO MÁS AMPLIO AL TENER VALORE DE ENTRE -10 A 50M MIENTRAS QUE EL ANTERIOR SE ENCUENTRA ENTRE 12.5 A 27.5**"
   ]
  },
  {
   "cell_type": "markdown",
   "metadata": {},
   "source": [
    "### Reto\n",
    "\n",
    "Instrucciones:\n",
    "\n",
    "*CALCULE LA MEDIA Y LA DESVIACIÓN ESTÁNDAR DE ESTA VARIABLE ALEATORIA Y. ¿QUÉ TAN SIMILARES O DIFERENTES SON ESTOS VALORES DE LA MEDIA Y DESVIACIÓN ESTÁNDAR DE LA MEDIA TEÓRICA (20) Y LA DESVIACIÓN ESTÁNDAR TEÓRICA (10)?*\n",
    "\n",
    "*¿QUÉ VE? INTERPRETE EL HISTOGRAMA CON SUS PALABRAS.*"
   ]
  },
  {
   "cell_type": "code",
   "execution_count": 10,
   "metadata": {},
   "outputs": [
    {
     "data": {
      "text/html": [
       "\n",
       "    <table>\n",
       "      <thead>\n",
       "        <th width=\"10%\">Index</th>\n",
       "        <th width=\"90%\">Result</th>\n",
       "      </thead>\n",
       "      <tbody>\n",
       "        \n",
       "        <tr>\n",
       "          <td>0</td><td>(30.632554670561007, 14.127501873961071, 23.278386362477033, 20.70176840641789, 20.662564721731176, ...</td>\n",
       "        </tr>\n",
       "        \n",
       "        <tr>\n",
       "          <td>1</td><td>(22.80655092184251, 34.9186441831086, 11.449016156196771, 8.903636126107825, 22.49822800212287, ...,...</td>\n",
       "        </tr>\n",
       "        \n",
       "        <tr>\n",
       "          <td>2</td><td>(18.10107656714398, 28.85892961072244, 20.12937679774341, 28.287695837797745, 31.948227434713843, .....</td>\n",
       "        </tr>\n",
       "        \n",
       "        <tr>\n",
       "          <td>3</td><td>(15.333999285797555, 19.673092603199272, 22.601316168153957, 32.95363012592357, 9.45141248758226, .....</td>\n",
       "        </tr>\n",
       "        \n",
       "        <tr>\n",
       "          <td>4</td><td>(10.787486808267406, 29.63687067348823, 23.955136712480055, 16.42249022479406, 3.468431253312353, .....</td>\n",
       "        </tr>\n",
       "        \n",
       "        <tr>\n",
       "          <td>5</td><td>(16.008470393882803, 17.434590551363776, 43.83785146259707, 20.695618589380153, 31.94487751629319, ....</td>\n",
       "        </tr>\n",
       "        \n",
       "        <tr>\n",
       "          <td>6</td><td>(48.18045675148632, 11.738634169977738, 20.141953803707974, 39.09751576670172, 21.386467728449375, ....</td>\n",
       "        </tr>\n",
       "        \n",
       "        <tr>\n",
       "          <td>7</td><td>(20.468649272764132, 22.071325713807546, 30.946826969154486, 12.744221906239954, 32.69797494047809, ...</td>\n",
       "        </tr>\n",
       "        \n",
       "        <tr>\n",
       "          <td>8</td><td>(18.74617300488874, 14.754017519449025, 21.77083456774916, 24.53311069137483, 23.612009460143884, .....</td>\n",
       "        </tr>\n",
       "        <tr><td>...</td><td>...</td></tr>\n",
       "        <tr>\n",
       "          <td>9999</td><td>(21.899558882957745, 24.75728129209281, 29.7470037194559, 5.513127143853753, 31.283192570348945, ......</td>\n",
       "        </tr>\n",
       "        \n",
       "      </tbody>\n",
       "    </table>\n",
       "        "
      ],
      "text/plain": [
       "Index Result\n",
       "0     (30.632554670561007, 14.127501873961071, 23.278386362477033, 20.70176840641789, 20.662564721731176, ..., 29.08932599693084)\n",
       "1     (22.80655092184251, 34.9186441831086, 11.449016156196771, 8.903636126107825, 22.49822800212287, ..., 8.03302729351557)\n",
       "2     (18.10107656714398, 28.85892961072244, 20.12937679774341, 28.287695837797745, 31.948227434713843, ..., 29.10872123101512)\n",
       "3     (15.333999285797555, 19.673092603199272, 22.601316168153957, 32.95363012592357, 9.45141248758226, ..., 30.223247345662102)\n",
       "4     (10.787486808267406, 29.63687067348823, 23.955136712480055, 16.42249022479406, 3.468431253312353, ..., 23.80457325444402)\n",
       "5     (16.008470393882803, 17.434590551363776, 43.83785146259707, 20.695618589380153, 31.94487751629319, ..., 42.67246904312424)\n",
       "6     (48.18045675148632, 11.738634169977738, 20.141953803707974, 39.09751576670172, 21.386467728449375, ..., 15.227572640202656)\n",
       "7     (20.468649272764132, 22.071325713807546, 30.946826969154486, 12.744221906239954, 32.69797494047809, ..., 31.660468818832957)\n",
       "8     (18.74617300488874, 14.754017519449025, 21.77083456774916, 24.53311069137483, 23.612009460143884, ..., 22.469811821517048)\n",
       "....  ........................................................................................................................\n",
       "9999  (21.899558882957745, 24.75728129209281, 29.7470037194559, 5.513127143853753, 31.283192570348945, ..., 26.63254046862969)"
      ]
     },
     "execution_count": 10,
     "metadata": {},
     "output_type": "execute_result"
    }
   ],
   "source": [
    "# Generar 10.000 grupos de 25 variables aleatorias NORMALES \n",
    "# con media=20 y SD=10. Se obtendra una matriz de 10.000 filas y 25 columnas\n",
    "\n",
    "# Define la probabilidad como un vector de 25 numeros aleatorios uniformes\n",
    "P = Normal(mean=20, sd=10) ** 25\n",
    "RANDOMVECTOR = RV(P)                # Definir un vector de variables aleatorias con 25 valores\n",
    "ymatrix=RANDOMVECTOR.sim(10000)     # Simular 10,000 vectores para obtener una matriz\n",
    "ymatrix"
   ]
  },
  {
   "cell_type": "code",
   "execution_count": 11,
   "metadata": {},
   "outputs": [
    {
     "data": {
      "text/html": [
       "\n",
       "    <table>\n",
       "      <thead>\n",
       "        <th width=\"10%\">Index</th>\n",
       "        <th width=\"90%\">Result</th>\n",
       "      </thead>\n",
       "      <tbody>\n",
       "        \n",
       "        <tr>\n",
       "          <td>0</td><td>17.93960199728459</td>\n",
       "        </tr>\n",
       "        \n",
       "        <tr>\n",
       "          <td>1</td><td>20.999162652750865</td>\n",
       "        </tr>\n",
       "        \n",
       "        <tr>\n",
       "          <td>2</td><td>19.11577624656969</td>\n",
       "        </tr>\n",
       "        \n",
       "        <tr>\n",
       "          <td>3</td><td>22.02301151729461</td>\n",
       "        </tr>\n",
       "        \n",
       "        <tr>\n",
       "          <td>4</td><td>18.102975133680456</td>\n",
       "        </tr>\n",
       "        \n",
       "        <tr>\n",
       "          <td>5</td><td>19.704980009821845</td>\n",
       "        </tr>\n",
       "        \n",
       "        <tr>\n",
       "          <td>6</td><td>21.89769447529393</td>\n",
       "        </tr>\n",
       "        \n",
       "        <tr>\n",
       "          <td>7</td><td>16.180129395053726</td>\n",
       "        </tr>\n",
       "        \n",
       "        <tr>\n",
       "          <td>8</td><td>19.000552970749812</td>\n",
       "        </tr>\n",
       "        <tr><td>...</td><td>...</td></tr>\n",
       "        <tr>\n",
       "          <td>9999</td><td>16.964410214434835</td>\n",
       "        </tr>\n",
       "        \n",
       "      </tbody>\n",
       "    </table>\n",
       "        "
      ],
      "text/plain": [
       "Index Result\n",
       "0     17.93960199728459\n",
       "1     20.999162652750865\n",
       "2     19.11577624656969\n",
       "3     22.02301151729461\n",
       "4     18.102975133680456\n",
       "5     19.704980009821845\n",
       "6     21.89769447529393\n",
       "7     16.180129395053726\n",
       "8     19.000552970749812\n",
       "....  ..................\n",
       "9999  16.964410214434835"
      ]
     },
     "execution_count": 11,
     "metadata": {},
     "output_type": "execute_result"
    }
   ],
   "source": [
    "# Obtenemos la media de cada vector (fila) para obtener 10.000 medias de muestra\n",
    "\n",
    "# El segundo parametro es la operación matematica aplicada para cada renglon del vector\n",
    "# Simula 10,000 medias de cada vector de 25 numeros distribuidos\n",
    "ymean = RV(P,mean).sim(10000)\n",
    "ymean"
   ]
  },
  {
   "cell_type": "code",
   "execution_count": 12,
   "metadata": {},
   "outputs": [
    {
     "data": {
      "image/png": "[encoded data removed]",
      "text/plain": [
       "<Figure size 432x288 with 1 Axes>"
      ]
     },
     "metadata": {
      "needs_background": "light"
     },
     "output_type": "display_data"
    }
   ],
   "source": [
    "# Histograma de las medias \n",
    "\n",
    "plt.clf()\n",
    "ymean.plot()\n",
    "plt.show()"
   ]
  },
  {
   "cell_type": "markdown",
   "metadata": {},
   "source": [
    "**EL HISTOGRAMA MUETRA UNA DISTRIBUCIÓN NORMAL, SE OBSERVA QUE SE TIENE UNA MEDIA DE 20, SIN EMBARGO SE DESTACA UNA MODA EN VALORES DE 19 Y 21, DE IGUAL MANERA SE BASA EN UN RANGO DE VALORES ENTRE 14 A 26**"
   ]
  },
  {
   "cell_type": "markdown",
   "metadata": {},
   "source": [
    "### Reto\n",
    "\n",
    "Instrucciones:\n",
    "\n",
    "*CALCULE LA MEDIA Y LA DESVIACIÓN ESTÁNDAR DE LA VARIABLE ymean. ¿EN QUÉ MEDIDA SON SIMILARES O DIFERENTES ESTOS VALORES DE LA DESVIACIÓN MEDIA Y ESTÁNDAR DE Y?*\n",
    "\n",
    "*INTERPRETE EL HISTOGRAMA ANTERIOR DE LAS MUESTRAS de y*\n",
    "\n",
    "*¿QUÉ VES? COMPARA AMBOS HISTOGRAMAS. EXPLIQUE BREVEMENTE LO QUE CREE QUE SUCEDIÓ.*"
   ]
  },
  {
   "cell_type": "code",
   "execution_count": 13,
   "metadata": {},
   "outputs": [
    {
     "data": {
      "image/png": "[encoded data removed]",
      "text/plain": [
       "<Figure size 432x288 with 1 Axes>"
      ]
     },
     "metadata": {
      "needs_background": "light"
     },
     "output_type": "display_data"
    }
   ],
   "source": [
    "# Gráfica de ambos histogramas, y & ymean\n",
    "plt.clf()\n",
    "ymean.plot()\n",
    "y.plot()\n",
    "plt.show()"
   ]
  },
  {
   "cell_type": "markdown",
   "metadata": {},
   "source": [
    "**DE ACUERDO AL HISTOGRAMA Y & YMEAN TIENEN LA MISMA MEDIA EN UN VALOR DE 20, LA DENSIDAD DE SUS VALORES SE VE CON UNA ALTA DIFERENCIA YA QUE AMBAS VARIABLES SE ENCUENTRAN EN DIFERENTES RANGOS, UNO DE VALORES ENTRE 10 A 30 Y OTRO DE -10 A 50**"
   ]
  },
  {
   "cell_type": "markdown",
   "metadata": {},
   "source": [
    "**Prueba de Hipotesis**\n",
    "\n",
    "La idea de la prueba de hipótesis es proporcionar evidencia fuerte - usando hechos - sobre una creencia específica que es apoyada generalmente por una teoría o sentido común. Esta creencia es generalmente la creencia de la persona que realiza la prueba de hipótesis. Esta creencia se llama la Hipótesis Alternativa.\n",
    "\n",
    "la única forma de convencer es mediante el uso de datos y un método estadístico riguroso\n",
    "\n",
    "***H0** : La Hipotesis nula*\n",
    "Esta hipotesis es la opuesta a la creencia (Hipotesis Alternativa). *media hipotética* \n",
    "* comienza siendo la hipotesis aceptada como verdadera.\n",
    "\n",
    "***Ha** : La hipotesis alternativa**\n",
    "Basada en la creencia\n",
    "* comienza siendo la hipotesis rechazda, la no verdadera."
   ]
  },
  {
   "cell_type": "markdown",
   "metadata": {},
   "source": [
    "Gracias al CLT es posible saber que:\n",
    "- La media de esta muestra se comportará MUY SIMILAR a una distribución normal.\n",
    "- La desviación estándar de esta muestra es mucho menor que la desviación estándar de los individuos de la muestra y esto puede calcularse dividiendo la desviación estándar individual por la raíz cuadrada del tamaño de la muestra.\n",
    "- Con una probabilidad de aproximadamente 95%, la media de la muestra tendrá un valor entre 2 desviaciones estándar menos que su media REAL (en este caso =0, la media de la H0) y 2 desviaciones estándar más alto que su media\n",
    "\n",
    "1. Recoger una muestra aleatoria relacionada con la creencia. La creencia es sobre la media de una variable X; se cree que la media de X es mayor que cero.\n",
    "\n",
    "Mostrar que la media de la muestra calculada de X es superior a cero (la media hipotética de H0) más 2 desviaciones estándar, con ello existiría una evidencia estadística muy poderosa para demostrar que la probabilidad de que la verdadera media de X sea mayor que cero será superior al 95%.\n",
    "\n",
    "2. Calcular la media y la desviación estándar de la muestra.\n",
    "\n",
    " Calcular una medida fácil para saber rápidamente cuán lejos está la media de la muestra de la media hipotética (cero), pero medida en # de desviaciones estándar de la media. Esta nueva distancia estandarizada se denomina generalmente z o t.\n",
    "\n",
    "3. Para la prueba de hipótesis se usará la distribución t-Student en lugar de la distribución z normal.\n",
    "\n",
    "Si z es 2 o más, se puede decir que la media de la muestra es 2 desviaciones estándar por encima de la supuesta media verdadera (cero), así que podría convencer a Diablito acerca de su creencia de que la verdadera media es mayor que cero.\n",
    "\n",
    "Aunque la CLT dice que la media de una muestra se comporta como normal, se ha encontrado que la CLT es más consistente con la distribución de probabilidad t-Student. En realidad, la distribución t-Student es muy, muy similar (casi la misma) a la distribución normal cuando el tamaño de la muestra es mayor que 30. Pero para muestras pequeñas, t-Student hace un trabajo mucho mejor en representar lo que sucede con la CLT para muestras pequeñas en comparación con la distribución normal z.\n",
    "\n",
    "*La prueba de hipótesis para comparar la media de una variable con un valor o con otra media se denomina prueba t.*"
   ]
  }
 ],
 "metadata": {
  "kernelspec": {
   "display_name": "Python 3.10.6 64-bit (windows store)",
   "language": "python",
   "name": "python3"
  },
  "language_info": {
   "codemirror_mode": {
    "name": "ipython",
    "version": 3
   },
   "file_extension": ".py",
   "mimetype": "text/x-python",
   "name": "python",
   "nbconvert_exporter": "python",
   "pygments_lexer": "ipython3",
   "version": "3.10.7"
  },
  "orig_nbformat": 4,
  "vscode": {
   "interpreter": {
    "hash": "f58006e3a6b3697db5a2671151387509a500f2e72d8fe07fc4154091e95c0813"
   }
  }
 },
 "nbformat": 4,
 "nbformat_minor": 2
}
