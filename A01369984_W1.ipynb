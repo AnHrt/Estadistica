{
 "cells": [
  {
   "cell_type": "markdown",
   "metadata": {},
   "source": [
    "**Workshop #1**\n",
    "\n",
    "**Angeles Arista Huerta** */  Agosto 12, 2022*"
   ]
  },
  {
   "cell_type": "markdown",
   "metadata": {},
   "source": [
    "**Estadistica descriptiva:** resume información de datos sin procesar relacionados con cualquier fenomeno. Usualmente proporciona una primera idea general del fenomeno. \n",
    "Lo más importante de la estadistica descriptiva son: ***medidas de tendencia central y medidas de disperción***"
   ]
  },
  {
   "cell_type": "markdown",
   "metadata": {},
   "source": [
    "Las medidas de tendencia central son: *media aritmetica, mediana y moda.*\n",
    "\n",
    "**Moda** - es el valor más repetido en la variable. Se puede calcular solamente para variables discretas, no para variables continuas.\n",
    "\n",
    "**Media aritmetica** - la media de una variable simple, indica el valor promedio de todo valor válido de esa variable, asumiendo que todo valor tiene la misma importancia. Esta variable puede representar cualquier atributo. Para calcular la media de una variable, se deberan sumar todos los valores que posee esa variable y posteriormente ser dividen por el numero de total de valores no faltantes (observaciones). \n",
    "\n",
    "**Mediana** - la mediana de una variable es su percentil 50, el cual es el punto medio de sus valores. Es necesario ordenar los valores de la variable en orden descendente, posteriormente se define al valor que esta en medio como la mediana de la variable. La mediana proporciona una mejor respresentación del valor \"promedio\" de una variable en comparación con la media, cuando la distribución de los valores no sigue una distribución normal. *Para la distribución sesgada, la mediana también será una mejor medida para la tendencia central. En realidad, en el caso de las variables distribuidas normales, la mediana será muy cercana a la media, por lo que la mediana siempre puede ser una buena medida de la tendencia central.*\n",
    "\n",
    "**¿Cuál es la diferencia entre la media y la mediana?** *Cuando la variable no sigue una distribución de probabilidad cercana a una distribución normal, la mejor medida para la tendecía central es la mediana, no la media. La media aritmética es muy sensible a los valores extremos, mientras que la mediana no lo es. La mejor medida de un tamaño típico será la mediana*\n",
    "\n",
    "**¿Qué es una distribución normal?** *Es una distribución de probabilidad muy común de variables aleatorias. Una variable distribuida normal tiene el aspecto de una curva en forma de campana, donde la mayoría de los valores están alrededor de la media aritmética.*"
   ]
  },
  {
   "cell_type": "markdown",
   "metadata": {},
   "source": [
    "***Un valor faltante de una variable ocurre cuando la variable de una observación específica no tiene ningún valor***"
   ]
  },
  {
   "cell_type": "markdown",
   "metadata": {},
   "source": [
    "Las medidas de disperción son: *la varianza y la desviación estandar.* \n",
    "Tanto la varianza como la desviación estandar se utilizzan para medir que tanto cambia en promedio los valores individuales de una varibale con respecto a la media.\n",
    "\n",
    "**Varianza** - es el promedio de desviaciones cuadradas de cada valor individual respecto a su media. La varianza de la muestra es una medida imparcial de la varianza subyacente (real).\n",
    "\n",
    "**Desviación estandar** - \n",
    "\n",
    "*La mayoría de los libros de estadística utilizan (n-1) en lugar de n como denominador de la fórmula de varianza para obtener un valor más conservador de la varianza. Esta medida se denomina varianza de la muestra.*\n",
    "\n",
    "***La varianza y la desviación estandar son promedios de cuanto cambia una variable a traves del tiempo***"
   ]
  },
  {
   "cell_type": "markdown",
   "metadata": {},
   "source": [
    "Reto "
   ]
  },
  {
   "cell_type": "code",
   "execution_count": null,
   "metadata": {},
   "outputs": [],
   "source": [
    "## Ejercicio ejemplo\n",
    "#Importar librerias\n",
    "import numpy as np\n",
    "import pandas as pd\n",
    "import pandas_datareader as pdr\n",
    "\n",
    "#La biblioteca 'pandas_datareader' tiene funciones para descargar datos en línea de Yahoo Finance \n",
    "# en esta se puede encontrar datos históricos financieros reales.\n",
    "\n",
    "BTC = pdr.get_data_yahoo('BTC-USD', start = \"01/01/2017\", interval = \"d\") \n",
    "#Descarga de precios diarios de Bitcoin a partir de 2017\n",
    "BTC.tail() # tail() - Despliegue ultimas filas de datos "
   ]
  },
  {
   "cell_type": "code",
   "execution_count": null,
   "metadata": {},
   "outputs": [],
   "source": [
    "#Importar libreria para graficar \n",
    "import matplotlib\n",
    "from matplotlib.pyplot import*\n",
    "\n",
    "#Grafica de datos de cierre\n",
    "plot(BTC[\"Close\"]) \n",
    "title(\"Precios de cierre de bitcoin\")\n",
    "show()\n",
    "\n",
    "#BTC.info() #Podemos comprobar los tipos de datos de cada variable (columna) en el conjunto de datos"
   ]
  },
  {
   "cell_type": "markdown",
   "metadata": {},
   "source": [
    "**Transformaciones de datos**\n",
    "\n",
    "**Calculo de retorno** - Un retorno financiero simple para una acción (Rt) se calcula como un cambio porcentual del precio desde el período anterior (t-1) hasta el período actual (t) (Cambio de retorno - es el cambio porcentual de un periodo a otro) Se puede usar retornos en decimal o en porcentaje (multiplicando por 100).\n",
    "\n",
    "*En Finanzas es muy recomendable calcular retornos continuamente compuestos (retornos cc) y usar retornos cc en lugar de retornos simples para análisis de datos, estadísticas y modelos econométricos. Los retornos cc se calculan a partir del logaritmo natural de precios.*\n",
    "\n",
    "**Logaritmo** - Es la cantidad de veces que se debe multiplicar una base (es el exponente que el número necesita ser elevado para obtener un número especifico)\n",
    "\n",
    "**Logaritmo natural** - es el algoritmo de base 2,71... (numero irracional, pues este no se puede expresar como una división de 2 números naturales) también denominado como constante de Euler.\n",
    " \n",
    "**Función logaritmica** - es la inversa de la función exponencial"
   ]
  },
  {
   "cell_type": "markdown",
   "metadata": {},
   "source": [
    "Se generaliza cualquier tasa de interes anual, e^R (R=Rate) es el factor de crecimiento para una tasa nominal anual, cuando los intreses se componen a cada momento.\n",
    "\n",
    "Se puede hacer una relación entre el factor de crecimiento y una tasa efectiva equivalente (1+EffectiveRate)=e^r\n",
    "\n",
    "Para obtener el rate se aplicaría logaritmo natural a ambos lados de la ecuación, lo que daría como resultado ln(1+EffectiveRate) = r\n",
    "*(Como el logaritmo natural es la inversa de la función exponencia, está se cancela en el lado de la ecuación correspondiente)*\n",
    "\n",
    "**Retornos compuestos continuos** - una manera para calcularlos es mediante la substracción del logaritmo del precio actual menos el logaritmo del precio previo (rt = log(price t) - log(price t-1)) también llamado como la diferencia de logaritmos del precio"
   ]
  },
  {
   "cell_type": "code",
   "execution_count": null,
   "metadata": {},
   "outputs": [],
   "source": [
    "BTC[\"R\"] = (BTC[\"Close\"] / BTC[\"Close\"].shift(1)) - 1\n",
    "print(BTC[\"R\"])"
   ]
  },
  {
   "cell_type": "code",
   "execution_count": null,
   "metadata": {},
   "outputs": [],
   "source": [
    "BTC[\"r\"] = np.log(BTC['Adj Close']) - np.log(BTC['Adj Close'].shift(1))\n",
    "BTCR = BTC[['R','r']].copy()"
   ]
  },
  {
   "cell_type": "code",
   "execution_count": null,
   "metadata": {},
   "outputs": [],
   "source": [
    "BTC= BTC.dropna()"
   ]
  },
  {
   "cell_type": "code",
   "execution_count": null,
   "metadata": {},
   "outputs": [],
   "source": [
    "sumret = BTC[\"R\"].describe()\n",
    "sumret"
   ]
  },
  {
   "cell_type": "code",
   "execution_count": null,
   "metadata": {},
   "outputs": [],
   "source": [
    "BTC[BTC[\"R\"]<-0.15]"
   ]
  },
  {
   "cell_type": "code",
   "execution_count": null,
   "metadata": {},
   "outputs": [],
   "source": [
    "BTC[BTC[\"R\"]>0.15].sort_values(by=['R'], ascending=False)"
   ]
  },
  {
   "cell_type": "code",
   "execution_count": null,
   "metadata": {},
   "outputs": [],
   "source": [
    "print(\"The daily average return of Bitcoin is \", BTC[\"r\"].mean())\n",
    "print(\"The daily variance of Bitcoin is \", BTC[\"r\"].var())\n",
    "print(\"The daily standard deviation (volatility) of Bitcoin return is \", BTC[\"r\"].std())\n",
    "print(\"The daily median return of Bitcoin is \",BTC[\"r\"].median())"
   ]
  },
  {
   "cell_type": "code",
   "execution_count": null,
   "metadata": {},
   "outputs": [],
   "source": [
    "r_bitcoin = pd.DataFrame(BTC[[\"R\"]])\n",
    "hist=r_bitcoin.plot.hist(bins=12,alpha=0.5,title=\"Histogram of daily Bitcoin Returns\")"
   ]
  },
  {
   "cell_type": "markdown",
   "metadata": {},
   "source": [
    "Si se toma una desciasión estandar promedio se abarcan el 68% si son dos desviaciones estandar se abarca el 95%"
   ]
  }
 ],
 "metadata": {
  "kernelspec": {
   "display_name": "Python 3.10.6 64-bit (windows store)",
   "language": "python",
   "name": "python3"
  },
  "language_info": {
   "codemirror_mode": {
    "name": "ipython",
    "version": 3
   },
   "file_extension": ".py",
   "mimetype": "text/x-python",
   "name": "python",
   "nbconvert_exporter": "python",
   "pygments_lexer": "ipython3",
   "version": "3.10.6"
  },
  "orig_nbformat": 4,
  "vscode": {
   "interpreter": {
    "hash": "f58006e3a6b3697db5a2671151387509a500f2e72d8fe07fc4154091e95c0813"
   }
  }
 },
 "nbformat": 4,
 "nbformat_minor": 2
}
