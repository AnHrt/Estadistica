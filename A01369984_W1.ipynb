{
 "cells": [
  {
   "cell_type": "markdown",
   "metadata": {},
   "source": [
    "#### **Workshop #1**\n",
    "\n",
    "> **Angeles Arista Huerta** */  Agosto 12, 2022*"
   ]
  },
  {
   "cell_type": "markdown",
   "metadata": {},
   "source": [
    "**Estadistica descriptiva:** resume información de datos sin procesar relacionados con cualquier fenomeno. Usualmente proporciona una primera idea general del fenomeno. \n",
    "Lo más importante de la estadistica descriptiva son: ***medidas de tendencia central y medidas de disperción***"
   ]
  },
  {
   "cell_type": "markdown",
   "metadata": {},
   "source": [
    "Las medidas de tendencia central son: *media aritmetica, mediana y moda.*\n",
    "\n",
    "**Moda** - es el valor más repetido en la variable. Se puede calcular solamente para variables discretas, no para variables continuas.\n",
    "\n",
    "---\n",
    "**Media aritmetica** - la media de una variable simple, indica el valor promedio de todo valor válido de esa variable, asumiendo que todo valor tiene la misma importancia. Esta variable puede representar cualquier atributo. Para calcular la media de una variable, se deberan sumar todos los valores que posee esa variable y posteriormente ser dividen por el numero de total de valores no faltantes (observaciones). \n",
    "\n",
    "---\n",
    "**Mediana** - la mediana de una variable es su percentil 50, el cual es el punto medio de sus valores. Es necesario ordenar los valores de la variable en orden descendente, posteriormente se define al valor que esta en medio como la mediana de la variable. La mediana proporciona una mejor respresentación del valor \"promedio\" de una variable en comparación con la media, cuando la distribución de los valores no sigue una distribución normal. *Para la distribución sesgada, la mediana también será una mejor medida para la tendencia central. En realidad, en el caso de las variables distribuidas normales, la mediana será muy cercana a la media, por lo que la mediana siempre puede ser una buena medida de la tendencia central.*\n",
    "\n",
    "---\n",
    "**¿Cuál es la diferencia entre la media y la mediana?** *Cuando la variable no sigue una distribución de probabilidad cercana a una distribución normal, la mejor medida para la tendecía central es la mediana, no la media. La media aritmética es muy sensible a los valores extremos, mientras que la mediana no lo es. La mejor medida de un tamaño típico será la mediana*\n",
    "\n",
    "**¿Qué es una distribución normal?** *Es una distribución de probabilidad muy común de variables aleatorias. Una variable distribuida normal tiene el aspecto de una curva en forma de campana, donde la mayoría de los valores están alrededor de la media aritmética.*"
   ]
  },
  {
   "cell_type": "markdown",
   "metadata": {},
   "source": [
    "***Un valor faltante de una variable ocurre cuando la variable de una observación específica no tiene ningún valor***"
   ]
  },
  {
   "cell_type": "markdown",
   "metadata": {},
   "source": [
    "Las medidas de disperción son: *la varianza y la desviación estandar.* \n",
    "Tanto la varianza como la desviación estandar se utilizzan para medir que tanto cambia en promedio los valores individuales de una varibale con respecto a la media.\n",
    "\n",
    "**Varianza** - es el promedio de desviaciones cuadradas de cada valor individual respecto a su media. La varianza de la muestra es una medida imparcial de la varianza subyacente (real).\n",
    "\n",
    "> ###### Var(x) = sum(xi-x')^2 / n-1 : i = 1...n\n",
    "> ###### xi : Valor de x en la posición i\n",
    "> ###### x' : Promedio aritmetico de x\n",
    "---\n",
    "\n",
    "**Desviación estandar** - *Investigar*\n",
    "> ###### SD(x) = sqrt(Var(x))\n",
    "\n",
    "---\n",
    "*La mayoría de los libros de estadística utilizan (n-1) en lugar de n como denominador de la fórmula de varianza para obtener un **valor más conservador** de la varianza. Esta medida se denomina varianza de la muestra.*\n",
    "\n",
    "***La varianza y la desviación estandar son promedios de cuanto cambia una variable a traves del tiempo***\n",
    "Ambas miden que tanto cambian los promedios de los valores individuales de una variable con respecto a la media"
   ]
  },
  {
   "cell_type": "markdown",
   "metadata": {},
   "source": [
    "##### *Reto* \n",
    "Ejercicio de ejemplo"
   ]
  },
  {
   "cell_type": "code",
   "execution_count": 3,
   "metadata": {},
   "outputs": [
    {
     "data": {
      "text/html": [
       "<div>\n",
       "<style scoped>\n",
       "    .dataframe tbody tr th:only-of-type {\n",
       "        vertical-align: middle;\n",
       "    }\n",
       "\n",
       "    .dataframe tbody tr th {\n",
       "        vertical-align: top;\n",
       "    }\n",
       "\n",
       "    .dataframe thead th {\n",
       "        text-align: right;\n",
       "    }\n",
       "</style>\n",
       "<table border=\"1\" class=\"dataframe\">\n",
       "  <thead>\n",
       "    <tr style=\"text-align: right;\">\n",
       "      <th></th>\n",
       "      <th>High</th>\n",
       "      <th>Low</th>\n",
       "      <th>Open</th>\n",
       "      <th>Close</th>\n",
       "      <th>Volume</th>\n",
       "      <th>Adj Close</th>\n",
       "    </tr>\n",
       "    <tr>\n",
       "      <th>Date</th>\n",
       "      <th></th>\n",
       "      <th></th>\n",
       "      <th></th>\n",
       "      <th></th>\n",
       "      <th></th>\n",
       "      <th></th>\n",
       "    </tr>\n",
       "  </thead>\n",
       "  <tbody>\n",
       "    <tr>\n",
       "      <th>2022-08-27</th>\n",
       "      <td>20340.775391</td>\n",
       "      <td>19890.523438</td>\n",
       "      <td>20262.480469</td>\n",
       "      <td>20041.738281</td>\n",
       "      <td>30116729776</td>\n",
       "      <td>20041.738281</td>\n",
       "    </tr>\n",
       "    <tr>\n",
       "      <th>2022-08-28</th>\n",
       "      <td>20139.054688</td>\n",
       "      <td>19616.814453</td>\n",
       "      <td>20041.035156</td>\n",
       "      <td>19616.814453</td>\n",
       "      <td>24366810591</td>\n",
       "      <td>19616.814453</td>\n",
       "    </tr>\n",
       "    <tr>\n",
       "      <th>2022-08-29</th>\n",
       "      <td>20357.462891</td>\n",
       "      <td>19600.785156</td>\n",
       "      <td>19615.154297</td>\n",
       "      <td>20297.994141</td>\n",
       "      <td>32637854078</td>\n",
       "      <td>20297.994141</td>\n",
       "    </tr>\n",
       "    <tr>\n",
       "      <th>2022-08-30</th>\n",
       "      <td>20542.644531</td>\n",
       "      <td>19617.640625</td>\n",
       "      <td>20298.611328</td>\n",
       "      <td>19796.808594</td>\n",
       "      <td>34483360283</td>\n",
       "      <td>19796.808594</td>\n",
       "    </tr>\n",
       "    <tr>\n",
       "      <th>2022-08-31</th>\n",
       "      <td>20419.748047</td>\n",
       "      <td>19832.951172</td>\n",
       "      <td>19832.951172</td>\n",
       "      <td>20136.076172</td>\n",
       "      <td>33236844544</td>\n",
       "      <td>20136.076172</td>\n",
       "    </tr>\n",
       "  </tbody>\n",
       "</table>\n",
       "</div>"
      ],
      "text/plain": [
       "                    High           Low          Open         Close  \\\n",
       "Date                                                                 \n",
       "2022-08-27  20340.775391  19890.523438  20262.480469  20041.738281   \n",
       "2022-08-28  20139.054688  19616.814453  20041.035156  19616.814453   \n",
       "2022-08-29  20357.462891  19600.785156  19615.154297  20297.994141   \n",
       "2022-08-30  20542.644531  19617.640625  20298.611328  19796.808594   \n",
       "2022-08-31  20419.748047  19832.951172  19832.951172  20136.076172   \n",
       "\n",
       "                 Volume     Adj Close  \n",
       "Date                                   \n",
       "2022-08-27  30116729776  20041.738281  \n",
       "2022-08-28  24366810591  19616.814453  \n",
       "2022-08-29  32637854078  20297.994141  \n",
       "2022-08-30  34483360283  19796.808594  \n",
       "2022-08-31  33236844544  20136.076172  "
      ]
     },
     "execution_count": 3,
     "metadata": {},
     "output_type": "execute_result"
    }
   ],
   "source": [
    "# Importar librerias\n",
    "import numpy as np\n",
    "import pandas as pd\n",
    "import pandas_datareader as pdr\n",
    "\n",
    "#La biblioteca 'pandas_datareader' tiene funciones para descargar datos en línea de Yahoo Finance \n",
    "# en esta se puede encontrar datos históricos financieros reales.\n",
    "\n",
    "BTC = pdr.get_data_yahoo('BTC-USD', start = \"01/01/2017\", interval = \"d\") \n",
    "#Descarga de precios diarios de Bitcoin a partir de 2017\n",
    "BTC.tail() # tail() - Despliegue ultimas filas de datos "
   ]
  },
  {
   "cell_type": "code",
   "execution_count": 4,
   "metadata": {},
   "outputs": [
    {
     "data": {
      "image/png": "[encoded data removed]",
      "text/plain": [
       "<Figure size 432x288 with 1 Axes>"
      ]
     },
     "metadata": {
      "needs_background": "light"
     },
     "output_type": "display_data"
    }
   ],
   "source": [
    "#Importar libreria para graficar / visualizacion\n",
    "import matplotlib\n",
    "from matplotlib.pyplot import*\n",
    "\n",
    "#Grafica de datos de cierre\n",
    "plot(BTC[\"Close\"]) \n",
    "title(\"Precios de cierre de bitcoin\")\n",
    "show()\n",
    "\n",
    "#BTC.info() #Podemos comprobar los tipos de datos de cada variable (columna) en el conjunto de datos"
   ]
  },
  {
   "cell_type": "markdown",
   "metadata": {},
   "source": [
    "**Transformaciones de datos**\n",
    "\n",
    "**Calculo de retorno** - Un retorno financiero simple para una acción (Rt) se calcula como un cambio porcentual del precio desde el período anterior (t-1) hasta el período actual (t) (Cambio de retorno - es el cambio porcentual de un periodo a otro) Se puede usar retornos en decimal o en porcentaje (multiplicando por 100).\n",
    "> ###### Rt = (price [t] / price [t-1]) - 1 \n",
    "\n",
    "---\n",
    "**Logaritmo** - Es la cantidad de veces que se debe multiplicar una base (es el exponente que el número necesita ser elevado para obtener un número especifico)\n",
    "\n",
    "---\n",
    "**Logaritmo natural** - es el algoritmo de base 2,71... (numero irracional, pues este no se puede expresar como una división de 2 números naturales) también denominado como constante de Euler.\n",
    " \n",
    " ---\n",
    "**Función logaritmica** - es la inversa de la función exponencial\n",
    "\n",
    "---\n",
    "*En Finanzas es muy recomendable calcular retornos continuamente compuestos (retornos cc) y usar retornos cc en lugar de retornos simples para análisis de datos, estadísticas y modelos econométricos. Los retornos cc se calculan a partir del logaritmo natural de precios.*"
   ]
  },
  {
   "cell_type": "markdown",
   "metadata": {},
   "source": [
    "Se generaliza cualquier tasa de interes anual, *e^R* (R=Rate) es el factor de crecimiento para una tasa nominal anual, cuando los intreses se componen a cada momento.\n",
    "\n",
    "Se puede hacer una relación entre el factor de crecimiento y una tasa efectiva equivalente\n",
    "\n",
    ">###### (1+EffectiveRate)=e^r\n",
    "\n",
    "Para obtener el rate se aplicaría logaritmo natural a ambos lados de la ecuación, lo que daría como resultado\n",
    "\n",
    ">###### ln(1+EffectiveRate) = r\n",
    "\n",
    "*(Como el logaritmo natural es la inversa de la función exponencia, está se cancela en el lado de la ecuación correspondiente)*\n",
    "\n",
    "---\n",
    "\n",
    "**Retornos compuestos continuos** - una manera para calcularlos es mediante la substracción del logaritmo del precio actual menos el logaritmo del precio previo (también llamado como la diferencia de logaritmos del precio.)\n",
    ">###### (rt = log(price t) - log(price t-1))\n",
    "\n",
    "También es posible calcularlos mediante el logaritmo de la división entre el precio actual y el precio previo.\n",
    ">###### (rt = log(price t) / log(price t-1))\n",
    "\n",
    "*Los retornos continuos compuestos se representan con la letra 'r' minus mientras que los retornos simples se representan mediante la letra 'R' mayus*"
   ]
  },
  {
   "cell_type": "markdown",
   "metadata": {},
   "source": [
    "En python se puede obtener el valor previo d ela pariable usando la función *.shift(n)*. Permite calcular una nueva columna para in retorno simple."
   ]
  },
  {
   "cell_type": "code",
   "execution_count": 5,
   "metadata": {},
   "outputs": [
    {
     "name": "stdout",
     "output_type": "stream",
     "text": [
      "Date\n",
      "2017-01-01         NaN\n",
      "2017-01-02    0.023464\n",
      "2017-01-03    0.021620\n",
      "2017-01-04    0.106233\n",
      "2017-01-05   -0.122410\n",
      "                ...   \n",
      "2022-08-27   -0.010774\n",
      "2022-08-28   -0.021202\n",
      "2022-08-29    0.034724\n",
      "2022-08-30   -0.024691\n",
      "2022-08-31    0.017137\n",
      "Name: R, Length: 2069, dtype: float64\n"
     ]
    }
   ],
   "source": [
    "# Ejemplo\n",
    "BTC[\"R\"] = (BTC[\"Close\"] / BTC[\"Close\"].shift(1)) - 1\n",
    "print(BTC[\"R\"])"
   ]
  },
  {
   "cell_type": "code",
   "execution_count": 6,
   "metadata": {},
   "outputs": [],
   "source": [
    "# Calculo de los retornos cc \n",
    "# en una nueva columna usando la funcion .shift()\n",
    "BTC[\"r\"] = np.log(BTC['Adj Close']) - np.log(BTC['Adj Close'].shift(1))\n",
    "BTCR = BTC[['R','r']].copy()"
   ]
  },
  {
   "cell_type": "code",
   "execution_count": 7,
   "metadata": {},
   "outputs": [],
   "source": [
    "# Eliminar renglones con valores nulos\n",
    "BTC= BTC.dropna()"
   ]
  },
  {
   "cell_type": "markdown",
   "metadata": {},
   "source": [
    "Estadistica descriptiva de retornos"
   ]
  },
  {
   "cell_type": "code",
   "execution_count": 8,
   "metadata": {},
   "outputs": [
    {
     "data": {
      "text/plain": [
       "count    2068.000000\n",
       "mean        0.002313\n",
       "std         0.041282\n",
       "min        -0.371695\n",
       "25%        -0.015888\n",
       "50%         0.002086\n",
       "75%         0.020657\n",
       "max         0.252472\n",
       "Name: R, dtype: float64"
      ]
     },
     "execution_count": 8,
     "metadata": {},
     "output_type": "execute_result"
    }
   ],
   "source": [
    "sumret = BTC[\"R\"].describe()\n",
    "sumret"
   ]
  },
  {
   "cell_type": "code",
   "execution_count": 9,
   "metadata": {},
   "outputs": [
    {
     "data": {
      "text/html": [
       "<div>\n",
       "<style scoped>\n",
       "    .dataframe tbody tr th:only-of-type {\n",
       "        vertical-align: middle;\n",
       "    }\n",
       "\n",
       "    .dataframe tbody tr th {\n",
       "        vertical-align: top;\n",
       "    }\n",
       "\n",
       "    .dataframe thead th {\n",
       "        text-align: right;\n",
       "    }\n",
       "</style>\n",
       "<table border=\"1\" class=\"dataframe\">\n",
       "  <thead>\n",
       "    <tr style=\"text-align: right;\">\n",
       "      <th></th>\n",
       "      <th>High</th>\n",
       "      <th>Low</th>\n",
       "      <th>Open</th>\n",
       "      <th>Close</th>\n",
       "      <th>Volume</th>\n",
       "      <th>Adj Close</th>\n",
       "      <th>R</th>\n",
       "      <th>r</th>\n",
       "    </tr>\n",
       "    <tr>\n",
       "      <th>Date</th>\n",
       "      <th></th>\n",
       "      <th></th>\n",
       "      <th></th>\n",
       "      <th></th>\n",
       "      <th></th>\n",
       "      <th></th>\n",
       "      <th></th>\n",
       "      <th></th>\n",
       "    </tr>\n",
       "  </thead>\n",
       "  <tbody>\n",
       "    <tr>\n",
       "      <th>2017-09-14</th>\n",
       "      <td>3920.600098</td>\n",
       "      <td>3153.860107</td>\n",
       "      <td>3875.370117</td>\n",
       "      <td>3154.949951</td>\n",
       "      <td>2716310016</td>\n",
       "      <td>3154.949951</td>\n",
       "      <td>-0.187411</td>\n",
       "      <td>-0.207530</td>\n",
       "    </tr>\n",
       "    <tr>\n",
       "      <th>2018-01-16</th>\n",
       "      <td>13843.099609</td>\n",
       "      <td>10194.900391</td>\n",
       "      <td>13836.099609</td>\n",
       "      <td>11490.500000</td>\n",
       "      <td>18853799936</td>\n",
       "      <td>11490.500000</td>\n",
       "      <td>-0.168548</td>\n",
       "      <td>-0.184582</td>\n",
       "    </tr>\n",
       "    <tr>\n",
       "      <th>2018-02-05</th>\n",
       "      <td>8364.839844</td>\n",
       "      <td>6756.680176</td>\n",
       "      <td>8270.540039</td>\n",
       "      <td>6955.270020</td>\n",
       "      <td>9285289984</td>\n",
       "      <td>6955.270020</td>\n",
       "      <td>-0.159688</td>\n",
       "      <td>-0.173982</td>\n",
       "    </tr>\n",
       "    <tr>\n",
       "      <th>2020-03-12</th>\n",
       "      <td>7929.116211</td>\n",
       "      <td>4860.354004</td>\n",
       "      <td>7913.616211</td>\n",
       "      <td>4970.788086</td>\n",
       "      <td>53980357243</td>\n",
       "      <td>4970.788086</td>\n",
       "      <td>-0.371695</td>\n",
       "      <td>-0.464730</td>\n",
       "    </tr>\n",
       "    <tr>\n",
       "      <th>2022-06-13</th>\n",
       "      <td>26795.589844</td>\n",
       "      <td>22141.257812</td>\n",
       "      <td>26737.578125</td>\n",
       "      <td>22487.388672</td>\n",
       "      <td>68204556440</td>\n",
       "      <td>22487.388672</td>\n",
       "      <td>-0.159747</td>\n",
       "      <td>-0.174053</td>\n",
       "    </tr>\n",
       "  </tbody>\n",
       "</table>\n",
       "</div>"
      ],
      "text/plain": [
       "                    High           Low          Open         Close  \\\n",
       "Date                                                                 \n",
       "2017-09-14   3920.600098   3153.860107   3875.370117   3154.949951   \n",
       "2018-01-16  13843.099609  10194.900391  13836.099609  11490.500000   \n",
       "2018-02-05   8364.839844   6756.680176   8270.540039   6955.270020   \n",
       "2020-03-12   7929.116211   4860.354004   7913.616211   4970.788086   \n",
       "2022-06-13  26795.589844  22141.257812  26737.578125  22487.388672   \n",
       "\n",
       "                 Volume     Adj Close         R         r  \n",
       "Date                                                       \n",
       "2017-09-14   2716310016   3154.949951 -0.187411 -0.207530  \n",
       "2018-01-16  18853799936  11490.500000 -0.168548 -0.184582  \n",
       "2018-02-05   9285289984   6955.270020 -0.159688 -0.173982  \n",
       "2020-03-12  53980357243   4970.788086 -0.371695 -0.464730  \n",
       "2022-06-13  68204556440  22487.388672 -0.159747 -0.174053  "
      ]
     },
     "execution_count": 9,
     "metadata": {},
     "output_type": "execute_result"
    }
   ],
   "source": [
    "# Dias con los valores más bajos\n",
    "BTC[BTC[\"R\"]<-0.15]"
   ]
  },
  {
   "cell_type": "code",
   "execution_count": 10,
   "metadata": {},
   "outputs": [
    {
     "data": {
      "text/html": [
       "<div>\n",
       "<style scoped>\n",
       "    .dataframe tbody tr th:only-of-type {\n",
       "        vertical-align: middle;\n",
       "    }\n",
       "\n",
       "    .dataframe tbody tr th {\n",
       "        vertical-align: top;\n",
       "    }\n",
       "\n",
       "    .dataframe thead th {\n",
       "        text-align: right;\n",
       "    }\n",
       "</style>\n",
       "<table border=\"1\" class=\"dataframe\">\n",
       "  <thead>\n",
       "    <tr style=\"text-align: right;\">\n",
       "      <th></th>\n",
       "      <th>High</th>\n",
       "      <th>Low</th>\n",
       "      <th>Open</th>\n",
       "      <th>Close</th>\n",
       "      <th>Volume</th>\n",
       "      <th>Adj Close</th>\n",
       "      <th>R</th>\n",
       "      <th>r</th>\n",
       "    </tr>\n",
       "    <tr>\n",
       "      <th>Date</th>\n",
       "      <th></th>\n",
       "      <th></th>\n",
       "      <th></th>\n",
       "      <th></th>\n",
       "      <th></th>\n",
       "      <th></th>\n",
       "      <th></th>\n",
       "      <th></th>\n",
       "    </tr>\n",
       "  </thead>\n",
       "  <tbody>\n",
       "    <tr>\n",
       "      <th>2017-12-07</th>\n",
       "      <td>17899.699219</td>\n",
       "      <td>14057.299805</td>\n",
       "      <td>14266.099609</td>\n",
       "      <td>17899.699219</td>\n",
       "      <td>17950699520</td>\n",
       "      <td>17899.699219</td>\n",
       "      <td>0.252472</td>\n",
       "      <td>0.225119</td>\n",
       "    </tr>\n",
       "    <tr>\n",
       "      <th>2017-07-20</th>\n",
       "      <td>2900.699951</td>\n",
       "      <td>2269.889893</td>\n",
       "      <td>2269.889893</td>\n",
       "      <td>2817.600098</td>\n",
       "      <td>2249260032</td>\n",
       "      <td>2817.600098</td>\n",
       "      <td>0.239361</td>\n",
       "      <td>0.214596</td>\n",
       "    </tr>\n",
       "    <tr>\n",
       "      <th>2017-12-06</th>\n",
       "      <td>14369.099609</td>\n",
       "      <td>11923.400391</td>\n",
       "      <td>11923.400391</td>\n",
       "      <td>14291.500000</td>\n",
       "      <td>12656300032</td>\n",
       "      <td>14291.500000</td>\n",
       "      <td>0.199283</td>\n",
       "      <td>0.181724</td>\n",
       "    </tr>\n",
       "    <tr>\n",
       "      <th>2021-02-08</th>\n",
       "      <td>46203.929688</td>\n",
       "      <td>38076.324219</td>\n",
       "      <td>38886.828125</td>\n",
       "      <td>46196.464844</td>\n",
       "      <td>101467222687</td>\n",
       "      <td>46196.464844</td>\n",
       "      <td>0.187465</td>\n",
       "      <td>0.171821</td>\n",
       "    </tr>\n",
       "    <tr>\n",
       "      <th>2020-03-19</th>\n",
       "      <td>6329.735840</td>\n",
       "      <td>5236.968750</td>\n",
       "      <td>5245.416504</td>\n",
       "      <td>6191.192871</td>\n",
       "      <td>51000731797</td>\n",
       "      <td>6191.192871</td>\n",
       "      <td>0.181878</td>\n",
       "      <td>0.167104</td>\n",
       "    </tr>\n",
       "    <tr>\n",
       "      <th>2019-04-02</th>\n",
       "      <td>4905.954590</td>\n",
       "      <td>4155.316895</td>\n",
       "      <td>4156.919434</td>\n",
       "      <td>4879.877930</td>\n",
       "      <td>21315047816</td>\n",
       "      <td>4879.877930</td>\n",
       "      <td>0.173560</td>\n",
       "      <td>0.160042</td>\n",
       "    </tr>\n",
       "    <tr>\n",
       "      <th>2019-10-25</th>\n",
       "      <td>8691.540039</td>\n",
       "      <td>7479.984375</td>\n",
       "      <td>7490.703125</td>\n",
       "      <td>8660.700195</td>\n",
       "      <td>28705065488</td>\n",
       "      <td>8660.700195</td>\n",
       "      <td>0.155763</td>\n",
       "      <td>0.144761</td>\n",
       "    </tr>\n",
       "    <tr>\n",
       "      <th>2017-07-17</th>\n",
       "      <td>2230.489990</td>\n",
       "      <td>1932.619995</td>\n",
       "      <td>1932.619995</td>\n",
       "      <td>2228.409912</td>\n",
       "      <td>1201760000</td>\n",
       "      <td>2228.409912</td>\n",
       "      <td>0.154724</td>\n",
       "      <td>0.143862</td>\n",
       "    </tr>\n",
       "    <tr>\n",
       "      <th>2017-09-15</th>\n",
       "      <td>3733.449951</td>\n",
       "      <td>2946.620117</td>\n",
       "      <td>3166.300049</td>\n",
       "      <td>3637.520020</td>\n",
       "      <td>4148069888</td>\n",
       "      <td>3637.520020</td>\n",
       "      <td>0.152956</td>\n",
       "      <td>0.142330</td>\n",
       "    </tr>\n",
       "  </tbody>\n",
       "</table>\n",
       "</div>"
      ],
      "text/plain": [
       "                    High           Low          Open         Close  \\\n",
       "Date                                                                 \n",
       "2017-12-07  17899.699219  14057.299805  14266.099609  17899.699219   \n",
       "2017-07-20   2900.699951   2269.889893   2269.889893   2817.600098   \n",
       "2017-12-06  14369.099609  11923.400391  11923.400391  14291.500000   \n",
       "2021-02-08  46203.929688  38076.324219  38886.828125  46196.464844   \n",
       "2020-03-19   6329.735840   5236.968750   5245.416504   6191.192871   \n",
       "2019-04-02   4905.954590   4155.316895   4156.919434   4879.877930   \n",
       "2019-10-25   8691.540039   7479.984375   7490.703125   8660.700195   \n",
       "2017-07-17   2230.489990   1932.619995   1932.619995   2228.409912   \n",
       "2017-09-15   3733.449951   2946.620117   3166.300049   3637.520020   \n",
       "\n",
       "                  Volume     Adj Close         R         r  \n",
       "Date                                                        \n",
       "2017-12-07   17950699520  17899.699219  0.252472  0.225119  \n",
       "2017-07-20    2249260032   2817.600098  0.239361  0.214596  \n",
       "2017-12-06   12656300032  14291.500000  0.199283  0.181724  \n",
       "2021-02-08  101467222687  46196.464844  0.187465  0.171821  \n",
       "2020-03-19   51000731797   6191.192871  0.181878  0.167104  \n",
       "2019-04-02   21315047816   4879.877930  0.173560  0.160042  \n",
       "2019-10-25   28705065488   8660.700195  0.155763  0.144761  \n",
       "2017-07-17    1201760000   2228.409912  0.154724  0.143862  \n",
       "2017-09-15    4148069888   3637.520020  0.152956  0.142330  "
      ]
     },
     "execution_count": 10,
     "metadata": {},
     "output_type": "execute_result"
    }
   ],
   "source": [
    "# Dias con los valores más altos\n",
    "BTC[BTC[\"R\"]>0.15].sort_values(by=['R'], ascending=False)"
   ]
  },
  {
   "cell_type": "code",
   "execution_count": 11,
   "metadata": {},
   "outputs": [
    {
     "name": "stdout",
     "output_type": "stream",
     "text": [
      "The daily average return of Bitcoin is  0.0014527028205268493\n",
      "The daily variance of Bitcoin is  0.0017302877728844156\n",
      "The daily standard deviation (volatility) of Bitcoin return is  0.04159672791079144\n",
      "The daily median return of Bitcoin is  0.002083684980546785\n"
     ]
    }
   ],
   "source": [
    "print(\"The daily average return of Bitcoin is \", BTC[\"r\"].mean())\n",
    "print(\"The daily variance of Bitcoin is \", BTC[\"r\"].var())\n",
    "print(\"The daily standard deviation (volatility) of Bitcoin return is \", BTC[\"r\"].std())\n",
    "print(\"The daily median return of Bitcoin is \",BTC[\"r\"].median())"
   ]
  },
  {
   "cell_type": "markdown",
   "metadata": {},
   "source": [
    "El promedio de retorno del Bitcoin por día es de 0.14%\n",
    "\n",
    "La varianza diaria del bitcoin es de 0.17%\n",
    "\n",
    "La volatilidad diaria de los retornos del bicoin es de 4.15%\n",
    "\n",
    "La mediana de los retornos diarios del bitcoin es de 0.2%"
   ]
  },
  {
   "cell_type": "markdown",
   "metadata": {},
   "source": [
    "**Histograma**\n",
    "\n",
    "El histograma es una gráfica de frecuencia, permite ilustrar como los valores de una variable son distribuidas en su ranfo de valores. Se puede determinar cuales son los valores mas comunes, los menos comunes, la media y la desviación estandar de la variable.\n",
    "\n",
    "*Los rangos de valores con mayor frecuencia suelen tener una barra vertical más alta comparado con los rangos de valores con menor frecuencia.*"
   ]
  },
  {
   "cell_type": "code",
   "execution_count": null,
   "metadata": {},
   "outputs": [],
   "source": [
    "r_bitcoin = pd.DataFrame(BTC[[\"R\"]])\n",
    "hist=r_bitcoin.plot.hist(bins=12,alpha=0.5,title=\"Histogram of daily Bitcoin Returns\")"
   ]
  },
  {
   "cell_type": "markdown",
   "metadata": {},
   "source": [
    "Si se toma una desciasión estandar promedio se abarcan el 68% si son dos desviaciones estandar se abarca el 95%"
   ]
  }
 ],
 "metadata": {
  "kernelspec": {
   "display_name": "Python 3.10.6 64-bit (windows store)",
   "language": "python",
   "name": "python3"
  },
  "language_info": {
   "codemirror_mode": {
    "name": "ipython",
    "version": 3
   },
   "file_extension": ".py",
   "mimetype": "text/x-python",
   "name": "python",
   "nbconvert_exporter": "python",
   "pygments_lexer": "ipython3",
   "version": "3.10.6"
  },
  "orig_nbformat": 4,
  "vscode": {
   "interpreter": {
    "hash": "f58006e3a6b3697db5a2671151387509a500f2e72d8fe07fc4154091e95c0813"
   }
  }
 },
 "nbformat": 4,
 "nbformat_minor": 2
}
