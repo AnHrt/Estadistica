{
 "cells": [
  {
   "cell_type": "markdown",
   "metadata": {},
   "source": [
    "#### **Workshop #1**\n",
    "\n",
    "> **Angeles Arista Huerta** */  Agosto 12, 2022*"
   ]
  },
  {
   "cell_type": "markdown",
   "metadata": {},
   "source": [
    "**Estadistica descriptiva:** resume información de datos sin procesar relacionados con cualquier fenomeno. Usualmente proporciona una primera idea general del fenomeno. \n",
    "Lo más importante de la estadistica descriptiva son: ***medidas de tendencia central y medidas de disperción***"
   ]
  },
  {
   "cell_type": "markdown",
   "metadata": {},
   "source": [
    "Las medidas de tendencia central son: *media aritmetica, mediana y moda.*\n",
    "\n",
    "**Moda** - es el valor más repetido en la variable. Se puede calcular solamente para variables discretas, no para variables continuas.\n",
    "\n",
    "---\n",
    "**Media aritmetica** - la media de una variable simple, indica el valor promedio de todo valor válido de esa variable, asumiendo que todo valor tiene la misma importancia. Esta variable puede representar cualquier atributo. Para calcular la media de una variable, se deberan sumar todos los valores que posee esa variable y posteriormente ser dividen por el numero de total de valores no faltantes (observaciones). \n",
    "\n",
    "---\n",
    "**Mediana** - la mediana de una variable es su percentil 50, el cual es el punto medio de sus valores. Es necesario ordenar los valores de la variable en orden descendente, posteriormente se define al valor que esta en medio como la mediana de la variable. La mediana proporciona una mejor respresentación del valor \"promedio\" de una variable en comparación con la media, cuando la distribución de los valores no sigue una distribución normal. *Para la distribución sesgada, la mediana también será una mejor medida para la tendencia central. En realidad, en el caso de las variables distribuidas normales, la mediana será muy cercana a la media, por lo que la mediana siempre puede ser una buena medida de la tendencia central.*\n",
    "\n",
    "---\n",
    "**¿Cuál es la diferencia entre la media y la mediana?** *Cuando la variable no sigue una distribución de probabilidad cercana a una distribución normal, la mejor medida para la tendecía central es la mediana, no la media. La media aritmética es muy sensible a los valores extremos, mientras que la mediana no lo es. La mejor medida de un tamaño típico será la mediana*\n",
    "\n",
    "**¿Qué es una distribución normal?** *Es una distribución de probabilidad muy común de variables aleatorias. Una variable distribuida normal tiene el aspecto de una curva en forma de campana, donde la mayoría de los valores están alrededor de la media aritmética.*"
   ]
  },
  {
   "cell_type": "markdown",
   "metadata": {},
   "source": [
    "***Un valor faltante de una variable ocurre cuando la variable de una observación específica no tiene ningún valor***"
   ]
  },
  {
   "cell_type": "markdown",
   "metadata": {},
   "source": [
    "Las medidas de disperción son: *la varianza y la desviación estandar.* \n",
    "Tanto la varianza como la desviación estandar se utilizzan para medir que tanto cambia en promedio los valores individuales de una varibale con respecto a la media.\n",
    "\n",
    "**Varianza** - es el promedio de desviaciones cuadradas de cada valor individual respecto a su media. La varianza de la muestra es una medida imparcial de la varianza subyacente (real).\n",
    "\n",
    "> ###### Var(x) = sum(xi-x')^2 / n-1 : i = 1...n\n",
    "> ###### xi : Valor de x en la posición i\n",
    "> ###### x' : Promedio aritmetico de x\n",
    "---\n",
    "\n",
    "**Desviación estandar** - *Investigar*\n",
    "> ###### SD(x) = sqrt(Var(x))\n",
    "\n",
    "---\n",
    "*La mayoría de los libros de estadística utilizan (n-1) en lugar de n como denominador de la fórmula de varianza para obtener un **valor más conservador** de la varianza. Esta medida se denomina varianza de la muestra.*\n",
    "\n",
    "***La varianza y la desviación estandar son promedios de cuanto cambia una variable a traves del tiempo***\n",
    "Ambas miden que tanto cambian los promedios de los valores individuales de una variable con respecto a la media"
   ]
  },
  {
   "cell_type": "markdown",
   "metadata": {},
   "source": [
    "##### *Reto* \n",
    "Ejercicio de ejemplo"
   ]
  },
  {
   "cell_type": "code",
   "execution_count": 55,
   "metadata": {},
   "outputs": [
    {
     "data": {
      "text/html": [
       "<div>\n",
       "<style scoped>\n",
       "    .dataframe tbody tr th:only-of-type {\n",
       "        vertical-align: middle;\n",
       "    }\n",
       "\n",
       "    .dataframe tbody tr th {\n",
       "        vertical-align: top;\n",
       "    }\n",
       "\n",
       "    .dataframe thead th {\n",
       "        text-align: right;\n",
       "    }\n",
       "</style>\n",
       "<table border=\"1\" class=\"dataframe\">\n",
       "  <thead>\n",
       "    <tr style=\"text-align: right;\">\n",
       "      <th></th>\n",
       "      <th>High</th>\n",
       "      <th>Low</th>\n",
       "      <th>Open</th>\n",
       "      <th>Close</th>\n",
       "      <th>Volume</th>\n",
       "      <th>Adj Close</th>\n",
       "    </tr>\n",
       "    <tr>\n",
       "      <th>Date</th>\n",
       "      <th></th>\n",
       "      <th></th>\n",
       "      <th></th>\n",
       "      <th></th>\n",
       "      <th></th>\n",
       "      <th></th>\n",
       "    </tr>\n",
       "  </thead>\n",
       "  <tbody>\n",
       "    <tr>\n",
       "      <th>2022-08-31</th>\n",
       "      <td>20420.990234</td>\n",
       "      <td>19799.582031</td>\n",
       "      <td>19799.582031</td>\n",
       "      <td>20049.763672</td>\n",
       "      <td>33225232872</td>\n",
       "      <td>20049.763672</td>\n",
       "    </tr>\n",
       "    <tr>\n",
       "      <th>2022-09-01</th>\n",
       "      <td>20198.390625</td>\n",
       "      <td>19653.968750</td>\n",
       "      <td>20050.498047</td>\n",
       "      <td>20127.140625</td>\n",
       "      <td>30182031010</td>\n",
       "      <td>20127.140625</td>\n",
       "    </tr>\n",
       "    <tr>\n",
       "      <th>2022-09-02</th>\n",
       "      <td>20401.568359</td>\n",
       "      <td>19814.765625</td>\n",
       "      <td>20126.072266</td>\n",
       "      <td>19969.771484</td>\n",
       "      <td>29123998928</td>\n",
       "      <td>19969.771484</td>\n",
       "    </tr>\n",
       "    <tr>\n",
       "      <th>2022-09-03</th>\n",
       "      <td>20037.009766</td>\n",
       "      <td>19698.355469</td>\n",
       "      <td>19969.718750</td>\n",
       "      <td>19832.087891</td>\n",
       "      <td>23613051457</td>\n",
       "      <td>19832.087891</td>\n",
       "    </tr>\n",
       "    <tr>\n",
       "      <th>2022-09-04</th>\n",
       "      <td>19848.023438</td>\n",
       "      <td>19772.603516</td>\n",
       "      <td>19831.701172</td>\n",
       "      <td>19789.595703</td>\n",
       "      <td>23620859904</td>\n",
       "      <td>19789.595703</td>\n",
       "    </tr>\n",
       "  </tbody>\n",
       "</table>\n",
       "</div>"
      ],
      "text/plain": [
       "                    High           Low          Open         Close  \\\n",
       "Date                                                                 \n",
       "2022-08-31  20420.990234  19799.582031  19799.582031  20049.763672   \n",
       "2022-09-01  20198.390625  19653.968750  20050.498047  20127.140625   \n",
       "2022-09-02  20401.568359  19814.765625  20126.072266  19969.771484   \n",
       "2022-09-03  20037.009766  19698.355469  19969.718750  19832.087891   \n",
       "2022-09-04  19848.023438  19772.603516  19831.701172  19789.595703   \n",
       "\n",
       "                 Volume     Adj Close  \n",
       "Date                                   \n",
       "2022-08-31  33225232872  20049.763672  \n",
       "2022-09-01  30182031010  20127.140625  \n",
       "2022-09-02  29123998928  19969.771484  \n",
       "2022-09-03  23613051457  19832.087891  \n",
       "2022-09-04  23620859904  19789.595703  "
      ]
     },
     "execution_count": 55,
     "metadata": {},
     "output_type": "execute_result"
    }
   ],
   "source": [
    "# Importar librerias\n",
    "import numpy as np\n",
    "import pandas as pd\n",
    "import pandas_datareader as pdr\n",
    "\n",
    "#La biblioteca 'pandas_datareader' tiene funciones para descargar datos en línea de Yahoo Finance \n",
    "# en esta se puede encontrar datos históricos financieros reales.\n",
    "\n",
    "BTC = pdr.get_data_yahoo('BTC-USD', start = \"01/01/2017\", interval = \"d\") \n",
    "#Descarga de precios diarios de Bitcoin a partir de 2017\n",
    "BTC.tail() # tail() - Despliegue ultimas filas de datos "
   ]
  },
  {
   "cell_type": "code",
   "execution_count": 56,
   "metadata": {},
   "outputs": [
    {
     "data": {
      "image/png": "[encoded data removed]",
      "text/plain": [
       "<Figure size 432x288 with 1 Axes>"
      ]
     },
     "metadata": {
      "needs_background": "light"
     },
     "output_type": "display_data"
    }
   ],
   "source": [
    "#Importar libreria para graficar / visualizacion\n",
    "import matplotlib\n",
    "import matplotlib.pyplot as plt\n",
    "\n",
    "#Grafica de datos de cierre\n",
    "plt.plot(BTC[\"Close\"]) \n",
    "plt.title(\"Precios de cierre de bitcoin\")\n",
    "plt.show()\n",
    "\n",
    "#BTC.info() #Podemos comprobar los tipos de datos de cada variable (columna) en el conjunto de datos"
   ]
  },
  {
   "cell_type": "markdown",
   "metadata": {},
   "source": [
    "**Transformaciones de datos**\n",
    "\n",
    "**Calculo de retorno** - Un retorno financiero simple para una acción (Rt) se calcula como un cambio porcentual del precio desde el período anterior (t-1) hasta el período actual (t) (Cambio de retorno - es el cambio porcentual de un periodo a otro) Se puede usar retornos en decimal o en porcentaje (multiplicando por 100).\n",
    "> ###### Rt = (price [t] / price [t-1]) - 1 \n",
    "\n",
    "---\n",
    "**Logaritmo** - Es la cantidad de veces que se debe multiplicar una base (es el exponente que el número necesita ser elevado para obtener un número especifico)\n",
    "\n",
    "---\n",
    "**Logaritmo natural** - es el algoritmo de base 2,71... (numero irracional, pues este no se puede expresar como una división de 2 números naturales) también denominado como constante de Euler.\n",
    " \n",
    " ---\n",
    "**Función logaritmica** - es la inversa de la función exponencial\n",
    "\n",
    "---\n",
    "*En Finanzas es muy recomendable calcular retornos continuamente compuestos (retornos cc) y usar retornos cc en lugar de retornos simples para análisis de datos, estadísticas y modelos econométricos. Los retornos cc se calculan a partir del logaritmo natural de precios.*"
   ]
  },
  {
   "cell_type": "markdown",
   "metadata": {},
   "source": [
    "Se generaliza cualquier tasa de interes anual, *e^R* (R=Rate) es el factor de crecimiento para una tasa nominal anual, cuando los intreses se componen a cada momento.\n",
    "\n",
    "Se puede hacer una relación entre el factor de crecimiento y una tasa efectiva equivalente\n",
    "\n",
    ">###### (1+EffectiveRate)=e^r\n",
    "\n",
    "Para obtener el rate se aplicaría logaritmo natural a ambos lados de la ecuación, lo que daría como resultado\n",
    "\n",
    ">###### ln(1+EffectiveRate) = r\n",
    "\n",
    "*(Como el logaritmo natural es la inversa de la función exponencia, está se cancela en el lado de la ecuación correspondiente)*\n",
    "\n",
    "---\n",
    "\n",
    "**Retornos compuestos continuos** - una manera para calcularlos es mediante la substracción del logaritmo del precio actual menos el logaritmo del precio previo (también llamado como la diferencia de logaritmos del precio.)\n",
    ">###### (rt = log(price t) - log(price t-1))\n",
    "\n",
    "También es posible calcularlos mediante el logaritmo de la división entre el precio actual y el precio previo.\n",
    ">###### (rt = log(price t) / log(price t-1))\n",
    "\n",
    "*Los retornos continuos compuestos se representan con la letra 'r' minus mientras que los retornos simples se representan mediante la letra 'R' mayus*"
   ]
  },
  {
   "cell_type": "markdown",
   "metadata": {},
   "source": [
    "En python se puede obtener el valor previo de la variable usando la función *.shift(n)*. Permite calcular una nueva columna para un retorno simple."
   ]
  },
  {
   "cell_type": "code",
   "execution_count": 57,
   "metadata": {},
   "outputs": [
    {
     "name": "stdout",
     "output_type": "stream",
     "text": [
      "Date\n",
      "2017-01-01         NaN\n",
      "2017-01-02    0.023464\n",
      "2017-01-03    0.021620\n",
      "2017-01-04    0.106233\n",
      "2017-01-05   -0.122410\n",
      "                ...   \n",
      "2022-08-31    0.012778\n",
      "2022-09-01    0.003859\n",
      "2022-09-02   -0.007819\n",
      "2022-09-03   -0.006895\n",
      "2022-09-04   -0.002143\n",
      "Name: R, Length: 2073, dtype: float64\n"
     ]
    }
   ],
   "source": [
    "# Ejemplo\n",
    "BTC[\"R\"] = (BTC[\"Close\"] / BTC[\"Close\"].shift(1)) - 1\n",
    "print(BTC[\"R\"])"
   ]
  },
  {
   "cell_type": "code",
   "execution_count": 58,
   "metadata": {},
   "outputs": [
    {
     "data": {
      "text/html": [
       "<div>\n",
       "<style scoped>\n",
       "    .dataframe tbody tr th:only-of-type {\n",
       "        vertical-align: middle;\n",
       "    }\n",
       "\n",
       "    .dataframe tbody tr th {\n",
       "        vertical-align: top;\n",
       "    }\n",
       "\n",
       "    .dataframe thead th {\n",
       "        text-align: right;\n",
       "    }\n",
       "</style>\n",
       "<table border=\"1\" class=\"dataframe\">\n",
       "  <thead>\n",
       "    <tr style=\"text-align: right;\">\n",
       "      <th></th>\n",
       "      <th>R</th>\n",
       "      <th>r</th>\n",
       "    </tr>\n",
       "    <tr>\n",
       "      <th>Date</th>\n",
       "      <th></th>\n",
       "      <th></th>\n",
       "    </tr>\n",
       "  </thead>\n",
       "  <tbody>\n",
       "    <tr>\n",
       "      <th>2017-01-01</th>\n",
       "      <td>NaN</td>\n",
       "      <td>NaN</td>\n",
       "    </tr>\n",
       "    <tr>\n",
       "      <th>2017-01-02</th>\n",
       "      <td>0.023464</td>\n",
       "      <td>0.023193</td>\n",
       "    </tr>\n",
       "    <tr>\n",
       "      <th>2017-01-03</th>\n",
       "      <td>0.021620</td>\n",
       "      <td>0.021389</td>\n",
       "    </tr>\n",
       "    <tr>\n",
       "      <th>2017-01-04</th>\n",
       "      <td>0.106233</td>\n",
       "      <td>0.100960</td>\n",
       "    </tr>\n",
       "    <tr>\n",
       "      <th>2017-01-05</th>\n",
       "      <td>-0.122410</td>\n",
       "      <td>-0.130575</td>\n",
       "    </tr>\n",
       "    <tr>\n",
       "      <th>...</th>\n",
       "      <td>...</td>\n",
       "      <td>...</td>\n",
       "    </tr>\n",
       "    <tr>\n",
       "      <th>2022-08-31</th>\n",
       "      <td>0.012778</td>\n",
       "      <td>0.012697</td>\n",
       "    </tr>\n",
       "    <tr>\n",
       "      <th>2022-09-01</th>\n",
       "      <td>0.003859</td>\n",
       "      <td>0.003852</td>\n",
       "    </tr>\n",
       "    <tr>\n",
       "      <th>2022-09-02</th>\n",
       "      <td>-0.007819</td>\n",
       "      <td>-0.007849</td>\n",
       "    </tr>\n",
       "    <tr>\n",
       "      <th>2022-09-03</th>\n",
       "      <td>-0.006895</td>\n",
       "      <td>-0.006918</td>\n",
       "    </tr>\n",
       "    <tr>\n",
       "      <th>2022-09-04</th>\n",
       "      <td>-0.002143</td>\n",
       "      <td>-0.002145</td>\n",
       "    </tr>\n",
       "  </tbody>\n",
       "</table>\n",
       "<p>2073 rows × 2 columns</p>\n",
       "</div>"
      ],
      "text/plain": [
       "                   R         r\n",
       "Date                          \n",
       "2017-01-01       NaN       NaN\n",
       "2017-01-02  0.023464  0.023193\n",
       "2017-01-03  0.021620  0.021389\n",
       "2017-01-04  0.106233  0.100960\n",
       "2017-01-05 -0.122410 -0.130575\n",
       "...              ...       ...\n",
       "2022-08-31  0.012778  0.012697\n",
       "2022-09-01  0.003859  0.003852\n",
       "2022-09-02 -0.007819 -0.007849\n",
       "2022-09-03 -0.006895 -0.006918\n",
       "2022-09-04 -0.002143 -0.002145\n",
       "\n",
       "[2073 rows x 2 columns]"
      ]
     },
     "execution_count": 58,
     "metadata": {},
     "output_type": "execute_result"
    }
   ],
   "source": [
    "# Calculo de los retornos cc \n",
    "# en una nueva columna usando la funcion .shift()\n",
    "BTC[\"r\"] = np.log(BTC['Adj Close']) - np.log(BTC['Adj Close'].shift(1))\n",
    "BTCR = BTC[['R','r']].copy()\n",
    "btc = BTC[[\"R\",\"r\"]]\n",
    "btc"
   ]
  },
  {
   "cell_type": "code",
   "execution_count": 59,
   "metadata": {},
   "outputs": [],
   "source": [
    "# Eliminar renglones con valores nulos\n",
    "BTC= BTC.dropna()"
   ]
  },
  {
   "cell_type": "markdown",
   "metadata": {},
   "source": [
    "Estadistica descriptiva de retornos"
   ]
  },
  {
   "cell_type": "code",
   "execution_count": 60,
   "metadata": {},
   "outputs": [
    {
     "data": {
      "text/plain": [
       "count    2072.000000\n",
       "mean        0.002300\n",
       "std         0.041242\n",
       "min        -0.371695\n",
       "25%        -0.015860\n",
       "50%         0.002080\n",
       "75%         0.020648\n",
       "max         0.252472\n",
       "Name: R, dtype: float64"
      ]
     },
     "execution_count": 60,
     "metadata": {},
     "output_type": "execute_result"
    }
   ],
   "source": [
    "# Descripción de los retornos\n",
    "sumret = BTC[\"R\"].describe()\n",
    "sumret"
   ]
  },
  {
   "cell_type": "code",
   "execution_count": 61,
   "metadata": {},
   "outputs": [
    {
     "data": {
      "text/html": [
       "<div>\n",
       "<style scoped>\n",
       "    .dataframe tbody tr th:only-of-type {\n",
       "        vertical-align: middle;\n",
       "    }\n",
       "\n",
       "    .dataframe tbody tr th {\n",
       "        vertical-align: top;\n",
       "    }\n",
       "\n",
       "    .dataframe thead th {\n",
       "        text-align: right;\n",
       "    }\n",
       "</style>\n",
       "<table border=\"1\" class=\"dataframe\">\n",
       "  <thead>\n",
       "    <tr style=\"text-align: right;\">\n",
       "      <th></th>\n",
       "      <th>High</th>\n",
       "      <th>Low</th>\n",
       "      <th>Open</th>\n",
       "      <th>Close</th>\n",
       "      <th>Volume</th>\n",
       "      <th>Adj Close</th>\n",
       "      <th>R</th>\n",
       "      <th>r</th>\n",
       "    </tr>\n",
       "    <tr>\n",
       "      <th>Date</th>\n",
       "      <th></th>\n",
       "      <th></th>\n",
       "      <th></th>\n",
       "      <th></th>\n",
       "      <th></th>\n",
       "      <th></th>\n",
       "      <th></th>\n",
       "      <th></th>\n",
       "    </tr>\n",
       "  </thead>\n",
       "  <tbody>\n",
       "    <tr>\n",
       "      <th>2017-09-14</th>\n",
       "      <td>3920.600098</td>\n",
       "      <td>3153.860107</td>\n",
       "      <td>3875.370117</td>\n",
       "      <td>3154.949951</td>\n",
       "      <td>2716310016</td>\n",
       "      <td>3154.949951</td>\n",
       "      <td>-0.187411</td>\n",
       "      <td>-0.207530</td>\n",
       "    </tr>\n",
       "    <tr>\n",
       "      <th>2018-01-16</th>\n",
       "      <td>13843.099609</td>\n",
       "      <td>10194.900391</td>\n",
       "      <td>13836.099609</td>\n",
       "      <td>11490.500000</td>\n",
       "      <td>18853799936</td>\n",
       "      <td>11490.500000</td>\n",
       "      <td>-0.168548</td>\n",
       "      <td>-0.184582</td>\n",
       "    </tr>\n",
       "    <tr>\n",
       "      <th>2018-02-05</th>\n",
       "      <td>8364.839844</td>\n",
       "      <td>6756.680176</td>\n",
       "      <td>8270.540039</td>\n",
       "      <td>6955.270020</td>\n",
       "      <td>9285289984</td>\n",
       "      <td>6955.270020</td>\n",
       "      <td>-0.159688</td>\n",
       "      <td>-0.173982</td>\n",
       "    </tr>\n",
       "    <tr>\n",
       "      <th>2020-03-12</th>\n",
       "      <td>7929.116211</td>\n",
       "      <td>4860.354004</td>\n",
       "      <td>7913.616211</td>\n",
       "      <td>4970.788086</td>\n",
       "      <td>53980357243</td>\n",
       "      <td>4970.788086</td>\n",
       "      <td>-0.371695</td>\n",
       "      <td>-0.464730</td>\n",
       "    </tr>\n",
       "    <tr>\n",
       "      <th>2022-06-13</th>\n",
       "      <td>26795.589844</td>\n",
       "      <td>22141.257812</td>\n",
       "      <td>26737.578125</td>\n",
       "      <td>22487.388672</td>\n",
       "      <td>68204556440</td>\n",
       "      <td>22487.388672</td>\n",
       "      <td>-0.159747</td>\n",
       "      <td>-0.174053</td>\n",
       "    </tr>\n",
       "  </tbody>\n",
       "</table>\n",
       "</div>"
      ],
      "text/plain": [
       "                    High           Low          Open         Close  \\\n",
       "Date                                                                 \n",
       "2017-09-14   3920.600098   3153.860107   3875.370117   3154.949951   \n",
       "2018-01-16  13843.099609  10194.900391  13836.099609  11490.500000   \n",
       "2018-02-05   8364.839844   6756.680176   8270.540039   6955.270020   \n",
       "2020-03-12   7929.116211   4860.354004   7913.616211   4970.788086   \n",
       "2022-06-13  26795.589844  22141.257812  26737.578125  22487.388672   \n",
       "\n",
       "                 Volume     Adj Close         R         r  \n",
       "Date                                                       \n",
       "2017-09-14   2716310016   3154.949951 -0.187411 -0.207530  \n",
       "2018-01-16  18853799936  11490.500000 -0.168548 -0.184582  \n",
       "2018-02-05   9285289984   6955.270020 -0.159688 -0.173982  \n",
       "2020-03-12  53980357243   4970.788086 -0.371695 -0.464730  \n",
       "2022-06-13  68204556440  22487.388672 -0.159747 -0.174053  "
      ]
     },
     "execution_count": 61,
     "metadata": {},
     "output_type": "execute_result"
    }
   ],
   "source": [
    "# Dias con los valores más bajos\n",
    "BTC[BTC[\"R\"]<-0.15]"
   ]
  },
  {
   "cell_type": "code",
   "execution_count": 62,
   "metadata": {},
   "outputs": [
    {
     "data": {
      "text/html": [
       "<div>\n",
       "<style scoped>\n",
       "    .dataframe tbody tr th:only-of-type {\n",
       "        vertical-align: middle;\n",
       "    }\n",
       "\n",
       "    .dataframe tbody tr th {\n",
       "        vertical-align: top;\n",
       "    }\n",
       "\n",
       "    .dataframe thead th {\n",
       "        text-align: right;\n",
       "    }\n",
       "</style>\n",
       "<table border=\"1\" class=\"dataframe\">\n",
       "  <thead>\n",
       "    <tr style=\"text-align: right;\">\n",
       "      <th></th>\n",
       "      <th>High</th>\n",
       "      <th>Low</th>\n",
       "      <th>Open</th>\n",
       "      <th>Close</th>\n",
       "      <th>Volume</th>\n",
       "      <th>Adj Close</th>\n",
       "      <th>R</th>\n",
       "      <th>r</th>\n",
       "    </tr>\n",
       "    <tr>\n",
       "      <th>Date</th>\n",
       "      <th></th>\n",
       "      <th></th>\n",
       "      <th></th>\n",
       "      <th></th>\n",
       "      <th></th>\n",
       "      <th></th>\n",
       "      <th></th>\n",
       "      <th></th>\n",
       "    </tr>\n",
       "  </thead>\n",
       "  <tbody>\n",
       "    <tr>\n",
       "      <th>2017-12-07</th>\n",
       "      <td>17899.699219</td>\n",
       "      <td>14057.299805</td>\n",
       "      <td>14266.099609</td>\n",
       "      <td>17899.699219</td>\n",
       "      <td>17950699520</td>\n",
       "      <td>17899.699219</td>\n",
       "      <td>0.252472</td>\n",
       "      <td>0.225119</td>\n",
       "    </tr>\n",
       "    <tr>\n",
       "      <th>2017-07-20</th>\n",
       "      <td>2900.699951</td>\n",
       "      <td>2269.889893</td>\n",
       "      <td>2269.889893</td>\n",
       "      <td>2817.600098</td>\n",
       "      <td>2249260032</td>\n",
       "      <td>2817.600098</td>\n",
       "      <td>0.239361</td>\n",
       "      <td>0.214596</td>\n",
       "    </tr>\n",
       "    <tr>\n",
       "      <th>2017-12-06</th>\n",
       "      <td>14369.099609</td>\n",
       "      <td>11923.400391</td>\n",
       "      <td>11923.400391</td>\n",
       "      <td>14291.500000</td>\n",
       "      <td>12656300032</td>\n",
       "      <td>14291.500000</td>\n",
       "      <td>0.199283</td>\n",
       "      <td>0.181724</td>\n",
       "    </tr>\n",
       "    <tr>\n",
       "      <th>2021-02-08</th>\n",
       "      <td>46203.929688</td>\n",
       "      <td>38076.324219</td>\n",
       "      <td>38886.828125</td>\n",
       "      <td>46196.464844</td>\n",
       "      <td>101467222687</td>\n",
       "      <td>46196.464844</td>\n",
       "      <td>0.187465</td>\n",
       "      <td>0.171821</td>\n",
       "    </tr>\n",
       "    <tr>\n",
       "      <th>2020-03-19</th>\n",
       "      <td>6329.735840</td>\n",
       "      <td>5236.968750</td>\n",
       "      <td>5245.416504</td>\n",
       "      <td>6191.192871</td>\n",
       "      <td>51000731797</td>\n",
       "      <td>6191.192871</td>\n",
       "      <td>0.181878</td>\n",
       "      <td>0.167104</td>\n",
       "    </tr>\n",
       "    <tr>\n",
       "      <th>2019-04-02</th>\n",
       "      <td>4905.954590</td>\n",
       "      <td>4155.316895</td>\n",
       "      <td>4156.919434</td>\n",
       "      <td>4879.877930</td>\n",
       "      <td>21315047816</td>\n",
       "      <td>4879.877930</td>\n",
       "      <td>0.173560</td>\n",
       "      <td>0.160042</td>\n",
       "    </tr>\n",
       "    <tr>\n",
       "      <th>2019-10-25</th>\n",
       "      <td>8691.540039</td>\n",
       "      <td>7479.984375</td>\n",
       "      <td>7490.703125</td>\n",
       "      <td>8660.700195</td>\n",
       "      <td>28705065488</td>\n",
       "      <td>8660.700195</td>\n",
       "      <td>0.155763</td>\n",
       "      <td>0.144761</td>\n",
       "    </tr>\n",
       "    <tr>\n",
       "      <th>2017-07-17</th>\n",
       "      <td>2230.489990</td>\n",
       "      <td>1932.619995</td>\n",
       "      <td>1932.619995</td>\n",
       "      <td>2228.409912</td>\n",
       "      <td>1201760000</td>\n",
       "      <td>2228.409912</td>\n",
       "      <td>0.154724</td>\n",
       "      <td>0.143862</td>\n",
       "    </tr>\n",
       "    <tr>\n",
       "      <th>2017-09-15</th>\n",
       "      <td>3733.449951</td>\n",
       "      <td>2946.620117</td>\n",
       "      <td>3166.300049</td>\n",
       "      <td>3637.520020</td>\n",
       "      <td>4148069888</td>\n",
       "      <td>3637.520020</td>\n",
       "      <td>0.152956</td>\n",
       "      <td>0.142330</td>\n",
       "    </tr>\n",
       "  </tbody>\n",
       "</table>\n",
       "</div>"
      ],
      "text/plain": [
       "                    High           Low          Open         Close  \\\n",
       "Date                                                                 \n",
       "2017-12-07  17899.699219  14057.299805  14266.099609  17899.699219   \n",
       "2017-07-20   2900.699951   2269.889893   2269.889893   2817.600098   \n",
       "2017-12-06  14369.099609  11923.400391  11923.400391  14291.500000   \n",
       "2021-02-08  46203.929688  38076.324219  38886.828125  46196.464844   \n",
       "2020-03-19   6329.735840   5236.968750   5245.416504   6191.192871   \n",
       "2019-04-02   4905.954590   4155.316895   4156.919434   4879.877930   \n",
       "2019-10-25   8691.540039   7479.984375   7490.703125   8660.700195   \n",
       "2017-07-17   2230.489990   1932.619995   1932.619995   2228.409912   \n",
       "2017-09-15   3733.449951   2946.620117   3166.300049   3637.520020   \n",
       "\n",
       "                  Volume     Adj Close         R         r  \n",
       "Date                                                        \n",
       "2017-12-07   17950699520  17899.699219  0.252472  0.225119  \n",
       "2017-07-20    2249260032   2817.600098  0.239361  0.214596  \n",
       "2017-12-06   12656300032  14291.500000  0.199283  0.181724  \n",
       "2021-02-08  101467222687  46196.464844  0.187465  0.171821  \n",
       "2020-03-19   51000731797   6191.192871  0.181878  0.167104  \n",
       "2019-04-02   21315047816   4879.877930  0.173560  0.160042  \n",
       "2019-10-25   28705065488   8660.700195  0.155763  0.144761  \n",
       "2017-07-17    1201760000   2228.409912  0.154724  0.143862  \n",
       "2017-09-15    4148069888   3637.520020  0.152956  0.142330  "
      ]
     },
     "execution_count": 62,
     "metadata": {},
     "output_type": "execute_result"
    }
   ],
   "source": [
    "# Dias con los valores más altos\n",
    "BTC[BTC[\"R\"]>0.15].sort_values(by=['R'], ascending=False)"
   ]
  },
  {
   "cell_type": "code",
   "execution_count": 63,
   "metadata": {},
   "outputs": [
    {
     "name": "stdout",
     "output_type": "stream",
     "text": [
      "The daily average return of Bitcoin is  0.0014415215840768722\n",
      "The daily variance of Bitcoin is  0.0017269748044391158\n",
      "The daily standard deviation (volatility) of Bitcoin return is  0.041556886366029826\n",
      "The daily median return of Bitcoin is  0.0020779250009823613\n"
     ]
    }
   ],
   "source": [
    "#Mediciones del bicoin (media / varianza / desviación estandar / mediana)\n",
    "print(\"The daily average return of Bitcoin is \", BTC[\"r\"].mean())\n",
    "print(\"The daily variance of Bitcoin is \", BTC[\"r\"].var())\n",
    "print(\"The daily standard deviation (volatility) of Bitcoin return is \", BTC[\"r\"].std())\n",
    "print(\"The daily median return of Bitcoin is \",BTC[\"r\"].median())"
   ]
  },
  {
   "cell_type": "markdown",
   "metadata": {},
   "source": [
    "El promedio de retorno del Bitcoin por día es de 0.14%\n",
    "\n",
    "La varianza diaria del bitcoin es de 0.17%\n",
    "\n",
    "La volatilidad diaria de los retornos del bicoin es de 4.15%\n",
    "\n",
    "La mediana de los retornos diarios del bitcoin es de 0.2%"
   ]
  },
  {
   "cell_type": "markdown",
   "metadata": {},
   "source": [
    "**Histograma**\n",
    "\n",
    "El histograma es una gráfica de frecuencia, permite ilustrar como los valores de una variable son distribuidas en su ranfo de valores. Se puede determinar cuales son los valores mas comunes, los menos comunes, la media y la desviación estandar de la variable.\n",
    "\n",
    "---\n",
    "*Los rangos de valores con mayor frecuencia suelen tener una barra vertical más alta comparado con los rangos de valores con menor frecuencia.*"
   ]
  },
  {
   "cell_type": "markdown",
   "metadata": {},
   "source": [
    "### *Reto* \n",
    "Histograma"
   ]
  },
  {
   "cell_type": "code",
   "execution_count": 64,
   "metadata": {},
   "outputs": [
    {
     "data": {
      "image/png": "[encoded data removed]",
      "text/plain": [
       "<Figure size 432x288 with 1 Axes>"
      ]
     },
     "metadata": {
      "needs_background": "light"
     },
     "output_type": "display_data"
    }
   ],
   "source": [
    "r_bitcoin = pd.DataFrame(BTC[[\"R\"]])\n",
    "hist=r_bitcoin.plot.hist(bins=12,alpha=0.5,title=\"Histogram of daily Bitcoin Returns\")"
   ]
  },
  {
   "cell_type": "markdown",
   "metadata": {},
   "source": [
    "###### **INTERPRETACIÓN DEL HISTOGRAMA**"
   ]
  },
  {
   "cell_type": "markdown",
   "metadata": {},
   "source": [
    "**Función de densidad de probabilidad (PDF)** &\n",
    "**Función de densidad acumulativa (CDF)**\n",
    "\n",
    "**PDF** de una *variable discreta* aleatoria es la probabilidad de que x sea igual a un valor especifico de Xi\n",
    "\n",
    "> ###### f(x) = P(X = xi)\n",
    "\n",
    "Para expresar la **CDF** de una variable discreta, se establece que la sumatoria de las probabilidades de que x sea igual a un valor especifico (salidas independientes).\n",
    "\n",
    "> ###### f(x) = sum(P(X = xi)) - n: i=1\n",
    "\n",
    "---\n",
    "**PDF** de una *variable continua* aleatoria es el calculo de X para tomar un valor dentro de un rango especifico. La probabilidad de que una variable continua tome un valor especifico es cero. \n",
    "\n",
    "**CDF** de una variable continua, se define como la integración de la PDF. El CDF será 1 o 100% para todos los valores posibles que puede tomar X\n",
    "\n",
    ">###### integrate(f(x) = P(a <= X <= b),dx) from a to b\n",
    ">###### integrate(f(x) = 1, dx) from infinite to infinite\n",
    "*La probabilidad de que una variable continua de x este entre el limite de a y b, es igual al area debajo de la PDF evaluado en el intervalo [a,b].\n",
    "\n",
    "Una condición muy importante es que la integral de la función entre el rango posible de x debe ser igual a uno.\n",
    "\n",
    "***La diferencia de **PDF** de una variable continua a una discreta es que no se calcula con la finalidad de que X tome un valor particular***\n",
    "\n",
    "\n"
   ]
  },
  {
   "cell_type": "markdown",
   "metadata": {},
   "source": [
    "La *distribución normal* es la probabilidad de distribución de una variable aleatoria continua, pero no una variable discreta; esa es la diferencia entre una distribución normal y PDF."
   ]
  },
  {
   "cell_type": "markdown",
   "metadata": {},
   "source": [
    "**Función de distribución normal**\n",
    "En estadistica el PDF más popular es el conocido como \"bell-shaped\" es definido como:\n",
    "\n",
    "> ###### f(x) = inversa del producto de la desviación estandar por la raiz de el doble de pi, esto multiplicado por el exponencial de un medio por la relación del cuadrado de la variable x menos la media de la distribución entre la varianza\n",
    "\n",
    "Para simplificarlo, la distribución normal es detonada como la variable aleatoria X, distribuida en una distribución normal de la media y la varianza\n",
    "> ###### X^N(media,varianza)\n",
    "*Los unicos parametros que deben calcularse para conocer el comportamiento de la variable aleatoria continua de X son: *la media de X* y *la varianza de X**\n",
    "\n",
    "La distribución normal es simetrica alrededor de la media.\n"
   ]
  },
  {
   "cell_type": "markdown",
   "metadata": {},
   "source": [
    "Una propiedad interesante de la distribución normal son las probabilidades según diferentes rangos.\n",
    "\n",
    "> ###### (media - StdD) <= x <= (media + StdD) el area debajo de la curva es aproximadamente 68%\n",
    "\n",
    "> ###### (media - 2 StdD) <= x <= (media + 2 StdD) el area debajo de la curva es aproximadamente 95%\n",
    "\n",
    "> ###### (media - 3 StdD) <= x <= (media + 3 StdD) el area debajo de la curva es aproximadamente 99.7%\n",
    "\n",
    "Si se toma una desviasión estandar promedio se abarcan el 68%, si son dos desviaciones estandar se abarca el 95%, en el caso de tomar tres desviaciones estándar se abarca el 99.7%"
   ]
  },
  {
   "cell_type": "markdown",
   "metadata": {},
   "source": [
    "*Si nuestra variable de interés es un retorno simple (R) y estos retornos siguen una distribución normal , el valor esperado de los retornos cc futuros será la media de la distribución, mientras que la desviación estándar puede ser vista como una medida del riesgo.*"
   ]
  },
  {
   "cell_type": "markdown",
   "metadata": {},
   "source": [
    "### *Reto*\n",
    "Simular una distribución normal"
   ]
  },
  {
   "cell_type": "markdown",
   "metadata": {},
   "source": [
    "Instrucciones:\n",
    "\n",
    "*Utilice la media y la desviación estándar de los retornos históricos cc de Bitcoin y simule el mismo numero de retornos que los días que se descargaron en el dataframe BTC.*\n",
    "\n",
    "*En un gráfico mostrar tanto la distribución real de los retornos históricos de cc como la distribución normal simulada.*\n",
    "\n",
    "*¿VE UNA DIFERENCIA ENTRE LOS RETORNOS REALES Y LOS SIMULADOS? EXPLIQUE BREVEMENTE.*"
   ]
  },
  {
   "cell_type": "code",
   "execution_count": 78,
   "metadata": {},
   "outputs": [
    {
     "name": "stdout",
     "output_type": "stream",
     "text": [
      "Media : 0.0023 \n",
      "Std : 0.0412 \n",
      "# retornos: 2073\n"
     ]
    }
   ],
   "source": [
    "# Definimos las variables necesarias (media / desviación estandar / numero de retornos)\n",
    "\n",
    "mean_R = BTCR['R'].mean()\n",
    "std_R = BTCR['R'].std()\n",
    "n_R = len(BTCR['R'])\n",
    "print(\"Media : %.4f\" %mean_R, \n",
    "      \"\\nStd : %.4f\" %std_R, \n",
    "      \"\\n# retornos:\", n_R)\n"
   ]
  },
  {
   "cell_type": "code",
   "execution_count": 66,
   "metadata": {},
   "outputs": [
    {
     "data": {
      "text/plain": [
       "count    2072.000000\n",
       "mean        0.002300\n",
       "std         0.041242\n",
       "min        -0.371695\n",
       "25%        -0.015860\n",
       "50%         0.002080\n",
       "75%         0.020648\n",
       "max         0.252472\n",
       "Name: R, dtype: float64"
      ]
     },
     "execution_count": 66,
     "metadata": {},
     "output_type": "execute_result"
    }
   ],
   "source": [
    "# Verificamos los valores con los calculos de la descripción de la variable\n",
    "BTCR['R'].describe()"
   ]
  },
  {
   "cell_type": "code",
   "execution_count": 67,
   "metadata": {},
   "outputs": [],
   "source": [
    "# Simulación de la distribución normal con datos obtenidos\n",
    "simulated = np.random.normal(loc = mean_R, scale = std_R, size = n_R)"
   ]
  },
  {
   "cell_type": "code",
   "execution_count": 77,
   "metadata": {},
   "outputs": [
    {
     "data": {
      "image/png": "[encoded data removed]",
      "text/plain": [
       "<Figure size 432x288 with 1 Axes>"
      ]
     },
     "metadata": {
      "needs_background": "light"
     },
     "output_type": "display_data"
    }
   ],
   "source": [
    "# Simulación de la distribución normal\n",
    "plt.hist(simulated, bins = 10, alpha = 0.4, label = \"Simulated return\")\n",
    "# Distribución normal\n",
    "plt.hist(btc['R'], bins = 10, alpha = 0.4, label = \"Real return\")\n",
    "\n",
    "plt.legend(loc=\"upper left\")\n",
    "plt.show()"
   ]
  },
  {
   "cell_type": "markdown",
   "metadata": {},
   "source": [
    "> ###### **RESPUESTA**"
   ]
  }
 ],
 "metadata": {
  "kernelspec": {
   "display_name": "Python 3.10.6 64-bit (windows store)",
   "language": "python",
   "name": "python3"
  },
  "language_info": {
   "codemirror_mode": {
    "name": "ipython",
    "version": 3
   },
   "file_extension": ".py",
   "mimetype": "text/x-python",
   "name": "python",
   "nbconvert_exporter": "python",
   "pygments_lexer": "ipython3",
   "version": "3.10.6"
  },
  "orig_nbformat": 4,
  "vscode": {
   "interpreter": {
    "hash": "f58006e3a6b3697db5a2671151387509a500f2e72d8fe07fc4154091e95c0813"
   }
  }
 },
 "nbformat": 4,
 "nbformat_minor": 2
}
