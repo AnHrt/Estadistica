{
 "cells": [
  {
   "cell_type": "markdown",
   "metadata": {},
   "source": [
    "**Workshop #3**\n",
    "\n",
    "**Angeles Arista Huerta** */  Agosto 15, 2022*"
   ]
  },
  {
   "cell_type": "markdown",
   "metadata": {},
   "source": [
    "*Pruebas de hipotesis*\n",
    "\n",
    "La prueba de hipotesis para la media de un grupo es usualmente llamada *one-sample t-test* (prueeba t de un grupo).\n",
    "\n",
    "La prueba de hipotesis para la media de dos grupos es usualmente llamada *two-sample t-test* (prueba t de dos muestras).\n",
    "\n",
    "En el caso de la *prueba t de dos muestras* se intenta comprobar si la media de un grupo es mayor que la media de otro grupo.\n",
    "\n",
    "La hipotesis nula y alternativa se definen de la siguiente manera: \n",
    "> ***Ho**: Mx - My = 0\n",
    "\n",
    "> ***Ha**: Mx - My != 0\n",
    "\n",
    "donde:\n",
    "* M - representra la media poblacional de la variable \n",
    "\n",
    "Para probar esta hipotesis son necesarias dos pruebas, una de X y una de Y para calcular sus medias.\n",
    "\n",
    "*En este caso la variable de estudio es la diferencia de 2 medias*, por ello se define a la variable de estudio como diff\n",
    "> diff = (X' - Y')\n",
    "\n",
    "Los pasos para todas las pruebas de hipótesis son básicamente los mismos. Lo que cambia es el cálculo de: \n",
    "\n",
    "- Calcular el **standard error** el cual nos indica desviación estandar de la variable de estudio.\n",
    "\n",
    "Asumiendo que la varianza de ambos grupo es ***diferente***, que el tamaño de las muestras es la misma(N) y que ninguna variable es dependiente de la otra; el calculo a realizar es el siguiente:\n",
    "> SD(diff) = SE = sqrt((Var(X) + Var(Y)) / N)\n",
    "\n",
    "*Esta formula es posible aplicarla solo si las muestras son independientes*\n",
    "\n",
    "Si hay dependencia es necesario agregar otro término que sea igual a 2 veces la covarianza entre ambas variables.\n",
    "\n",
    "*Como aprendimos en el CLT, la varianza de la media de una variable aleatoria se reduce según su tamaño muestral.*\n",
    " \n",
    "La estadística t para la prueba t de dos muestras se calcula de la siguiente manera:\n",
    "> t = (X' - Y') - 0) / (sqrt((Var(x)-Var(Y) / N) )\n",
    "\n",
    "*El valor de t es el numero de desviaciones estandar de la variable de estudio, la diferencia de las 2 significa que la diferencia empírica que obtuvimos de los datos está lejos del valor hipotético, cero.*\n",
    "\n",
    "La regla general a utilizar es tener evidencia estadística al menos en el nivel de confianza del 95% para rechazar la hipótesis nula o para apoyar la hipótesis alternativa.\n",
    "\n"
   ]
  },
  {
   "cell_type": "markdown",
   "metadata": {},
   "source": [
    "**Nivel de Confianza**\n",
    "\n",
    "*Tipo I.* ***ERROR Y PVALUE***\n",
    "\n",
    "El nivel de confianza de una prueba esta relacionado por el nivel de error de la prueba.\n",
    "Para obtener un nivel del confianza del 95%, existe la probabilidad de que se haga una conclusión erronea de rechazar la hipotesisi nula, el 5% de las veces. Este error también es denominado como *error de tipo I*\n",
    "\n",
    "El pvalue de la prueba es la probabilidad exacta de generar un error de tipo I después del calculo de la estadistica t exacta. Esto quiere decir que el *pvalue* e la probabilidad de equivocarse al rechazar la hipótesis nula.\n",
    "\n",
    "Para cada valor de t, corresponde un pvalue.\n",
    "Para un nivel de confianza de 95% y *2-tailed pvalue*, el valor critico de t es cercano a 2, este puede cambiar de acuerdo al numero de observaciones de la muestra.\n",
    "\n",
    "El *2-tailed pvalue* siempre será el doble de 1-tailed pvalue ya que la distribución t-Student es simetrica.\n",
    "Siempre se buscara tener un pvalue muy pequeño para rechazar la hipotesis nula, por ello el *1-tailed pvalue* parece ser el valor que se desea, sin embargo el *2-tailed pvalue* es un valor más conservador.\n",
    "\n",
    "*La mayor parte de los programas estadísticos y los lenguajes de computadora reportan pvalue de* ***2-tailed pvalue***\n",
    "\n",
    "\n"
   ]
  },
  {
   "cell_type": "markdown",
   "metadata": {},
   "source": [
    "En terminos de nivel de confianza de la prueba, se puede definir el pvalue como:\n",
    "> pvalue = (1 - NivelConfianza)\n",
    "\n",
    "En el caso de un valor de *1-tailed* y un nivel de confianza del 95%, el valor t crítico es inferior a 2; es aproximadamente 1,65"
   ]
  },
  {
   "cell_type": "markdown",
   "metadata": {},
   "source": [
    "*El pvalue no se puede calcular con una fórmula analítica ya que la integral de la normal Z o el t-Student PDF no tiene una solución analítica cercana. Es necesario usar tablas. Afortunadamente, todos los programas estadísticos y la mayoría de los lenguajes informáticos pueden calcular fácilmente los pvalues para cualquier prueba de hipótesis."
   ]
  },
  {
   "cell_type": "markdown",
   "metadata": {},
   "source": [
    "### *Reto*\n",
    "Haga una prueba t para verificar si el retorno CC mensual medio de AMD (AMD) es mayor que el rendimiento mensual medio de Intel. Utilice datos desde enero de 2017 hasta la fecha."
   ]
  },
  {
   "cell_type": "code",
   "execution_count": 13,
   "metadata": {},
   "outputs": [],
   "source": [
    "import pandas_datareader as pdr\n",
    "import pandas as pd\n",
    "import numpy as np\n",
    "\n",
    "# Getting price data and selecting adjusted price columns:\n",
    "sprices = pdr.get_data_yahoo(['AMD','INTC'],start=\"01/01/2017\", end=\"08/15/2022\",interval=\"m\")\n",
    "sprices=sprices['Adj Close']"
   ]
  },
  {
   "cell_type": "code",
   "execution_count": 14,
   "metadata": {},
   "outputs": [],
   "source": [
    "# Calculating returns:\n",
    "sr = np.log(sprices) - np.log(sprices.shift(1))\n",
    "# Deleting the first month with NAs:\n",
    "sr=sr.dropna()"
   ]
  },
  {
   "cell_type": "code",
   "execution_count": 15,
   "metadata": {},
   "outputs": [
    {
     "data": {
      "text/plain": [
       "1.4260080418787056"
      ]
     },
     "execution_count": 15,
     "metadata": {},
     "output_type": "execute_result"
    }
   ],
   "source": [
    "# Stating the hypotheses: \n",
    "# H0: (mean(rAMD) - mean(rINTEL)) = 0\n",
    "# Ha: (mean(rAMD) - mean(rINTEL)) <> 0\n",
    "\n",
    "# Calculating the standard error of the difference of the means:\n",
    "N = sr['AMD'].count()\n",
    "amdvar = sr['AMD'].var()\n",
    "intelvar = sr['INTC'].var()\n",
    "sediff = np.sqrt((1/N) * (amdvar + intelvar ) )\n",
    "\n",
    "# Calculating the t-Statistic:\n",
    "t = (sr['AMD'].mean() - sr['INTC'].mean()) / sediff\n",
    "t"
   ]
  },
  {
   "cell_type": "code",
   "execution_count": 16,
   "metadata": {},
   "outputs": [
    {
     "data": {
      "text/plain": [
       "0.15718167528172203"
      ]
     },
     "execution_count": 16,
     "metadata": {},
     "output_type": "execute_result"
    }
   ],
   "source": [
    "# Calculating the pvalue from the t-Statistic:\n",
    "from scipy import stats as st\n",
    "# The st.t.sf function calculates the 1-tailed pvalue, so we multiply it by 2 to get the 2-tailed pvalue\n",
    "# the degrees of freedom for 2-independent-means t-test is calculated with the following formula:\n",
    "df = ( ((N-1) / N**2) * (amdvar + intelvar)**2  / ( (amdvar/N)**2 + (intelvar/N)**2  ) )\n",
    "# Now we calculate the pvalue with the t and df:\n",
    "pvalue = 2 * st.t.sf(np.abs(t), df)\n",
    "pvalue"
   ]
  },
  {
   "cell_type": "code",
   "execution_count": 17,
   "metadata": {},
   "outputs": [
    {
     "data": {
      "text/plain": [
       "Ttest_indResult(statistic=1.4260080418787056, pvalue=0.15718167528172203)"
      ]
     },
     "execution_count": 17,
     "metadata": {},
     "output_type": "execute_result"
    }
   ],
   "source": [
    "# Using the ttest_ind function from stats:\n",
    "st.ttest_ind(sr['AMD'],sr['INTC'],equal_var=False)\n",
    "# We got the same result as above!\n",
    "# With this function we avoid calculating all steps of the hypothesis test!"
   ]
  },
  {
   "cell_type": "code",
   "execution_count": 18,
   "metadata": {},
   "outputs": [
    {
     "name": "stderr",
     "output_type": "stream",
     "text": [
      "C:\\Users\\angix\\AppData\\Local\\Packages\\PythonSoftwareFoundation.Python.3.10_qbz5n2kfra8p0\\LocalCache\\local-packages\\Python310\\site-packages\\researchpy\\ttest.py:18: FutureWarning: The series.append method is deprecated and will be removed from pandas in a future version. Use pandas.concat instead.\n",
      "  groups = group1.append(group2, ignore_index= True)\n"
     ]
    },
    {
     "data": {
      "text/plain": [
       "(   Variable      N      Mean        SD        SE  95% Conf.  Interval\n",
       " 0       AMD   67.0  0.031376  0.162913  0.019903  -0.008361  0.071114\n",
       " 1      INTC   67.0  0.000003  0.076738  0.009375  -0.018715  0.018721\n",
       " 2  combined  134.0  0.015690  0.127831  0.011043  -0.006153  0.037532,\n",
       "                Welch's t-test  results\n",
       " 0  Difference (AMD - INTC) =    0.0314\n",
       " 1       Degrees of freedom =   94.7595\n",
       " 2                        t =    1.4260\n",
       " 3    Two side test p value =    0.1572\n",
       " 4   Difference < 0 p value =    0.9214\n",
       " 5   Difference > 0 p value =    0.0786\n",
       " 6                Cohen's d =    0.2464\n",
       " 7                Hedge's g =    0.2450\n",
       " 8            Glass's delta =    0.1926\n",
       " 9              Pearson's r =    0.1449)"
      ]
     },
     "execution_count": 18,
     "metadata": {},
     "output_type": "execute_result"
    }
   ],
   "source": [
    "import researchpy as rp\n",
    "# Using the ttest function from researchpy:\n",
    "rp.ttest(sr['AMD'],sr['INTC'],equal_variances=False)\n",
    "# We got the same result as above!\n",
    "# With this function we avoid calculating all steps of the hypothesis test!"
   ]
  },
  {
   "cell_type": "markdown",
   "metadata": {},
   "source": [
    "---"
   ]
  },
  {
   "cell_type": "markdown",
   "metadata": {},
   "source": [
    "**Mdeidas de relación lineal**\n",
    "\n",
    "Las dos principales medidas de relación lineal entre dos variables son:\n",
    "\n",
    "* Covarianza\n",
    "* Correlación"
   ]
  },
  {
   "cell_type": "markdown",
   "metadata": {},
   "source": [
    "Ejemplo"
   ]
  },
  {
   "cell_type": "code",
   "execution_count": 19,
   "metadata": {},
   "outputs": [
    {
     "name": "stdout",
     "output_type": "stream",
     "text": [
      "[*********************100%***********************]  2 of 2 completed\n"
     ]
    }
   ],
   "source": [
    "import numpy as np\n",
    "import pandas as pd\n",
    "import pandas_datareader as pdr\n",
    "import yfinance as yf\n",
    "import matplotlib\n",
    "import matplotlib.pyplot as plt\n",
    "\n",
    "# We download price data for Microsoft and the S&P500 index:\n",
    "prices=yf.download(tickers=\"MSFT ^GSPC\", start=\"2019-01-01\",interval=\"1mo\")\n",
    "# We select Adjusted closing prices and drop any row with NA values:\n",
    "adjprices = prices['Adj Close'].dropna()"
   ]
  },
  {
   "cell_type": "markdown",
   "metadata": {},
   "source": [
    "GSPC significa Global Standard & Poors Composite, que es el índice S&P500."
   ]
  },
  {
   "cell_type": "code",
   "execution_count": 20,
   "metadata": {},
   "outputs": [
    {
     "data": {
      "text/plain": [
       "<Figure size 432x288 with 0 Axes>"
      ]
     },
     "metadata": {},
     "output_type": "display_data"
    },
    {
     "data": {
      "image/png": "[encoded data removed]",
      "text/plain": [
       "<Figure size 432x288 with 1 Axes>"
      ]
     },
     "metadata": {
      "needs_background": "light"
     },
     "output_type": "display_data"
    }
   ],
   "source": [
    "plt.clf()\n",
    "adjprices.plot(y=['MSFT','^GSPC'])\n",
    "plt.show()"
   ]
  },
  {
   "cell_type": "markdown",
   "metadata": {},
   "source": [
    "El rango de precios de las acciones y los índices del mercado puede variar mucho, por lo que esto dificulta la comparación de los movimientos de precios en un gráfico.\n",
    "\n",
    "Parece que el GSPC ha tenido un mejor rendimiento, pero esto es engañoso ya que ambas inversiones tienen diferentes rangos de precios.\n",
    "\n",
    "Al comparar el rendimiento de 2 o más valores y/o índices, es una buena idea generar un índice para cada serie, de modo que podamos emular cuánto $1,00 invertido en cada acción/índice se habría movido con el tiempo. Podemos dividir el precio de las acciones de cualquier mes por el precio de las acciones del primer mes para obtener un factor de crecimiento.\n",
    "\n",
    "Este factor de crecimiento es como un índice de la variable original. Ahora podemos trazar estos 2 nuevos índices a lo largo del tiempo y ver qué inversión fue mejor:"
   ]
  },
  {
   "cell_type": "code",
   "execution_count": 21,
   "metadata": {},
   "outputs": [
    {
     "data": {
      "text/plain": [
       "<Figure size 432x288 with 0 Axes>"
      ]
     },
     "metadata": {},
     "output_type": "display_data"
    },
    {
     "data": {
      "image/png": "[encoded data removed]",
      "text/plain": [
       "<Figure size 432x288 with 1 Axes>"
      ]
     },
     "metadata": {
      "needs_background": "light"
     },
     "output_type": "display_data"
    }
   ],
   "source": [
    "adjprices['iMSFT'] = adjprices['MSFT'] / adjprices['MSFT'][0]\n",
    "adjprices['iGSPC'] = adjprices['^GSPC'] / adjprices['^GSPC'][0]\n",
    "\n",
    "plt.clf()\n",
    "adjprices.plot(y=['iMSFT','iGSPC'])\n",
    "plt.show()"
   ]
  },
  {
   "cell_type": "markdown",
   "metadata": {},
   "source": [
    "Ahora tenemos una imagen mucho mejor de qué instrumento ha tenido un mejor rendimiento a lo largo del tiempo. La línea de cada instrumento representa cuánto $1,00 invertido el instrumento habría estado cambiando con el tiempo."
   ]
  },
  {
   "cell_type": "markdown",
   "metadata": {},
   "source": [
    "Ahora calculamos rendimientos mensuales compuestos continuamente"
   ]
  },
  {
   "cell_type": "code",
   "execution_count": 22,
   "metadata": {},
   "outputs": [
    {
     "data": {
      "text/html": [
       "<div>\n",
       "<style scoped>\n",
       "    .dataframe tbody tr th:only-of-type {\n",
       "        vertical-align: middle;\n",
       "    }\n",
       "\n",
       "    .dataframe tbody tr th {\n",
       "        vertical-align: top;\n",
       "    }\n",
       "\n",
       "    .dataframe thead th {\n",
       "        text-align: right;\n",
       "    }\n",
       "</style>\n",
       "<table border=\"1\" class=\"dataframe\">\n",
       "  <thead>\n",
       "    <tr style=\"text-align: right;\">\n",
       "      <th></th>\n",
       "      <th>MSFT</th>\n",
       "      <th>GSPC</th>\n",
       "    </tr>\n",
       "    <tr>\n",
       "      <th>Date</th>\n",
       "      <th></th>\n",
       "      <th></th>\n",
       "    </tr>\n",
       "  </thead>\n",
       "  <tbody>\n",
       "    <tr>\n",
       "      <th>2019-02-01</th>\n",
       "      <td>0.070250</td>\n",
       "      <td>0.029296</td>\n",
       "    </tr>\n",
       "    <tr>\n",
       "      <th>2019-03-01</th>\n",
       "      <td>0.055671</td>\n",
       "      <td>0.017766</td>\n",
       "    </tr>\n",
       "    <tr>\n",
       "      <th>2019-04-01</th>\n",
       "      <td>0.101963</td>\n",
       "      <td>0.038560</td>\n",
       "    </tr>\n",
       "    <tr>\n",
       "      <th>2019-05-01</th>\n",
       "      <td>-0.054442</td>\n",
       "      <td>-0.068041</td>\n",
       "    </tr>\n",
       "    <tr>\n",
       "      <th>2019-06-01</th>\n",
       "      <td>0.083538</td>\n",
       "      <td>0.066658</td>\n",
       "    </tr>\n",
       "  </tbody>\n",
       "</table>\n",
       "</div>"
      ],
      "text/plain": [
       "                MSFT      GSPC\n",
       "Date                          \n",
       "2019-02-01  0.070250  0.029296\n",
       "2019-03-01  0.055671  0.017766\n",
       "2019-04-01  0.101963  0.038560\n",
       "2019-05-01 -0.054442 -0.068041\n",
       "2019-06-01  0.083538  0.066658"
      ]
     },
     "execution_count": 22,
     "metadata": {},
     "output_type": "execute_result"
    }
   ],
   "source": [
    "r = np.log(adjprices) - np.log(adjprices.shift(1))\n",
    "# Dropping rows with NA values (the first month will have NAs)\n",
    "r = r.dropna()\n",
    "# Selecting only 2 columns (out of the 4 columns):\n",
    "r = r[['MSFT','^GSPC']]\n",
    "# Renameing the column names:\n",
    "r.columns = ['MSFT','GSPC']\n",
    "\n",
    "r.head() \n",
    "#Ahora el marco de datos r tendrá 2 columnas\n",
    "#para ambos retornos históricos cc"
   ]
  },
  {
   "cell_type": "markdown",
   "metadata": {},
   "source": [
    "Para aprender de la posible relación entre GSPC y MSFT se puede observar sus precios y los retornos"
   ]
  },
  {
   "cell_type": "code",
   "execution_count": 23,
   "metadata": {},
   "outputs": [
    {
     "data": {
      "text/plain": [
       "<Figure size 432x288 with 0 Axes>"
      ]
     },
     "metadata": {},
     "output_type": "display_data"
    },
    {
     "data": {
      "image/png": "[encoded data removed]",
      "text/plain": [
       "<Figure size 432x288 with 1 Axes>"
      ]
     },
     "metadata": {
      "needs_background": "light"
     },
     "output_type": "display_data"
    }
   ],
   "source": [
    "# scatter plot to see whether there is a linear relationship \n",
    "# between the MSFT prices and the GSPC index\n",
    "plt.clf()\n",
    "r.plot.scatter(x='GSPC', y='MSFT',c='DarkBlue')\n",
    "plt.show()"
   ]
  },
  {
   "cell_type": "code",
   "execution_count": 24,
   "metadata": {},
   "outputs": [
    {
     "data": {
      "text/plain": [
       "<Figure size 432x288 with 0 Axes>"
      ]
     },
     "metadata": {},
     "output_type": "display_data"
    },
    {
     "data": {
      "image/png": "[encoded data removed]",
      "text/plain": [
       "<Figure size 432x288 with 1 Axes>"
      ]
     },
     "metadata": {
      "needs_background": "light"
     },
     "output_type": "display_data"
    }
   ],
   "source": [
    "# Se puede realizar un diagrama de dispersión para visualizar la \n",
    "# relación entre los retornos MSFT y los retornos GSPC\n",
    "plt.clf()\n",
    "adjprices.plot.scatter(x='^GSPC', y='MSFT',c='Blue')\n",
    "plt.show()"
   ]
  },
  {
   "cell_type": "markdown",
   "metadata": {},
   "source": [
    "El diagrama de dispersión que utiliza los precios transmite una relación lineal aparentemente más fuerte en comparación con el gráfico de dispersión que utiliza rendimientos."
   ]
  },
  {
   "cell_type": "markdown",
   "metadata": {},
   "source": [
    "Los rendimientos de las acciones son variables que generalmente NO crecen con el tiempo; parecen una trama de bits de corazón"
   ]
  },
  {
   "cell_type": "code",
   "execution_count": 25,
   "metadata": {},
   "outputs": [
    {
     "data": {
      "text/plain": [
       "<Figure size 432x288 with 0 Axes>"
      ]
     },
     "metadata": {},
     "output_type": "display_data"
    },
    {
     "data": {
      "image/png": "[encoded data removed]",
      "text/plain": [
       "<Figure size 432x288 with 1 Axes>"
      ]
     },
     "metadata": {
      "needs_background": "light"
     },
     "output_type": "display_data"
    }
   ],
   "source": [
    "plt.clf()\n",
    "r.plot(y=['MSFT','GSPC'])\n",
    "plt.show()"
   ]
  },
  {
   "cell_type": "markdown",
   "metadata": {},
   "source": [
    "Los resultados de las acciones se comportan como una variable estacionaria, ya que no tienen una tendencia creciente o descendente con el tiempo. \n",
    "\n",
    "*Una variable estacionaria es una variable que tiene un promedio y una desviación estándar similares en cualquier período de tiempo.*\n",
    "\n",
    "Los precios de las acciones (y los índices) son variables que suelen crecer con el tiempo (tarde o temprano). Estas variables se denominan variables no estacionarias.\n",
    "\n",
    "*Una variable no estacionaria normalmente cambia su media dependiendo del período de tiempo.*\n",
    "\n",
    "En las estadísticas, tenemos que ser muy cuidadosos al observar las relaciones lineales cuando se utilizan variables no estacionarias, como los precios de las acciones. Es muy probable que terminemos con medidas falsas de relaciones lineales cuando usamos variables no estacionarias. Para aprender más sobre el riesgo de estimar las relaciones falsas, cubriremos este tema en el tema de los modelos de regresión de series temporales (tratados en un módulo más avanzado).\n",
    "\n",
    "*En este caso, es mejor observar la relación lineal entre los rendimientos de las acciones (no los precios).*"
   ]
  },
  {
   "cell_type": "markdown",
   "metadata": {},
   "source": [
    "***Covarianza***\n",
    "\n",
    "Covarianza entre dos variables es el promedio del producto de desviaciones para la media de cada variable.\n",
    "\n",
    "El calculo de ese promedio se puede representar como:\n",
    "\n",
    "> Cov(x,y) = 1/N sum[(xi-x')(yi-y')]\n",
    "\n",
    "*La covarianza también se define como el valor esperado de las desviaciones del producto:*\n",
    "\n",
    "> Cov(x,y) = 1/N sum[(xi * yi)-(x' * y')]\n",
    "\n",
    "La relación de la sumatoria de la diferencia entre el producto de la muestra x&y menos el producto de la media de x&y, entre la cantidad de muestras.\n",
    "\n",
    "Dado que la Varianza es un caso especial de la Covarianza - la varianza es la covarianza de una variable consigo misma - entonces también podemos decir que:\n",
    "\n",
    "> Var(x) = 1/N * sum((xi)^2-(x')^2)\n",
    "\n",
    "La fórmula de covarianza de la muestra es muy similar, pero se divide por N-1 en lugar de N para obtener el promedio de desviaciones del producto:\n",
    "> Cov(x,y) = 1/(N-1) * sum[(xi * yi)-(x' * y')]"
   ]
  },
  {
   "cell_type": "markdown",
   "metadata": {},
   "source": [
    "###### En Estadística, asumimos que trabajamos con muestras y nunca tenemos acceso a la población, así que cuando calculamos una medida de muestra, siempre perdemos datos. La fórmula de la muestra calculará una fórmula más conservadora que la fórmula de la población. Esa es la razón por la que usamos N-1 como grado de libertad en lugar de N."
   ]
  },
  {
   "cell_type": "markdown",
   "metadata": {},
   "source": [
    "La covarianza de la muestra será siempre un poco mayor que la covarianza de la población, pero será similar. Cuando N es grande (N>30), los valores de covarianza de la población y la muestra serán casi los mismos. \n",
    "###### La fórmula de covarianza de muestra es la fórmula predeterminada para todo el software estadístico.\n",
    "\n",
    "* Si *Cov(X,Y)>0*, podemos decir que, en promedio, existe una relación lineal positiva entre X e Y. \n",
    "\n",
    "Una relación lineal positiva entre X e Y significa que si X aumenta, es probable que Y también aumente; y si X disminuye, es probable que Y también disminuya.\n",
    "\n",
    "* Si *Cov(X,Y)<0*, podemos decir que existe una relación negativa entre X e Y.\n",
    "\n",
    "Un valor de relación lineal negativa entre X e Y significa que si X aumenta, es probable que Y disminuya; y si X disminuye, es probable que Y aumente."
   ]
  },
  {
   "cell_type": "markdown",
   "metadata": {},
   "source": [
    "Si podemos probar que CoV(X,Y) es positivo y significativo, necesitamos hacer una prueba de hipótesis. Si el valor de valoración < 0,05 y el valor de CoV(X,Y) es positivo, entonces podemos decir que tenemos una confianza del 95% de que hay una relación lineal.\n",
    "\n",
    "No hay restricción en los valores que se pueden obtener de Cov(X,Y):\n",
    "\n",
    "> -infinito < Cov(X,Y) < infinito\n",
    "\n",
    "*Podemos interpretar el signo de la covarianza, pero NO podemos interpretar su magnitud.* "
   ]
  },
  {
   "cell_type": "markdown",
   "metadata": {},
   "source": [
    "Para solucionar el problema de interpretación se utiliza la medida de **correlación**. "
   ]
  },
  {
   "cell_type": "markdown",
   "metadata": {},
   "source": [
    "***Correlación***\n",
    "\n",
    "La correlación es una medida muy práctica de relación lineal ya que podemos interpretar su signo y magnitud, ya que los posibles valores de correlación van de -1 a 1 y representan el porcentaje de relación lineal.\n",
    "\n",
    "Es una medida muy práctica al buscar una relación lineal entre 2 variables aleatorias. \n",
    "\n",
    "Es una versión a escala de la Covarianza, Si se divide la covarianza de X&Y por el producto de las desviaciones estándar de X&Y, se obtiene la correlación:\n",
    "\n",
    "> Corr(x,y) = Cov(x,y) / (SD(x) * SD(y))\n",
    "\n",
    "*Este valor se encuentra en un rango de valores de -1 a 1*\n",
    "\n",
    "> -1 <= Corr(X,Y) <= 1"
   ]
  },
  {
   "cell_type": "markdown",
   "metadata": {},
   "source": [
    "* Si Corr(X,Y) = 1, eso significa que X se mueve exactamente de la misma manera que Y, por lo que Y es proporcional (en la misma dirección) que X; en realidad Y debería ser igual a X multiplicado por número.\n",
    "\n",
    "* Si Corr(X,Y) = -1 significa que Y se mueve exactamente proporcional a X, pero en la dirección opuesta.\n",
    "\n",
    "* Si Corr(X,Y) = 0 significa que los movimientos de Y no están relacionados con los movimientos de X. En otras palabras, que X e Y se mueven independientemente unos de otros; en este caso, no hay un patrón lineal claro de cómo se mueve Y cuando se mueve X.\n",
    "\n",
    "* Si 0 < Corr(X,Y) < 1 significa que hay una relación lineal positiva entre X e Y. La fuerza de esta relación viene dada por la magnitud de la correlación. Por ejemplo, si corr(X,Y) = 0,50, significa que si X aumenta, hay una probabilidad del 50% de que Y también aumentará.\n",
    "\n",
    "* Si -1 < corr(X,Y) < 0 significa que hay una relación lineal negativa entre X e Y. La fuerza de esta relación viene dada por la magnitud de la correlación. Por ejemplo, si corr(X,Y) = - 0,50, significa que si X aumenta, hay una probabilidad del 50% de que Y disminuya (y viceversa)."
   ]
  },
  {
   "cell_type": "markdown",
   "metadata": {},
   "source": [
    "Si queremos probar que *Corr(X,Y)* es **positiva y significativa**, necesitamos hacer una prueba de hipótesis. La fórmula para el error estándar (desviación estándar de la correlación) es:\n",
    "\n",
    "> SD(Corr) = sqrt((1 - Corr^2) / (N - 2))\n",
    "\n",
    "El valor de t para esta prueba de hipotesis esta dado por:\n",
    "\n",
    "> t = Corr / sqrt((1 - Corr^2) / (N - 2))\n",
    "\n",
    "* Si corr(X,Y)>0 y t>2 (su pvalue será *pvalue < 0,05*), entonces se puede decir que se tiene una confianza del 95% de que hay una relación lineal positiva; en otras palabras, que la correlación es positiva y estadísticamente significativa (significativamente mayor que cero)."
   ]
  },
  {
   "cell_type": "markdown",
   "metadata": {},
   "source": [
    "---"
   ]
  },
  {
   "cell_type": "markdown",
   "metadata": {},
   "source": [
    "**Calculo de covarianza y correlación**"
   ]
  },
  {
   "cell_type": "code",
   "execution_count": null,
   "metadata": {},
   "outputs": [],
   "source": [
    "# Covarianza\n",
    "# aplicando la formula se obtiene \n",
    "msft_mean = r['MSFT'].mean()\n",
    "gspc_mean = r['GSPC'].mean()\n",
    "N = r['GSPC'].count()\n",
    "sum_of_prod = ((r['MSFT'] - msft_mean) * (r['GSPC'] - gspc_mean) ).sum()  \n",
    "cov = sum_of_prod / (N-1)\n",
    "cov"
   ]
  },
  {
   "cell_type": "code",
   "execution_count": null,
   "metadata": {},
   "outputs": [],
   "source": [
    "# Covarianza con numpy\n",
    "covm = np.cov(r['MSFT'],r['GSPC'])\n",
    "covm"
   ]
  },
  {
   "cell_type": "markdown",
   "metadata": {},
   "source": [
    "###### La función *.cov* calcula la matriz de covarianza utilizando ambos retornos. Podemos encontrar la covarianza en los elementos no diagonales, que serán los mismos valores ya que la matriz de covarianza es simétrica.\n",
    "\n",
    "###### Los valores diagonales tienen las varianzas de cada retorno ya que la covarianza de una variable consigo misma es en realidad su varianza *(Cov(X,X) = Var(X))*."
   ]
  },
  {
   "cell_type": "code",
   "execution_count": null,
   "metadata": {},
   "outputs": [],
   "source": [
    "# extraer el elemento de la fila 1 y columna 2 de la matriz\n",
    "# para obtener la covarianza entre los retornos de MSFT y GSPC\n",
    "cov = covm[0,1]\n",
    "cov"
   ]
  },
  {
   "cell_type": "code",
   "execution_count": null,
   "metadata": {},
   "outputs": [],
   "source": [
    "# matriz de correlación con numpy\n",
    "# usar funcion corrcoef \n",
    "corr = np.corrcoef(r['MSFT'],r['GSPC'])\n",
    "corr"
   ]
  },
  {
   "cell_type": "markdown",
   "metadata": {},
   "source": [
    "###### La matriz de correlación tendrá 1 en su diagonal, ya que la correlación de una variable consigo misma es 1. El valor no diagonal será la correlación real entre las 2 variables correspondientes (la de la fila y la de la columna)."
   ]
  },
  {
   "cell_type": "code",
   "execution_count": null,
   "metadata": {},
   "outputs": [],
   "source": [
    "# Calculo manual de correlación usando los valores de covarianza\n",
    "corr2 = cov / (r['MSFT'].std() * r['GSPC'].std())\n",
    "corr2"
   ]
  },
  {
   "cell_type": "code",
   "execution_count": null,
   "metadata": {},
   "outputs": [],
   "source": [
    "# función scipy pearsonr para calcular la correlación y el pvalue de 2 cola\n",
    "from scipy.stats import pearsonr\n",
    "corr2 = pearsonr(r['MSFT'],r['GSPC'])\n",
    "corr2"
   ]
  },
  {
   "cell_type": "markdown",
   "metadata": {},
   "source": [
    "El pvalue es casi cero.  Los rentornos de MSFT y GSPC tienen una correlación positiva y muy significativa (en el nivel de confianza de 99.9999...%."
   ]
  },
  {
   "cell_type": "markdown",
   "metadata": {},
   "source": [
    "---\n",
    "Ejercicios y notas extras"
   ]
  },
  {
   "cell_type": "code",
   "execution_count": 26,
   "metadata": {},
   "outputs": [
    {
     "name": "stderr",
     "output_type": "stream",
     "text": [
      "C:\\Users\\angix\\AppData\\Local\\Packages\\PythonSoftwareFoundation.Python.3.10_qbz5n2kfra8p0\\LocalCache\\local-packages\\Python310\\site-packages\\pandas_datareader\\_utils.py:33: UserWarning: Parsing '15/08/2021' in DD/MM/YYYY format. Provide format or specify infer_datetime_format=True for consistent parsing.\n",
      "  start = to_datetime(start)\n",
      "C:\\Users\\angix\\AppData\\Local\\Packages\\PythonSoftwareFoundation.Python.3.10_qbz5n2kfra8p0\\LocalCache\\local-packages\\Python310\\site-packages\\pandas_datareader\\_utils.py:33: UserWarning: Parsing '15/08/2021' in DD/MM/YYYY format. Provide format or specify infer_datetime_format=True for consistent parsing.\n",
      "  start = to_datetime(start)\n"
     ]
    }
   ],
   "source": [
    "import numpy as np\n",
    "import pandas as pd\n",
    "import pandas_datareader as pdr\n",
    "\n",
    "Amd = pdr.get_data_yahoo('AMD', start = \"15/08/2021\", interval = \"d\") \n",
    "Intel = pdr.get_data_yahoo('INTC', start = \"15/08/2021\", interval = \"d\") \n",
    "#Amd.head()\n",
    "#Intel.head()"
   ]
  },
  {
   "cell_type": "markdown",
   "metadata": {},
   "source": [
    "* H0: mean(r_AAPL) - mean(r_MSFT) = 0\n",
    "* Ha: mean(r_AAPL) - mean(r_MSFT) <>0"
   ]
  },
  {
   "cell_type": "markdown",
   "metadata": {},
   "source": [
    "**Medidas de relación lineal**\n",
    "\n",
    "*el error estandar es una desviación estandar de la variable de estudio analizada (que tanto varia con respecto a si misma) en variables de series de tiempo* ***Time Series Datasets*** \n",
    "\n",
    "Empirical value - \n",
    "\n",
    "> pvalue = 2 * st.t.sf(np.abs(t), df) \n",
    "\n",
    "\n",
    "variable uno / variable dos / asumes que son diferentes\n",
    "\n",
    "t - distancia de las desviaciones estandar de la diferencia de los promedios de las variables analizadas (el retorno de una variable es 1.46 )\n",
    "\n",
    "siempre se busca rechazar la hipotesis nula \n",
    "pvalue \n"
   ]
  }
 ],
 "metadata": {
  "kernelspec": {
   "display_name": "Python 3.10.6 64-bit (windows store)",
   "language": "python",
   "name": "python3"
  },
  "language_info": {
   "codemirror_mode": {
    "name": "ipython",
    "version": 3
   },
   "file_extension": ".py",
   "mimetype": "text/x-python",
   "name": "python",
   "nbconvert_exporter": "python",
   "pygments_lexer": "ipython3",
   "version": "3.10.7"
  },
  "orig_nbformat": 4,
  "vscode": {
   "interpreter": {
    "hash": "f58006e3a6b3697db5a2671151387509a500f2e72d8fe07fc4154091e95c0813"
   }
  }
 },
 "nbformat": 4,
 "nbformat_minor": 2
}
