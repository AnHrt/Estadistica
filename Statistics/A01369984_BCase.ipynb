{
 "cells": [
  {
   "cell_type": "markdown",
   "metadata": {},
   "source": [
    "### **Técnicas de procesamiento de datos para el análisis estadístico y para la construcción de modelos**\n",
    "\n",
    " **Angeles Arista Huerta** */  SEPTIEMBRE 2022*\n",
    "\n",
    "*Entrega - Caso de negocios, módulo 1 - Estadística*"
   ]
  },
  {
   "cell_type": "markdown",
   "metadata": {},
   "source": [
    "###### **DESCRIPCIÓN DEL CASO**\n",
    "###### *Usted fue contratado como científico de datos en una importante empresa de fondos de inversión en el departamento de análisis financiero. La firma lleva varios años realizando análisis financieros y previsiones financieras. Le contrataron para que ideara enfoques alternativos para realizar análisis descriptivos con el fin de encontrar mejores alternativas futuras para los métodos de previsión.*\n",
    "\n",
    "###### *Usted tiene que analizar los estados financieros trimestrales históricos de todas las firmas públicas estadounidenses que cotizan en la Bolsa de Nueva York y NASDAQ. Recibirá este conjunto de datos en formato .csv.*"
   ]
  },
  {
   "cell_type": "markdown",
   "metadata": {},
   "source": [
    "---"
   ]
  },
  {
   "cell_type": "markdown",
   "metadata": {},
   "source": [
    "#### *Procesamiento del dataset*"
   ]
  },
  {
   "cell_type": "code",
   "execution_count": 574,
   "metadata": {},
   "outputs": [],
   "source": [
    "# importar librerias\n",
    "import numpy as np              #Algebra lieal\n",
    "import pandas as pd             #Procesamiento de datos\n",
    "import seaborn as sns           #Graficas/Visualizacion\n",
    "import matplotlib.pyplot as plt #Graficas/Visualizacion"
   ]
  },
  {
   "cell_type": "code",
   "execution_count": 575,
   "metadata": {},
   "outputs": [
    {
     "name": "stdout",
     "output_type": "stream",
     "text": [
      "c:\\Users\\angix\\Downloads\\Estadistica\n"
     ]
    }
   ],
   "source": [
    "# acceso a directorio\n",
    "%cd \"c:\\Users\\angix\\Downloads\\Estadistica\"\n",
    "#%ls "
   ]
  },
  {
   "cell_type": "markdown",
   "metadata": {},
   "source": [
    "###### Lectura de los archivos csv"
   ]
  },
  {
   "cell_type": "code",
   "execution_count": 576,
   "metadata": {},
   "outputs": [],
   "source": [
    "# Lectura csv de firms\n",
    "firms = pd.read_csv(\"c:\\\\Users\\\\angix\\\\Downloads\\\\Statistics\\\\usfirms2022.csv\")\n",
    "#firms.head(3)"
   ]
  },
  {
   "cell_type": "code",
   "execution_count": 577,
   "metadata": {},
   "outputs": [],
   "source": [
    "# Lectura csv de us\n",
    "us = pd.read_csv(\"c:\\\\Users\\\\angix\\\\Downloads\\\\Statistics\\\\us2022q2a.csv\")\n",
    "#us.head(3)"
   ]
  },
  {
   "cell_type": "code",
   "execution_count": 578,
   "metadata": {},
   "outputs": [],
   "source": [
    "# Configuración de la visualización de datos a 3 decimales\n",
    "pd.set_option('display.max_columns', None)\n",
    "pd.options.display.float_format = '{:.3f}'.format"
   ]
  },
  {
   "cell_type": "markdown",
   "metadata": {},
   "source": [
    "###### Descripción de los datos"
   ]
  },
  {
   "cell_type": "code",
   "execution_count": 579,
   "metadata": {},
   "outputs": [
    {
     "name": "stdout",
     "output_type": "stream",
     "text": [
      "<class 'pandas.core.frame.DataFrame'>\n",
      "RangeIndex: 3608 entries, 0 to 3607\n",
      "Data columns (total 11 columns):\n",
      " #   Column                       Non-Null Count  Dtype \n",
      "---  ------                       --------------  ----- \n",
      " 0   Ticker                       3608 non-null   object\n",
      " 1   Name                         3608 non-null   object\n",
      " 2   N                            3608 non-null   int64 \n",
      " 3   Class                        3608 non-null   object\n",
      " 4   Country\n",
      "of Origin            3608 non-null   object\n",
      " 5   Type of Asset                3608 non-null   object\n",
      " 6   Sector NAICS\n",
      "level 1         3608 non-null   object\n",
      " 7   Exchange / Src               3608 non-null   object\n",
      " 8   Sector\n",
      "Economatica           3608 non-null   object\n",
      " 9   Sector NAICS\n",
      "last available  3608 non-null   object\n",
      " 10  partind                      3608 non-null   object\n",
      "dtypes: int64(1), object(10)\n",
      "memory usage: 310.2+ KB\n"
     ]
    },
    {
     "data": {
      "text/html": [
       "<div>\n",
       "<style scoped>\n",
       "    .dataframe tbody tr th:only-of-type {\n",
       "        vertical-align: middle;\n",
       "    }\n",
       "\n",
       "    .dataframe tbody tr th {\n",
       "        vertical-align: top;\n",
       "    }\n",
       "\n",
       "    .dataframe thead th {\n",
       "        text-align: right;\n",
       "    }\n",
       "</style>\n",
       "<table border=\"1\" class=\"dataframe\">\n",
       "  <thead>\n",
       "    <tr style=\"text-align: right;\">\n",
       "      <th></th>\n",
       "      <th>N</th>\n",
       "    </tr>\n",
       "  </thead>\n",
       "  <tbody>\n",
       "    <tr>\n",
       "      <th>count</th>\n",
       "      <td>3608.000</td>\n",
       "    </tr>\n",
       "    <tr>\n",
       "      <th>mean</th>\n",
       "      <td>1804.500</td>\n",
       "    </tr>\n",
       "    <tr>\n",
       "      <th>std</th>\n",
       "      <td>1041.684</td>\n",
       "    </tr>\n",
       "    <tr>\n",
       "      <th>min</th>\n",
       "      <td>1.000</td>\n",
       "    </tr>\n",
       "    <tr>\n",
       "      <th>25%</th>\n",
       "      <td>902.750</td>\n",
       "    </tr>\n",
       "    <tr>\n",
       "      <th>50%</th>\n",
       "      <td>1804.500</td>\n",
       "    </tr>\n",
       "    <tr>\n",
       "      <th>75%</th>\n",
       "      <td>2706.250</td>\n",
       "    </tr>\n",
       "    <tr>\n",
       "      <th>max</th>\n",
       "      <td>3608.000</td>\n",
       "    </tr>\n",
       "  </tbody>\n",
       "</table>\n",
       "</div>"
      ],
      "text/plain": [
       "             N\n",
       "count 3608.000\n",
       "mean  1804.500\n",
       "std   1041.684\n",
       "min      1.000\n",
       "25%    902.750\n",
       "50%   1804.500\n",
       "75%   2706.250\n",
       "max   3608.000"
      ]
     },
     "execution_count": 579,
     "metadata": {},
     "output_type": "execute_result"
    }
   ],
   "source": [
    "firms.info()\n",
    "firms.describe()"
   ]
  },
  {
   "cell_type": "code",
   "execution_count": 580,
   "metadata": {},
   "outputs": [
    {
     "name": "stdout",
     "output_type": "stream",
     "text": [
      "<class 'pandas.core.frame.DataFrame'>\n",
      "RangeIndex: 324447 entries, 0 to 324446\n",
      "Data columns (total 20 columns):\n",
      " #   Column             Non-Null Count   Dtype  \n",
      "---  ------             --------------   -----  \n",
      " 0   firm               324446 non-null  object \n",
      " 1   q                  324446 non-null  object \n",
      " 2   revenue            158614 non-null  float64\n",
      " 3   cogs               158309 non-null  float64\n",
      " 4   sgae               158309 non-null  float64\n",
      " 5   otheropexp         158311 non-null  float64\n",
      " 6   extraincome        158613 non-null  float64\n",
      " 7   finexp             158614 non-null  float64\n",
      " 8   incometax          158614 non-null  float64\n",
      " 9   totalassets        159808 non-null  float64\n",
      " 10  totalliabilities   159808 non-null  float64\n",
      " 11  shortdebt          129677 non-null  float64\n",
      " 12  longdebt           159595 non-null  float64\n",
      " 13  stockholderequity  159740 non-null  float64\n",
      " 14  adjprice           159154 non-null  float64\n",
      " 15  originalprice      159234 non-null  float64\n",
      " 16  sharesoutstanding  157822 non-null  float64\n",
      " 17  fiscalmonth        159814 non-null  float64\n",
      " 18  year               324446 non-null  float64\n",
      " 19  cto                324446 non-null  float64\n",
      "dtypes: float64(18), object(2)\n",
      "memory usage: 49.5+ MB\n"
     ]
    },
    {
     "data": {
      "text/html": [
       "<div>\n",
       "<style scoped>\n",
       "    .dataframe tbody tr th:only-of-type {\n",
       "        vertical-align: middle;\n",
       "    }\n",
       "\n",
       "    .dataframe tbody tr th {\n",
       "        vertical-align: top;\n",
       "    }\n",
       "\n",
       "    .dataframe thead th {\n",
       "        text-align: right;\n",
       "    }\n",
       "</style>\n",
       "<table border=\"1\" class=\"dataframe\">\n",
       "  <thead>\n",
       "    <tr style=\"text-align: right;\">\n",
       "      <th></th>\n",
       "      <th>revenue</th>\n",
       "      <th>cogs</th>\n",
       "      <th>sgae</th>\n",
       "      <th>otheropexp</th>\n",
       "      <th>extraincome</th>\n",
       "      <th>finexp</th>\n",
       "      <th>incometax</th>\n",
       "      <th>totalassets</th>\n",
       "      <th>totalliabilities</th>\n",
       "      <th>shortdebt</th>\n",
       "      <th>longdebt</th>\n",
       "      <th>stockholderequity</th>\n",
       "      <th>adjprice</th>\n",
       "      <th>originalprice</th>\n",
       "      <th>sharesoutstanding</th>\n",
       "      <th>fiscalmonth</th>\n",
       "      <th>year</th>\n",
       "      <th>cto</th>\n",
       "    </tr>\n",
       "  </thead>\n",
       "  <tbody>\n",
       "    <tr>\n",
       "      <th>count</th>\n",
       "      <td>158614.000</td>\n",
       "      <td>158309.000</td>\n",
       "      <td>158309.000</td>\n",
       "      <td>158311.000</td>\n",
       "      <td>158613.000</td>\n",
       "      <td>158614.000</td>\n",
       "      <td>158614.000</td>\n",
       "      <td>159808.000</td>\n",
       "      <td>159808.000</td>\n",
       "      <td>129677.000</td>\n",
       "      <td>159595.000</td>\n",
       "      <td>159740.000</td>\n",
       "      <td>159154.000</td>\n",
       "      <td>159234.000</td>\n",
       "      <td>157822.000</td>\n",
       "      <td>159814.000</td>\n",
       "      <td>324446.000</td>\n",
       "      <td>324446.000</td>\n",
       "    </tr>\n",
       "    <tr>\n",
       "      <th>mean</th>\n",
       "      <td>1452992.639</td>\n",
       "      <td>801464.718</td>\n",
       "      <td>420278.553</td>\n",
       "      <td>40350.486</td>\n",
       "      <td>-14613.885</td>\n",
       "      <td>20418.493</td>\n",
       "      <td>41498.806</td>\n",
       "      <td>16670755.635</td>\n",
       "      <td>13152678.383</td>\n",
       "      <td>428951.751</td>\n",
       "      <td>2959733.848</td>\n",
       "      <td>3518161.935</td>\n",
       "      <td>3887.274</td>\n",
       "      <td>142.157</td>\n",
       "      <td>201184.385</td>\n",
       "      <td>7.448</td>\n",
       "      <td>2010.755</td>\n",
       "      <td>2.478</td>\n",
       "    </tr>\n",
       "    <tr>\n",
       "      <th>std</th>\n",
       "      <td>5403175.803</td>\n",
       "      <td>3747464.594</td>\n",
       "      <td>1740520.321</td>\n",
       "      <td>767107.107</td>\n",
       "      <td>548720.221</td>\n",
       "      <td>112823.183</td>\n",
       "      <td>331055.653</td>\n",
       "      <td>102736719.101</td>\n",
       "      <td>91956192.276</td>\n",
       "      <td>4603231.586</td>\n",
       "      <td>14951964.609</td>\n",
       "      <td>14174529.059</td>\n",
       "      <td>352358.129</td>\n",
       "      <td>4835.897</td>\n",
       "      <td>692298.844</td>\n",
       "      <td>3.346</td>\n",
       "      <td>6.499</td>\n",
       "      <td>1.118</td>\n",
       "    </tr>\n",
       "    <tr>\n",
       "      <th>min</th>\n",
       "      <td>-4788351.000</td>\n",
       "      <td>-4460800.000</td>\n",
       "      <td>-3373000.000</td>\n",
       "      <td>-6967000.000</td>\n",
       "      <td>-41491000.000</td>\n",
       "      <td>-3439000.000</td>\n",
       "      <td>-35645000.000</td>\n",
       "      <td>0.000</td>\n",
       "      <td>0.000</td>\n",
       "      <td>-15006.000</td>\n",
       "      <td>0.000</td>\n",
       "      <td>-90520000.000</td>\n",
       "      <td>0.012</td>\n",
       "      <td>0.003</td>\n",
       "      <td>0.000</td>\n",
       "      <td>0.000</td>\n",
       "      <td>2000.000</td>\n",
       "      <td>1.000</td>\n",
       "    </tr>\n",
       "    <tr>\n",
       "      <th>25%</th>\n",
       "      <td>33798.500</td>\n",
       "      <td>228.000</td>\n",
       "      <td>9332.000</td>\n",
       "      <td>0.000</td>\n",
       "      <td>-2140.000</td>\n",
       "      <td>0.000</td>\n",
       "      <td>0.000</td>\n",
       "      <td>366402.500</td>\n",
       "      <td>140720.750</td>\n",
       "      <td>0.000</td>\n",
       "      <td>7000.000</td>\n",
       "      <td>123710.250</td>\n",
       "      <td>9.910</td>\n",
       "      <td>11.160</td>\n",
       "      <td>25080.964</td>\n",
       "      <td>3.000</td>\n",
       "      <td>2005.000</td>\n",
       "      <td>1.000</td>\n",
       "    </tr>\n",
       "    <tr>\n",
       "      <th>50%</th>\n",
       "      <td>205175.345</td>\n",
       "      <td>43823.000</td>\n",
       "      <td>56367.000</td>\n",
       "      <td>0.000</td>\n",
       "      <td>0.000</td>\n",
       "      <td>795.000</td>\n",
       "      <td>2493.000</td>\n",
       "      <td>1711736.000</td>\n",
       "      <td>989997.500</td>\n",
       "      <td>6452.000</td>\n",
       "      <td>255000.000</td>\n",
       "      <td>568157.000</td>\n",
       "      <td>20.859</td>\n",
       "      <td>25.800</td>\n",
       "      <td>55895.352</td>\n",
       "      <td>6.000</td>\n",
       "      <td>2011.000</td>\n",
       "      <td>2.000</td>\n",
       "    </tr>\n",
       "    <tr>\n",
       "      <th>75%</th>\n",
       "      <td>860000.000</td>\n",
       "      <td>370718.000</td>\n",
       "      <td>217920.000</td>\n",
       "      <td>33.000</td>\n",
       "      <td>697.572</td>\n",
       "      <td>13000.000</td>\n",
       "      <td>20184.750</td>\n",
       "      <td>6618525.250</td>\n",
       "      <td>4359461.750</td>\n",
       "      <td>81827.000</td>\n",
       "      <td>1503723.500</td>\n",
       "      <td>1975248.250</td>\n",
       "      <td>42.290</td>\n",
       "      <td>49.040</td>\n",
       "      <td>144209.075</td>\n",
       "      <td>9.000</td>\n",
       "      <td>2016.000</td>\n",
       "      <td>3.000</td>\n",
       "    </tr>\n",
       "    <tr>\n",
       "      <th>max</th>\n",
       "      <td>152871008.000</td>\n",
       "      <td>115522000.000</td>\n",
       "      <td>131662000.000</td>\n",
       "      <td>69018000.000</td>\n",
       "      <td>129197000.000</td>\n",
       "      <td>6955000.000</td>\n",
       "      <td>39186000.000</td>\n",
       "      <td>3954687000.000</td>\n",
       "      <td>3668788000.000</td>\n",
       "      <td>300279000.000</td>\n",
       "      <td>511653000.000</td>\n",
       "      <td>508141000.000</td>\n",
       "      <td>70117187.500</td>\n",
       "      <td>528921.000</td>\n",
       "      <td>98214051.000</td>\n",
       "      <td>12.000</td>\n",
       "      <td>2022.000</td>\n",
       "      <td>4.000</td>\n",
       "    </tr>\n",
       "  </tbody>\n",
       "</table>\n",
       "</div>"
      ],
      "text/plain": [
       "            revenue          cogs          sgae   otheropexp   extraincome  \\\n",
       "count    158614.000    158309.000    158309.000   158311.000    158613.000   \n",
       "mean    1452992.639    801464.718    420278.553    40350.486    -14613.885   \n",
       "std     5403175.803   3747464.594   1740520.321   767107.107    548720.221   \n",
       "min    -4788351.000  -4460800.000  -3373000.000 -6967000.000 -41491000.000   \n",
       "25%       33798.500       228.000      9332.000        0.000     -2140.000   \n",
       "50%      205175.345     43823.000     56367.000        0.000         0.000   \n",
       "75%      860000.000    370718.000    217920.000       33.000       697.572   \n",
       "max   152871008.000 115522000.000 131662000.000 69018000.000 129197000.000   \n",
       "\n",
       "            finexp     incometax    totalassets  totalliabilities  \\\n",
       "count   158614.000    158614.000     159808.000        159808.000   \n",
       "mean     20418.493     41498.806   16670755.635      13152678.383   \n",
       "std     112823.183    331055.653  102736719.101      91956192.276   \n",
       "min   -3439000.000 -35645000.000          0.000             0.000   \n",
       "25%          0.000         0.000     366402.500        140720.750   \n",
       "50%        795.000      2493.000    1711736.000        989997.500   \n",
       "75%      13000.000     20184.750    6618525.250       4359461.750   \n",
       "max    6955000.000  39186000.000 3954687000.000    3668788000.000   \n",
       "\n",
       "          shortdebt      longdebt  stockholderequity     adjprice  \\\n",
       "count    129677.000    159595.000         159740.000   159154.000   \n",
       "mean     428951.751   2959733.848        3518161.935     3887.274   \n",
       "std     4603231.586  14951964.609       14174529.059   352358.129   \n",
       "min      -15006.000         0.000      -90520000.000        0.012   \n",
       "25%           0.000      7000.000         123710.250        9.910   \n",
       "50%        6452.000    255000.000         568157.000       20.859   \n",
       "75%       81827.000   1503723.500        1975248.250       42.290   \n",
       "max   300279000.000 511653000.000      508141000.000 70117187.500   \n",
       "\n",
       "       originalprice  sharesoutstanding  fiscalmonth       year        cto  \n",
       "count     159234.000         157822.000   159814.000 324446.000 324446.000  \n",
       "mean         142.157         201184.385        7.448   2010.755      2.478  \n",
       "std         4835.897         692298.844        3.346      6.499      1.118  \n",
       "min            0.003              0.000        0.000   2000.000      1.000  \n",
       "25%           11.160          25080.964        3.000   2005.000      1.000  \n",
       "50%           25.800          55895.352        6.000   2011.000      2.000  \n",
       "75%           49.040         144209.075        9.000   2016.000      3.000  \n",
       "max       528921.000       98214051.000       12.000   2022.000      4.000  "
      ]
     },
     "execution_count": 580,
     "metadata": {},
     "output_type": "execute_result"
    }
   ],
   "source": [
    "us.info()\n",
    "us.describe()"
   ]
  },
  {
   "cell_type": "markdown",
   "metadata": {},
   "source": [
    "**SE COMIENZA HACIENDO LA LECTURA DE LOS ARCHIVOS CSV PARA TENER LA DATASET, SE DESPLIEGA UNA DESCRIPCIÓN DE LOS DATOS, OBTENIENDO LAS VARIABLES QUE CONFORMAN EL DATASET Y EL TIPO DE DATO QUE UTILIZA CADA VARIABLE.**"
   ]
  },
  {
   "cell_type": "markdown",
   "metadata": {},
   "source": [
    "---"
   ]
  },
  {
   "cell_type": "markdown",
   "metadata": {},
   "source": [
    "#### *Limpieza y modificación de datos*\n",
    "\n",
    "1. Verificar que no existan datos nulos, duplicados\n",
    "\n",
    "2. Si no impacta en la dataset, eliminarlos o modificarlos"
   ]
  },
  {
   "cell_type": "code",
   "execution_count": 581,
   "metadata": {},
   "outputs": [
    {
     "data": {
      "text/plain": [
       "firm                      1\n",
       "q                         1\n",
       "revenue              165833\n",
       "cogs                 166138\n",
       "sgae                 166138\n",
       "otheropexp           166136\n",
       "extraincome          165834\n",
       "finexp               165833\n",
       "incometax            165833\n",
       "totalassets          164639\n",
       "totalliabilities     164639\n",
       "shortdebt            194770\n",
       "longdebt             164852\n",
       "stockholderequity    164707\n",
       "adjprice             165293\n",
       "originalprice        165213\n",
       "sharesoutstanding    166625\n",
       "fiscalmonth          164633\n",
       "year                      1\n",
       "cto                       1\n",
       "dtype: int64"
      ]
     },
     "execution_count": 581,
     "metadata": {},
     "output_type": "execute_result"
    }
   ],
   "source": [
    "# Datos nulos en el csv\n",
    "us.isna().sum() \n",
    "us.isnull().sum()"
   ]
  },
  {
   "cell_type": "code",
   "execution_count": 582,
   "metadata": {},
   "outputs": [],
   "source": [
    "# Eliminar datos nulos\n",
    "us = us.drop(index=324446,axis=0) #Eliminar fila con datos nulos"
   ]
  },
  {
   "cell_type": "code",
   "execution_count": 583,
   "metadata": {},
   "outputs": [
    {
     "data": {
      "text/html": [
       "<div>\n",
       "<style scoped>\n",
       "    .dataframe tbody tr th:only-of-type {\n",
       "        vertical-align: middle;\n",
       "    }\n",
       "\n",
       "    .dataframe tbody tr th {\n",
       "        vertical-align: top;\n",
       "    }\n",
       "\n",
       "    .dataframe thead th {\n",
       "        text-align: right;\n",
       "    }\n",
       "</style>\n",
       "<table border=\"1\" class=\"dataframe\">\n",
       "  <thead>\n",
       "    <tr style=\"text-align: right;\">\n",
       "      <th></th>\n",
       "      <th>firm</th>\n",
       "      <th>q</th>\n",
       "      <th>revenue</th>\n",
       "      <th>cogs</th>\n",
       "      <th>sgae</th>\n",
       "      <th>otheropexp</th>\n",
       "      <th>extraincome</th>\n",
       "      <th>finexp</th>\n",
       "      <th>incometax</th>\n",
       "      <th>totalassets</th>\n",
       "      <th>totalliabilities</th>\n",
       "      <th>shortdebt</th>\n",
       "      <th>longdebt</th>\n",
       "      <th>stockholderequity</th>\n",
       "      <th>adjprice</th>\n",
       "      <th>originalprice</th>\n",
       "      <th>sharesoutstanding</th>\n",
       "      <th>fiscalmonth</th>\n",
       "      <th>year</th>\n",
       "      <th>cto</th>\n",
       "    </tr>\n",
       "  </thead>\n",
       "  <tbody>\n",
       "  </tbody>\n",
       "</table>\n",
       "</div>"
      ],
      "text/plain": [
       "Empty DataFrame\n",
       "Columns: [firm, q, revenue, cogs, sgae, otheropexp, extraincome, finexp, incometax, totalassets, totalliabilities, shortdebt, longdebt, stockholderequity, adjprice, originalprice, sharesoutstanding, fiscalmonth, year, cto]\n",
       "Index: []"
      ]
     },
     "execution_count": 583,
     "metadata": {},
     "output_type": "execute_result"
    }
   ],
   "source": [
    "# Datos duplicados en el csv\n",
    "us[us.duplicated()]"
   ]
  },
  {
   "cell_type": "markdown",
   "metadata": {},
   "source": [
    "**SE VERIFICA QUE LA DATASER TIENE DATOS NULOS; AL SER UNA GRAN CANTIDAD DE VALORES NULOS NO ES IDEAL BORRARLOS, POR LO QUE NO SE HACE UNA MODIFICACIÓN SIGNIFICATIVA.**"
   ]
  },
  {
   "cell_type": "markdown",
   "metadata": {},
   "source": [
    "---"
   ]
  },
  {
   "cell_type": "markdown",
   "metadata": {},
   "source": [
    "#### *Analisis del dataset*"
   ]
  },
  {
   "cell_type": "markdown",
   "metadata": {},
   "source": [
    "***Preguntas Generales***"
   ]
  },
  {
   "cell_type": "markdown",
   "metadata": {},
   "source": [
    ">###### Por industria, ¿cuál es la composición de las empresas públicas estadounidenses en términos de tamaño de la empresa, rendimiento de las ventas y rentabilidad?\n",
    "###### **RESPUESTA.**\n",
    "\n",
    ">###### ¿Por qué algunas empresas son más rentables que otras? ¿Qué factores/variables de los estados financieros están relacionados con los rendimientos de las acciones?\n",
    "###### **RESPUESTA.**"
   ]
  },
  {
   "cell_type": "markdown",
   "metadata": {},
   "source": [
    "---"
   ]
  },
  {
   "cell_type": "markdown",
   "metadata": {},
   "source": [
    "#### *Estadistica descriptiva*"
   ]
  },
  {
   "cell_type": "markdown",
   "metadata": {},
   "source": [
    "***Preguntas Especificas***"
   ]
  },
  {
   "cell_type": "markdown",
   "metadata": {},
   "source": [
    "Considerando el trimestre financiero más reciente del conjunto de datos:"
   ]
  },
  {
   "cell_type": "markdown",
   "metadata": {},
   "source": [
    ">###### Mostrar cuántas empresas por industria hay en la muestra"
   ]
  },
  {
   "cell_type": "code",
   "execution_count": 584,
   "metadata": {},
   "outputs": [
    {
     "data": {
      "text/html": [
       "<div>\n",
       "<style scoped>\n",
       "    .dataframe tbody tr th:only-of-type {\n",
       "        vertical-align: middle;\n",
       "    }\n",
       "\n",
       "    .dataframe tbody tr th {\n",
       "        vertical-align: top;\n",
       "    }\n",
       "\n",
       "    .dataframe thead th {\n",
       "        text-align: right;\n",
       "    }\n",
       "</style>\n",
       "<table border=\"1\" class=\"dataframe\">\n",
       "  <thead>\n",
       "    <tr style=\"text-align: right;\">\n",
       "      <th></th>\n",
       "      <th>Ticker</th>\n",
       "      <th>Name</th>\n",
       "      <th>Sector NAICS\\nlevel 1</th>\n",
       "      <th>firm</th>\n",
       "      <th>q</th>\n",
       "      <th>revenue</th>\n",
       "      <th>cogs</th>\n",
       "      <th>sgae</th>\n",
       "      <th>otheropexp</th>\n",
       "      <th>extraincome</th>\n",
       "      <th>finexp</th>\n",
       "      <th>incometax</th>\n",
       "      <th>totalassets</th>\n",
       "      <th>totalliabilities</th>\n",
       "      <th>shortdebt</th>\n",
       "      <th>longdebt</th>\n",
       "      <th>stockholderequity</th>\n",
       "      <th>adjprice</th>\n",
       "      <th>originalprice</th>\n",
       "      <th>sharesoutstanding</th>\n",
       "      <th>fiscalmonth</th>\n",
       "      <th>year</th>\n",
       "      <th>cto</th>\n",
       "    </tr>\n",
       "  </thead>\n",
       "  <tbody>\n",
       "  </tbody>\n",
       "</table>\n",
       "</div>"
      ],
      "text/plain": [
       "Empty DataFrame\n",
       "Columns: [Ticker, Name, Sector NAICS\n",
       "level 1, firm, q, revenue, cogs, sgae, otheropexp, extraincome, finexp, incometax, totalassets, totalliabilities, shortdebt, longdebt, stockholderequity, adjprice, originalprice, sharesoutstanding, fiscalmonth, year, cto]\n",
       "Index: []"
      ]
     },
     "execution_count": 584,
     "metadata": {},
     "output_type": "execute_result"
    }
   ],
   "source": [
    "# Merge\n",
    "US_Firms = firms.merge(us, left_on='Ticker', right_on='firm')\n",
    "US_Firms = US_Firms.drop([\"N\", \n",
    "                          \"Class\", \n",
    "                          \"Country\\nof Origin\", \n",
    "                          \"Type of Asset\", \n",
    "                          \"Exchange / Src\", \n",
    "                          \"Sector\\nEconomatica\", \n",
    "                          \"Sector NAICS\\nlast available\", \n",
    "                          \"partind\"], \n",
    "                         axis = 1)\n",
    "US_Firms.head(0)"
   ]
  },
  {
   "cell_type": "code",
   "execution_count": 585,
   "metadata": {},
   "outputs": [],
   "source": [
    "US_Firms['q'] = pd.PeriodIndex(US_Firms['q'],freq = \"q\")\n",
    "US_Firms.set_index(['firm','q'],inplace=True)"
   ]
  },
  {
   "cell_type": "code",
   "execution_count": 586,
   "metadata": {},
   "outputs": [
    {
     "data": {
      "text/html": [
       "<div>\n",
       "<style scoped>\n",
       "    .dataframe tbody tr th:only-of-type {\n",
       "        vertical-align: middle;\n",
       "    }\n",
       "\n",
       "    .dataframe tbody tr th {\n",
       "        vertical-align: top;\n",
       "    }\n",
       "\n",
       "    .dataframe thead th {\n",
       "        text-align: right;\n",
       "    }\n",
       "</style>\n",
       "<table border=\"1\" class=\"dataframe\">\n",
       "  <thead>\n",
       "    <tr style=\"text-align: right;\">\n",
       "      <th></th>\n",
       "      <th></th>\n",
       "      <th>Ticker</th>\n",
       "      <th>Name</th>\n",
       "      <th>Sector NAICS\\nlevel 1</th>\n",
       "      <th>revenue</th>\n",
       "      <th>cogs</th>\n",
       "      <th>sgae</th>\n",
       "      <th>otheropexp</th>\n",
       "      <th>extraincome</th>\n",
       "      <th>finexp</th>\n",
       "      <th>incometax</th>\n",
       "      <th>totalassets</th>\n",
       "      <th>totalliabilities</th>\n",
       "      <th>shortdebt</th>\n",
       "      <th>longdebt</th>\n",
       "      <th>stockholderequity</th>\n",
       "      <th>adjprice</th>\n",
       "      <th>originalprice</th>\n",
       "      <th>sharesoutstanding</th>\n",
       "      <th>fiscalmonth</th>\n",
       "      <th>year</th>\n",
       "      <th>cto</th>\n",
       "    </tr>\n",
       "    <tr>\n",
       "      <th>firm</th>\n",
       "      <th>q</th>\n",
       "      <th></th>\n",
       "      <th></th>\n",
       "      <th></th>\n",
       "      <th></th>\n",
       "      <th></th>\n",
       "      <th></th>\n",
       "      <th></th>\n",
       "      <th></th>\n",
       "      <th></th>\n",
       "      <th></th>\n",
       "      <th></th>\n",
       "      <th></th>\n",
       "      <th></th>\n",
       "      <th></th>\n",
       "      <th></th>\n",
       "      <th></th>\n",
       "      <th></th>\n",
       "      <th></th>\n",
       "      <th></th>\n",
       "      <th></th>\n",
       "      <th></th>\n",
       "    </tr>\n",
       "  </thead>\n",
       "  <tbody>\n",
       "    <tr>\n",
       "      <th rowspan=\"5\" valign=\"top\">FLWS</th>\n",
       "      <th>2000Q1</th>\n",
       "      <td>FLWS</td>\n",
       "      <td>1 800 Flowers Com Inc</td>\n",
       "      <td>Retail Trade</td>\n",
       "      <td>85045.000</td>\n",
       "      <td>54143.000</td>\n",
       "      <td>52146.000</td>\n",
       "      <td>0.000</td>\n",
       "      <td>111.000</td>\n",
       "      <td>-1600.000</td>\n",
       "      <td>-268.000</td>\n",
       "      <td>248461.000</td>\n",
       "      <td>76657.000</td>\n",
       "      <td>4380.000</td>\n",
       "      <td>8869.000</td>\n",
       "      <td>171804.000</td>\n",
       "      <td>7.125</td>\n",
       "      <td>7.125</td>\n",
       "      <td>64097.913</td>\n",
       "      <td>9.000</td>\n",
       "      <td>2000.000</td>\n",
       "      <td>1.000</td>\n",
       "    </tr>\n",
       "    <tr>\n",
       "      <th>2000Q2</th>\n",
       "      <td>FLWS</td>\n",
       "      <td>1 800 Flowers Com Inc</td>\n",
       "      <td>Retail Trade</td>\n",
       "      <td>123288.000</td>\n",
       "      <td>75607.000</td>\n",
       "      <td>63201.000</td>\n",
       "      <td>0.000</td>\n",
       "      <td>27.000</td>\n",
       "      <td>-2164.000</td>\n",
       "      <td>-419.000</td>\n",
       "      <td>224641.000</td>\n",
       "      <td>65723.000</td>\n",
       "      <td>1839.000</td>\n",
       "      <td>9441.000</td>\n",
       "      <td>158918.000</td>\n",
       "      <td>5.125</td>\n",
       "      <td>5.125</td>\n",
       "      <td>64170.913</td>\n",
       "      <td>12.000</td>\n",
       "      <td>2000.000</td>\n",
       "      <td>2.000</td>\n",
       "    </tr>\n",
       "    <tr>\n",
       "      <th>2000Q3</th>\n",
       "      <td>FLWS</td>\n",
       "      <td>1 800 Flowers Com Inc</td>\n",
       "      <td>Retail Trade</td>\n",
       "      <td>72516.000</td>\n",
       "      <td>45091.000</td>\n",
       "      <td>51590.000</td>\n",
       "      <td>0.000</td>\n",
       "      <td>88.000</td>\n",
       "      <td>-1576.000</td>\n",
       "      <td>0.000</td>\n",
       "      <td>211449.000</td>\n",
       "      <td>75163.000</td>\n",
       "      <td>7654.000</td>\n",
       "      <td>10916.000</td>\n",
       "      <td>136286.000</td>\n",
       "      <td>4.984</td>\n",
       "      <td>4.984</td>\n",
       "      <td>64185.913</td>\n",
       "      <td>3.000</td>\n",
       "      <td>2000.000</td>\n",
       "      <td>3.000</td>\n",
       "    </tr>\n",
       "    <tr>\n",
       "      <th>2000Q4</th>\n",
       "      <td>FLWS</td>\n",
       "      <td>1 800 Flowers Com Inc</td>\n",
       "      <td>Retail Trade</td>\n",
       "      <td>134243.000</td>\n",
       "      <td>79099.000</td>\n",
       "      <td>67206.000</td>\n",
       "      <td>0.000</td>\n",
       "      <td>335.000</td>\n",
       "      <td>-1191.000</td>\n",
       "      <td>0.000</td>\n",
       "      <td>213983.000</td>\n",
       "      <td>88231.000</td>\n",
       "      <td>2157.000</td>\n",
       "      <td>10452.000</td>\n",
       "      <td>125752.000</td>\n",
       "      <td>4.125</td>\n",
       "      <td>4.125</td>\n",
       "      <td>64187.163</td>\n",
       "      <td>6.000</td>\n",
       "      <td>2000.000</td>\n",
       "      <td>4.000</td>\n",
       "    </tr>\n",
       "    <tr>\n",
       "      <th>2001Q1</th>\n",
       "      <td>FLWS</td>\n",
       "      <td>1 800 Flowers Com Inc</td>\n",
       "      <td>Retail Trade</td>\n",
       "      <td>103221.000</td>\n",
       "      <td>64020.000</td>\n",
       "      <td>48856.000</td>\n",
       "      <td>0.000</td>\n",
       "      <td>76.000</td>\n",
       "      <td>-1069.000</td>\n",
       "      <td>0.000</td>\n",
       "      <td>200400.000</td>\n",
       "      <td>83160.000</td>\n",
       "      <td>4777.000</td>\n",
       "      <td>12318.000</td>\n",
       "      <td>117240.000</td>\n",
       "      <td>8.000</td>\n",
       "      <td>8.000</td>\n",
       "      <td>64187.163</td>\n",
       "      <td>9.000</td>\n",
       "      <td>2001.000</td>\n",
       "      <td>1.000</td>\n",
       "    </tr>\n",
       "    <tr>\n",
       "      <th>...</th>\n",
       "      <th>...</th>\n",
       "      <td>...</td>\n",
       "      <td>...</td>\n",
       "      <td>...</td>\n",
       "      <td>...</td>\n",
       "      <td>...</td>\n",
       "      <td>...</td>\n",
       "      <td>...</td>\n",
       "      <td>...</td>\n",
       "      <td>...</td>\n",
       "      <td>...</td>\n",
       "      <td>...</td>\n",
       "      <td>...</td>\n",
       "      <td>...</td>\n",
       "      <td>...</td>\n",
       "      <td>...</td>\n",
       "      <td>...</td>\n",
       "      <td>...</td>\n",
       "      <td>...</td>\n",
       "      <td>...</td>\n",
       "      <td>...</td>\n",
       "      <td>...</td>\n",
       "    </tr>\n",
       "    <tr>\n",
       "      <th rowspan=\"5\" valign=\"top\">ZNGA</th>\n",
       "      <th>2021Q2</th>\n",
       "      <td>ZNGA</td>\n",
       "      <td>Zynga Inc</td>\n",
       "      <td>Information</td>\n",
       "      <td>720000.000</td>\n",
       "      <td>253300.000</td>\n",
       "      <td>391900.000</td>\n",
       "      <td>0.000</td>\n",
       "      <td>-9100.000</td>\n",
       "      <td>13000.000</td>\n",
       "      <td>24900.000</td>\n",
       "      <td>6132200.000</td>\n",
       "      <td>3111600.000</td>\n",
       "      <td>17700.000</td>\n",
       "      <td>1457000.000</td>\n",
       "      <td>3020600.000</td>\n",
       "      <td>10.630</td>\n",
       "      <td>10.630</td>\n",
       "      <td>1088762.805</td>\n",
       "      <td>6.000</td>\n",
       "      <td>2021.000</td>\n",
       "      <td>2.000</td>\n",
       "    </tr>\n",
       "    <tr>\n",
       "      <th>2021Q3</th>\n",
       "      <td>ZNGA</td>\n",
       "      <td>Zynga Inc</td>\n",
       "      <td>Information</td>\n",
       "      <td>704700.000</td>\n",
       "      <td>240800.000</td>\n",
       "      <td>409400.000</td>\n",
       "      <td>66800.000</td>\n",
       "      <td>-600.000</td>\n",
       "      <td>13200.000</td>\n",
       "      <td>15600.000</td>\n",
       "      <td>6067700.000</td>\n",
       "      <td>3060700.000</td>\n",
       "      <td>17600.000</td>\n",
       "      <td>1467600.000</td>\n",
       "      <td>3007000.000</td>\n",
       "      <td>7.530</td>\n",
       "      <td>7.530</td>\n",
       "      <td>1091890.649</td>\n",
       "      <td>9.000</td>\n",
       "      <td>2021.000</td>\n",
       "      <td>3.000</td>\n",
       "    </tr>\n",
       "    <tr>\n",
       "      <th>2021Q4</th>\n",
       "      <td>ZNGA</td>\n",
       "      <td>Zynga Inc</td>\n",
       "      <td>Information</td>\n",
       "      <td>695500.000</td>\n",
       "      <td>260100.000</td>\n",
       "      <td>436600.000</td>\n",
       "      <td>0.000</td>\n",
       "      <td>-10400.000</td>\n",
       "      <td>13600.000</td>\n",
       "      <td>42100.000</td>\n",
       "      <td>6358900.000</td>\n",
       "      <td>3247000.000</td>\n",
       "      <td>17100.000</td>\n",
       "      <td>1477200.000</td>\n",
       "      <td>3111900.000</td>\n",
       "      <td>6.400</td>\n",
       "      <td>6.400</td>\n",
       "      <td>1120181.490</td>\n",
       "      <td>12.000</td>\n",
       "      <td>2021.000</td>\n",
       "      <td>4.000</td>\n",
       "    </tr>\n",
       "    <tr>\n",
       "      <th>2022Q1</th>\n",
       "      <td>ZNGA</td>\n",
       "      <td>Zynga Inc</td>\n",
       "      <td>Information</td>\n",
       "      <td>691200.000</td>\n",
       "      <td>252200.000</td>\n",
       "      <td>424000.000</td>\n",
       "      <td>0.000</td>\n",
       "      <td>-15700.000</td>\n",
       "      <td>2200.000</td>\n",
       "      <td>21600.000</td>\n",
       "      <td>5860000.000</td>\n",
       "      <td>2953900.000</td>\n",
       "      <td>17900.000</td>\n",
       "      <td>1673700.000</td>\n",
       "      <td>2906100.000</td>\n",
       "      <td>9.240</td>\n",
       "      <td>9.240</td>\n",
       "      <td>1132408.337</td>\n",
       "      <td>3.000</td>\n",
       "      <td>2022.000</td>\n",
       "      <td>1.000</td>\n",
       "    </tr>\n",
       "    <tr>\n",
       "      <th>2022Q2</th>\n",
       "      <td>ZNGA</td>\n",
       "      <td>Zynga Inc</td>\n",
       "      <td>Information</td>\n",
       "      <td>NaN</td>\n",
       "      <td>NaN</td>\n",
       "      <td>NaN</td>\n",
       "      <td>NaN</td>\n",
       "      <td>NaN</td>\n",
       "      <td>NaN</td>\n",
       "      <td>NaN</td>\n",
       "      <td>NaN</td>\n",
       "      <td>NaN</td>\n",
       "      <td>NaN</td>\n",
       "      <td>NaN</td>\n",
       "      <td>NaN</td>\n",
       "      <td>8.180</td>\n",
       "      <td>8.180</td>\n",
       "      <td>1137273.677</td>\n",
       "      <td>NaN</td>\n",
       "      <td>2022.000</td>\n",
       "      <td>2.000</td>\n",
       "    </tr>\n",
       "  </tbody>\n",
       "</table>\n",
       "<p>323816 rows × 21 columns</p>\n",
       "</div>"
      ],
      "text/plain": [
       "            Ticker                   Name Sector NAICS\\nlevel 1    revenue  \\\n",
       "firm q                                                                       \n",
       "FLWS 2000Q1   FLWS  1 800 Flowers Com Inc          Retail Trade  85045.000   \n",
       "     2000Q2   FLWS  1 800 Flowers Com Inc          Retail Trade 123288.000   \n",
       "     2000Q3   FLWS  1 800 Flowers Com Inc          Retail Trade  72516.000   \n",
       "     2000Q4   FLWS  1 800 Flowers Com Inc          Retail Trade 134243.000   \n",
       "     2001Q1   FLWS  1 800 Flowers Com Inc          Retail Trade 103221.000   \n",
       "...            ...                    ...                   ...        ...   \n",
       "ZNGA 2021Q2   ZNGA              Zynga Inc           Information 720000.000   \n",
       "     2021Q3   ZNGA              Zynga Inc           Information 704700.000   \n",
       "     2021Q4   ZNGA              Zynga Inc           Information 695500.000   \n",
       "     2022Q1   ZNGA              Zynga Inc           Information 691200.000   \n",
       "     2022Q2   ZNGA              Zynga Inc           Information        NaN   \n",
       "\n",
       "                  cogs       sgae  otheropexp  extraincome    finexp  \\\n",
       "firm q                                                                 \n",
       "FLWS 2000Q1  54143.000  52146.000       0.000      111.000 -1600.000   \n",
       "     2000Q2  75607.000  63201.000       0.000       27.000 -2164.000   \n",
       "     2000Q3  45091.000  51590.000       0.000       88.000 -1576.000   \n",
       "     2000Q4  79099.000  67206.000       0.000      335.000 -1191.000   \n",
       "     2001Q1  64020.000  48856.000       0.000       76.000 -1069.000   \n",
       "...                ...        ...         ...          ...       ...   \n",
       "ZNGA 2021Q2 253300.000 391900.000       0.000    -9100.000 13000.000   \n",
       "     2021Q3 240800.000 409400.000   66800.000     -600.000 13200.000   \n",
       "     2021Q4 260100.000 436600.000       0.000   -10400.000 13600.000   \n",
       "     2022Q1 252200.000 424000.000       0.000   -15700.000  2200.000   \n",
       "     2022Q2        NaN        NaN         NaN          NaN       NaN   \n",
       "\n",
       "             incometax  totalassets  totalliabilities  shortdebt    longdebt  \\\n",
       "firm q                                                                         \n",
       "FLWS 2000Q1   -268.000   248461.000         76657.000   4380.000    8869.000   \n",
       "     2000Q2   -419.000   224641.000         65723.000   1839.000    9441.000   \n",
       "     2000Q3      0.000   211449.000         75163.000   7654.000   10916.000   \n",
       "     2000Q4      0.000   213983.000         88231.000   2157.000   10452.000   \n",
       "     2001Q1      0.000   200400.000         83160.000   4777.000   12318.000   \n",
       "...                ...          ...               ...        ...         ...   \n",
       "ZNGA 2021Q2  24900.000  6132200.000       3111600.000  17700.000 1457000.000   \n",
       "     2021Q3  15600.000  6067700.000       3060700.000  17600.000 1467600.000   \n",
       "     2021Q4  42100.000  6358900.000       3247000.000  17100.000 1477200.000   \n",
       "     2022Q1  21600.000  5860000.000       2953900.000  17900.000 1673700.000   \n",
       "     2022Q2        NaN          NaN               NaN        NaN         NaN   \n",
       "\n",
       "             stockholderequity  adjprice  originalprice  sharesoutstanding  \\\n",
       "firm q                                                                       \n",
       "FLWS 2000Q1         171804.000     7.125          7.125          64097.913   \n",
       "     2000Q2         158918.000     5.125          5.125          64170.913   \n",
       "     2000Q3         136286.000     4.984          4.984          64185.913   \n",
       "     2000Q4         125752.000     4.125          4.125          64187.163   \n",
       "     2001Q1         117240.000     8.000          8.000          64187.163   \n",
       "...                        ...       ...            ...                ...   \n",
       "ZNGA 2021Q2        3020600.000    10.630         10.630        1088762.805   \n",
       "     2021Q3        3007000.000     7.530          7.530        1091890.649   \n",
       "     2021Q4        3111900.000     6.400          6.400        1120181.490   \n",
       "     2022Q1        2906100.000     9.240          9.240        1132408.337   \n",
       "     2022Q2                NaN     8.180          8.180        1137273.677   \n",
       "\n",
       "             fiscalmonth     year   cto  \n",
       "firm q                                   \n",
       "FLWS 2000Q1        9.000 2000.000 1.000  \n",
       "     2000Q2       12.000 2000.000 2.000  \n",
       "     2000Q3        3.000 2000.000 3.000  \n",
       "     2000Q4        6.000 2000.000 4.000  \n",
       "     2001Q1        9.000 2001.000 1.000  \n",
       "...                  ...      ...   ...  \n",
       "ZNGA 2021Q2        6.000 2021.000 2.000  \n",
       "     2021Q3        9.000 2021.000 3.000  \n",
       "     2021Q4       12.000 2021.000 4.000  \n",
       "     2022Q1        3.000 2022.000 1.000  \n",
       "     2022Q2          NaN 2022.000 2.000  \n",
       "\n",
       "[323816 rows x 21 columns]"
      ]
     },
     "execution_count": 586,
     "metadata": {},
     "output_type": "execute_result"
    }
   ],
   "source": [
    "US_Firms"
   ]
  },
  {
   "cell_type": "markdown",
   "metadata": {},
   "source": [
    "**PARA OBTENER EL VALOR DE MERCADO Y EL VALOR CONTABLE DE LA EMPRESA, ES NECESARIO EMPLEAR LOS SIGUIENTES CALCULOS:**"
   ]
  },
  {
   "cell_type": "markdown",
   "metadata": {},
   "source": [
    "##### *Firm Size Measures:*\n",
    "* *Book value of the firm* = (TotalAssets - TotalLiabilities)\n",
    "* *Market value* = (OriginalPrice * SharesOutStanding)              Precio del stock historico"
   ]
  },
  {
   "cell_type": "markdown",
   "metadata": {},
   "source": [
    "##### *Profit Margin Measures:*\n",
    "* *Operating Profit* = (Revenue - Cogs - Sgae) \n",
    "###### ---//Cogst-Costos Variables //Sgae-Costos fijos\n",
    "* *Operating Profit Margin (OPM)* = (Ebit / Revenue)             \n",
    "* *Profit margin* = (NetIncome / revenue)               \n",
    "* *Net Income* = (Ebit - Incometax - Finexp)       \n",
    "###### ---//Incometax-Impuesto sobre la renta //Finexp-Gastos financieros                "
   ]
  },
  {
   "cell_type": "code",
   "execution_count": 587,
   "metadata": {},
   "outputs": [
    {
     "data": {
      "text/html": [
       "<div>\n",
       "<style scoped>\n",
       "    .dataframe tbody tr th:only-of-type {\n",
       "        vertical-align: middle;\n",
       "    }\n",
       "\n",
       "    .dataframe tbody tr th {\n",
       "        vertical-align: top;\n",
       "    }\n",
       "\n",
       "    .dataframe thead th {\n",
       "        text-align: right;\n",
       "    }\n",
       "</style>\n",
       "<table border=\"1\" class=\"dataframe\">\n",
       "  <thead>\n",
       "    <tr style=\"text-align: right;\">\n",
       "      <th></th>\n",
       "      <th></th>\n",
       "      <th>Ticker</th>\n",
       "      <th>Name</th>\n",
       "      <th>Sector NAICS\\nlevel 1</th>\n",
       "      <th>revenue</th>\n",
       "      <th>cogs</th>\n",
       "      <th>sgae</th>\n",
       "      <th>otheropexp</th>\n",
       "      <th>extraincome</th>\n",
       "      <th>finexp</th>\n",
       "      <th>incometax</th>\n",
       "      <th>totalassets</th>\n",
       "      <th>totalliabilities</th>\n",
       "      <th>shortdebt</th>\n",
       "      <th>longdebt</th>\n",
       "      <th>stockholderequity</th>\n",
       "      <th>adjprice</th>\n",
       "      <th>originalprice</th>\n",
       "      <th>sharesoutstanding</th>\n",
       "      <th>fiscalmonth</th>\n",
       "      <th>year</th>\n",
       "      <th>cto</th>\n",
       "      <th>Book Value of the Firms</th>\n",
       "      <th>Market Value</th>\n",
       "    </tr>\n",
       "    <tr>\n",
       "      <th>firm</th>\n",
       "      <th>q</th>\n",
       "      <th></th>\n",
       "      <th></th>\n",
       "      <th></th>\n",
       "      <th></th>\n",
       "      <th></th>\n",
       "      <th></th>\n",
       "      <th></th>\n",
       "      <th></th>\n",
       "      <th></th>\n",
       "      <th></th>\n",
       "      <th></th>\n",
       "      <th></th>\n",
       "      <th></th>\n",
       "      <th></th>\n",
       "      <th></th>\n",
       "      <th></th>\n",
       "      <th></th>\n",
       "      <th></th>\n",
       "      <th></th>\n",
       "      <th></th>\n",
       "      <th></th>\n",
       "      <th></th>\n",
       "      <th></th>\n",
       "    </tr>\n",
       "  </thead>\n",
       "  <tbody>\n",
       "  </tbody>\n",
       "</table>\n",
       "</div>"
      ],
      "text/plain": [
       "Empty DataFrame\n",
       "Columns: [Ticker, Name, Sector NAICS\n",
       "level 1, revenue, cogs, sgae, otheropexp, extraincome, finexp, incometax, totalassets, totalliabilities, shortdebt, longdebt, stockholderequity, adjprice, originalprice, sharesoutstanding, fiscalmonth, year, cto, Book Value of the Firms, Market Value]\n",
       "Index: []"
      ]
     },
     "execution_count": 587,
     "metadata": {},
     "output_type": "execute_result"
    }
   ],
   "source": [
    "# Calculo de valor de mercado y valor contable\n",
    "US_Firms['Book Value of the Firms'] = US_Firms['totalassets'] - US_Firms['totalliabilities']\n",
    "US_Firms['Market Value'] = US_Firms['originalprice'] * US_Firms['sharesoutstanding']\n",
    "US_Firms.head(0)"
   ]
  },
  {
   "cell_type": "code",
   "execution_count": 588,
   "metadata": {},
   "outputs": [
    {
     "data": {
      "text/html": [
       "<div>\n",
       "<style scoped>\n",
       "    .dataframe tbody tr th:only-of-type {\n",
       "        vertical-align: middle;\n",
       "    }\n",
       "\n",
       "    .dataframe tbody tr th {\n",
       "        vertical-align: top;\n",
       "    }\n",
       "\n",
       "    .dataframe thead th {\n",
       "        text-align: right;\n",
       "    }\n",
       "</style>\n",
       "<table border=\"1\" class=\"dataframe\">\n",
       "  <thead>\n",
       "    <tr style=\"text-align: right;\">\n",
       "      <th></th>\n",
       "      <th></th>\n",
       "      <th>Ticker</th>\n",
       "      <th>Name</th>\n",
       "      <th>Sector NAICS\\nlevel 1</th>\n",
       "      <th>revenue</th>\n",
       "      <th>cogs</th>\n",
       "      <th>sgae</th>\n",
       "      <th>otheropexp</th>\n",
       "      <th>extraincome</th>\n",
       "      <th>finexp</th>\n",
       "      <th>incometax</th>\n",
       "      <th>totalassets</th>\n",
       "      <th>totalliabilities</th>\n",
       "      <th>shortdebt</th>\n",
       "      <th>longdebt</th>\n",
       "      <th>stockholderequity</th>\n",
       "      <th>adjprice</th>\n",
       "      <th>originalprice</th>\n",
       "      <th>sharesoutstanding</th>\n",
       "      <th>fiscalmonth</th>\n",
       "      <th>year</th>\n",
       "      <th>cto</th>\n",
       "      <th>Book Value of the Firms</th>\n",
       "      <th>Market Value</th>\n",
       "      <th>Operating Profit</th>\n",
       "      <th>OPM</th>\n",
       "      <th>Net Income</th>\n",
       "      <th>Profit Margin</th>\n",
       "    </tr>\n",
       "    <tr>\n",
       "      <th>firm</th>\n",
       "      <th>q</th>\n",
       "      <th></th>\n",
       "      <th></th>\n",
       "      <th></th>\n",
       "      <th></th>\n",
       "      <th></th>\n",
       "      <th></th>\n",
       "      <th></th>\n",
       "      <th></th>\n",
       "      <th></th>\n",
       "      <th></th>\n",
       "      <th></th>\n",
       "      <th></th>\n",
       "      <th></th>\n",
       "      <th></th>\n",
       "      <th></th>\n",
       "      <th></th>\n",
       "      <th></th>\n",
       "      <th></th>\n",
       "      <th></th>\n",
       "      <th></th>\n",
       "      <th></th>\n",
       "      <th></th>\n",
       "      <th></th>\n",
       "      <th></th>\n",
       "      <th></th>\n",
       "      <th></th>\n",
       "      <th></th>\n",
       "    </tr>\n",
       "  </thead>\n",
       "  <tbody>\n",
       "  </tbody>\n",
       "</table>\n",
       "</div>"
      ],
      "text/plain": [
       "Empty DataFrame\n",
       "Columns: [Ticker, Name, Sector NAICS\n",
       "level 1, revenue, cogs, sgae, otheropexp, extraincome, finexp, incometax, totalassets, totalliabilities, shortdebt, longdebt, stockholderequity, adjprice, originalprice, sharesoutstanding, fiscalmonth, year, cto, Book Value of the Firms, Market Value, Operating Profit, OPM, Net Income, Profit Margin]\n",
       "Index: []"
      ]
     },
     "execution_count": 588,
     "metadata": {},
     "output_type": "execute_result"
    }
   ],
   "source": [
    "# Calculos Profit Margin Measures\n",
    "US_Firms['Operating Profit'] = US_Firms['revenue'] - US_Firms['cogs'] - US_Firms['sgae'] - US_Firms['otheropexp']\n",
    "US_Firms['OPM'] = US_Firms['Operating Profit'] / US_Firms['revenue']\n",
    "US_Firms['Net Income'] = US_Firms['Operating Profit'] - US_Firms['incometax'] - US_Firms['finexp']\n",
    "US_Firms['Profit Margin'] = US_Firms['Net Income'] / US_Firms['revenue']\n",
    "US_Firms.head(0)"
   ]
  },
  {
   "cell_type": "code",
   "execution_count": 589,
   "metadata": {},
   "outputs": [],
   "source": [
    "# Divir empresas por industria\n",
    "comercial = US_Firms.loc[(US_Firms['Sector NAICS\\nlevel 1'] == \"Wholesale Trade\") | (US_Firms['Sector NAICS\\nlevel 1'] == \"Retail Trade\")]\n",
    "services = US_Firms.loc[(US_Firms['Sector NAICS\\nlevel 1'] == \"Accommodation and Food Services\") | (US_Firms['Sector NAICS\\nlevel 1'] == \"Administrative and Support and Waste Managment and Remedation Services\") | (US_Firms['Sector NAICS\\nlevel 1'] == \"Arts, Entertainment, and Recreation\") | (US_Firms['Sector NAICS\\nlevel 1'] == \"Educational Services\") | (US_Firms['Sector NAICS\\nlevel 1'] == \"Health Care and Social Assistance\") | (US_Firms['Sector NAICS\\nlevel 1'] == \"Information\") | (US_Firms['Sector NAICS\\nlevel 1'] == \"Other Services (except Public Administration)\") | (US_Firms['Sector NAICS\\nlevel 1'] == \"Profession, Scientific and Technical Services\") | (US_Firms['Sector NAICS\\nlevel 1'] == \"Transportation and Warehousing\")]\n",
    "financial = US_Firms.loc[(US_Firms['Sector NAICS\\nlevel 1'] == \"Finance and Insurance\") | (US_Firms['Sector NAICS\\nlevel 1'] == \"Real Estate and Rental and Leasing\")]\n",
    "manufacturing = US_Firms.loc[(US_Firms['Sector NAICS\\nlevel 1'] == \"Manufacturing\")]"
   ]
  },
  {
   "cell_type": "code",
   "execution_count": 590,
   "metadata": {},
   "outputs": [
    {
     "name": "stdout",
     "output_type": "stream",
     "text": [
      "     Industria          #\n",
      "Commercial :          (231, 24)\n",
      "Services :            (514, 24)\n",
      "Financial Services :  (769, 24)\n",
      "Manufacturing :      (1565, 24)\n"
     ]
    }
   ],
   "source": [
    "# Conteo por industrias\n",
    "print('     Industria          #')\n",
    "\n",
    "print('Commercial :         ', comercial.groupby([\"firm\"]).sum().shape)\n",
    "print('Services :           ', services.groupby([\"firm\"]).sum().shape)\n",
    "print('Financial Services : ', financial.groupby([\"firm\"]).sum().shape)\n",
    "print('Manufacturing :     ',  manufacturing.groupby([\"firm\"]).sum().shape)"
   ]
  },
  {
   "cell_type": "markdown",
   "metadata": {},
   "source": [
    "**SE PUEDE OBSERVAR QUE LA INDUSTRIA CON MENOR CANTIDAD DE EMPRESAS ES LA** ***INDUSTRIA COMERCIAL*** **CON UNA CANTIDAD DE** ***231***\n",
    "\n",
    "**Y LA QUE POSEE MÁS EMPRESAS ES LA** ***INDUSTRIA DE MANUFACTURA*** **CON UN TOTAL DE** ***1565***"
   ]
  },
  {
   "cell_type": "markdown",
   "metadata": {},
   "source": [
    "---"
   ]
  },
  {
   "cell_type": "markdown",
   "metadata": {},
   "source": [
    " Para cada sector (y para todos los sectores), \n",
    "> ###### ¿Qué puede decir sobre el tamaño típico de la empresa en términos de valor de mercado y valor contable? \n",
    "\n",
    "> ###### ¿Cuánto cambian estas variables dentro de cada industria? \n",
    "\n",
    "> ###### ¿Cómo se distribuye el tamaño de la empresa (en valor de mercado)?\n",
    "**RESPUESTA.**"
   ]
  },
  {
   "cell_type": "markdown",
   "metadata": {},
   "source": [
    "**SE OBTIENE INFORMACIÓN DE LA MEDIANA YA QUE AL POSEER DATOS NULOS, EL DATASET SE ENCUNTRA MUY SESGADO Y LA MEDIA NO PROPORCIONA INFORMACIÓN NECESARIA.**\n"
   ]
  },
  {
   "cell_type": "code",
   "execution_count": 591,
   "metadata": {},
   "outputs": [
    {
     "name": "stdout",
     "output_type": "stream",
     "text": [
      "                       Valor de mercado  Valor contable\n",
      "Todas las industrias :  1570573.461       567545.0\n"
     ]
    }
   ],
   "source": [
    "# Para todas las industrias en función del valor de mercado y valor contable\n",
    "print('                      ','Valor de mercado', ' Valor contable')\n",
    "\n",
    "print('Todas las industrias : ',\n",
    "                            round(US_Firms[\"Market Value\"].median(),3),\n",
    "                            '     ',\n",
    "                            round(US_Firms[\"Book Value of the Firms\"].median(),3))"
   ]
  },
  {
   "cell_type": "markdown",
   "metadata": {},
   "source": [
    "**PARA TODAS LAS INDUSTRIAS SE OBTIENE UN TAMAÑO TÍPICO DE 1.570 MILLONES DE DOLARES BASADO EN EL VALOR DE MERCAD, BASANDONOS EN EL VALOR CONTABLE SE OBTIENE UN TAMAÑO TÍPICO DE 567 MILES DE DOLARES**"
   ]
  },
  {
   "cell_type": "code",
   "execution_count": 592,
   "metadata": {},
   "outputs": [
    {
     "data": {
      "text/plain": [
       "Text(0.5, 1.0, 'All Industrias Book Value for Commercial')"
      ]
     },
     "execution_count": 592,
     "metadata": {},
     "output_type": "execute_result"
    },
    {
     "data": {
      "image/png": "[encoded data removed]",
      "text/plain": [
       "<Figure size 1080x720 with 2 Axes>"
      ]
     },
     "metadata": {
      "needs_background": "light"
     },
     "output_type": "display_data"
    }
   ],
   "source": [
    "# Representación para todas las industrias del valor de mercado y valor contable\n",
    "fig = plt.figure(figsize=(15, 10))\n",
    "\n",
    "ax1 = fig.add_subplot(221)\n",
    "ax2 = fig.add_subplot(222)\n",
    "\n",
    "sns.boxplot(x=\"Market Value\",\n",
    "            data=US_Firms, \n",
    "            ax=ax1).set_title(\"All Industries Market Value\")\n",
    "\n",
    "sns.boxplot(x=\"Book Value of the Firms\",\n",
    "            data=US_Firms, \n",
    "            ax=ax2).set_title(\"All Industrias Book Value for Commercial\")"
   ]
  },
  {
   "cell_type": "markdown",
   "metadata": {},
   "source": [
    "**DE ACUERDO AL GRAFICO SE PUEDE OBSERVAR QUE EL VALOR DE MERCADO NO TIENE UNA DISTRIBUCIÓN NORMAL, TENIENDO UNA TENDENCIA DE VALORES ENTRE 0-1 MILLONES DE DOLARES. DE IGUAL MANERA ESTE GRAFICO NOS PERMITE VER QUE HAY UNA GRAN CANTIDAD DE VALORES EN 0**\n",
    "\n",
    "**A DIFERENCIA DEL VALOR DE MERCADO, EL VALOR CONTABLE MUESTRA UNA DISTRIBUCIÓN DISPERSA, AL MOSTRAR VALORES NEGATIVOS Y LA TENDENCIA DE VALORES ENTRE 0-2 MILES DE DOLARES. ASÍ MISMO EL GRAFICO MUESTRA UNA GRAN CANTIDAD DE VALORES EN 0**"
   ]
  },
  {
   "cell_type": "code",
   "execution_count": 593,
   "metadata": {},
   "outputs": [
    {
     "name": "stdout",
     "output_type": "stream",
     "text": [
      "Industria             Valor de mercado  Valor contable\n",
      "Commercial :           2083817.971       723936.0\n",
      "Services :             2184463.519       544419.0\n",
      "Financial Services :   1563695.938       893833.0\n",
      "Manufacturing :        1190025.11        363070.5\n"
     ]
    }
   ],
   "source": [
    "# Para cada industria valor de mercado y valor contable\n",
    "print('Industria            ','Valor de mercado', ' Valor contable')\n",
    "\n",
    "print('Commercial :          ', round(comercial[\"Market Value\"].median(),3),\n",
    "                            '     ',\n",
    "                            round(comercial[\"Book Value of the Firms\"].median(),3))\n",
    "print('Services :            ', round(services[\"Market Value\"].median(),3),\n",
    "                            '     ',\n",
    "                            round(services[\"Book Value of the Firms\"].median(),3))\n",
    "print('Financial Services :  ', round(financial[\"Market Value\"].median(),3),\n",
    "                            '     ',\n",
    "                            round(financial[\"Book Value of the Firms\"].median(),3))\n",
    "print('Manufacturing :       ',  round(manufacturing[\"Market Value\"].median(),3),\n",
    "                            '      ',\n",
    "                            round(manufacturing[\"Book Value of the Firms\"].median(),3))"
   ]
  },
  {
   "cell_type": "markdown",
   "metadata": {},
   "source": [
    "**PARA LA** ***INDUSTRIA COMERCIAL*** **SE TIENE UN TAMAÑO DE EMPRESA DE 2.083 MILLONES DE DOLARES AL BASARSE EN SU VALOR DE MERCADO Y UN TAMAÑO DE 723 MILES DE DOLARES DE SU VALOR CONTABLE DE**\n",
    "\n",
    "**EN EL SECTOR DE** ***SERVICIOS*** **SE OBSERVA UN VALOR DE MERCADO DE 2.184 MILLONES DE DOLARES PARA SU TAMAÑO DE EMPRESA Y UNA DIFERENCIA EN SU VALOR CONTABLE CON UNA CANTIDAD DE 544 MILES DE DOLARES.**\n",
    "\n",
    "**EN LA** ***INDUSTRIA FINANCIERA*** **EL TAMAÑO DE EMPRESA BASADO EN SU VALOR DE MERCADO ES DE 1.563 MILLONES DE DOLARES, AL BASARNOS EN SU VALOR CONTABLE EL TAMAÑO DE EMPRESA ES DE 893 MILES DE DOLARES.**\n",
    "\n",
    "**PARA LA** ***INDUSTRIA DE MANUFACTURA*** **MEDIANTE EL VALOR DE MERCADO SE TIENE UN TAMAÑO DE EMPRESA DE 1.190 MILLONES DE DOLARES, MEDIANTE EL VALOR CONTABLE EL TAMAÑO DE EMPRESA ES DE 363 MILES DE DOLARES.**"
   ]
  },
  {
   "cell_type": "code",
   "execution_count": 594,
   "metadata": {},
   "outputs": [
    {
     "data": {
      "text/plain": [
       "Text(0.5, 1.0, 'Book Value for Commercial')"
      ]
     },
     "execution_count": 594,
     "metadata": {},
     "output_type": "execute_result"
    },
    {
     "data": {
      "image/png": "[encoded data removed]",
      "text/plain": [
       "<Figure size 1080x720 with 2 Axes>"
      ]
     },
     "metadata": {
      "needs_background": "light"
     },
     "output_type": "display_data"
    }
   ],
   "source": [
    "# Representación industria comercial del valor de mercado y valor contable\n",
    "fig = plt.figure(figsize=(15, 10))\n",
    "\n",
    "ax1 = fig.add_subplot(221)\n",
    "ax2 = fig.add_subplot(222)\n",
    "\n",
    "sns.boxplot(x=\"Sector NAICS\\nlevel 1\",\n",
    "            y=\"Market Value\",\n",
    "            data=comercial, \n",
    "            hue=\"Sector NAICS\\nlevel 1\",\n",
    "            ax=ax1).set_title(\"Market Value\")\n",
    "\n",
    "sns.boxplot(x=\"Sector NAICS\\nlevel 1\",\n",
    "            y=\"Book Value of the Firms\",\n",
    "            data=comercial, \n",
    "            hue=\"Sector NAICS\\nlevel 1\",\n",
    "            ax=ax2).set_title(\"Book Value for Commercial\")"
   ]
  },
  {
   "cell_type": "code",
   "execution_count": 595,
   "metadata": {},
   "outputs": [
    {
     "data": {
      "text/plain": [
       "Text(0.5, 1.0, 'Book Value for Services')"
      ]
     },
     "execution_count": 595,
     "metadata": {},
     "output_type": "execute_result"
    },
    {
     "data": {
      "image/png": "[encoded data removed]",
      "text/plain": [
       "<Figure size 1080x720 with 2 Axes>"
      ]
     },
     "metadata": {
      "needs_background": "light"
     },
     "output_type": "display_data"
    }
   ],
   "source": [
    "# Representación industria de servicios del valor de mercado y valor contable\n",
    "fig = plt.figure(figsize=(15, 10))\n",
    "\n",
    "ax1 = fig.add_subplot(221)\n",
    "ax2 = fig.add_subplot(222)\n",
    "\n",
    "sns.boxplot(x=\"Sector NAICS\\nlevel 1\",\n",
    "            y=\"Market Value\",\n",
    "            data=services, \n",
    "            hue=\"Sector NAICS\\nlevel 1\",\n",
    "            ax=ax1).set_title(\"Market Value for Services\")\n",
    "\n",
    "sns.boxplot(x=\"Sector NAICS\\nlevel 1\",\n",
    "            y=\"Book Value of the Firms\",\n",
    "            data=services, \n",
    "            hue=\"Sector NAICS\\nlevel 1\",\n",
    "            ax=ax2).set_title(\"Book Value for Services\")"
   ]
  },
  {
   "cell_type": "code",
   "execution_count": 596,
   "metadata": {},
   "outputs": [
    {
     "data": {
      "text/plain": [
       "Text(0.5, 1.0, 'Book Value for Financial Services')"
      ]
     },
     "execution_count": 596,
     "metadata": {},
     "output_type": "execute_result"
    },
    {
     "data": {
      "image/png": "[encoded data removed]",
      "text/plain": [
       "<Figure size 1080x720 with 2 Axes>"
      ]
     },
     "metadata": {
      "needs_background": "light"
     },
     "output_type": "display_data"
    }
   ],
   "source": [
    "# Representación industria de servicios financieros del valor de mercado y valor contable\n",
    "fig = plt.figure(figsize=(15, 10))\n",
    "\n",
    "ax1 = fig.add_subplot(221)\n",
    "ax2 = fig.add_subplot(222)\n",
    "\n",
    "sns.boxplot(x=\"Sector NAICS\\nlevel 1\",\n",
    "            y=\"Market Value\",\n",
    "            data=financial, \n",
    "            hue=\"Sector NAICS\\nlevel 1\",\n",
    "            ax=ax1).set_title(\"Market Value for Financial Services\")\n",
    "\n",
    "sns.boxplot(x=\"Sector NAICS\\nlevel 1\",\n",
    "            y=\"Book Value of the Firms\",\n",
    "            data=financial, \n",
    "            hue=\"Sector NAICS\\nlevel 1\",\n",
    "            ax=ax2).set_title(\"Book Value for Financial Services\")"
   ]
  },
  {
   "cell_type": "code",
   "execution_count": 597,
   "metadata": {},
   "outputs": [
    {
     "data": {
      "text/plain": [
       "Text(0.5, 1.0, 'Book Value for Manufacturing')"
      ]
     },
     "execution_count": 597,
     "metadata": {},
     "output_type": "execute_result"
    },
    {
     "data": {
      "image/png": "[encoded data removed]",
      "text/plain": [
       "<Figure size 1080x720 with 2 Axes>"
      ]
     },
     "metadata": {
      "needs_background": "light"
     },
     "output_type": "display_data"
    }
   ],
   "source": [
    "# Representación industria de manufactura del valor de mercado y valor contable\n",
    "fig = plt.figure(figsize=(15, 10))\n",
    "\n",
    "ax1 = fig.add_subplot(221)\n",
    "ax2 = fig.add_subplot(222)\n",
    "\n",
    "sns.boxplot(x=\"Sector NAICS\\nlevel 1\",\n",
    "            y=\"Market Value\",\n",
    "            data=manufacturing, \n",
    "            hue=\"Sector NAICS\\nlevel 1\",\n",
    "            ax=ax1).set_title(\"Market Value for Manufacturing\")\n",
    "\n",
    "sns.boxplot(x=\"Sector NAICS\\nlevel 1\",\n",
    "            y=\"Book Value of the Firms\",\n",
    "            data=manufacturing, \n",
    "            hue=\"Sector NAICS\\nlevel 1\",\n",
    "            ax=ax2).set_title(\"Book Value for Manufacturing\")"
   ]
  },
  {
   "cell_type": "markdown",
   "metadata": {},
   "source": [
    "---"
   ]
  },
  {
   "cell_type": "markdown",
   "metadata": {},
   "source": [
    "Para cada sector (y para todos los sectores)\n",
    ">###### ¿Qué puede decir sobre el margen de beneficio de las empresas? \n",
    ">###### a) estadísticas descriptivas del margen de beneficios \n",
    ">###### b) gráfico(s) para ilustrar cómo cambia el margen de beneficios entre las industrias."
   ]
  },
  {
   "cell_type": "code",
   "execution_count": 689,
   "metadata": {},
   "outputs": [
    {
     "name": "stdout",
     "output_type": "stream",
     "text": [
      "count   157824.000\n",
      "mean           NaN\n",
      "std            NaN\n",
      "min           -inf\n",
      "25%         -0.030\n",
      "50%          0.053\n",
      "75%          0.142\n",
      "max            inf\n",
      "Name: Profit Margin, dtype: float64\n",
      "All Industries Profit Margin :  0.0531\n"
     ]
    },
    {
     "data": {
      "text/plain": [
       "<AxesSubplot:xlabel='firm'>"
      ]
     },
     "execution_count": 689,
     "metadata": {},
     "output_type": "execute_result"
    },
    {
     "data": {
      "image/png": "[encoded data removed]",
      "text/plain": [
       "<Figure size 432x288 with 1 Axes>"
      ]
     },
     "metadata": {
      "needs_background": "light"
     },
     "output_type": "display_data"
    }
   ],
   "source": [
    "# Analisis descriptivo\n",
    "print(US_Firms['Profit Margin'].describe())\n",
    "print('All Industries Profit Margin : ', round(US_Firms['Profit Margin'].median(),4))\n",
    "US_Firms[\"Profit Margin\"].groupby([\"firm\"]).last().plot()"
   ]
  },
  {
   "cell_type": "code",
   "execution_count": 690,
   "metadata": {},
   "outputs": [
    {
     "name": "stdout",
     "output_type": "stream",
     "text": [
      "Comercial Profit Margin :  0.0286\n"
     ]
    },
    {
     "data": {
      "text/plain": [
       "<AxesSubplot:xlabel='firm'>"
      ]
     },
     "execution_count": 690,
     "metadata": {},
     "output_type": "execute_result"
    },
    {
     "data": {
      "image/png": "[encoded data removed]",
      "text/plain": [
       "<Figure size 432x288 with 1 Axes>"
      ]
     },
     "metadata": {
      "needs_background": "light"
     },
     "output_type": "display_data"
    }
   ],
   "source": [
    "print('Comercial Profit Margin : ', round(comercial['Profit Margin'].median(),4))\n",
    "comercial[\"Profit Margin\"].groupby([\"firm\"]).last().plot()"
   ]
  },
  {
   "cell_type": "code",
   "execution_count": 691,
   "metadata": {},
   "outputs": [
    {
     "name": "stdout",
     "output_type": "stream",
     "text": [
      "Services Profit Margin :  0.0406\n"
     ]
    },
    {
     "data": {
      "text/plain": [
       "<AxesSubplot:xlabel='firm'>"
      ]
     },
     "execution_count": 691,
     "metadata": {},
     "output_type": "execute_result"
    },
    {
     "data": {
      "image/png": "[encoded data removed]",
      "text/plain": [
       "<Figure size 432x288 with 1 Axes>"
      ]
     },
     "metadata": {
      "needs_background": "light"
     },
     "output_type": "display_data"
    }
   ],
   "source": [
    "print('Services Profit Margin : ', round(services['Profit Margin'].median(),4))\n",
    "services[\"Profit Margin\"].groupby([\"firm\"]).last().plot()"
   ]
  },
  {
   "cell_type": "code",
   "execution_count": 692,
   "metadata": {},
   "outputs": [
    {
     "name": "stdout",
     "output_type": "stream",
     "text": [
      "Financial Services Profit Margin :  0.2989\n"
     ]
    },
    {
     "data": {
      "text/plain": [
       "<AxesSubplot:xlabel='firm'>"
      ]
     },
     "execution_count": 692,
     "metadata": {},
     "output_type": "execute_result"
    },
    {
     "data": {
      "image/png": "[encoded data removed]",
      "text/plain": [
       "<Figure size 432x288 with 1 Axes>"
      ]
     },
     "metadata": {
      "needs_background": "light"
     },
     "output_type": "display_data"
    }
   ],
   "source": [
    "print('Financial Services Profit Margin : ', round(financial['Profit Margin'].median(),4))\n",
    "financial[\"Profit Margin\"].groupby([\"firm\"]).last().plot()"
   ]
  },
  {
   "cell_type": "code",
   "execution_count": 693,
   "metadata": {},
   "outputs": [
    {
     "name": "stdout",
     "output_type": "stream",
     "text": [
      "Manufacturing Profit Margin :  0.0298\n"
     ]
    },
    {
     "data": {
      "text/plain": [
       "<AxesSubplot:xlabel='firm'>"
      ]
     },
     "execution_count": 693,
     "metadata": {},
     "output_type": "execute_result"
    },
    {
     "data": {
      "image/png": "[encoded data removed]",
      "text/plain": [
       "<Figure size 432x288 with 1 Axes>"
      ]
     },
     "metadata": {
      "needs_background": "light"
     },
     "output_type": "display_data"
    }
   ],
   "source": [
    "print('Manufacturing Profit Margin : ', round(manufacturing['Profit Margin'].median(),4))\n",
    "manufacturing[\"Profit Margin\"].groupby([\"firm\"]).last().plot()"
   ]
  },
  {
   "cell_type": "markdown",
   "metadata": {},
   "source": [
    "**EL MARGEN DE BENEFICIO PARA TODAS LAS INDUSTRIAS ES DEL** ***5%*** **DE BENEFICIO POR VENTA**\n",
    "\n",
    "- **EL MARGEN DE BENEFICIO PARA LA** ***INDUSTRIA COMERCIAL*** **ES DEL** ***2.87%*** **DE BENEFICIO POR VENTA**\n",
    "- **EL MARGEN DE BENEFICIO PARA LA** ***INDUSTRIA DE SERVICIOS*** **ES DEL** ***4%*** **DE BENEFICIO POR VENTA**\n",
    "- **EL MARGEN DE BENEFICIO PARA LA** ***INDUSTRIA FINANCIERA*** **ES DEL** ***29%*** **DE BENEFICIO POR VENTA**\n",
    "- **EL MARGEN DE BENEFICIO PARA LA** ***INDUSTRIA DE MANUFACTURA*** **ES DEL** ***2.98%*** **DE BENEFICIO POR VENTA**"
   ]
  },
  {
   "cell_type": "markdown",
   "metadata": {},
   "source": [
    "---"
   ]
  },
  {
   "cell_type": "code",
   "execution_count": 665,
   "metadata": {},
   "outputs": [],
   "source": [
    "B_Firms = US_Firms.groupby([\"firm\"]).last()\n",
    "B_Firms = B_Firms[['Name','Book Value of the Firms','Market Value']]"
   ]
  },
  {
   "cell_type": "markdown",
   "metadata": {},
   "source": [
    ">###### ¿Cuáles son las 10 empresas estadounidenses más grandes en términos de valor de mercado y a qué distancia están del tamaño típico de una empresa estadounidense?\n",
    "\n"
   ]
  },
  {
   "cell_type": "code",
   "execution_count": 697,
   "metadata": {},
   "outputs": [
    {
     "name": "stdout",
     "output_type": "stream",
     "text": [
      "Valor de Mercado :  1570573.461\n"
     ]
    }
   ],
   "source": [
    "print('Valor de Mercado : ', round(US_Firms['Market Value'].median(),3))"
   ]
  },
  {
   "cell_type": "code",
   "execution_count": 668,
   "metadata": {},
   "outputs": [
    {
     "data": {
      "text/html": [
       "<div>\n",
       "<style scoped>\n",
       "    .dataframe tbody tr th:only-of-type {\n",
       "        vertical-align: middle;\n",
       "    }\n",
       "\n",
       "    .dataframe tbody tr th {\n",
       "        vertical-align: top;\n",
       "    }\n",
       "\n",
       "    .dataframe thead th {\n",
       "        text-align: right;\n",
       "    }\n",
       "</style>\n",
       "<table border=\"1\" class=\"dataframe\">\n",
       "  <thead>\n",
       "    <tr style=\"text-align: right;\">\n",
       "      <th></th>\n",
       "      <th>Name</th>\n",
       "      <th>Market Value</th>\n",
       "    </tr>\n",
       "    <tr>\n",
       "      <th>firm</th>\n",
       "      <th></th>\n",
       "      <th></th>\n",
       "    </tr>\n",
       "  </thead>\n",
       "  <tbody>\n",
       "    <tr>\n",
       "      <th>AAPL</th>\n",
       "      <td>Apple Inc</td>\n",
       "      <td>2212837946.320</td>\n",
       "    </tr>\n",
       "    <tr>\n",
       "      <th>MSFT</th>\n",
       "      <td>Microsoft Corp</td>\n",
       "      <td>1920840080.062</td>\n",
       "    </tr>\n",
       "    <tr>\n",
       "      <th>GOOGL</th>\n",
       "      <td>Alphabet Inc</td>\n",
       "      <td>1435042441.951</td>\n",
       "    </tr>\n",
       "    <tr>\n",
       "      <th>AMZN</th>\n",
       "      <td>Amazon.Com, Inc</td>\n",
       "      <td>1080624045.740</td>\n",
       "    </tr>\n",
       "    <tr>\n",
       "      <th>TSLA</th>\n",
       "      <td>Tesla, Inc</td>\n",
       "      <td>697669803.694</td>\n",
       "    </tr>\n",
       "    <tr>\n",
       "      <th>UNH</th>\n",
       "      <td>Unitedhealth Group Inc</td>\n",
       "      <td>481873080.449</td>\n",
       "    </tr>\n",
       "    <tr>\n",
       "      <th>JNJ</th>\n",
       "      <td>Johnson &amp; Johnson</td>\n",
       "      <td>467100134.228</td>\n",
       "    </tr>\n",
       "    <tr>\n",
       "      <th>META</th>\n",
       "      <td>Meta Platforms, Inc</td>\n",
       "      <td>436394646.154</td>\n",
       "    </tr>\n",
       "    <tr>\n",
       "      <th>NVDA</th>\n",
       "      <td>Nvidia Corp</td>\n",
       "      <td>378975000.000</td>\n",
       "    </tr>\n",
       "    <tr>\n",
       "      <th>V</th>\n",
       "      <td>Visa Inc</td>\n",
       "      <td>374342638.809</td>\n",
       "    </tr>\n",
       "  </tbody>\n",
       "</table>\n",
       "</div>"
      ],
      "text/plain": [
       "                         Name   Market Value\n",
       "firm                                        \n",
       "AAPL                Apple Inc 2212837946.320\n",
       "MSFT           Microsoft Corp 1920840080.062\n",
       "GOOGL            Alphabet Inc 1435042441.951\n",
       "AMZN          Amazon.Com, Inc 1080624045.740\n",
       "TSLA               Tesla, Inc  697669803.694\n",
       "UNH    Unitedhealth Group Inc  481873080.449\n",
       "JNJ         Johnson & Johnson  467100134.228\n",
       "META      Meta Platforms, Inc  436394646.154\n",
       "NVDA              Nvidia Corp  378975000.000\n",
       "V                    Visa Inc  374342638.809"
      ]
     },
     "execution_count": 668,
     "metadata": {},
     "output_type": "execute_result"
    }
   ],
   "source": [
    "top = B_Firms.sort_values('Market Value', ascending=False)\n",
    "top[['Name','Market Value']].head(10)"
   ]
  },
  {
   "cell_type": "markdown",
   "metadata": {},
   "source": [
    "**DE ACUERDO A LA MEDIANA DEL VALOR DE MERCADO QUE ES DE 1.570 MILLONES DE DOLARES, LAS 10 EMPRESAS MÁS GRANDES SOBREPASAN EL TAMAÑO TÍPICO DE UNA EMPRESA ESTADOUNIDENSE**"
   ]
  },
  {
   "cell_type": "markdown",
   "metadata": {},
   "source": [
    ">###### ¿Cuáles son las 10 empresas estadounidenses más importantes en términos de valor contable y a qué distancia están del tamaño típico de una empresa estadounidense?"
   ]
  },
  {
   "cell_type": "code",
   "execution_count": 699,
   "metadata": {},
   "outputs": [
    {
     "name": "stdout",
     "output_type": "stream",
     "text": [
      "Valor Contable :  567545.0\n"
     ]
    }
   ],
   "source": [
    "print('Valor Contable : ', round(US_Firms['Book Value of the Firms'].median(),3))"
   ]
  },
  {
   "cell_type": "code",
   "execution_count": 669,
   "metadata": {},
   "outputs": [
    {
     "data": {
      "text/html": [
       "<div>\n",
       "<style scoped>\n",
       "    .dataframe tbody tr th:only-of-type {\n",
       "        vertical-align: middle;\n",
       "    }\n",
       "\n",
       "    .dataframe tbody tr th {\n",
       "        vertical-align: top;\n",
       "    }\n",
       "\n",
       "    .dataframe thead th {\n",
       "        text-align: right;\n",
       "    }\n",
       "</style>\n",
       "<table border=\"1\" class=\"dataframe\">\n",
       "  <thead>\n",
       "    <tr style=\"text-align: right;\">\n",
       "      <th></th>\n",
       "      <th>Name</th>\n",
       "      <th>Book Value of the Firms</th>\n",
       "    </tr>\n",
       "    <tr>\n",
       "      <th>firm</th>\n",
       "      <th></th>\n",
       "      <th></th>\n",
       "    </tr>\n",
       "  </thead>\n",
       "  <tbody>\n",
       "    <tr>\n",
       "      <th>JPM</th>\n",
       "      <td>Jpmorgan Chase &amp; Co</td>\n",
       "      <td>286143000.000</td>\n",
       "    </tr>\n",
       "    <tr>\n",
       "      <th>BAC</th>\n",
       "      <td>Bank Of America Corp</td>\n",
       "      <td>269118000.000</td>\n",
       "    </tr>\n",
       "    <tr>\n",
       "      <th>GOOGL</th>\n",
       "      <td>Alphabet Inc</td>\n",
       "      <td>255419000.000</td>\n",
       "    </tr>\n",
       "    <tr>\n",
       "      <th>C</th>\n",
       "      <td>Citigroup Inc</td>\n",
       "      <td>199626000.000</td>\n",
       "    </tr>\n",
       "    <tr>\n",
       "      <th>XOM</th>\n",
       "      <td>Exxon Mobil Corp</td>\n",
       "      <td>184508000.000</td>\n",
       "    </tr>\n",
       "    <tr>\n",
       "      <th>WFC</th>\n",
       "      <td>Wells Fargo &amp; Company</td>\n",
       "      <td>179793000.000</td>\n",
       "    </tr>\n",
       "    <tr>\n",
       "      <th>MSFT</th>\n",
       "      <td>Microsoft Corp</td>\n",
       "      <td>166542000.000</td>\n",
       "    </tr>\n",
       "    <tr>\n",
       "      <th>CVX</th>\n",
       "      <td>Chevron Corp</td>\n",
       "      <td>154562000.000</td>\n",
       "    </tr>\n",
       "    <tr>\n",
       "      <th>T</th>\n",
       "      <td>AT&amp;T Inc</td>\n",
       "      <td>135307000.000</td>\n",
       "    </tr>\n",
       "    <tr>\n",
       "      <th>AMZN</th>\n",
       "      <td>Amazon.Com, Inc</td>\n",
       "      <td>131402000.000</td>\n",
       "    </tr>\n",
       "  </tbody>\n",
       "</table>\n",
       "</div>"
      ],
      "text/plain": [
       "                        Name  Book Value of the Firms\n",
       "firm                                                 \n",
       "JPM      Jpmorgan Chase & Co            286143000.000\n",
       "BAC     Bank Of America Corp            269118000.000\n",
       "GOOGL           Alphabet Inc            255419000.000\n",
       "C              Citigroup Inc            199626000.000\n",
       "XOM         Exxon Mobil Corp            184508000.000\n",
       "WFC    Wells Fargo & Company            179793000.000\n",
       "MSFT          Microsoft Corp            166542000.000\n",
       "CVX             Chevron Corp            154562000.000\n",
       "T                   AT&T Inc            135307000.000\n",
       "AMZN         Amazon.Com, Inc            131402000.000"
      ]
     },
     "execution_count": 669,
     "metadata": {},
     "output_type": "execute_result"
    }
   ],
   "source": [
    "top = B_Firms.sort_values('Book Value of the Firms', ascending=False)\n",
    "top[['Name','Book Value of the Firms']].head(10)"
   ]
  },
  {
   "cell_type": "markdown",
   "metadata": {},
   "source": [
    "**DE ACUERDO A LA MEDIANA DEL VALOR CONTABLE QUE ES DE 567 MILES DE DOLARES, LAS 10 EMPRESAS MÁS GRANDES SOBREPASAN EL TAMAÑO TÍPICO DE UNA EMPRESA ESTADOUNIDENSE**"
   ]
  },
  {
   "cell_type": "markdown",
   "metadata": {},
   "source": [
    "---"
   ]
  },
  {
   "cell_type": "markdown",
   "metadata": {},
   "source": [
    "#### *Modelado estadistico*"
   ]
  },
  {
   "cell_type": "markdown",
   "metadata": {},
   "source": [
    "Considerando todo el historial de datos financieros de todas las empresas:\n",
    "\n",
    ">###### ¿Cómo se puede medir la rentabilidad de las empresas que se puede utilizar para comparar el rendimiento entre empresas de diferentes tamaños? Seleccionar y justificar al menos 3 medidas y mostrar estadísticas descriptivas\n",
    " **RESPUESTA.**\n",
    "\n",
    ">###### Calcular y explicar las ganancias por acción deflactadas por precio.\n",
    "**RESPUESTA.**"
   ]
  },
  {
   "cell_type": "markdown",
   "metadata": {},
   "source": [
    "Utilizando su subconjunto de empresas que pertenecen a su sector\n",
    "> ###### ¿qué factores (variables) podrían estar relacionados con la rentabilidad anual de las acciones en un trimestre en el futuro? \n",
    "Seleccione al menos 3 factores y explique brevemente.\n",
    "> ###### ¿por qué cree que podrían estar relacionados con la rentabilidad de las acciones?.\n",
    "**RESPUESTA.**"
   ]
  },
  {
   "cell_type": "code",
   "execution_count": 638,
   "metadata": {},
   "outputs": [
    {
     "data": {
      "text/html": [
       "<div>\n",
       "<style scoped>\n",
       "    .dataframe tbody tr th:only-of-type {\n",
       "        vertical-align: middle;\n",
       "    }\n",
       "\n",
       "    .dataframe tbody tr th {\n",
       "        vertical-align: top;\n",
       "    }\n",
       "\n",
       "    .dataframe thead th {\n",
       "        text-align: right;\n",
       "    }\n",
       "</style>\n",
       "<table border=\"1\" class=\"dataframe\">\n",
       "  <thead>\n",
       "    <tr style=\"text-align: right;\">\n",
       "      <th></th>\n",
       "      <th></th>\n",
       "      <th>adjprice</th>\n",
       "      <th>r</th>\n",
       "    </tr>\n",
       "    <tr>\n",
       "      <th>firm</th>\n",
       "      <th>q</th>\n",
       "      <th></th>\n",
       "      <th></th>\n",
       "    </tr>\n",
       "  </thead>\n",
       "  <tbody>\n",
       "    <tr>\n",
       "      <th rowspan=\"5\" valign=\"top\">FLWS</th>\n",
       "      <th>2000Q1</th>\n",
       "      <td>7.125</td>\n",
       "      <td>NaN</td>\n",
       "    </tr>\n",
       "    <tr>\n",
       "      <th>2000Q2</th>\n",
       "      <td>5.125</td>\n",
       "      <td>NaN</td>\n",
       "    </tr>\n",
       "    <tr>\n",
       "      <th>2000Q3</th>\n",
       "      <td>4.984</td>\n",
       "      <td>NaN</td>\n",
       "    </tr>\n",
       "    <tr>\n",
       "      <th>2000Q4</th>\n",
       "      <td>4.125</td>\n",
       "      <td>NaN</td>\n",
       "    </tr>\n",
       "    <tr>\n",
       "      <th>2001Q1</th>\n",
       "      <td>8.000</td>\n",
       "      <td>0.116</td>\n",
       "    </tr>\n",
       "    <tr>\n",
       "      <th>...</th>\n",
       "      <th>...</th>\n",
       "      <td>...</td>\n",
       "      <td>...</td>\n",
       "    </tr>\n",
       "    <tr>\n",
       "      <th rowspan=\"5\" valign=\"top\">ZNGA</th>\n",
       "      <th>2021Q2</th>\n",
       "      <td>10.630</td>\n",
       "      <td>0.108</td>\n",
       "    </tr>\n",
       "    <tr>\n",
       "      <th>2021Q3</th>\n",
       "      <td>7.530</td>\n",
       "      <td>-0.192</td>\n",
       "    </tr>\n",
       "    <tr>\n",
       "      <th>2021Q4</th>\n",
       "      <td>6.400</td>\n",
       "      <td>-0.433</td>\n",
       "    </tr>\n",
       "    <tr>\n",
       "      <th>2022Q1</th>\n",
       "      <td>9.240</td>\n",
       "      <td>-0.100</td>\n",
       "    </tr>\n",
       "    <tr>\n",
       "      <th>2022Q2</th>\n",
       "      <td>8.180</td>\n",
       "      <td>-0.262</td>\n",
       "    </tr>\n",
       "  </tbody>\n",
       "</table>\n",
       "<p>323816 rows × 2 columns</p>\n",
       "</div>"
      ],
      "text/plain": [
       "             adjprice      r\n",
       "firm q                      \n",
       "FLWS 2000Q1     7.125    NaN\n",
       "     2000Q2     5.125    NaN\n",
       "     2000Q3     4.984    NaN\n",
       "     2000Q4     4.125    NaN\n",
       "     2001Q1     8.000  0.116\n",
       "...               ...    ...\n",
       "ZNGA 2021Q2    10.630  0.108\n",
       "     2021Q3     7.530 -0.192\n",
       "     2021Q4     6.400 -0.433\n",
       "     2022Q1     9.240 -0.100\n",
       "     2022Q2     8.180 -0.262\n",
       "\n",
       "[323816 rows x 2 columns]"
      ]
     },
     "execution_count": 638,
     "metadata": {},
     "output_type": "execute_result"
    }
   ],
   "source": [
    "US_Firms[\"r\"] = np.log(US_Firms[\"adjprice\"]) - np.log(US_Firms[\"adjprice\"].shift(4))\n",
    "US_Firms[[\"adjprice\",\"r\"]]"
   ]
  },
  {
   "cell_type": "code",
   "execution_count": 639,
   "metadata": {},
   "outputs": [
    {
     "data": {
      "text/html": [
       "<div>\n",
       "<style scoped>\n",
       "    .dataframe tbody tr th:only-of-type {\n",
       "        vertical-align: middle;\n",
       "    }\n",
       "\n",
       "    .dataframe tbody tr th {\n",
       "        vertical-align: top;\n",
       "    }\n",
       "\n",
       "    .dataframe thead th {\n",
       "        text-align: right;\n",
       "    }\n",
       "</style>\n",
       "<table border=\"1\" class=\"dataframe\">\n",
       "  <thead>\n",
       "    <tr style=\"text-align: right;\">\n",
       "      <th></th>\n",
       "      <th></th>\n",
       "      <th>r</th>\n",
       "      <th>F1_ret</th>\n",
       "    </tr>\n",
       "    <tr>\n",
       "      <th>firm</th>\n",
       "      <th>q</th>\n",
       "      <th></th>\n",
       "      <th></th>\n",
       "    </tr>\n",
       "  </thead>\n",
       "  <tbody>\n",
       "    <tr>\n",
       "      <th rowspan=\"5\" valign=\"top\">FLWS</th>\n",
       "      <th>2000Q1</th>\n",
       "      <td>NaN</td>\n",
       "      <td>NaN</td>\n",
       "    </tr>\n",
       "    <tr>\n",
       "      <th>2000Q2</th>\n",
       "      <td>NaN</td>\n",
       "      <td>NaN</td>\n",
       "    </tr>\n",
       "    <tr>\n",
       "      <th>2000Q3</th>\n",
       "      <td>NaN</td>\n",
       "      <td>NaN</td>\n",
       "    </tr>\n",
       "    <tr>\n",
       "      <th>2000Q4</th>\n",
       "      <td>NaN</td>\n",
       "      <td>0.116</td>\n",
       "    </tr>\n",
       "    <tr>\n",
       "      <th>2001Q1</th>\n",
       "      <td>0.116</td>\n",
       "      <td>1.063</td>\n",
       "    </tr>\n",
       "    <tr>\n",
       "      <th>...</th>\n",
       "      <th>...</th>\n",
       "      <td>...</td>\n",
       "      <td>...</td>\n",
       "    </tr>\n",
       "    <tr>\n",
       "      <th rowspan=\"5\" valign=\"top\">ZNGA</th>\n",
       "      <th>2021Q2</th>\n",
       "      <td>0.108</td>\n",
       "      <td>-0.192</td>\n",
       "    </tr>\n",
       "    <tr>\n",
       "      <th>2021Q3</th>\n",
       "      <td>-0.192</td>\n",
       "      <td>-0.433</td>\n",
       "    </tr>\n",
       "    <tr>\n",
       "      <th>2021Q4</th>\n",
       "      <td>-0.433</td>\n",
       "      <td>-0.100</td>\n",
       "    </tr>\n",
       "    <tr>\n",
       "      <th>2022Q1</th>\n",
       "      <td>-0.100</td>\n",
       "      <td>-0.262</td>\n",
       "    </tr>\n",
       "    <tr>\n",
       "      <th>2022Q2</th>\n",
       "      <td>-0.262</td>\n",
       "      <td>NaN</td>\n",
       "    </tr>\n",
       "  </tbody>\n",
       "</table>\n",
       "<p>323816 rows × 2 columns</p>\n",
       "</div>"
      ],
      "text/plain": [
       "                 r  F1_ret\n",
       "firm q                    \n",
       "FLWS 2000Q1    NaN     NaN\n",
       "     2000Q2    NaN     NaN\n",
       "     2000Q3    NaN     NaN\n",
       "     2000Q4    NaN   0.116\n",
       "     2001Q1  0.116   1.063\n",
       "...            ...     ...\n",
       "ZNGA 2021Q2  0.108  -0.192\n",
       "     2021Q3 -0.192  -0.433\n",
       "     2021Q4 -0.433  -0.100\n",
       "     2022Q1 -0.100  -0.262\n",
       "     2022Q2 -0.262     NaN\n",
       "\n",
       "[323816 rows x 2 columns]"
      ]
     },
     "execution_count": 639,
     "metadata": {},
     "output_type": "execute_result"
    }
   ],
   "source": [
    "US_Firms[\"F1_ret\"] = US_Firms[\"r\"].shift(-1)\n",
    "US_Firms[[\"r\",\"F1_ret\"]]"
   ]
  },
  {
   "cell_type": "code",
   "execution_count": 640,
   "metadata": {},
   "outputs": [
    {
     "data": {
      "text/html": [
       "<div>\n",
       "<style scoped>\n",
       "    .dataframe tbody tr th:only-of-type {\n",
       "        vertical-align: middle;\n",
       "    }\n",
       "\n",
       "    .dataframe tbody tr th {\n",
       "        vertical-align: top;\n",
       "    }\n",
       "\n",
       "    .dataframe thead th {\n",
       "        text-align: right;\n",
       "    }\n",
       "</style>\n",
       "<table border=\"1\" class=\"dataframe\">\n",
       "  <thead>\n",
       "    <tr style=\"text-align: right;\">\n",
       "      <th></th>\n",
       "      <th></th>\n",
       "      <th>Ticker</th>\n",
       "      <th>Name</th>\n",
       "      <th>Sector NAICS\\nlevel 1</th>\n",
       "      <th>revenue</th>\n",
       "      <th>cogs</th>\n",
       "      <th>sgae</th>\n",
       "      <th>otheropexp</th>\n",
       "      <th>extraincome</th>\n",
       "      <th>finexp</th>\n",
       "      <th>incometax</th>\n",
       "      <th>totalassets</th>\n",
       "      <th>totalliabilities</th>\n",
       "      <th>shortdebt</th>\n",
       "      <th>longdebt</th>\n",
       "      <th>stockholderequity</th>\n",
       "      <th>adjprice</th>\n",
       "      <th>originalprice</th>\n",
       "      <th>sharesoutstanding</th>\n",
       "      <th>fiscalmonth</th>\n",
       "      <th>year</th>\n",
       "      <th>cto</th>\n",
       "      <th>Book Value of the Firms</th>\n",
       "      <th>Market Value</th>\n",
       "      <th>Operating Profit</th>\n",
       "      <th>OPM</th>\n",
       "      <th>Net Income</th>\n",
       "      <th>Profit Margin</th>\n",
       "      <th>r</th>\n",
       "      <th>F1_ret</th>\n",
       "      <th>EPSP</th>\n",
       "      <th>Sales Annual G</th>\n",
       "      <th>Book to Market Ratio</th>\n",
       "      <th>size</th>\n",
       "    </tr>\n",
       "    <tr>\n",
       "      <th>firm</th>\n",
       "      <th>q</th>\n",
       "      <th></th>\n",
       "      <th></th>\n",
       "      <th></th>\n",
       "      <th></th>\n",
       "      <th></th>\n",
       "      <th></th>\n",
       "      <th></th>\n",
       "      <th></th>\n",
       "      <th></th>\n",
       "      <th></th>\n",
       "      <th></th>\n",
       "      <th></th>\n",
       "      <th></th>\n",
       "      <th></th>\n",
       "      <th></th>\n",
       "      <th></th>\n",
       "      <th></th>\n",
       "      <th></th>\n",
       "      <th></th>\n",
       "      <th></th>\n",
       "      <th></th>\n",
       "      <th></th>\n",
       "      <th></th>\n",
       "      <th></th>\n",
       "      <th></th>\n",
       "      <th></th>\n",
       "      <th></th>\n",
       "      <th></th>\n",
       "      <th></th>\n",
       "      <th></th>\n",
       "      <th></th>\n",
       "      <th></th>\n",
       "      <th></th>\n",
       "    </tr>\n",
       "  </thead>\n",
       "  <tbody>\n",
       "  </tbody>\n",
       "</table>\n",
       "</div>"
      ],
      "text/plain": [
       "Empty DataFrame\n",
       "Columns: [Ticker, Name, Sector NAICS\n",
       "level 1, revenue, cogs, sgae, otheropexp, extraincome, finexp, incometax, totalassets, totalliabilities, shortdebt, longdebt, stockholderequity, adjprice, originalprice, sharesoutstanding, fiscalmonth, year, cto, Book Value of the Firms, Market Value, Operating Profit, OPM, Net Income, Profit Margin, r, F1_ret, EPSP, Sales Annual G, Book to Market Ratio, size]\n",
       "Index: []"
      ]
     },
     "execution_count": 640,
     "metadata": {},
     "output_type": "execute_result"
    }
   ],
   "source": [
    "#Earning per share:\n",
    "US_Firms[\"EPSP\"] = US_Firms['Net Income'] / US_Firms[\"sharesoutstanding\"]\n",
    "\n",
    "#Sales annual growth\n",
    "US_Firms[\"Sales Annual G\"] = (US_Firms[\"revenue\"] / (US_Firms[\"revenue\"].shift(-4)))-1\n",
    "\n",
    "#Book to market ratio\n",
    "US_Firms[\"Book to Market Ratio\"] = (US_Firms[\"totalassets\"] - US_Firms[\"totalliabilities\"]) / (US_Firms[\"originalprice\"] * US_Firms[\"sharesoutstanding\"])\n",
    "\n",
    "#To classify by size\n",
    "US_Firms.sort_values(\"Market Value\").groupby(\"q\")\n",
    "US_Firms[\"size\"] = pd.cut(US_Firms[\"Market Value\"], bins=3, labels = [\"small\",\"medium\",\"big\"])\n",
    "\n",
    "US_Firms.head(0)"
   ]
  },
  {
   "cell_type": "markdown",
   "metadata": {},
   "source": [
    "**PARA CONOCER LAS FIRMAS CON UNA MAYOR RENTABILIDAD, LAS VARIABLES QUE SE PUEDEN TOMAR SON :**\n",
    "- **EARNING PER SHARE - INDICA EL FACTOR DE RENTABILIDAD DE UNA EMPRESA**\n",
    "- **SALES ANNUAL GROWTH - REPRESENTA EL CAMBIO EN LAS VENTAS CON RESPECTO A UN PERIODO ANTERIOR, ES UN PARAMETRO ESENCIAL PARA CONOCER EL CRECIMIENTO FINANCIERO DE LA EMPRESA**\n",
    "- **BOOK TO MARKET RATIO - DETERMINA EL VALOR DE MERCADO DE UNA EMPRESA EN RELACIÓN CON SU VALOR REAL**\n"
   ]
  },
  {
   "cell_type": "markdown",
   "metadata": {},
   "source": [
    ">###### Realice histogramas para cada factor/variable e interpretarlos"
   ]
  },
  {
   "cell_type": "code",
   "execution_count": 641,
   "metadata": {},
   "outputs": [
    {
     "data": {
      "text/plain": [
       "<AxesSubplot:xlabel='F1_ret', ylabel='Count'>"
      ]
     },
     "execution_count": 641,
     "metadata": {},
     "output_type": "execute_result"
    },
    {
     "data": {
      "image/png": "[encoded data removed]",
      "text/plain": [
       "<Figure size 432x288 with 1 Axes>"
      ]
     },
     "metadata": {
      "needs_background": "light"
     },
     "output_type": "display_data"
    }
   ],
   "source": [
    "sns.histplot(x=\"F1_ret\",data=US_Firms)"
   ]
  },
  {
   "cell_type": "markdown",
   "metadata": {},
   "source": [
    "**RESPUESTA.**"
   ]
  },
  {
   "cell_type": "code",
   "execution_count": 642,
   "metadata": {},
   "outputs": [
    {
     "data": {
      "text/plain": [
       "<AxesSubplot:xlabel='EPSP', ylabel='Density'>"
      ]
     },
     "execution_count": 642,
     "metadata": {},
     "output_type": "execute_result"
    },
    {
     "data": {
      "image/png": "[encoded data removed]",
      "text/plain": [
       "<Figure size 432x288 with 1 Axes>"
      ]
     },
     "metadata": {
      "needs_background": "light"
     },
     "output_type": "display_data"
    }
   ],
   "source": [
    "sns.kdeplot(x=\"EPSP\",data=US_Firms)\n"
   ]
  },
  {
   "cell_type": "markdown",
   "metadata": {},
   "source": [
    "**RESPUESTA.**"
   ]
  },
  {
   "cell_type": "code",
   "execution_count": 643,
   "metadata": {},
   "outputs": [
    {
     "data": {
      "text/plain": [
       "<AxesSubplot:xlabel='Sales Annual G', ylabel='Density'>"
      ]
     },
     "execution_count": 643,
     "metadata": {},
     "output_type": "execute_result"
    },
    {
     "data": {
      "image/png": "[encoded data removed]",
      "text/plain": [
       "<Figure size 432x288 with 1 Axes>"
      ]
     },
     "metadata": {
      "needs_background": "light"
     },
     "output_type": "display_data"
    }
   ],
   "source": [
    "sns.kdeplot(x=\"Sales Annual G\",data=US_Firms)"
   ]
  },
  {
   "cell_type": "markdown",
   "metadata": {},
   "source": [
    "**RESPUESTA.**"
   ]
  },
  {
   "cell_type": "code",
   "execution_count": 644,
   "metadata": {},
   "outputs": [
    {
     "data": {
      "text/plain": [
       "<AxesSubplot:xlabel='Book to Market Ratio', ylabel='Density'>"
      ]
     },
     "execution_count": 644,
     "metadata": {},
     "output_type": "execute_result"
    },
    {
     "data": {
      "image/png": "[encoded data removed]",
      "text/plain": [
       "<Figure size 432x288 with 1 Axes>"
      ]
     },
     "metadata": {
      "needs_background": "light"
     },
     "output_type": "display_data"
    }
   ],
   "source": [
    "sns.kdeplot(x=\"Book to Market Ratio\",data=US_Firms)"
   ]
  },
  {
   "cell_type": "markdown",
   "metadata": {},
   "source": [
    "**RESPUESTA.**"
   ]
  },
  {
   "cell_type": "markdown",
   "metadata": {},
   "source": [
    ">###### Realice trazados para visualizar la posible relación que cada factor podría tener con la variable dependiente."
   ]
  },
  {
   "cell_type": "code",
   "execution_count": 645,
   "metadata": {},
   "outputs": [
    {
     "data": {
      "text/html": [
       "<div>\n",
       "<style scoped>\n",
       "    .dataframe tbody tr th:only-of-type {\n",
       "        vertical-align: middle;\n",
       "    }\n",
       "\n",
       "    .dataframe tbody tr th {\n",
       "        vertical-align: top;\n",
       "    }\n",
       "\n",
       "    .dataframe thead th {\n",
       "        text-align: right;\n",
       "    }\n",
       "</style>\n",
       "<table border=\"1\" class=\"dataframe\">\n",
       "  <thead>\n",
       "    <tr style=\"text-align: right;\">\n",
       "      <th></th>\n",
       "      <th>F1_ret</th>\n",
       "      <th>EPSP</th>\n",
       "      <th>Sales Annual G</th>\n",
       "      <th>Book to Market Ratio</th>\n",
       "    </tr>\n",
       "  </thead>\n",
       "  <tbody>\n",
       "    <tr>\n",
       "      <th>F1_ret</th>\n",
       "      <td>1.000</td>\n",
       "      <td>-0.013</td>\n",
       "      <td>0.001</td>\n",
       "      <td>-0.013</td>\n",
       "    </tr>\n",
       "    <tr>\n",
       "      <th>EPSP</th>\n",
       "      <td>-0.013</td>\n",
       "      <td>1.000</td>\n",
       "      <td>-0.000</td>\n",
       "      <td>-0.987</td>\n",
       "    </tr>\n",
       "    <tr>\n",
       "      <th>Sales Annual G</th>\n",
       "      <td>0.001</td>\n",
       "      <td>-0.000</td>\n",
       "      <td>1.000</td>\n",
       "      <td>-0.000</td>\n",
       "    </tr>\n",
       "    <tr>\n",
       "      <th>Book to Market Ratio</th>\n",
       "      <td>-0.013</td>\n",
       "      <td>-0.987</td>\n",
       "      <td>-0.000</td>\n",
       "      <td>1.000</td>\n",
       "    </tr>\n",
       "  </tbody>\n",
       "</table>\n",
       "</div>"
      ],
      "text/plain": [
       "                      F1_ret   EPSP  Sales Annual G  Book to Market Ratio\n",
       "F1_ret                 1.000 -0.013           0.001                -0.013\n",
       "EPSP                  -0.013  1.000          -0.000                -0.987\n",
       "Sales Annual G         0.001 -0.000           1.000                -0.000\n",
       "Book to Market Ratio  -0.013 -0.987          -0.000                 1.000"
      ]
     },
     "execution_count": 645,
     "metadata": {},
     "output_type": "execute_result"
    }
   ],
   "source": [
    "US_Firms[[\"F1_ret\",\"EPSP\",\"Sales Annual G\",\"Book to Market Ratio\"]].corr(method='pearson')"
   ]
  },
  {
   "cell_type": "markdown",
   "metadata": {},
   "source": [
    ">###### Mostrar estadísticas descriptivas de estos factores."
   ]
  },
  {
   "cell_type": "code",
   "execution_count": 646,
   "metadata": {},
   "outputs": [
    {
     "data": {
      "text/html": [
       "<div>\n",
       "<style scoped>\n",
       "    .dataframe tbody tr th:only-of-type {\n",
       "        vertical-align: middle;\n",
       "    }\n",
       "\n",
       "    .dataframe tbody tr th {\n",
       "        vertical-align: top;\n",
       "    }\n",
       "\n",
       "    .dataframe thead th {\n",
       "        text-align: right;\n",
       "    }\n",
       "</style>\n",
       "<table border=\"1\" class=\"dataframe\">\n",
       "  <thead>\n",
       "    <tr style=\"text-align: right;\">\n",
       "      <th></th>\n",
       "      <th>F1_ret</th>\n",
       "      <th>EPSP</th>\n",
       "      <th>Sales Annual G</th>\n",
       "      <th>Book to Market Ratio</th>\n",
       "    </tr>\n",
       "  </thead>\n",
       "  <tbody>\n",
       "    <tr>\n",
       "      <th>count</th>\n",
       "      <td>4.000</td>\n",
       "      <td>4.000</td>\n",
       "      <td>4.000</td>\n",
       "      <td>4.000</td>\n",
       "    </tr>\n",
       "    <tr>\n",
       "      <th>mean</th>\n",
       "      <td>0.244</td>\n",
       "      <td>0.000</td>\n",
       "      <td>0.250</td>\n",
       "      <td>0.000</td>\n",
       "    </tr>\n",
       "    <tr>\n",
       "      <th>std</th>\n",
       "      <td>0.504</td>\n",
       "      <td>0.811</td>\n",
       "      <td>0.500</td>\n",
       "      <td>0.811</td>\n",
       "    </tr>\n",
       "    <tr>\n",
       "      <th>min</th>\n",
       "      <td>-0.013</td>\n",
       "      <td>-0.987</td>\n",
       "      <td>-0.000</td>\n",
       "      <td>-0.987</td>\n",
       "    </tr>\n",
       "    <tr>\n",
       "      <th>25%</th>\n",
       "      <td>-0.013</td>\n",
       "      <td>-0.256</td>\n",
       "      <td>-0.000</td>\n",
       "      <td>-0.257</td>\n",
       "    </tr>\n",
       "    <tr>\n",
       "      <th>50%</th>\n",
       "      <td>-0.006</td>\n",
       "      <td>-0.006</td>\n",
       "      <td>0.001</td>\n",
       "      <td>-0.007</td>\n",
       "    </tr>\n",
       "    <tr>\n",
       "      <th>75%</th>\n",
       "      <td>0.251</td>\n",
       "      <td>0.250</td>\n",
       "      <td>0.251</td>\n",
       "      <td>0.250</td>\n",
       "    </tr>\n",
       "    <tr>\n",
       "      <th>max</th>\n",
       "      <td>1.000</td>\n",
       "      <td>1.000</td>\n",
       "      <td>1.000</td>\n",
       "      <td>1.000</td>\n",
       "    </tr>\n",
       "  </tbody>\n",
       "</table>\n",
       "</div>"
      ],
      "text/plain": [
       "       F1_ret   EPSP  Sales Annual G  Book to Market Ratio\n",
       "count   4.000  4.000           4.000                 4.000\n",
       "mean    0.244  0.000           0.250                 0.000\n",
       "std     0.504  0.811           0.500                 0.811\n",
       "min    -0.013 -0.987          -0.000                -0.987\n",
       "25%    -0.013 -0.256          -0.000                -0.257\n",
       "50%    -0.006 -0.006           0.001                -0.007\n",
       "75%     0.251  0.250           0.251                 0.250\n",
       "max     1.000  1.000           1.000                 1.000"
      ]
     },
     "execution_count": 646,
     "metadata": {},
     "output_type": "execute_result"
    }
   ],
   "source": [
    "US_Firms[[\"F1_ret\",\"EPSP\",\"Sales Annual G\",\"Book to Market Ratio\"]].corr(method='pearson').describe()"
   ]
  },
  {
   "cell_type": "markdown",
   "metadata": {},
   "source": [
    "---"
   ]
  },
  {
   "cell_type": "markdown",
   "metadata": {},
   "source": [
    "Diseñe y ejecute un modelo de regresión múltiple para examinar si los factores seleccionados y las ganancias por acción deflactadas por precio pueden explicar/predecir las ganancias anuales de las acciones. \n",
    "\n",
    "Usted tiene que controlar para la industria y el tamaño de la firma. Para controlar estas variables, debe incluirlas como variables independientes adicionales en el modelo.\n",
    "\n",
    ">###### Las variables independientes deben estar en la escala correcta para poder comparar los valores de las variables entre diferentes firmas de cualquier tamaño.\n",
    "\n",
    ">###### Para cada variable independiente debe comprobar si hay valores atípicos y realizar los ajustes correspondientes para evitar resultados no fiables en el modelo de regresión.\n",
    "\n",
    ">###### Debe comprobar si existen posibles problemas de multicolinealidad. Explique brevemente qué es multicolinealidad, ejecute e interprete la prueba correspondiente.\n",
    "\n",
    ">###### Interpretar el modelo. Interpretar los resultados de cada coeficiente (beta y su significación estadística). Interpretar el R-cuadrado del modelo.\n",
    "\n",
    "**RESPUESTA.**\n",
    "\n",
    ">###### Ajustes a su modelo. Si hay una o más variables independientes (factores o variables de control) que no son significativas, elimínelas del modelo. Usted tiene que ejecutar e interpretar su modelo final.\n",
    "\n",
    "**RESPUESTA.**"
   ]
  },
  {
   "cell_type": "code",
   "execution_count": 647,
   "metadata": {},
   "outputs": [],
   "source": [
    "import statsmodels.api as sm\n",
    "from scipy.stats.mstats import winsorize\n",
    "from statsmodels.stats.outliers_influence import variance_inflation_factor"
   ]
  },
  {
   "cell_type": "code",
   "execution_count": 648,
   "metadata": {},
   "outputs": [
    {
     "data": {
      "text/plain": [
       "masked_array(data=[0.37618763, 0.48321566, 0.42599138, ..., 0.4340675 ,\n",
       "                   0.27773814, 4.65341297],\n",
       "             mask=False,\n",
       "       fill_value=1e+20)"
      ]
     },
     "execution_count": 648,
     "metadata": {},
     "output_type": "execute_result"
    }
   ],
   "source": [
    "winsorize(US_Firms[\"F1_ret\"], limits=[0.1, 0.55], inplace=True,nan_policy='propagate')\n",
    "winsorize(US_Firms[\"EPSP\"], limits=[0.1, 0.53], inplace=True,nan_policy='propagate')\n",
    "winsorize(US_Firms[\"Sales Annual G\"], limits=[0.1, 0.57], inplace=True,nan_policy='propagate')\n",
    "winsorize(US_Firms[\"Book to Market Ratio\"], limits=[0.1, 0.53], inplace=True,nan_policy='propagate')"
   ]
  },
  {
   "cell_type": "code",
   "execution_count": 649,
   "metadata": {},
   "outputs": [
    {
     "name": "stdout",
     "output_type": "stream",
     "text": [
      "0\n",
      "0\n",
      "0\n",
      "0\n"
     ]
    }
   ],
   "source": [
    "# Verificar valores nulos \n",
    "print(US_Firms[\"F1_ret\"].isnull().sum())\n",
    "print(US_Firms[\"EPSP\"].isnull().sum())\n",
    "print(US_Firms[\"Sales Annual G\"].isnull().sum())\n",
    "print(US_Firms[\"Book to Market Ratio\"].isnull().sum())"
   ]
  },
  {
   "cell_type": "code",
   "execution_count": 650,
   "metadata": {},
   "outputs": [
    {
     "data": {
      "text/plain": [
       "<AxesSubplot:xlabel='Sales Annual G'>"
      ]
     },
     "execution_count": 650,
     "metadata": {},
     "output_type": "execute_result"
    },
    {
     "data": {
      "image/png": "[encoded data removed]",
      "text/plain": [
       "<Figure size 1440x720 with 4 Axes>"
      ]
     },
     "metadata": {
      "needs_background": "light"
     },
     "output_type": "display_data"
    }
   ],
   "source": [
    "fig = plt.figure(figsize=(20, 10))\n",
    "\n",
    "ax1 = fig.add_subplot(321)\n",
    "ax2 = fig.add_subplot(322)\n",
    "ax3 = fig.add_subplot(323)\n",
    "ax4 = fig.add_subplot(324)\n",
    "sns.boxplot(x=\"F1_ret\",data=US_Firms,palette='Set3',ax=ax1)\n",
    "sns.boxplot(x=\"Book to Market Ratio\",data=US_Firms,palette='Set3',ax=ax2)\n",
    "sns.boxplot(x=\"EPSP\",data=US_Firms,palette='Set3',ax=ax3)\n",
    "sns.boxplot(x=\"Sales Annual G\",data=US_Firms, palette='Set3',ax=ax4)\n"
   ]
  },
  {
   "cell_type": "code",
   "execution_count": 651,
   "metadata": {},
   "outputs": [
    {
     "data": {
      "text/html": [
       "<div>\n",
       "<style scoped>\n",
       "    .dataframe tbody tr th:only-of-type {\n",
       "        vertical-align: middle;\n",
       "    }\n",
       "\n",
       "    .dataframe tbody tr th {\n",
       "        vertical-align: top;\n",
       "    }\n",
       "\n",
       "    .dataframe thead th {\n",
       "        text-align: right;\n",
       "    }\n",
       "</style>\n",
       "<table border=\"1\" class=\"dataframe\">\n",
       "  <thead>\n",
       "    <tr style=\"text-align: right;\">\n",
       "      <th></th>\n",
       "      <th>F1_ret</th>\n",
       "      <th>EPSP</th>\n",
       "      <th>Sales Annual G</th>\n",
       "      <th>Book to Market Ratio</th>\n",
       "    </tr>\n",
       "  </thead>\n",
       "  <tbody>\n",
       "    <tr>\n",
       "      <th>count</th>\n",
       "      <td>323816.000</td>\n",
       "      <td>323816.000</td>\n",
       "      <td>323816.000</td>\n",
       "      <td>323816.000</td>\n",
       "    </tr>\n",
       "    <tr>\n",
       "      <th>mean</th>\n",
       "      <td>0.874</td>\n",
       "      <td>2.103</td>\n",
       "      <td>1.366</td>\n",
       "      <td>2.740</td>\n",
       "    </tr>\n",
       "    <tr>\n",
       "      <th>std</th>\n",
       "      <td>0.713</td>\n",
       "      <td>1.592</td>\n",
       "      <td>1.207</td>\n",
       "      <td>2.058</td>\n",
       "    </tr>\n",
       "    <tr>\n",
       "      <th>min</th>\n",
       "      <td>-0.215</td>\n",
       "      <td>-0.097</td>\n",
       "      <td>-0.182</td>\n",
       "      <td>0.198</td>\n",
       "    </tr>\n",
       "    <tr>\n",
       "      <th>25%</th>\n",
       "      <td>0.124</td>\n",
       "      <td>0.328</td>\n",
       "      <td>-0.039</td>\n",
       "      <td>0.476</td>\n",
       "    </tr>\n",
       "    <tr>\n",
       "      <th>50%</th>\n",
       "      <td>1.492</td>\n",
       "      <td>3.540</td>\n",
       "      <td>2.404</td>\n",
       "      <td>4.653</td>\n",
       "    </tr>\n",
       "    <tr>\n",
       "      <th>75%</th>\n",
       "      <td>1.492</td>\n",
       "      <td>3.540</td>\n",
       "      <td>2.404</td>\n",
       "      <td>4.653</td>\n",
       "    </tr>\n",
       "    <tr>\n",
       "      <th>max</th>\n",
       "      <td>1.492</td>\n",
       "      <td>3.540</td>\n",
       "      <td>2.404</td>\n",
       "      <td>4.653</td>\n",
       "    </tr>\n",
       "  </tbody>\n",
       "</table>\n",
       "</div>"
      ],
      "text/plain": [
       "          F1_ret       EPSP  Sales Annual G  Book to Market Ratio\n",
       "count 323816.000 323816.000      323816.000            323816.000\n",
       "mean       0.874      2.103           1.366                 2.740\n",
       "std        0.713      1.592           1.207                 2.058\n",
       "min       -0.215     -0.097          -0.182                 0.198\n",
       "25%        0.124      0.328          -0.039                 0.476\n",
       "50%        1.492      3.540           2.404                 4.653\n",
       "75%        1.492      3.540           2.404                 4.653\n",
       "max        1.492      3.540           2.404                 4.653"
      ]
     },
     "execution_count": 651,
     "metadata": {},
     "output_type": "execute_result"
    }
   ],
   "source": [
    "US_Firms[[\"F1_ret\",\"EPSP\",\"Sales Annual G\",\"Book to Market Ratio\"]].describe()"
   ]
  },
  {
   "cell_type": "code",
   "execution_count": 652,
   "metadata": {},
   "outputs": [
    {
     "data": {
      "text/html": [
       "<div>\n",
       "<style scoped>\n",
       "    .dataframe tbody tr th:only-of-type {\n",
       "        vertical-align: middle;\n",
       "    }\n",
       "\n",
       "    .dataframe tbody tr th {\n",
       "        vertical-align: top;\n",
       "    }\n",
       "\n",
       "    .dataframe thead th {\n",
       "        text-align: right;\n",
       "    }\n",
       "</style>\n",
       "<table border=\"1\" class=\"dataframe\">\n",
       "  <thead>\n",
       "    <tr style=\"text-align: right;\">\n",
       "      <th></th>\n",
       "      <th>F1_ret</th>\n",
       "      <th>EPSP</th>\n",
       "      <th>Sales Annual G</th>\n",
       "      <th>Book to Market Ratio</th>\n",
       "    </tr>\n",
       "  </thead>\n",
       "  <tbody>\n",
       "    <tr>\n",
       "      <th>F1_ret</th>\n",
       "      <td>1.000</td>\n",
       "      <td>0.808</td>\n",
       "      <td>0.770</td>\n",
       "      <td>0.865</td>\n",
       "    </tr>\n",
       "    <tr>\n",
       "      <th>EPSP</th>\n",
       "      <td>0.808</td>\n",
       "      <td>1.000</td>\n",
       "      <td>0.807</td>\n",
       "      <td>0.895</td>\n",
       "    </tr>\n",
       "    <tr>\n",
       "      <th>Sales Annual G</th>\n",
       "      <td>0.770</td>\n",
       "      <td>0.807</td>\n",
       "      <td>1.000</td>\n",
       "      <td>0.833</td>\n",
       "    </tr>\n",
       "    <tr>\n",
       "      <th>Book to Market Ratio</th>\n",
       "      <td>0.865</td>\n",
       "      <td>0.895</td>\n",
       "      <td>0.833</td>\n",
       "      <td>1.000</td>\n",
       "    </tr>\n",
       "  </tbody>\n",
       "</table>\n",
       "</div>"
      ],
      "text/plain": [
       "                      F1_ret  EPSP  Sales Annual G  Book to Market Ratio\n",
       "F1_ret                 1.000 0.808           0.770                 0.865\n",
       "EPSP                   0.808 1.000           0.807                 0.895\n",
       "Sales Annual G         0.770 0.807           1.000                 0.833\n",
       "Book to Market Ratio   0.865 0.895           0.833                 1.000"
      ]
     },
     "execution_count": 652,
     "metadata": {},
     "output_type": "execute_result"
    }
   ],
   "source": [
    "US_Firms[[\"F1_ret\",\"EPSP\",\"Sales Annual G\",\"Book to Market Ratio\"]].corr(method='pearson')"
   ]
  },
  {
   "cell_type": "code",
   "execution_count": 653,
   "metadata": {},
   "outputs": [
    {
     "data": {
      "text/html": [
       "<div>\n",
       "<style scoped>\n",
       "    .dataframe tbody tr th:only-of-type {\n",
       "        vertical-align: middle;\n",
       "    }\n",
       "\n",
       "    .dataframe tbody tr th {\n",
       "        vertical-align: top;\n",
       "    }\n",
       "\n",
       "    .dataframe thead th {\n",
       "        text-align: right;\n",
       "    }\n",
       "</style>\n",
       "<table border=\"1\" class=\"dataframe\">\n",
       "  <thead>\n",
       "    <tr style=\"text-align: right;\">\n",
       "      <th></th>\n",
       "      <th>feature</th>\n",
       "      <th>VIF</th>\n",
       "    </tr>\n",
       "  </thead>\n",
       "  <tbody>\n",
       "    <tr>\n",
       "      <th>0</th>\n",
       "      <td>F1_ret</td>\n",
       "      <td>10.359</td>\n",
       "    </tr>\n",
       "    <tr>\n",
       "      <th>1</th>\n",
       "      <td>EPSP</td>\n",
       "      <td>14.478</td>\n",
       "    </tr>\n",
       "    <tr>\n",
       "      <th>2</th>\n",
       "      <td>Sales Annual G</td>\n",
       "      <td>8.094</td>\n",
       "    </tr>\n",
       "    <tr>\n",
       "      <th>3</th>\n",
       "      <td>Book to Market Ratio</td>\n",
       "      <td>21.224</td>\n",
       "    </tr>\n",
       "  </tbody>\n",
       "</table>\n",
       "</div>"
      ],
      "text/plain": [
       "                feature    VIF\n",
       "0                F1_ret 10.359\n",
       "1                  EPSP 14.478\n",
       "2        Sales Annual G  8.094\n",
       "3  Book to Market Ratio 21.224"
      ]
     },
     "execution_count": 653,
     "metadata": {},
     "output_type": "execute_result"
    }
   ],
   "source": [
    "vif = US_Firms[[\"F1_ret\",\"EPSP\",\"Sales Annual G\",\"Book to Market Ratio\"]]\n",
    "\n",
    "vifData = pd.DataFrame()\n",
    "np.any(~np.isfinite(vifData),axis=0)\n",
    "vifData[\"feature\"] = vif.columns\n",
    "\n",
    "vifData[\"VIF\"] = [variance_inflation_factor(vif.values, i) for i in range(len(vif.columns))]\n",
    "\n",
    "vifData\n",
    "\n"
   ]
  },
  {
   "cell_type": "code",
   "execution_count": 654,
   "metadata": {},
   "outputs": [
    {
     "name": "stdout",
     "output_type": "stream",
     "text": [
      "                            OLS Regression Results                            \n",
      "==============================================================================\n",
      "Dep. Variable:                 F1_ret   R-squared:                       0.760\n",
      "Model:                            OLS   Adj. R-squared:                  0.760\n",
      "Method:                 Least Squares   F-statistic:                 3.410e+05\n",
      "Date:                Sat, 10 Sep 2022   Prob (F-statistic):               0.00\n",
      "Time:                        15:15:02   Log-Likelihood:            -1.1935e+05\n",
      "No. Observations:              323816   AIC:                         2.387e+05\n",
      "Df Residuals:                  323812   BIC:                         2.388e+05\n",
      "Df Model:                           3                                         \n",
      "Covariance Type:            nonrobust                                         \n",
      "========================================================================================\n",
      "                           coef    std err          t      P>|t|      [0.025      0.975]\n",
      "----------------------------------------------------------------------------------------\n",
      "const                    0.0384      0.001     36.974      0.000       0.036       0.040\n",
      "EPSP                     0.0573      0.001     64.193      0.000       0.056       0.059\n",
      "Sales Annual G           0.0795      0.001     83.757      0.000       0.078       0.081\n",
      "Book to Market Ratio     0.2213      0.001    300.029      0.000       0.220       0.223\n",
      "==============================================================================\n",
      "Omnibus:                    60160.667   Durbin-Watson:                   0.807\n",
      "Prob(Omnibus):                  0.000   Jarque-Bera (JB):           488549.856\n",
      "Skew:                           0.671   Prob(JB):                         0.00\n",
      "Kurtosis:                       8.866   Cond. No.                         8.35\n",
      "==============================================================================\n",
      "\n",
      "Notes:\n",
      "[1] Standard Errors assume that the covariance matrix of the errors is correctly specified.\n"
     ]
    }
   ],
   "source": [
    "# Getting x and y parameters for the model prediction\n",
    "x = US_Firms[[\"EPSP\",\"Sales Annual G\",\"Book to Market Ratio\"]]\n",
    "y = US_Firms['F1_ret']\n",
    "\n",
    "# Getting information to interpret a model\n",
    "x = sm.add_constant(x)\n",
    "results = sm.OLS(y, x, missing=\"drop\").fit()\n",
    "pred = results.predict(x)\n",
    "\n",
    "print(results.summary())"
   ]
  },
  {
   "cell_type": "code",
   "execution_count": 655,
   "metadata": {},
   "outputs": [
    {
     "name": "stdout",
     "output_type": "stream",
     "text": [
      "                            OLS Regression Results                            \n",
      "==============================================================================\n",
      "Dep. Variable:                 F1_ret   R-squared:                       0.760\n",
      "Model:                            OLS   Adj. R-squared:                  0.760\n",
      "Method:                 Least Squares   F-statistic:                 3.410e+05\n",
      "Date:                Sat, 10 Sep 2022   Prob (F-statistic):               0.00\n",
      "Time:                        15:15:03   Log-Likelihood:            -1.1935e+05\n",
      "No. Observations:              323816   AIC:                         2.387e+05\n",
      "Df Residuals:                  323812   BIC:                         2.388e+05\n",
      "Df Model:                           3                                         \n",
      "Covariance Type:            nonrobust                                         \n",
      "========================================================================================\n",
      "                           coef    std err          t      P>|t|      [0.025      0.975]\n",
      "----------------------------------------------------------------------------------------\n",
      "const                    0.0384      0.001     36.974      0.000       0.036       0.040\n",
      "EPSP                     0.0573      0.001     64.193      0.000       0.056       0.059\n",
      "Sales Annual G           0.0795      0.001     83.757      0.000       0.078       0.081\n",
      "Book to Market Ratio     0.2213      0.001    300.029      0.000       0.220       0.223\n",
      "==============================================================================\n",
      "Omnibus:                    60160.667   Durbin-Watson:                   0.807\n",
      "Prob(Omnibus):                  0.000   Jarque-Bera (JB):           488549.856\n",
      "Skew:                           0.671   Prob(JB):                         0.00\n",
      "Kurtosis:                       8.866   Cond. No.                         8.35\n",
      "==============================================================================\n",
      "\n",
      "Notes:\n",
      "[1] Standard Errors assume that the covariance matrix of the errors is correctly specified.\n"
     ]
    }
   ],
   "source": [
    "# Getting x and y parameters for the model prediction\n",
    "x = US_Firms[[\"EPSP\",\"Sales Annual G\",\"Book to Market Ratio\"]]\n",
    "y = US_Firms['F1_ret']\n",
    "\n",
    "# Getting information to interpret a model\n",
    "x = sm.add_constant(x)\n",
    "results = sm.OLS(y, x, missing=\"drop\").fit()\n",
    "pred = results.predict(x)\n",
    "\n",
    "print(results.summary())"
   ]
  }
 ],
 "metadata": {
  "kernelspec": {
   "display_name": "Python 3.10.6 64-bit (windows store)",
   "language": "python",
   "name": "python3"
  },
  "language_info": {
   "codemirror_mode": {
    "name": "ipython",
    "version": 3
   },
   "file_extension": ".py",
   "mimetype": "text/x-python",
   "name": "python",
   "nbconvert_exporter": "python",
   "pygments_lexer": "ipython3",
   "version": "3.10.7"
  },
  "orig_nbformat": 4,
  "vscode": {
   "interpreter": {
    "hash": "f58006e3a6b3697db5a2671151387509a500f2e72d8fe07fc4154091e95c0813"
   }
  }
 },
 "nbformat": 4,
 "nbformat_minor": 2
}
