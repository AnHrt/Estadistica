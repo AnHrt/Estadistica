{
 "cells": [
  {
   "cell_type": "markdown",
   "metadata": {},
   "source": [
    "### **Técnicas de procesamiento de datos para el análisis estadístico y para la construcción de modelos**\n",
    "\n",
    " **Angeles Arista Huerta** */  SEPTIEMBRE 2022*\n",
    "\n",
    "*Entrega - Caso de negocios, módulo 1 - Estadística*"
   ]
  },
  {
   "cell_type": "markdown",
   "metadata": {},
   "source": [
    "###### **DESCRIPCIÓN DEL CASO**\n",
    "###### *Usted fue contratado como científico de datos en una importante empresa de fondos de inversión en el departamento de análisis financiero. La firma lleva varios años realizando análisis financieros y previsiones financieras. Le contrataron para que ideara enfoques alternativos para realizar análisis descriptivos con el fin de encontrar mejores alternativas futuras para los métodos de previsión.*\n",
    "\n",
    "###### *Usted tiene que analizar los estados financieros trimestrales históricos de todas las firmas públicas estadounidenses que cotizan en la Bolsa de Nueva York y NASDAQ. Recibirá este conjunto de datos en formato .csv.*"
   ]
  },
  {
   "cell_type": "markdown",
   "metadata": {},
   "source": [
    "---"
   ]
  },
  {
   "cell_type": "markdown",
   "metadata": {},
   "source": [
    "#### *Procesamiento del dataset*"
   ]
  },
  {
   "cell_type": "code",
   "execution_count": null,
   "metadata": {},
   "outputs": [],
   "source": [
    "# importar librerias\n",
    "import numpy as np              #Algebra lieal\n",
    "import pandas as pd             #Procesamiento de datos\n",
    "import seaborn as sns           #Graficas/Visualizacion\n",
    "import matplotlib.pyplot as plt #Graficas/Visualizacion"
   ]
  },
  {
   "cell_type": "code",
   "execution_count": null,
   "metadata": {},
   "outputs": [],
   "source": [
    "# acceso a directorio\n",
    "%cd \"c:\\Users\\angix\\Downloads\\Estadistica\"\n",
    "#%ls "
   ]
  },
  {
   "cell_type": "markdown",
   "metadata": {},
   "source": [
    "###### Lectura de los archivos csv"
   ]
  },
  {
   "cell_type": "code",
   "execution_count": null,
   "metadata": {},
   "outputs": [],
   "source": [
    "# Lectura csv de firms\n",
    "firms = pd.read_csv(\"c:\\\\Users\\\\angix\\\\Downloads\\\\Statistics\\\\usfirms2022.csv\")\n",
    "#firms.head(3)"
   ]
  },
  {
   "cell_type": "code",
   "execution_count": null,
   "metadata": {},
   "outputs": [],
   "source": [
    "# Lectura csv de us\n",
    "us = pd.read_csv(\"c:\\\\Users\\\\angix\\\\Downloads\\\\Statistics\\\\us2022q2a.csv\")\n",
    "#us.head(3)"
   ]
  },
  {
   "cell_type": "code",
   "execution_count": null,
   "metadata": {},
   "outputs": [],
   "source": [
    "# Configuración de la visualización de datos a 3 decimales\n",
    "pd.set_option('display.max_columns', None)\n",
    "pd.options.display.float_format = '{:.3f}'.format"
   ]
  },
  {
   "cell_type": "markdown",
   "metadata": {},
   "source": [
    "###### Descripción de los datos"
   ]
  },
  {
   "cell_type": "code",
   "execution_count": null,
   "metadata": {},
   "outputs": [],
   "source": [
    "firms.info()\n",
    "firms.describe()"
   ]
  },
  {
   "cell_type": "code",
   "execution_count": null,
   "metadata": {},
   "outputs": [],
   "source": [
    "us.info()\n",
    "us.describe()"
   ]
  },
  {
   "cell_type": "markdown",
   "metadata": {},
   "source": [
    "---"
   ]
  },
  {
   "cell_type": "markdown",
   "metadata": {},
   "source": [
    "#### *Limpieza y modificación de datos*\n",
    "\n",
    "1. Verificar que no existan datos nulos, duplicados\n",
    "\n",
    "2. Si no impacta en la dataset, eliminarlos o modificarlos"
   ]
  },
  {
   "cell_type": "code",
   "execution_count": null,
   "metadata": {},
   "outputs": [],
   "source": [
    "# Datos nulos en el csv\n",
    "us.isna().sum() \n",
    "us.isnull().sum()"
   ]
  },
  {
   "cell_type": "code",
   "execution_count": null,
   "metadata": {},
   "outputs": [],
   "source": [
    "# Eliminar datos nulos\n",
    "us = us.drop(index=324446,axis=0) #Eliminar fila con datos nulos"
   ]
  },
  {
   "cell_type": "code",
   "execution_count": null,
   "metadata": {},
   "outputs": [],
   "source": [
    "# Datos duplicados en el csv\n",
    "us[us.duplicated()]"
   ]
  },
  {
   "cell_type": "markdown",
   "metadata": {},
   "source": [
    "---"
   ]
  },
  {
   "cell_type": "markdown",
   "metadata": {},
   "source": [
    "#### *Analisis del dataset*"
   ]
  },
  {
   "cell_type": "markdown",
   "metadata": {},
   "source": [
    "***Preguntas Generales***"
   ]
  },
  {
   "cell_type": "markdown",
   "metadata": {},
   "source": [
    ">###### Por industria, ¿cuál es la composición de las empresas públicas estadounidenses en términos de tamaño de la empresa, rendimiento de las ventas y rentabilidad?\n",
    "###### **RESPUESTA.**\n",
    "\n",
    ">###### ¿Por qué algunas empresas son más rentables que otras? ¿Qué factores/variables de los estados financieros están relacionados con los rendimientos de las acciones?\n",
    "###### **RESPUESTA.**"
   ]
  },
  {
   "cell_type": "markdown",
   "metadata": {},
   "source": [
    "---"
   ]
  },
  {
   "cell_type": "markdown",
   "metadata": {},
   "source": [
    "***Preguntas Especificas***"
   ]
  },
  {
   "cell_type": "markdown",
   "metadata": {},
   "source": [
    "*Estadistica descriptiva*"
   ]
  },
  {
   "cell_type": "markdown",
   "metadata": {},
   "source": [
    "Considerando el trimestre financiero más reciente del conjunto de datos:"
   ]
  },
  {
   "cell_type": "markdown",
   "metadata": {},
   "source": [
    ">###### Mostrar cuántas empresas por industria hay en la muestra"
   ]
  },
  {
   "cell_type": "code",
   "execution_count": null,
   "metadata": {},
   "outputs": [],
   "source": [
    "# Merge\n",
    "US_Firms = firms.merge(us, left_on='Ticker', right_on='firm')\n",
    "US_Firms = US_Firms.drop([\"N\", \"Class\", \"Country\\nof Origin\", \"Type of Asset\", \"Exchange / Src\", \"Sector\\nEconomatica\", \"Sector NAICS\\nlast available\", \"partind\"], axis = 1)\n",
    "US_Firms.head(0)"
   ]
  },
  {
   "cell_type": "code",
   "execution_count": null,
   "metadata": {},
   "outputs": [],
   "source": [
    "US_Firms['q'] = pd.PeriodIndex(US_Firms['q'],freq = \"q\")\n",
    "US_Firms.set_index(['firm','q'],inplace=True)"
   ]
  },
  {
   "cell_type": "code",
   "execution_count": 509,
   "metadata": {},
   "outputs": [
    {
     "data": {
      "text/html": [
       "<div>\n",
       "<style scoped>\n",
       "    .dataframe tbody tr th:only-of-type {\n",
       "        vertical-align: middle;\n",
       "    }\n",
       "\n",
       "    .dataframe tbody tr th {\n",
       "        vertical-align: top;\n",
       "    }\n",
       "\n",
       "    .dataframe thead th {\n",
       "        text-align: right;\n",
       "    }\n",
       "</style>\n",
       "<table border=\"1\" class=\"dataframe\">\n",
       "  <thead>\n",
       "    <tr style=\"text-align: right;\">\n",
       "      <th></th>\n",
       "      <th></th>\n",
       "      <th>Ticker</th>\n",
       "      <th>Name</th>\n",
       "      <th>Sector NAICS\\nlevel 1</th>\n",
       "      <th>revenue</th>\n",
       "      <th>cogs</th>\n",
       "      <th>sgae</th>\n",
       "      <th>otheropexp</th>\n",
       "      <th>extraincome</th>\n",
       "      <th>finexp</th>\n",
       "      <th>incometax</th>\n",
       "      <th>totalassets</th>\n",
       "      <th>totalliabilities</th>\n",
       "      <th>shortdebt</th>\n",
       "      <th>longdebt</th>\n",
       "      <th>stockholderequity</th>\n",
       "      <th>adjprice</th>\n",
       "      <th>originalprice</th>\n",
       "      <th>sharesoutstanding</th>\n",
       "      <th>fiscalmonth</th>\n",
       "      <th>year</th>\n",
       "      <th>cto</th>\n",
       "      <th>Book Value of the Firms</th>\n",
       "      <th>Market Value</th>\n",
       "      <th>Operating Profit</th>\n",
       "      <th>OPM</th>\n",
       "      <th>Net Income</th>\n",
       "      <th>Profit Margin</th>\n",
       "      <th>r</th>\n",
       "      <th>F1_ret</th>\n",
       "      <th>EPSP</th>\n",
       "      <th>Sales Annual G</th>\n",
       "      <th>Book to Market Ratio</th>\n",
       "      <th>size</th>\n",
       "    </tr>\n",
       "    <tr>\n",
       "      <th>firm</th>\n",
       "      <th>q</th>\n",
       "      <th></th>\n",
       "      <th></th>\n",
       "      <th></th>\n",
       "      <th></th>\n",
       "      <th></th>\n",
       "      <th></th>\n",
       "      <th></th>\n",
       "      <th></th>\n",
       "      <th></th>\n",
       "      <th></th>\n",
       "      <th></th>\n",
       "      <th></th>\n",
       "      <th></th>\n",
       "      <th></th>\n",
       "      <th></th>\n",
       "      <th></th>\n",
       "      <th></th>\n",
       "      <th></th>\n",
       "      <th></th>\n",
       "      <th></th>\n",
       "      <th></th>\n",
       "      <th></th>\n",
       "      <th></th>\n",
       "      <th></th>\n",
       "      <th></th>\n",
       "      <th></th>\n",
       "      <th></th>\n",
       "      <th></th>\n",
       "      <th></th>\n",
       "      <th></th>\n",
       "      <th></th>\n",
       "      <th></th>\n",
       "      <th></th>\n",
       "    </tr>\n",
       "  </thead>\n",
       "  <tbody>\n",
       "    <tr>\n",
       "      <th rowspan=\"5\" valign=\"top\">FLWS</th>\n",
       "      <th>2000Q1</th>\n",
       "      <td>FLWS</td>\n",
       "      <td>1 800 Flowers Com Inc</td>\n",
       "      <td>Retail Trade</td>\n",
       "      <td>85045.000</td>\n",
       "      <td>54143.000</td>\n",
       "      <td>52146.000</td>\n",
       "      <td>0.000</td>\n",
       "      <td>111.000</td>\n",
       "      <td>-1600.000</td>\n",
       "      <td>-268.000</td>\n",
       "      <td>248461.000</td>\n",
       "      <td>76657.000</td>\n",
       "      <td>4380.000</td>\n",
       "      <td>8869.000</td>\n",
       "      <td>171804.000</td>\n",
       "      <td>7.125</td>\n",
       "      <td>7.125</td>\n",
       "      <td>64097.913</td>\n",
       "      <td>9.000</td>\n",
       "      <td>2000.000</td>\n",
       "      <td>1.000</td>\n",
       "      <td>171804.000</td>\n",
       "      <td>456697.630</td>\n",
       "      <td>-21244.000</td>\n",
       "      <td>-0.250</td>\n",
       "      <td>-19376.000</td>\n",
       "      <td>-0.228</td>\n",
       "      <td>NaN</td>\n",
       "      <td>1.492</td>\n",
       "      <td>-0.097</td>\n",
       "      <td>-0.176</td>\n",
       "      <td>0.376</td>\n",
       "      <td>small</td>\n",
       "    </tr>\n",
       "    <tr>\n",
       "      <th>2000Q2</th>\n",
       "      <td>FLWS</td>\n",
       "      <td>1 800 Flowers Com Inc</td>\n",
       "      <td>Retail Trade</td>\n",
       "      <td>123288.000</td>\n",
       "      <td>75607.000</td>\n",
       "      <td>63201.000</td>\n",
       "      <td>0.000</td>\n",
       "      <td>27.000</td>\n",
       "      <td>-2164.000</td>\n",
       "      <td>-419.000</td>\n",
       "      <td>224641.000</td>\n",
       "      <td>65723.000</td>\n",
       "      <td>1839.000</td>\n",
       "      <td>9441.000</td>\n",
       "      <td>158918.000</td>\n",
       "      <td>5.125</td>\n",
       "      <td>5.125</td>\n",
       "      <td>64170.913</td>\n",
       "      <td>12.000</td>\n",
       "      <td>2000.000</td>\n",
       "      <td>2.000</td>\n",
       "      <td>158918.000</td>\n",
       "      <td>328875.929</td>\n",
       "      <td>-15520.000</td>\n",
       "      <td>-0.126</td>\n",
       "      <td>-12937.000</td>\n",
       "      <td>-0.105</td>\n",
       "      <td>NaN</td>\n",
       "      <td>1.492</td>\n",
       "      <td>-0.097</td>\n",
       "      <td>-0.068</td>\n",
       "      <td>0.483</td>\n",
       "      <td>small</td>\n",
       "    </tr>\n",
       "    <tr>\n",
       "      <th>2000Q3</th>\n",
       "      <td>FLWS</td>\n",
       "      <td>1 800 Flowers Com Inc</td>\n",
       "      <td>Retail Trade</td>\n",
       "      <td>72516.000</td>\n",
       "      <td>45091.000</td>\n",
       "      <td>51590.000</td>\n",
       "      <td>0.000</td>\n",
       "      <td>88.000</td>\n",
       "      <td>-1576.000</td>\n",
       "      <td>0.000</td>\n",
       "      <td>211449.000</td>\n",
       "      <td>75163.000</td>\n",
       "      <td>7654.000</td>\n",
       "      <td>10916.000</td>\n",
       "      <td>136286.000</td>\n",
       "      <td>4.984</td>\n",
       "      <td>4.984</td>\n",
       "      <td>64185.913</td>\n",
       "      <td>3.000</td>\n",
       "      <td>2000.000</td>\n",
       "      <td>3.000</td>\n",
       "      <td>136286.000</td>\n",
       "      <td>319926.660</td>\n",
       "      <td>-24165.000</td>\n",
       "      <td>-0.333</td>\n",
       "      <td>-22589.000</td>\n",
       "      <td>-0.312</td>\n",
       "      <td>NaN</td>\n",
       "      <td>1.492</td>\n",
       "      <td>-0.097</td>\n",
       "      <td>-0.084</td>\n",
       "      <td>0.426</td>\n",
       "      <td>small</td>\n",
       "    </tr>\n",
       "    <tr>\n",
       "      <th>2000Q4</th>\n",
       "      <td>FLWS</td>\n",
       "      <td>1 800 Flowers Com Inc</td>\n",
       "      <td>Retail Trade</td>\n",
       "      <td>134243.000</td>\n",
       "      <td>79099.000</td>\n",
       "      <td>67206.000</td>\n",
       "      <td>0.000</td>\n",
       "      <td>335.000</td>\n",
       "      <td>-1191.000</td>\n",
       "      <td>0.000</td>\n",
       "      <td>213983.000</td>\n",
       "      <td>88231.000</td>\n",
       "      <td>2157.000</td>\n",
       "      <td>10452.000</td>\n",
       "      <td>125752.000</td>\n",
       "      <td>4.125</td>\n",
       "      <td>4.125</td>\n",
       "      <td>64187.163</td>\n",
       "      <td>6.000</td>\n",
       "      <td>2000.000</td>\n",
       "      <td>4.000</td>\n",
       "      <td>125752.000</td>\n",
       "      <td>264772.047</td>\n",
       "      <td>-12062.000</td>\n",
       "      <td>-0.090</td>\n",
       "      <td>-10871.000</td>\n",
       "      <td>-0.081</td>\n",
       "      <td>NaN</td>\n",
       "      <td>0.116</td>\n",
       "      <td>-0.097</td>\n",
       "      <td>-0.173</td>\n",
       "      <td>0.475</td>\n",
       "      <td>small</td>\n",
       "    </tr>\n",
       "    <tr>\n",
       "      <th>2001Q1</th>\n",
       "      <td>FLWS</td>\n",
       "      <td>1 800 Flowers Com Inc</td>\n",
       "      <td>Retail Trade</td>\n",
       "      <td>103221.000</td>\n",
       "      <td>64020.000</td>\n",
       "      <td>48856.000</td>\n",
       "      <td>0.000</td>\n",
       "      <td>76.000</td>\n",
       "      <td>-1069.000</td>\n",
       "      <td>0.000</td>\n",
       "      <td>200400.000</td>\n",
       "      <td>83160.000</td>\n",
       "      <td>4777.000</td>\n",
       "      <td>12318.000</td>\n",
       "      <td>117240.000</td>\n",
       "      <td>8.000</td>\n",
       "      <td>8.000</td>\n",
       "      <td>64187.163</td>\n",
       "      <td>9.000</td>\n",
       "      <td>2001.000</td>\n",
       "      <td>1.000</td>\n",
       "      <td>117240.000</td>\n",
       "      <td>513497.304</td>\n",
       "      <td>-9655.000</td>\n",
       "      <td>-0.094</td>\n",
       "      <td>-8586.000</td>\n",
       "      <td>-0.083</td>\n",
       "      <td>0.116</td>\n",
       "      <td>1.063</td>\n",
       "      <td>-0.097</td>\n",
       "      <td>-0.106</td>\n",
       "      <td>0.228</td>\n",
       "      <td>small</td>\n",
       "    </tr>\n",
       "    <tr>\n",
       "      <th>...</th>\n",
       "      <th>...</th>\n",
       "      <td>...</td>\n",
       "      <td>...</td>\n",
       "      <td>...</td>\n",
       "      <td>...</td>\n",
       "      <td>...</td>\n",
       "      <td>...</td>\n",
       "      <td>...</td>\n",
       "      <td>...</td>\n",
       "      <td>...</td>\n",
       "      <td>...</td>\n",
       "      <td>...</td>\n",
       "      <td>...</td>\n",
       "      <td>...</td>\n",
       "      <td>...</td>\n",
       "      <td>...</td>\n",
       "      <td>...</td>\n",
       "      <td>...</td>\n",
       "      <td>...</td>\n",
       "      <td>...</td>\n",
       "      <td>...</td>\n",
       "      <td>...</td>\n",
       "      <td>...</td>\n",
       "      <td>...</td>\n",
       "      <td>...</td>\n",
       "      <td>...</td>\n",
       "      <td>...</td>\n",
       "      <td>...</td>\n",
       "      <td>...</td>\n",
       "      <td>...</td>\n",
       "      <td>...</td>\n",
       "      <td>...</td>\n",
       "      <td>...</td>\n",
       "      <td>...</td>\n",
       "    </tr>\n",
       "    <tr>\n",
       "      <th rowspan=\"5\" valign=\"top\">ZNGA</th>\n",
       "      <th>2021Q2</th>\n",
       "      <td>ZNGA</td>\n",
       "      <td>Zynga Inc</td>\n",
       "      <td>Information</td>\n",
       "      <td>720000.000</td>\n",
       "      <td>253300.000</td>\n",
       "      <td>391900.000</td>\n",
       "      <td>0.000</td>\n",
       "      <td>-9100.000</td>\n",
       "      <td>13000.000</td>\n",
       "      <td>24900.000</td>\n",
       "      <td>6132200.000</td>\n",
       "      <td>3111600.000</td>\n",
       "      <td>17700.000</td>\n",
       "      <td>1457000.000</td>\n",
       "      <td>3020600.000</td>\n",
       "      <td>10.630</td>\n",
       "      <td>10.630</td>\n",
       "      <td>1088762.805</td>\n",
       "      <td>6.000</td>\n",
       "      <td>2021.000</td>\n",
       "      <td>2.000</td>\n",
       "      <td>3020600.000</td>\n",
       "      <td>11573548.617</td>\n",
       "      <td>74800.000</td>\n",
       "      <td>0.104</td>\n",
       "      <td>36900.000</td>\n",
       "      <td>0.051</td>\n",
       "      <td>0.108</td>\n",
       "      <td>-0.192</td>\n",
       "      <td>0.034</td>\n",
       "      <td>2.404</td>\n",
       "      <td>0.261</td>\n",
       "      <td>small</td>\n",
       "    </tr>\n",
       "    <tr>\n",
       "      <th>2021Q3</th>\n",
       "      <td>ZNGA</td>\n",
       "      <td>Zynga Inc</td>\n",
       "      <td>Information</td>\n",
       "      <td>704700.000</td>\n",
       "      <td>240800.000</td>\n",
       "      <td>409400.000</td>\n",
       "      <td>66800.000</td>\n",
       "      <td>-600.000</td>\n",
       "      <td>13200.000</td>\n",
       "      <td>15600.000</td>\n",
       "      <td>6067700.000</td>\n",
       "      <td>3060700.000</td>\n",
       "      <td>17600.000</td>\n",
       "      <td>1467600.000</td>\n",
       "      <td>3007000.000</td>\n",
       "      <td>7.530</td>\n",
       "      <td>7.530</td>\n",
       "      <td>1091890.649</td>\n",
       "      <td>9.000</td>\n",
       "      <td>2021.000</td>\n",
       "      <td>3.000</td>\n",
       "      <td>3007000.000</td>\n",
       "      <td>8221936.587</td>\n",
       "      <td>-12300.000</td>\n",
       "      <td>-0.017</td>\n",
       "      <td>-41100.000</td>\n",
       "      <td>-0.058</td>\n",
       "      <td>-0.192</td>\n",
       "      <td>-0.215</td>\n",
       "      <td>-0.038</td>\n",
       "      <td>2.404</td>\n",
       "      <td>0.366</td>\n",
       "      <td>small</td>\n",
       "    </tr>\n",
       "    <tr>\n",
       "      <th>2021Q4</th>\n",
       "      <td>ZNGA</td>\n",
       "      <td>Zynga Inc</td>\n",
       "      <td>Information</td>\n",
       "      <td>695500.000</td>\n",
       "      <td>260100.000</td>\n",
       "      <td>436600.000</td>\n",
       "      <td>0.000</td>\n",
       "      <td>-10400.000</td>\n",
       "      <td>13600.000</td>\n",
       "      <td>42100.000</td>\n",
       "      <td>6358900.000</td>\n",
       "      <td>3247000.000</td>\n",
       "      <td>17100.000</td>\n",
       "      <td>1477200.000</td>\n",
       "      <td>3111900.000</td>\n",
       "      <td>6.400</td>\n",
       "      <td>6.400</td>\n",
       "      <td>1120181.490</td>\n",
       "      <td>12.000</td>\n",
       "      <td>2021.000</td>\n",
       "      <td>4.000</td>\n",
       "      <td>3111900.000</td>\n",
       "      <td>7169161.536</td>\n",
       "      <td>-1200.000</td>\n",
       "      <td>-0.002</td>\n",
       "      <td>-56900.000</td>\n",
       "      <td>-0.082</td>\n",
       "      <td>-0.433</td>\n",
       "      <td>-0.100</td>\n",
       "      <td>-0.051</td>\n",
       "      <td>2.404</td>\n",
       "      <td>0.434</td>\n",
       "      <td>small</td>\n",
       "    </tr>\n",
       "    <tr>\n",
       "      <th>2022Q1</th>\n",
       "      <td>ZNGA</td>\n",
       "      <td>Zynga Inc</td>\n",
       "      <td>Information</td>\n",
       "      <td>691200.000</td>\n",
       "      <td>252200.000</td>\n",
       "      <td>424000.000</td>\n",
       "      <td>0.000</td>\n",
       "      <td>-15700.000</td>\n",
       "      <td>2200.000</td>\n",
       "      <td>21600.000</td>\n",
       "      <td>5860000.000</td>\n",
       "      <td>2953900.000</td>\n",
       "      <td>17900.000</td>\n",
       "      <td>1673700.000</td>\n",
       "      <td>2906100.000</td>\n",
       "      <td>9.240</td>\n",
       "      <td>9.240</td>\n",
       "      <td>1132408.337</td>\n",
       "      <td>3.000</td>\n",
       "      <td>2022.000</td>\n",
       "      <td>1.000</td>\n",
       "      <td>2906100.000</td>\n",
       "      <td>10463453.034</td>\n",
       "      <td>15000.000</td>\n",
       "      <td>0.022</td>\n",
       "      <td>-8800.000</td>\n",
       "      <td>-0.013</td>\n",
       "      <td>-0.100</td>\n",
       "      <td>-0.215</td>\n",
       "      <td>-0.008</td>\n",
       "      <td>2.404</td>\n",
       "      <td>0.278</td>\n",
       "      <td>small</td>\n",
       "    </tr>\n",
       "    <tr>\n",
       "      <th>2022Q2</th>\n",
       "      <td>ZNGA</td>\n",
       "      <td>Zynga Inc</td>\n",
       "      <td>Information</td>\n",
       "      <td>NaN</td>\n",
       "      <td>NaN</td>\n",
       "      <td>NaN</td>\n",
       "      <td>NaN</td>\n",
       "      <td>NaN</td>\n",
       "      <td>NaN</td>\n",
       "      <td>NaN</td>\n",
       "      <td>NaN</td>\n",
       "      <td>NaN</td>\n",
       "      <td>NaN</td>\n",
       "      <td>NaN</td>\n",
       "      <td>NaN</td>\n",
       "      <td>8.180</td>\n",
       "      <td>8.180</td>\n",
       "      <td>1137273.677</td>\n",
       "      <td>NaN</td>\n",
       "      <td>2022.000</td>\n",
       "      <td>2.000</td>\n",
       "      <td>NaN</td>\n",
       "      <td>9302898.678</td>\n",
       "      <td>NaN</td>\n",
       "      <td>NaN</td>\n",
       "      <td>NaN</td>\n",
       "      <td>NaN</td>\n",
       "      <td>-0.262</td>\n",
       "      <td>1.492</td>\n",
       "      <td>3.540</td>\n",
       "      <td>2.404</td>\n",
       "      <td>4.653</td>\n",
       "      <td>small</td>\n",
       "    </tr>\n",
       "  </tbody>\n",
       "</table>\n",
       "<p>323816 rows × 33 columns</p>\n",
       "</div>"
      ],
      "text/plain": [
       "            Ticker                   Name Sector NAICS\\nlevel 1    revenue  \\\n",
       "firm q                                                                       \n",
       "FLWS 2000Q1   FLWS  1 800 Flowers Com Inc          Retail Trade  85045.000   \n",
       "     2000Q2   FLWS  1 800 Flowers Com Inc          Retail Trade 123288.000   \n",
       "     2000Q3   FLWS  1 800 Flowers Com Inc          Retail Trade  72516.000   \n",
       "     2000Q4   FLWS  1 800 Flowers Com Inc          Retail Trade 134243.000   \n",
       "     2001Q1   FLWS  1 800 Flowers Com Inc          Retail Trade 103221.000   \n",
       "...            ...                    ...                   ...        ...   \n",
       "ZNGA 2021Q2   ZNGA              Zynga Inc           Information 720000.000   \n",
       "     2021Q3   ZNGA              Zynga Inc           Information 704700.000   \n",
       "     2021Q4   ZNGA              Zynga Inc           Information 695500.000   \n",
       "     2022Q1   ZNGA              Zynga Inc           Information 691200.000   \n",
       "     2022Q2   ZNGA              Zynga Inc           Information        NaN   \n",
       "\n",
       "                  cogs       sgae  otheropexp  extraincome    finexp  \\\n",
       "firm q                                                                 \n",
       "FLWS 2000Q1  54143.000  52146.000       0.000      111.000 -1600.000   \n",
       "     2000Q2  75607.000  63201.000       0.000       27.000 -2164.000   \n",
       "     2000Q3  45091.000  51590.000       0.000       88.000 -1576.000   \n",
       "     2000Q4  79099.000  67206.000       0.000      335.000 -1191.000   \n",
       "     2001Q1  64020.000  48856.000       0.000       76.000 -1069.000   \n",
       "...                ...        ...         ...          ...       ...   \n",
       "ZNGA 2021Q2 253300.000 391900.000       0.000    -9100.000 13000.000   \n",
       "     2021Q3 240800.000 409400.000   66800.000     -600.000 13200.000   \n",
       "     2021Q4 260100.000 436600.000       0.000   -10400.000 13600.000   \n",
       "     2022Q1 252200.000 424000.000       0.000   -15700.000  2200.000   \n",
       "     2022Q2        NaN        NaN         NaN          NaN       NaN   \n",
       "\n",
       "             incometax  totalassets  totalliabilities  shortdebt    longdebt  \\\n",
       "firm q                                                                         \n",
       "FLWS 2000Q1   -268.000   248461.000         76657.000   4380.000    8869.000   \n",
       "     2000Q2   -419.000   224641.000         65723.000   1839.000    9441.000   \n",
       "     2000Q3      0.000   211449.000         75163.000   7654.000   10916.000   \n",
       "     2000Q4      0.000   213983.000         88231.000   2157.000   10452.000   \n",
       "     2001Q1      0.000   200400.000         83160.000   4777.000   12318.000   \n",
       "...                ...          ...               ...        ...         ...   \n",
       "ZNGA 2021Q2  24900.000  6132200.000       3111600.000  17700.000 1457000.000   \n",
       "     2021Q3  15600.000  6067700.000       3060700.000  17600.000 1467600.000   \n",
       "     2021Q4  42100.000  6358900.000       3247000.000  17100.000 1477200.000   \n",
       "     2022Q1  21600.000  5860000.000       2953900.000  17900.000 1673700.000   \n",
       "     2022Q2        NaN          NaN               NaN        NaN         NaN   \n",
       "\n",
       "             stockholderequity  adjprice  originalprice  sharesoutstanding  \\\n",
       "firm q                                                                       \n",
       "FLWS 2000Q1         171804.000     7.125          7.125          64097.913   \n",
       "     2000Q2         158918.000     5.125          5.125          64170.913   \n",
       "     2000Q3         136286.000     4.984          4.984          64185.913   \n",
       "     2000Q4         125752.000     4.125          4.125          64187.163   \n",
       "     2001Q1         117240.000     8.000          8.000          64187.163   \n",
       "...                        ...       ...            ...                ...   \n",
       "ZNGA 2021Q2        3020600.000    10.630         10.630        1088762.805   \n",
       "     2021Q3        3007000.000     7.530          7.530        1091890.649   \n",
       "     2021Q4        3111900.000     6.400          6.400        1120181.490   \n",
       "     2022Q1        2906100.000     9.240          9.240        1132408.337   \n",
       "     2022Q2                NaN     8.180          8.180        1137273.677   \n",
       "\n",
       "             fiscalmonth     year   cto  Book Value of the Firms  \\\n",
       "firm q                                                             \n",
       "FLWS 2000Q1        9.000 2000.000 1.000               171804.000   \n",
       "     2000Q2       12.000 2000.000 2.000               158918.000   \n",
       "     2000Q3        3.000 2000.000 3.000               136286.000   \n",
       "     2000Q4        6.000 2000.000 4.000               125752.000   \n",
       "     2001Q1        9.000 2001.000 1.000               117240.000   \n",
       "...                  ...      ...   ...                      ...   \n",
       "ZNGA 2021Q2        6.000 2021.000 2.000              3020600.000   \n",
       "     2021Q3        9.000 2021.000 3.000              3007000.000   \n",
       "     2021Q4       12.000 2021.000 4.000              3111900.000   \n",
       "     2022Q1        3.000 2022.000 1.000              2906100.000   \n",
       "     2022Q2          NaN 2022.000 2.000                      NaN   \n",
       "\n",
       "             Market Value  Operating Profit    OPM  Net Income  Profit Margin  \\\n",
       "firm q                                                                          \n",
       "FLWS 2000Q1    456697.630        -21244.000 -0.250  -19376.000         -0.228   \n",
       "     2000Q2    328875.929        -15520.000 -0.126  -12937.000         -0.105   \n",
       "     2000Q3    319926.660        -24165.000 -0.333  -22589.000         -0.312   \n",
       "     2000Q4    264772.047        -12062.000 -0.090  -10871.000         -0.081   \n",
       "     2001Q1    513497.304         -9655.000 -0.094   -8586.000         -0.083   \n",
       "...                   ...               ...    ...         ...            ...   \n",
       "ZNGA 2021Q2  11573548.617         74800.000  0.104   36900.000          0.051   \n",
       "     2021Q3   8221936.587        -12300.000 -0.017  -41100.000         -0.058   \n",
       "     2021Q4   7169161.536         -1200.000 -0.002  -56900.000         -0.082   \n",
       "     2022Q1  10463453.034         15000.000  0.022   -8800.000         -0.013   \n",
       "     2022Q2   9302898.678               NaN    NaN         NaN            NaN   \n",
       "\n",
       "                 r  F1_ret   EPSP  Sales Annual G  Book to Market Ratio   size  \n",
       "firm q                                                                          \n",
       "FLWS 2000Q1    NaN   1.492 -0.097          -0.176                 0.376  small  \n",
       "     2000Q2    NaN   1.492 -0.097          -0.068                 0.483  small  \n",
       "     2000Q3    NaN   1.492 -0.097          -0.084                 0.426  small  \n",
       "     2000Q4    NaN   0.116 -0.097          -0.173                 0.475  small  \n",
       "     2001Q1  0.116   1.063 -0.097          -0.106                 0.228  small  \n",
       "...            ...     ...    ...             ...                   ...    ...  \n",
       "ZNGA 2021Q2  0.108  -0.192  0.034           2.404                 0.261  small  \n",
       "     2021Q3 -0.192  -0.215 -0.038           2.404                 0.366  small  \n",
       "     2021Q4 -0.433  -0.100 -0.051           2.404                 0.434  small  \n",
       "     2022Q1 -0.100  -0.215 -0.008           2.404                 0.278  small  \n",
       "     2022Q2 -0.262   1.492  3.540           2.404                 4.653  small  \n",
       "\n",
       "[323816 rows x 33 columns]"
      ]
     },
     "execution_count": 509,
     "metadata": {},
     "output_type": "execute_result"
    }
   ],
   "source": [
    "US_Firms"
   ]
  },
  {
   "cell_type": "markdown",
   "metadata": {},
   "source": [
    "**PARA OBTENER EL VALOR DE MERCADO Y EL VALOR CONTABLE DE LA EMPRESA, ES NECESARIO EMPLEAR LOS SIGUIENTES CALCULOS:**"
   ]
  },
  {
   "cell_type": "markdown",
   "metadata": {},
   "source": [
    "##### *Firm Size Measures:*\n",
    "* *Book value of the firm* = (TotalAssets - TotalLiabilities)\n",
    "* *Market value* = (OriginalPrice * SharesOutStanding)              Precio del stock historico"
   ]
  },
  {
   "cell_type": "markdown",
   "metadata": {},
   "source": [
    "##### *Profit Margin Measures:*\n",
    "* *Operating Profit* = (Revenue - Cogs - Sgae) \n",
    "###### ---//Cogst-Costos Variables //Sgae-Costos fijos\n",
    "* *Operating Profit Margin (OPM)* = (Ebit / Revenue)             \n",
    "* *Profit margin* = (NetIncome / revenue)               \n",
    "* *Net Income* = (Ebit - Incometax - Finexp)       \n",
    "###### ---//Incometax-Impuesto sobre la renta //Finexp-Gastos financieros                "
   ]
  },
  {
   "cell_type": "code",
   "execution_count": 512,
   "metadata": {},
   "outputs": [
    {
     "data": {
      "text/html": [
       "<div>\n",
       "<style scoped>\n",
       "    .dataframe tbody tr th:only-of-type {\n",
       "        vertical-align: middle;\n",
       "    }\n",
       "\n",
       "    .dataframe tbody tr th {\n",
       "        vertical-align: top;\n",
       "    }\n",
       "\n",
       "    .dataframe thead th {\n",
       "        text-align: right;\n",
       "    }\n",
       "</style>\n",
       "<table border=\"1\" class=\"dataframe\">\n",
       "  <thead>\n",
       "    <tr style=\"text-align: right;\">\n",
       "      <th></th>\n",
       "      <th></th>\n",
       "      <th>Ticker</th>\n",
       "      <th>Name</th>\n",
       "      <th>Sector NAICS\\nlevel 1</th>\n",
       "      <th>revenue</th>\n",
       "      <th>cogs</th>\n",
       "      <th>sgae</th>\n",
       "      <th>otheropexp</th>\n",
       "      <th>extraincome</th>\n",
       "      <th>finexp</th>\n",
       "      <th>incometax</th>\n",
       "      <th>totalassets</th>\n",
       "      <th>totalliabilities</th>\n",
       "      <th>shortdebt</th>\n",
       "      <th>longdebt</th>\n",
       "      <th>stockholderequity</th>\n",
       "      <th>adjprice</th>\n",
       "      <th>originalprice</th>\n",
       "      <th>sharesoutstanding</th>\n",
       "      <th>fiscalmonth</th>\n",
       "      <th>year</th>\n",
       "      <th>cto</th>\n",
       "      <th>Book Value of the Firms</th>\n",
       "      <th>Market Value</th>\n",
       "      <th>Operating Profit</th>\n",
       "      <th>OPM</th>\n",
       "      <th>Net Income</th>\n",
       "      <th>Profit Margin</th>\n",
       "      <th>r</th>\n",
       "      <th>F1_ret</th>\n",
       "      <th>EPSP</th>\n",
       "      <th>Sales Annual G</th>\n",
       "      <th>Book to Market Ratio</th>\n",
       "      <th>size</th>\n",
       "    </tr>\n",
       "    <tr>\n",
       "      <th>firm</th>\n",
       "      <th>q</th>\n",
       "      <th></th>\n",
       "      <th></th>\n",
       "      <th></th>\n",
       "      <th></th>\n",
       "      <th></th>\n",
       "      <th></th>\n",
       "      <th></th>\n",
       "      <th></th>\n",
       "      <th></th>\n",
       "      <th></th>\n",
       "      <th></th>\n",
       "      <th></th>\n",
       "      <th></th>\n",
       "      <th></th>\n",
       "      <th></th>\n",
       "      <th></th>\n",
       "      <th></th>\n",
       "      <th></th>\n",
       "      <th></th>\n",
       "      <th></th>\n",
       "      <th></th>\n",
       "      <th></th>\n",
       "      <th></th>\n",
       "      <th></th>\n",
       "      <th></th>\n",
       "      <th></th>\n",
       "      <th></th>\n",
       "      <th></th>\n",
       "      <th></th>\n",
       "      <th></th>\n",
       "      <th></th>\n",
       "      <th></th>\n",
       "      <th></th>\n",
       "    </tr>\n",
       "  </thead>\n",
       "  <tbody>\n",
       "  </tbody>\n",
       "</table>\n",
       "</div>"
      ],
      "text/plain": [
       "Empty DataFrame\n",
       "Columns: [Ticker, Name, Sector NAICS\n",
       "level 1, revenue, cogs, sgae, otheropexp, extraincome, finexp, incometax, totalassets, totalliabilities, shortdebt, longdebt, stockholderequity, adjprice, originalprice, sharesoutstanding, fiscalmonth, year, cto, Book Value of the Firms, Market Value, Operating Profit, OPM, Net Income, Profit Margin, r, F1_ret, EPSP, Sales Annual G, Book to Market Ratio, size]\n",
       "Index: []"
      ]
     },
     "execution_count": 512,
     "metadata": {},
     "output_type": "execute_result"
    }
   ],
   "source": [
    "# Calculo de valor de mercado y valor contable\n",
    "US_Firms['Book Value of the Firms'] = US_Firms['totalassets'] - US_Firms['totalliabilities']\n",
    "US_Firms['Market Value'] = US_Firms['originalprice'] * US_Firms['sharesoutstanding']\n",
    "US_Firms.head(0)"
   ]
  },
  {
   "cell_type": "code",
   "execution_count": 513,
   "metadata": {},
   "outputs": [
    {
     "data": {
      "text/html": [
       "<div>\n",
       "<style scoped>\n",
       "    .dataframe tbody tr th:only-of-type {\n",
       "        vertical-align: middle;\n",
       "    }\n",
       "\n",
       "    .dataframe tbody tr th {\n",
       "        vertical-align: top;\n",
       "    }\n",
       "\n",
       "    .dataframe thead th {\n",
       "        text-align: right;\n",
       "    }\n",
       "</style>\n",
       "<table border=\"1\" class=\"dataframe\">\n",
       "  <thead>\n",
       "    <tr style=\"text-align: right;\">\n",
       "      <th></th>\n",
       "      <th></th>\n",
       "      <th>Ticker</th>\n",
       "      <th>Name</th>\n",
       "      <th>Sector NAICS\\nlevel 1</th>\n",
       "      <th>revenue</th>\n",
       "      <th>cogs</th>\n",
       "      <th>sgae</th>\n",
       "      <th>otheropexp</th>\n",
       "      <th>extraincome</th>\n",
       "      <th>finexp</th>\n",
       "      <th>incometax</th>\n",
       "      <th>totalassets</th>\n",
       "      <th>totalliabilities</th>\n",
       "      <th>shortdebt</th>\n",
       "      <th>longdebt</th>\n",
       "      <th>stockholderequity</th>\n",
       "      <th>adjprice</th>\n",
       "      <th>originalprice</th>\n",
       "      <th>sharesoutstanding</th>\n",
       "      <th>fiscalmonth</th>\n",
       "      <th>year</th>\n",
       "      <th>cto</th>\n",
       "      <th>Book Value of the Firms</th>\n",
       "      <th>Market Value</th>\n",
       "      <th>Operating Profit</th>\n",
       "      <th>OPM</th>\n",
       "      <th>Net Income</th>\n",
       "      <th>Profit Margin</th>\n",
       "      <th>r</th>\n",
       "      <th>F1_ret</th>\n",
       "      <th>EPSP</th>\n",
       "      <th>Sales Annual G</th>\n",
       "      <th>Book to Market Ratio</th>\n",
       "      <th>size</th>\n",
       "    </tr>\n",
       "    <tr>\n",
       "      <th>firm</th>\n",
       "      <th>q</th>\n",
       "      <th></th>\n",
       "      <th></th>\n",
       "      <th></th>\n",
       "      <th></th>\n",
       "      <th></th>\n",
       "      <th></th>\n",
       "      <th></th>\n",
       "      <th></th>\n",
       "      <th></th>\n",
       "      <th></th>\n",
       "      <th></th>\n",
       "      <th></th>\n",
       "      <th></th>\n",
       "      <th></th>\n",
       "      <th></th>\n",
       "      <th></th>\n",
       "      <th></th>\n",
       "      <th></th>\n",
       "      <th></th>\n",
       "      <th></th>\n",
       "      <th></th>\n",
       "      <th></th>\n",
       "      <th></th>\n",
       "      <th></th>\n",
       "      <th></th>\n",
       "      <th></th>\n",
       "      <th></th>\n",
       "      <th></th>\n",
       "      <th></th>\n",
       "      <th></th>\n",
       "      <th></th>\n",
       "      <th></th>\n",
       "      <th></th>\n",
       "    </tr>\n",
       "  </thead>\n",
       "  <tbody>\n",
       "  </tbody>\n",
       "</table>\n",
       "</div>"
      ],
      "text/plain": [
       "Empty DataFrame\n",
       "Columns: [Ticker, Name, Sector NAICS\n",
       "level 1, revenue, cogs, sgae, otheropexp, extraincome, finexp, incometax, totalassets, totalliabilities, shortdebt, longdebt, stockholderequity, adjprice, originalprice, sharesoutstanding, fiscalmonth, year, cto, Book Value of the Firms, Market Value, Operating Profit, OPM, Net Income, Profit Margin, r, F1_ret, EPSP, Sales Annual G, Book to Market Ratio, size]\n",
       "Index: []"
      ]
     },
     "execution_count": 513,
     "metadata": {},
     "output_type": "execute_result"
    }
   ],
   "source": [
    "# Calculos Profit Margin Measures\n",
    "US_Firms['Operating Profit'] = US_Firms['revenue'] - US_Firms['cogs'] - US_Firms['sgae'] - US_Firms['otheropexp']\n",
    "US_Firms['OPM'] = US_Firms['Operating Profit'] / US_Firms['revenue']\n",
    "US_Firms['Net Income'] = US_Firms['Operating Profit'] - US_Firms['incometax'] - US_Firms['finexp']\n",
    "US_Firms['Profit Margin'] = US_Firms['Net Income'] / US_Firms['revenue']\n",
    "US_Firms.head(0)"
   ]
  },
  {
   "cell_type": "code",
   "execution_count": 514,
   "metadata": {},
   "outputs": [],
   "source": [
    "# Divir empresas por industria\n",
    "comercial = US_Firms.loc[(US_Firms['Sector NAICS\\nlevel 1'] == \"Wholesale Trade\") | (US_Firms['Sector NAICS\\nlevel 1'] == \"Retail Trade\")]\n",
    "services = US_Firms.loc[(US_Firms['Sector NAICS\\nlevel 1'] == \"Accommodation and Food Services\") | (US_Firms['Sector NAICS\\nlevel 1'] == \"Administrative and Support and Waste Managment and Remedation Services\") | (US_Firms['Sector NAICS\\nlevel 1'] == \"Arts, Entertainment, and Recreation\") | (US_Firms['Sector NAICS\\nlevel 1'] == \"Educational Services\") | (US_Firms['Sector NAICS\\nlevel 1'] == \"Health Care and Social Assistance\") | (US_Firms['Sector NAICS\\nlevel 1'] == \"Information\") | (US_Firms['Sector NAICS\\nlevel 1'] == \"Other Services (except Public Administration)\") | (US_Firms['Sector NAICS\\nlevel 1'] == \"Profession, Scientific and Technical Services\") | (US_Firms['Sector NAICS\\nlevel 1'] == \"Transportation and Warehousing\")]\n",
    "financial = US_Firms.loc[(US_Firms['Sector NAICS\\nlevel 1'] == \"Finance and Insurance\") | (US_Firms['Sector NAICS\\nlevel 1'] == \"Real Estate and Rental and Leasing\")]\n",
    "manufacturing = US_Firms.loc[(US_Firms['Sector NAICS\\nlevel 1'] == \"Manufacturing\")]"
   ]
  },
  {
   "cell_type": "code",
   "execution_count": 518,
   "metadata": {},
   "outputs": [
    {
     "name": "stdout",
     "output_type": "stream",
     "text": [
      "     Industria          #\n",
      "Commercial :          (231, 29)\n",
      "Services :            (514, 29)\n",
      "Financial Services :  (769, 29)\n",
      "Manufacturing :      (1565, 29)\n"
     ]
    }
   ],
   "source": [
    "# Conteo por industrias\n",
    "print('     Industria          #')\n",
    "print('Commercial :         ', comercial.groupby([\"firm\"]).sum().shape)\n",
    "print('Services :           ', services.groupby([\"firm\"]).sum().shape)\n",
    "print('Financial Services : ', financial.groupby([\"firm\"]).sum().shape)\n",
    "print('Manufacturing :     ',  manufacturing.groupby([\"firm\"]).sum().shape)"
   ]
  },
  {
   "cell_type": "markdown",
   "metadata": {},
   "source": [
    "**SE PUEDE OBSERVAR QUE LA INDUSTRIA CON MENOR CANTIDAD DE EMPRESAS ES LA ***INDUSTRIA COMERCIAL*** CON UNA CANTIDAD DE ***231*****\n",
    "\n",
    "**Y LA QUE POSEE MÁS EMPRESAS ES LA ***INDUSTRIA DE MANUFACTURA*** CON UN TOTAL DE ***1565*****"
   ]
  },
  {
   "cell_type": "markdown",
   "metadata": {},
   "source": [
    "---"
   ]
  },
  {
   "cell_type": "markdown",
   "metadata": {},
   "source": [
    " Para cada sector (y para todos los sectores), \n",
    "> ###### ¿qué puede decir sobre el tamaño típico de la empresa en términos de valor de mercado y valor contable? \n",
    ">###### ¿Cuánto cambian estas variables dentro de cada industria? \n",
    ">###### ¿Cómo se distribuye el tamaño de la empresa (en valor de mercado)?\n",
    "**RESPUESTA.**"
   ]
  },
  {
   "cell_type": "code",
   "execution_count": 550,
   "metadata": {},
   "outputs": [
    {
     "name": "stdout",
     "output_type": "stream",
     "text": [
      "                       Valor de mercado  Valor contable\n",
      "Todas las industrias :  1570573.461       567545.0\n"
     ]
    }
   ],
   "source": [
    "# Para todas las industrias en función del valor de mercado y valor contable\n",
    "print('                      ','Valor de mercado', ' Valor contable')\n",
    "print('Todas las industrias : ',\n",
    "                            round(US_Firms[\"Market Value\"].median(),3),\n",
    "                            '     ',\n",
    "                            round(US_Firms[\"Book Value of the Firms\"].median(),3))"
   ]
  },
  {
   "cell_type": "code",
   "execution_count": 564,
   "metadata": {},
   "outputs": [
    {
     "data": {
      "text/plain": [
       "Text(0.5, 1.0, 'All Industrias Book Value for Commercial')"
      ]
     },
     "execution_count": 564,
     "metadata": {},
     "output_type": "execute_result"
    },
    {
     "data": {
      "image/png": "[encoded data removed]",
      "text/plain": [
       "<Figure size 1080x720 with 2 Axes>"
      ]
     },
     "metadata": {
      "needs_background": "light"
     },
     "output_type": "display_data"
    }
   ],
   "source": [
    "# Representación para todas las industrias del valor de mercado y valor contable\n",
    "fig = plt.figure(figsize=(15, 10))\n",
    "\n",
    "ax1 = fig.add_subplot(221)\n",
    "ax2 = fig.add_subplot(222)\n",
    "\n",
    "sns.boxplot(x=\"Market Value\",data=US_Firms, ax=ax1).set_title(\"All Industries Market Value\")\n",
    "sns.boxplot(x=\"Book Value of the Firms\",data=US_Firms, ax=ax2).set_title(\"All Industrias Book Value for Commercial\")"
   ]
  },
  {
   "cell_type": "code",
   "execution_count": 548,
   "metadata": {},
   "outputs": [
    {
     "name": "stdout",
     "output_type": "stream",
     "text": [
      "Industria             Valor de mercado  Valor contable\n",
      "Commercial :           2083817.971       723936.0\n",
      "Services :             2184463.519       544419.0\n",
      "Financial Services :   1563695.938       893833.0\n",
      "Manufacturing :        1190025.11        363070.5\n"
     ]
    }
   ],
   "source": [
    "# Para cada industria valor de mercado y valor contable\n",
    "print('Industria            ','Valor de mercado', ' Valor contable')\n",
    "print('Commercial :          ', round(comercial[\"Market Value\"].median(),3),\n",
    "                            '     ',\n",
    "                            round(comercial[\"Book Value of the Firms\"].median(),3))\n",
    "print('Services :            ', round(services[\"Market Value\"].median(),3),\n",
    "                            '     ',\n",
    "                            round(services[\"Book Value of the Firms\"].median(),3))\n",
    "print('Financial Services :  ', round(financial[\"Market Value\"].median(),3),\n",
    "                            '     ',\n",
    "                            round(financial[\"Book Value of the Firms\"].median(),3))\n",
    "print('Manufacturing :       ',  round(manufacturing[\"Market Value\"].median(),3),\n",
    "                            '      ',\n",
    "                            round(manufacturing[\"Book Value of the Firms\"].median(),3))"
   ]
  },
  {
   "cell_type": "code",
   "execution_count": 552,
   "metadata": {},
   "outputs": [
    {
     "data": {
      "text/plain": [
       "Text(0.5, 1.0, 'Book Value for Commercial')"
      ]
     },
     "execution_count": 552,
     "metadata": {},
     "output_type": "execute_result"
    },
    {
     "data": {
      "image/png": "[encoded data removed]",
      "text/plain": [
       "<Figure size 1080x720 with 2 Axes>"
      ]
     },
     "metadata": {
      "needs_background": "light"
     },
     "output_type": "display_data"
    }
   ],
   "source": [
    "# Representación industria comercial del valor de mercado y valor contable\n",
    "fig = plt.figure(figsize=(15, 10))\n",
    "\n",
    "ax1 = fig.add_subplot(221)\n",
    "ax2 = fig.add_subplot(222)\n",
    "\n",
    "sns.boxplot(x=\"Sector NAICS\\nlevel 1\",y=\"Market Value\",data=comercial, hue=\"Sector NAICS\\nlevel 1\",ax=ax1).set_title(\"Market Value\")\n",
    "sns.boxplot(x=\"Sector NAICS\\nlevel 1\",y=\"Book Value of the Firms\",data=comercial, hue=\"Sector NAICS\\nlevel 1\",ax=ax2).set_title(\"Book Value for Commercial\")"
   ]
  },
  {
   "cell_type": "code",
   "execution_count": 554,
   "metadata": {},
   "outputs": [
    {
     "data": {
      "text/plain": [
       "Text(0.5, 1.0, 'Book Value for Services')"
      ]
     },
     "execution_count": 554,
     "metadata": {},
     "output_type": "execute_result"
    },
    {
     "data": {
      "image/png": "[encoded data removed]",
      "text/plain": [
       "<Figure size 1080x720 with 2 Axes>"
      ]
     },
     "metadata": {
      "needs_background": "light"
     },
     "output_type": "display_data"
    }
   ],
   "source": [
    "# Representación industria de servicios del valor de mercado y valor contable\n",
    "fig = plt.figure(figsize=(15, 10))\n",
    "\n",
    "ax1 = fig.add_subplot(221)\n",
    "ax2 = fig.add_subplot(222)\n",
    "\n",
    "sns.boxplot(x=\"Sector NAICS\\nlevel 1\",y=\"Market Value\",data=services, hue=\"Sector NAICS\\nlevel 1\",ax=ax1).set_title(\"Market Value for Services\")\n",
    "sns.boxplot(x=\"Sector NAICS\\nlevel 1\",y=\"Book Value of the Firms\",data=services, hue=\"Sector NAICS\\nlevel 1\",ax=ax2).set_title(\"Book Value for Services\")"
   ]
  },
  {
   "cell_type": "code",
   "execution_count": 555,
   "metadata": {},
   "outputs": [
    {
     "data": {
      "text/plain": [
       "Text(0.5, 1.0, 'Book Value for Financial Services')"
      ]
     },
     "execution_count": 555,
     "metadata": {},
     "output_type": "execute_result"
    },
    {
     "data": {
      "image/png": "[encoded data removed]",
      "text/plain": [
       "<Figure size 1080x720 with 2 Axes>"
      ]
     },
     "metadata": {
      "needs_background": "light"
     },
     "output_type": "display_data"
    }
   ],
   "source": [
    "# Representación industria de servicios financieros del valor de mercado y valor contable\n",
    "fig = plt.figure(figsize=(15, 10))\n",
    "\n",
    "ax1 = fig.add_subplot(221)\n",
    "ax2 = fig.add_subplot(222)\n",
    "\n",
    "sns.boxplot(x=\"Sector NAICS\\nlevel 1\",y=\"Market Value\",data=financial, hue=\"Sector NAICS\\nlevel 1\",ax=ax1).set_title(\"Market Value for Financial Services\")\n",
    "sns.boxplot(x=\"Sector NAICS\\nlevel 1\",y=\"Book Value of the Firms\",data=financial, hue=\"Sector NAICS\\nlevel 1\",ax=ax2).set_title(\"Book Value for Financial Services\")"
   ]
  },
  {
   "cell_type": "code",
   "execution_count": 557,
   "metadata": {},
   "outputs": [
    {
     "data": {
      "text/plain": [
       "Text(0.5, 1.0, 'Book Value for Manufacturing')"
      ]
     },
     "execution_count": 557,
     "metadata": {},
     "output_type": "execute_result"
    },
    {
     "data": {
      "image/png": "[encoded data removed]",
      "text/plain": [
       "<Figure size 1080x720 with 2 Axes>"
      ]
     },
     "metadata": {
      "needs_background": "light"
     },
     "output_type": "display_data"
    }
   ],
   "source": [
    "# Representación industria de manufactura del valor de mercado y valor contable\n",
    "fig = plt.figure(figsize=(15, 10))\n",
    "\n",
    "ax1 = fig.add_subplot(221)\n",
    "ax2 = fig.add_subplot(222)\n",
    "\n",
    "sns.boxplot(x=\"Sector NAICS\\nlevel 1\",y=\"Market Value\",data=manufacturing, hue=\"Sector NAICS\\nlevel 1\",ax=ax1).set_title(\"Market Value for Manufacturing\")\n",
    "sns.boxplot(x=\"Sector NAICS\\nlevel 1\",y=\"Book Value of the Firms\",data=manufacturing, hue=\"Sector NAICS\\nlevel 1\",ax=ax2).set_title(\"Book Value for Manufacturing\")"
   ]
  },
  {
   "cell_type": "markdown",
   "metadata": {},
   "source": [
    "---"
   ]
  },
  {
   "cell_type": "markdown",
   "metadata": {},
   "source": [
    "Para cada sector (y para todos los sectores)\n",
    ">###### ¿Qué puede decir sobre el margen de beneficio de las empresas? \n",
    ">###### a) estadísticas descriptivas del margen de beneficios \n",
    ">###### b) gráfico(s) para ilustrar cómo cambia el margen de beneficios entre las industrias.\n",
    "###### **RESPUESTA.**"
   ]
  },
  {
   "cell_type": "code",
   "execution_count": null,
   "metadata": {},
   "outputs": [],
   "source": [
    "# Analisis descriptivo\n",
    "US_Firms['Profit Margin'].describe()\n",
    "US_Firms[\"Profit Margin\"].groupby([\"firm\"]).last().plot()"
   ]
  },
  {
   "cell_type": "code",
   "execution_count": null,
   "metadata": {},
   "outputs": [],
   "source": [
    "# comercial['Profit Margin'].describe()\n",
    "comercial[\"Profit Margin\"].groupby([\"firm\"]).last().plot()"
   ]
  },
  {
   "cell_type": "code",
   "execution_count": null,
   "metadata": {},
   "outputs": [],
   "source": [
    "# services['Profit Margin'].describe()\n",
    "services[\"Profit Margin\"].groupby([\"firm\"]).last().plot()"
   ]
  },
  {
   "cell_type": "code",
   "execution_count": null,
   "metadata": {},
   "outputs": [],
   "source": [
    "# financial['Profit Margin'].describe()\n",
    "financial[\"Profit Margin\"].groupby([\"firm\"]).last().plot()"
   ]
  },
  {
   "cell_type": "code",
   "execution_count": null,
   "metadata": {},
   "outputs": [],
   "source": [
    "# manufacturing['Profit Margin'].describe()\n",
    "manufacturing[\"Profit Margin\"].groupby([\"firm\"]).last().plot()"
   ]
  },
  {
   "cell_type": "markdown",
   "metadata": {},
   "source": [
    "---"
   ]
  },
  {
   "cell_type": "markdown",
   "metadata": {},
   "source": [
    ">###### ¿Cuáles son las 10 empresas estadounidenses más grandes en términos de valor de mercado y a qué distancia están del tamaño típico de una empresa estadounidense?\n",
    "###### **RESPUESTA.**"
   ]
  },
  {
   "cell_type": "markdown",
   "metadata": {},
   "source": [
    "top  = us_firms2022.sort_values('Book value of the firms', ascending=False).head(10) # Valor contable de la empresa\n",
    "top10"
   ]
  },
  {
   "cell_type": "code",
   "execution_count": null,
   "metadata": {},
   "outputs": [],
   "source": [
    "B_Firms = US_Firms.groupby([\"firm\"]).last() \n",
    "B_Firms = B_Firms.nlargest(10,\"Market Value\")\n",
    "B_Firms"
   ]
  },
  {
   "cell_type": "markdown",
   "metadata": {},
   "source": [
    ">###### ¿Cuáles son las 10 empresas estadounidenses más importantes en términos de valor contable y a qué distancia están del tamaño típico de una empresa estadounidense?\n",
    "###### **RESPUESTA.**"
   ]
  },
  {
   "cell_type": "code",
   "execution_count": null,
   "metadata": {},
   "outputs": [],
   "source": [
    "B_Firms = US_Firms.groupby([\"firm\"]).last() \n",
    "B_Firms = B_Firms.nlargest(10,\"Book Value of the Firms\")\n",
    "B_Firms"
   ]
  },
  {
   "cell_type": "markdown",
   "metadata": {},
   "source": [
    "---"
   ]
  },
  {
   "cell_type": "markdown",
   "metadata": {},
   "source": [
    "Considerando todo el historial de datos financieros de todas las empresas:\n",
    "\n",
    ">###### ¿Cómo se puede medir la rentabilidad de las empresas que se puede utilizar para comparar el rendimiento entre empresas de diferentes tamaños? Seleccionar y justificar al menos 3 medidas y mostrar estadísticas descriptivas\n",
    "###### **RESPUESTA.**\n",
    "\n",
    ">###### Calcular y explicar las ganancias por acción deflactadas por precio.\n",
    "###### **RESPUESTA.**"
   ]
  },
  {
   "cell_type": "markdown",
   "metadata": {},
   "source": [
    "*Modelado estadistico*"
   ]
  },
  {
   "cell_type": "markdown",
   "metadata": {},
   "source": [
    "Utilizando su subconjunto de empresas que pertenecen a su sector, ¿qué factores (variables) podrían estar relacionados con la rentabilidad anual de las acciones en un trimestre en el futuro? Seleccione al menos 3 factores y explique brevemente. ¿por qué cree que podrían estar relacionados con la rentabilidad de las acciones?.\n",
    "###### **RESPUESTA.**"
   ]
  },
  {
   "cell_type": "code",
   "execution_count": null,
   "metadata": {},
   "outputs": [],
   "source": [
    "US_Firms[\"r\"] = np.log(US_Firms[\"adjprice\"]) - np.log(US_Firms[\"adjprice\"].shift(4))\n",
    "US_Firms[[\"adjprice\",\"r\"]]"
   ]
  },
  {
   "cell_type": "code",
   "execution_count": null,
   "metadata": {},
   "outputs": [],
   "source": [
    "US_Firms[\"F1_ret\"] = US_Firms[\"r\"].shift(-1)\n",
    "US_Firms[[\"r\",\"F1_ret\"]]"
   ]
  },
  {
   "cell_type": "code",
   "execution_count": null,
   "metadata": {},
   "outputs": [],
   "source": [
    "#Earning per share:\n",
    "US_Firms[\"EPSP\"] = US_Firms['Net Income'] / US_Firms[\"sharesoutstanding\"]\n",
    "\n",
    "#Sales annual growth\n",
    "US_Firms[\"Sales Annual G\"] = (US_Firms[\"revenue\"] / (US_Firms[\"revenue\"].shift(-4)))-1\n",
    "\n",
    "#Book to market ratio\n",
    "US_Firms[\"Book to Market Ratio\"] = (US_Firms[\"totalassets\"] - US_Firms[\"totalliabilities\"]) / (US_Firms[\"originalprice\"] * US_Firms[\"sharesoutstanding\"])\n",
    "\n",
    "#To classify by size\n",
    "US_Firms.sort_values(\"Market Value\").groupby(\"q\")\n",
    "US_Firms[\"size\"] = pd.cut(US_Firms[\"Market Value\"], bins=3, labels = [\"small\",\"medium\",\"big\"])\n",
    "\n",
    "US_Firms.head(0)"
   ]
  },
  {
   "cell_type": "markdown",
   "metadata": {},
   "source": [
    ">###### Realice histogramas para cada factor/variable e interpretarlos\n",
    "###### **RESPUESTA.**"
   ]
  },
  {
   "cell_type": "code",
   "execution_count": null,
   "metadata": {},
   "outputs": [],
   "source": [
    "sns.histplot(x=\"F1_ret\",data=US_Firms)"
   ]
  },
  {
   "cell_type": "code",
   "execution_count": null,
   "metadata": {},
   "outputs": [],
   "source": [
    "sns.kdeplot(x=\"EPSP\",data=US_Firms)\n"
   ]
  },
  {
   "cell_type": "code",
   "execution_count": null,
   "metadata": {},
   "outputs": [],
   "source": [
    "sns.kdeplot(x=\"Sales Annual G\",data=US_Firms)"
   ]
  },
  {
   "cell_type": "code",
   "execution_count": null,
   "metadata": {},
   "outputs": [],
   "source": [
    "sns.kdeplot(x=\"Book to Market Ratio\",data=US_Firms)"
   ]
  },
  {
   "cell_type": "markdown",
   "metadata": {},
   "source": [
    ">###### Realice trazados para visualizar la posible relación que cada factor podría tener con la variable dependiente.\n",
    "###### **RESPUESTA.**"
   ]
  },
  {
   "cell_type": "code",
   "execution_count": null,
   "metadata": {},
   "outputs": [],
   "source": [
    "US_Firms[[\"F1_ret\",\"EPSP\",\"Sales Annual G\",\"Book to Market Ratio\"]].corr(method='pearson')"
   ]
  },
  {
   "cell_type": "markdown",
   "metadata": {},
   "source": [
    ">###### Mostrar estadísticas descriptivas de estos factores.\n",
    "###### **RESPUESTA.**"
   ]
  },
  {
   "cell_type": "code",
   "execution_count": null,
   "metadata": {},
   "outputs": [],
   "source": [
    "US_Firms[[\"F1_ret\",\"EPSP\",\"Sales Annual G\",\"Book to Market Ratio\"]].corr(method='pearson').describe()"
   ]
  },
  {
   "cell_type": "markdown",
   "metadata": {},
   "source": [
    "---"
   ]
  },
  {
   "cell_type": "markdown",
   "metadata": {},
   "source": [
    "> Diseñe y ejecute un modelo de regresión múltiple para examinar si los factores seleccionados y las ganancias por acción deflactadas por precio pueden explicar/predecir las ganancias anuales de las acciones. Usted tiene que controlar para la industria y el tamaño de la firma. Para controlar estas variables, debe incluirlas como variables independientes adicionales en el modelo.\n",
    "###### **RESPUESTA.**\n",
    "\n",
    ">###### Las variables independientes deben estar en la escala correcta para poder comparar los valores de las variables entre diferentes firmas de cualquier tamaño.\n",
    "###### **RESPUESTA.**\n",
    "\n",
    ">###### Para cada variable independiente debe comprobar si hay valores atípicos y realizar los ajustes correspondientes para evitar resultados no fiables en el modelo de regresión.\n",
    "###### **RESPUESTA.**\n",
    "\n",
    ">###### Debe comprobar si existen posibles problemas de multicolinealidad. Explique brevemente qué es multicolinealidad, ejecute e interprete la prueba correspondiente.\n",
    "###### **RESPUESTA.**"
   ]
  },
  {
   "cell_type": "markdown",
   "metadata": {},
   "source": [
    "> Interpretar el modelo\n",
    "\n",
    ">###### Interpretar los resultados de cada coeficiente (beta y su significación estadística)\n",
    "###### **RESPUESTA.**\n",
    "\n",
    ">###### Interpretar el R-cuadrado del modelo\n",
    "###### **RESPUESTA.**"
   ]
  },
  {
   "cell_type": "markdown",
   "metadata": {},
   "source": [
    "> Ajustes a su modelo. Si hay una o más variables independientes (factores o variables de control) que no son significativas, elimínelas del modelo. Usted tiene que ejecutar e interpretar su modelo final."
   ]
  },
  {
   "cell_type": "code",
   "execution_count": null,
   "metadata": {},
   "outputs": [],
   "source": [
    "import statsmodels.api as sm\n",
    "from scipy.stats.mstats import winsorize\n",
    "from statsmodels.stats.outliers_influence import variance_inflation_factor"
   ]
  },
  {
   "cell_type": "code",
   "execution_count": 506,
   "metadata": {},
   "outputs": [
    {
     "data": {
      "text/plain": [
       "masked_array(data=[0.37618763, 0.48321566, 0.42599138, ..., 0.4340675 ,\n",
       "                   0.27773814, 4.65341297],\n",
       "             mask=False,\n",
       "       fill_value=1e+20)"
      ]
     },
     "execution_count": 506,
     "metadata": {},
     "output_type": "execute_result"
    }
   ],
   "source": [
    "winsorize(US_Firms[\"F1_ret\"], limits=[0.1, 0.55], inplace=True,nan_policy='propagate')\n",
    "winsorize(US_Firms[\"EPSP\"], limits=[0.1, 0.53], inplace=True,nan_policy='propagate')\n",
    "winsorize(US_Firms[\"Sales Annual G\"], limits=[0.1, 0.57], inplace=True,nan_policy='propagate')\n",
    "winsorize(US_Firms[\"Book to Market Ratio\"], limits=[0.1, 0.53], inplace=True,nan_policy='propagate')"
   ]
  },
  {
   "cell_type": "code",
   "execution_count": 507,
   "metadata": {},
   "outputs": [
    {
     "name": "stdout",
     "output_type": "stream",
     "text": [
      "0\n",
      "0\n",
      "0\n",
      "0\n"
     ]
    }
   ],
   "source": [
    "# Verificar valores nulos \n",
    "print(US_Firms[\"F1_ret\"].isnull().sum())\n",
    "print(US_Firms[\"EPSP\"].isnull().sum())\n",
    "print(US_Firms[\"Sales Annual G\"].isnull().sum())\n",
    "print(US_Firms[\"Book to Market Ratio\"].isnull().sum())"
   ]
  },
  {
   "cell_type": "code",
   "execution_count": 490,
   "metadata": {},
   "outputs": [
    {
     "data": {
      "text/plain": [
       "<AxesSubplot:xlabel='Sales Annual G'>"
      ]
     },
     "execution_count": 490,
     "metadata": {},
     "output_type": "execute_result"
    },
    {
     "data": {
      "image/png": "[encoded data removed]",
      "text/plain": [
       "<Figure size 1440x720 with 4 Axes>"
      ]
     },
     "metadata": {
      "needs_background": "light"
     },
     "output_type": "display_data"
    }
   ],
   "source": [
    "fig = plt.figure(figsize=(20, 10))\n",
    "\n",
    "ax1 = fig.add_subplot(321)\n",
    "ax2 = fig.add_subplot(322)\n",
    "ax3 = fig.add_subplot(323)\n",
    "ax4 = fig.add_subplot(324)\n",
    "sns.boxplot(x=\"F1_ret\",data=US_Firms,palette='Set3',ax=ax1)\n",
    "sns.boxplot(x=\"Book to Market Ratio\",data=US_Firms,palette='Set3',ax=ax2)\n",
    "sns.boxplot(x=\"EPSP\",data=US_Firms,palette='Set3',ax=ax3)\n",
    "sns.boxplot(x=\"Sales Annual G\",data=US_Firms, palette='Set3',ax=ax4)\n"
   ]
  },
  {
   "cell_type": "code",
   "execution_count": 491,
   "metadata": {},
   "outputs": [
    {
     "data": {
      "text/html": [
       "<div>\n",
       "<style scoped>\n",
       "    .dataframe tbody tr th:only-of-type {\n",
       "        vertical-align: middle;\n",
       "    }\n",
       "\n",
       "    .dataframe tbody tr th {\n",
       "        vertical-align: top;\n",
       "    }\n",
       "\n",
       "    .dataframe thead th {\n",
       "        text-align: right;\n",
       "    }\n",
       "</style>\n",
       "<table border=\"1\" class=\"dataframe\">\n",
       "  <thead>\n",
       "    <tr style=\"text-align: right;\">\n",
       "      <th></th>\n",
       "      <th>F1_ret</th>\n",
       "      <th>EPSP</th>\n",
       "      <th>Sales Annual G</th>\n",
       "      <th>Book to Market Ratio</th>\n",
       "    </tr>\n",
       "  </thead>\n",
       "  <tbody>\n",
       "    <tr>\n",
       "      <th>count</th>\n",
       "      <td>146927.000</td>\n",
       "      <td>155408.000</td>\n",
       "      <td>141864.000</td>\n",
       "      <td>152754.000</td>\n",
       "    </tr>\n",
       "    <tr>\n",
       "      <th>mean</th>\n",
       "      <td>0.136</td>\n",
       "      <td>30137.808</td>\n",
       "      <td>inf</td>\n",
       "      <td>81.571</td>\n",
       "    </tr>\n",
       "    <tr>\n",
       "      <th>std</th>\n",
       "      <td>0.364</td>\n",
       "      <td>2283730.639</td>\n",
       "      <td>NaN</td>\n",
       "      <td>31340.318</td>\n",
       "    </tr>\n",
       "    <tr>\n",
       "      <th>min</th>\n",
       "      <td>-0.215</td>\n",
       "      <td>-0.097</td>\n",
       "      <td>-0.182</td>\n",
       "      <td>0.198</td>\n",
       "    </tr>\n",
       "    <tr>\n",
       "      <th>25%</th>\n",
       "      <td>-0.166</td>\n",
       "      <td>-0.043</td>\n",
       "      <td>-0.167</td>\n",
       "      <td>0.229</td>\n",
       "    </tr>\n",
       "    <tr>\n",
       "      <th>50%</th>\n",
       "      <td>0.085</td>\n",
       "      <td>0.296</td>\n",
       "      <td>-0.062</td>\n",
       "      <td>0.446</td>\n",
       "    </tr>\n",
       "    <tr>\n",
       "      <th>75%</th>\n",
       "      <td>0.293</td>\n",
       "      <td>0.804</td>\n",
       "      <td>0.032</td>\n",
       "      <td>0.759</td>\n",
       "    </tr>\n",
       "    <tr>\n",
       "      <th>max</th>\n",
       "      <td>7.577</td>\n",
       "      <td>257900000.000</td>\n",
       "      <td>inf</td>\n",
       "      <td>12248719.317</td>\n",
       "    </tr>\n",
       "  </tbody>\n",
       "</table>\n",
       "</div>"
      ],
      "text/plain": [
       "          F1_ret          EPSP  Sales Annual G  Book to Market Ratio\n",
       "count 146927.000    155408.000      141864.000            152754.000\n",
       "mean       0.136     30137.808             inf                81.571\n",
       "std        0.364   2283730.639             NaN             31340.318\n",
       "min       -0.215        -0.097          -0.182                 0.198\n",
       "25%       -0.166        -0.043          -0.167                 0.229\n",
       "50%        0.085         0.296          -0.062                 0.446\n",
       "75%        0.293         0.804           0.032                 0.759\n",
       "max        7.577 257900000.000             inf          12248719.317"
      ]
     },
     "execution_count": 491,
     "metadata": {},
     "output_type": "execute_result"
    }
   ],
   "source": [
    "US_Firms[[\"F1_ret\",\"EPSP\",\"Sales Annual G\",\"Book to Market Ratio\"]].describe()"
   ]
  },
  {
   "cell_type": "code",
   "execution_count": 492,
   "metadata": {},
   "outputs": [
    {
     "data": {
      "text/html": [
       "<div>\n",
       "<style scoped>\n",
       "    .dataframe tbody tr th:only-of-type {\n",
       "        vertical-align: middle;\n",
       "    }\n",
       "\n",
       "    .dataframe tbody tr th {\n",
       "        vertical-align: top;\n",
       "    }\n",
       "\n",
       "    .dataframe thead th {\n",
       "        text-align: right;\n",
       "    }\n",
       "</style>\n",
       "<table border=\"1\" class=\"dataframe\">\n",
       "  <thead>\n",
       "    <tr style=\"text-align: right;\">\n",
       "      <th></th>\n",
       "      <th>F1_ret</th>\n",
       "      <th>EPSP</th>\n",
       "      <th>Sales Annual G</th>\n",
       "      <th>Book to Market Ratio</th>\n",
       "    </tr>\n",
       "  </thead>\n",
       "  <tbody>\n",
       "    <tr>\n",
       "      <th>F1_ret</th>\n",
       "      <td>1.000</td>\n",
       "      <td>-0.003</td>\n",
       "      <td>0.002</td>\n",
       "      <td>-0.003</td>\n",
       "    </tr>\n",
       "    <tr>\n",
       "      <th>EPSP</th>\n",
       "      <td>-0.003</td>\n",
       "      <td>1.000</td>\n",
       "      <td>-0.000</td>\n",
       "      <td>0.006</td>\n",
       "    </tr>\n",
       "    <tr>\n",
       "      <th>Sales Annual G</th>\n",
       "      <td>0.002</td>\n",
       "      <td>-0.000</td>\n",
       "      <td>1.000</td>\n",
       "      <td>-0.000</td>\n",
       "    </tr>\n",
       "    <tr>\n",
       "      <th>Book to Market Ratio</th>\n",
       "      <td>-0.003</td>\n",
       "      <td>0.006</td>\n",
       "      <td>-0.000</td>\n",
       "      <td>1.000</td>\n",
       "    </tr>\n",
       "  </tbody>\n",
       "</table>\n",
       "</div>"
      ],
      "text/plain": [
       "                      F1_ret   EPSP  Sales Annual G  Book to Market Ratio\n",
       "F1_ret                 1.000 -0.003           0.002                -0.003\n",
       "EPSP                  -0.003  1.000          -0.000                 0.006\n",
       "Sales Annual G         0.002 -0.000           1.000                -0.000\n",
       "Book to Market Ratio  -0.003  0.006          -0.000                 1.000"
      ]
     },
     "execution_count": 492,
     "metadata": {},
     "output_type": "execute_result"
    }
   ],
   "source": [
    "US_Firms[[\"F1_ret\",\"EPSP\",\"Sales Annual G\",\"Book to Market Ratio\"]].corr(method='pearson')"
   ]
  },
  {
   "cell_type": "code",
   "execution_count": 508,
   "metadata": {},
   "outputs": [
    {
     "data": {
      "text/html": [
       "<div>\n",
       "<style scoped>\n",
       "    .dataframe tbody tr th:only-of-type {\n",
       "        vertical-align: middle;\n",
       "    }\n",
       "\n",
       "    .dataframe tbody tr th {\n",
       "        vertical-align: top;\n",
       "    }\n",
       "\n",
       "    .dataframe thead th {\n",
       "        text-align: right;\n",
       "    }\n",
       "</style>\n",
       "<table border=\"1\" class=\"dataframe\">\n",
       "  <thead>\n",
       "    <tr style=\"text-align: right;\">\n",
       "      <th></th>\n",
       "      <th>feature</th>\n",
       "      <th>VIF</th>\n",
       "    </tr>\n",
       "  </thead>\n",
       "  <tbody>\n",
       "    <tr>\n",
       "      <th>0</th>\n",
       "      <td>F1_ret</td>\n",
       "      <td>10.359</td>\n",
       "    </tr>\n",
       "    <tr>\n",
       "      <th>1</th>\n",
       "      <td>EPSP</td>\n",
       "      <td>14.478</td>\n",
       "    </tr>\n",
       "    <tr>\n",
       "      <th>2</th>\n",
       "      <td>Sales Annual G</td>\n",
       "      <td>8.094</td>\n",
       "    </tr>\n",
       "    <tr>\n",
       "      <th>3</th>\n",
       "      <td>Book to Market Ratio</td>\n",
       "      <td>21.224</td>\n",
       "    </tr>\n",
       "  </tbody>\n",
       "</table>\n",
       "</div>"
      ],
      "text/plain": [
       "                feature    VIF\n",
       "0                F1_ret 10.359\n",
       "1                  EPSP 14.478\n",
       "2        Sales Annual G  8.094\n",
       "3  Book to Market Ratio 21.224"
      ]
     },
     "execution_count": 508,
     "metadata": {},
     "output_type": "execute_result"
    }
   ],
   "source": [
    "vif = US_Firms[[\"F1_ret\",\"EPSP\",\"Sales Annual G\",\"Book to Market Ratio\"]]\n",
    "\n",
    "vifData = pd.DataFrame()\n",
    "np.any(~np.isfinite(vifData),axis=0)\n",
    "vifData[\"feature\"] = vif.columns\n",
    "\n",
    "vifData[\"VIF\"] = [variance_inflation_factor(vif.values, i) for i in range(len(vif.columns))]\n",
    "\n",
    "vifData\n",
    "\n"
   ]
  },
  {
   "cell_type": "code",
   "execution_count": null,
   "metadata": {},
   "outputs": [],
   "source": [
    "# Getting x and y parameters for the model prediction\n",
    "x = US_Firms[[\"EPSP\",\"Sales Annual G\",\"Book to Market Ratio\"]]\n",
    "y = US_Firms['F1_ret']\n",
    "\n",
    "# Getting information to interpret a model\n",
    "x = sm.add_constant(x)\n",
    "results = sm.OLS(y, x, missing=\"drop\").fit()\n",
    "pred = results.predict(x)\n",
    "\n",
    "print(results.summary())"
   ]
  },
  {
   "cell_type": "code",
   "execution_count": null,
   "metadata": {},
   "outputs": [],
   "source": [
    "# Getting x and y parameters for the model prediction\n",
    "x = US_Firms[[\"EPSP\",\"Sales Annual G\",\"Book to Market Ratio\"]]\n",
    "y = US_Firms['F1_ret']\n",
    "\n",
    "# Getting information to interpret a model\n",
    "x = sm.add_constant(x)\n",
    "results = sm.OLS(y, x, missing=\"drop\").fit()\n",
    "pred = results.predict(x)\n",
    "\n",
    "print(results.summary())"
   ]
  }
 ],
 "metadata": {
  "kernelspec": {
   "display_name": "Python 3.10.6 64-bit (windows store)",
   "language": "python",
   "name": "python3"
  },
  "language_info": {
   "codemirror_mode": {
    "name": "ipython",
    "version": 3
   },
   "file_extension": ".py",
   "mimetype": "text/x-python",
   "name": "python",
   "nbconvert_exporter": "python",
   "pygments_lexer": "ipython3",
   "version": "3.10.7"
  },
  "orig_nbformat": 4,
  "vscode": {
   "interpreter": {
    "hash": "f58006e3a6b3697db5a2671151387509a500f2e72d8fe07fc4154091e95c0813"
   }
  }
 },
 "nbformat": 4,
 "nbformat_minor": 2
}
