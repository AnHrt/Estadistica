{
 "cells": [
  {
   "cell_type": "markdown",
   "metadata": {},
   "source": [
    "### **Técnicas de procesamiento de datos para el análisis estadístico y para la construcción de modelos**\n",
    "\n",
    " **Angeles Arista Huerta** */  SEPTIEMBRE 2022*\n",
    "\n",
    "*Entrega - Caso de negocios, módulo 1 - Estadística*"
   ]
  },
  {
   "cell_type": "markdown",
   "metadata": {},
   "source": [
    "###### **DESCRIPCIÓN DEL CASO**\n",
    "###### *Usted fue contratado como científico de datos en una importante empresa de fondos de inversión en el departamento de análisis financiero. La firma lleva varios años realizando análisis financieros y previsiones financieras. Le contrataron para que ideara enfoques alternativos para realizar análisis descriptivos con el fin de encontrar mejores alternativas futuras para los métodos de previsión.*\n",
    "\n",
    "###### *Usted tiene que analizar los estados financieros trimestrales históricos de todas las firmas públicas estadounidenses que cotizan en la Bolsa de Nueva York y NASDAQ. Recibirá este conjunto de datos en formato .csv.*"
   ]
  },
  {
   "cell_type": "markdown",
   "metadata": {},
   "source": [
    "#### *Procesamiento del dataset*"
   ]
  },
  {
   "cell_type": "code",
   "execution_count": 61,
   "metadata": {},
   "outputs": [],
   "source": [
    "# importar librerias\n",
    "import numpy as np              #Algebra lieal\n",
    "import pandas as pd             #Procesamiento de datos\n",
    "import seaborn as sns           #Graficas/Visualizacion\n",
    "import matplotlib.pyplot as plt #Graficas/Visualizacion"
   ]
  },
  {
   "cell_type": "code",
   "execution_count": 62,
   "metadata": {},
   "outputs": [
    {
     "name": "stdout",
     "output_type": "stream",
     "text": [
      "c:\\Users\\angix\\Downloads\\Estadistica\n"
     ]
    }
   ],
   "source": [
    "# acceso a directorio\n",
    "%cd \"c:\\Users\\angix\\Downloads\\Estadistica\"\n",
    "#%ls "
   ]
  },
  {
   "cell_type": "markdown",
   "metadata": {},
   "source": [
    "###### Lectura de los archivos csv"
   ]
  },
  {
   "cell_type": "code",
   "execution_count": 63,
   "metadata": {},
   "outputs": [],
   "source": [
    "# Lectura csv de firms\n",
    "firms = pd.read_csv(\"c:\\\\Users\\\\angix\\\\Downloads\\\\Statistics\\\\usfirms2022.csv\")\n",
    "#firms.head(3)"
   ]
  },
  {
   "cell_type": "code",
   "execution_count": 64,
   "metadata": {},
   "outputs": [],
   "source": [
    "# Lectura csv de us\n",
    "us = pd.read_csv(\"c:\\\\Users\\\\angix\\\\Downloads\\\\Statistics\\\\us2022q2a.csv\")\n",
    "#us.head(3)"
   ]
  },
  {
   "cell_type": "code",
   "execution_count": 65,
   "metadata": {},
   "outputs": [],
   "source": [
    "# Configuración de la visualización de datos a 3 decimales\n",
    "pd.set_option('display.max_columns', None)\n",
    "pd.options.display.float_format = '{:.3f}'.format"
   ]
  },
  {
   "cell_type": "markdown",
   "metadata": {},
   "source": [
    "###### Descripción de los datos"
   ]
  },
  {
   "cell_type": "code",
   "execution_count": 66,
   "metadata": {},
   "outputs": [
    {
     "name": "stdout",
     "output_type": "stream",
     "text": [
      "<class 'pandas.core.frame.DataFrame'>\n",
      "RangeIndex: 3608 entries, 0 to 3607\n",
      "Data columns (total 11 columns):\n",
      " #   Column                       Non-Null Count  Dtype \n",
      "---  ------                       --------------  ----- \n",
      " 0   Ticker                       3608 non-null   object\n",
      " 1   Name                         3608 non-null   object\n",
      " 2   N                            3608 non-null   int64 \n",
      " 3   Class                        3608 non-null   object\n",
      " 4   Country\n",
      "of Origin            3608 non-null   object\n",
      " 5   Type of Asset                3608 non-null   object\n",
      " 6   Sector NAICS\n",
      "level 1         3608 non-null   object\n",
      " 7   Exchange / Src               3608 non-null   object\n",
      " 8   Sector\n",
      "Economatica           3608 non-null   object\n",
      " 9   Sector NAICS\n",
      "last available  3608 non-null   object\n",
      " 10  partind                      3608 non-null   object\n",
      "dtypes: int64(1), object(10)\n",
      "memory usage: 310.2+ KB\n"
     ]
    },
    {
     "data": {
      "text/html": [
       "<div>\n",
       "<style scoped>\n",
       "    .dataframe tbody tr th:only-of-type {\n",
       "        vertical-align: middle;\n",
       "    }\n",
       "\n",
       "    .dataframe tbody tr th {\n",
       "        vertical-align: top;\n",
       "    }\n",
       "\n",
       "    .dataframe thead th {\n",
       "        text-align: right;\n",
       "    }\n",
       "</style>\n",
       "<table border=\"1\" class=\"dataframe\">\n",
       "  <thead>\n",
       "    <tr style=\"text-align: right;\">\n",
       "      <th></th>\n",
       "      <th>N</th>\n",
       "    </tr>\n",
       "  </thead>\n",
       "  <tbody>\n",
       "    <tr>\n",
       "      <th>count</th>\n",
       "      <td>3608.000</td>\n",
       "    </tr>\n",
       "    <tr>\n",
       "      <th>mean</th>\n",
       "      <td>1804.500</td>\n",
       "    </tr>\n",
       "    <tr>\n",
       "      <th>std</th>\n",
       "      <td>1041.684</td>\n",
       "    </tr>\n",
       "    <tr>\n",
       "      <th>min</th>\n",
       "      <td>1.000</td>\n",
       "    </tr>\n",
       "    <tr>\n",
       "      <th>25%</th>\n",
       "      <td>902.750</td>\n",
       "    </tr>\n",
       "    <tr>\n",
       "      <th>50%</th>\n",
       "      <td>1804.500</td>\n",
       "    </tr>\n",
       "    <tr>\n",
       "      <th>75%</th>\n",
       "      <td>2706.250</td>\n",
       "    </tr>\n",
       "    <tr>\n",
       "      <th>max</th>\n",
       "      <td>3608.000</td>\n",
       "    </tr>\n",
       "  </tbody>\n",
       "</table>\n",
       "</div>"
      ],
      "text/plain": [
       "             N\n",
       "count 3608.000\n",
       "mean  1804.500\n",
       "std   1041.684\n",
       "min      1.000\n",
       "25%    902.750\n",
       "50%   1804.500\n",
       "75%   2706.250\n",
       "max   3608.000"
      ]
     },
     "execution_count": 66,
     "metadata": {},
     "output_type": "execute_result"
    }
   ],
   "source": [
    "firms.info()\n",
    "firms.describe()"
   ]
  },
  {
   "cell_type": "code",
   "execution_count": 67,
   "metadata": {},
   "outputs": [
    {
     "name": "stdout",
     "output_type": "stream",
     "text": [
      "<class 'pandas.core.frame.DataFrame'>\n",
      "RangeIndex: 324447 entries, 0 to 324446\n",
      "Data columns (total 20 columns):\n",
      " #   Column             Non-Null Count   Dtype  \n",
      "---  ------             --------------   -----  \n",
      " 0   firm               324446 non-null  object \n",
      " 1   q                  324446 non-null  object \n",
      " 2   revenue            158614 non-null  float64\n",
      " 3   cogs               158309 non-null  float64\n",
      " 4   sgae               158309 non-null  float64\n",
      " 5   otheropexp         158311 non-null  float64\n",
      " 6   extraincome        158613 non-null  float64\n",
      " 7   finexp             158614 non-null  float64\n",
      " 8   incometax          158614 non-null  float64\n",
      " 9   totalassets        159808 non-null  float64\n",
      " 10  totalliabilities   159808 non-null  float64\n",
      " 11  shortdebt          129677 non-null  float64\n",
      " 12  longdebt           159595 non-null  float64\n",
      " 13  stockholderequity  159740 non-null  float64\n",
      " 14  adjprice           159154 non-null  float64\n",
      " 15  originalprice      159234 non-null  float64\n",
      " 16  sharesoutstanding  157822 non-null  float64\n",
      " 17  fiscalmonth        159814 non-null  float64\n",
      " 18  year               324446 non-null  float64\n",
      " 19  cto                324446 non-null  float64\n",
      "dtypes: float64(18), object(2)\n",
      "memory usage: 49.5+ MB\n"
     ]
    },
    {
     "data": {
      "text/html": [
       "<div>\n",
       "<style scoped>\n",
       "    .dataframe tbody tr th:only-of-type {\n",
       "        vertical-align: middle;\n",
       "    }\n",
       "\n",
       "    .dataframe tbody tr th {\n",
       "        vertical-align: top;\n",
       "    }\n",
       "\n",
       "    .dataframe thead th {\n",
       "        text-align: right;\n",
       "    }\n",
       "</style>\n",
       "<table border=\"1\" class=\"dataframe\">\n",
       "  <thead>\n",
       "    <tr style=\"text-align: right;\">\n",
       "      <th></th>\n",
       "      <th>revenue</th>\n",
       "      <th>cogs</th>\n",
       "      <th>sgae</th>\n",
       "      <th>otheropexp</th>\n",
       "      <th>extraincome</th>\n",
       "      <th>finexp</th>\n",
       "      <th>incometax</th>\n",
       "      <th>totalassets</th>\n",
       "      <th>totalliabilities</th>\n",
       "      <th>shortdebt</th>\n",
       "      <th>longdebt</th>\n",
       "      <th>stockholderequity</th>\n",
       "      <th>adjprice</th>\n",
       "      <th>originalprice</th>\n",
       "      <th>sharesoutstanding</th>\n",
       "      <th>fiscalmonth</th>\n",
       "      <th>year</th>\n",
       "      <th>cto</th>\n",
       "    </tr>\n",
       "  </thead>\n",
       "  <tbody>\n",
       "    <tr>\n",
       "      <th>count</th>\n",
       "      <td>158614.000</td>\n",
       "      <td>158309.000</td>\n",
       "      <td>158309.000</td>\n",
       "      <td>158311.000</td>\n",
       "      <td>158613.000</td>\n",
       "      <td>158614.000</td>\n",
       "      <td>158614.000</td>\n",
       "      <td>159808.000</td>\n",
       "      <td>159808.000</td>\n",
       "      <td>129677.000</td>\n",
       "      <td>159595.000</td>\n",
       "      <td>159740.000</td>\n",
       "      <td>159154.000</td>\n",
       "      <td>159234.000</td>\n",
       "      <td>157822.000</td>\n",
       "      <td>159814.000</td>\n",
       "      <td>324446.000</td>\n",
       "      <td>324446.000</td>\n",
       "    </tr>\n",
       "    <tr>\n",
       "      <th>mean</th>\n",
       "      <td>1452992.639</td>\n",
       "      <td>801464.718</td>\n",
       "      <td>420278.553</td>\n",
       "      <td>40350.486</td>\n",
       "      <td>-14613.885</td>\n",
       "      <td>20418.493</td>\n",
       "      <td>41498.806</td>\n",
       "      <td>16670755.635</td>\n",
       "      <td>13152678.383</td>\n",
       "      <td>428951.751</td>\n",
       "      <td>2959733.848</td>\n",
       "      <td>3518161.935</td>\n",
       "      <td>3887.274</td>\n",
       "      <td>142.157</td>\n",
       "      <td>201184.385</td>\n",
       "      <td>7.448</td>\n",
       "      <td>2010.755</td>\n",
       "      <td>2.478</td>\n",
       "    </tr>\n",
       "    <tr>\n",
       "      <th>std</th>\n",
       "      <td>5403175.803</td>\n",
       "      <td>3747464.594</td>\n",
       "      <td>1740520.321</td>\n",
       "      <td>767107.107</td>\n",
       "      <td>548720.221</td>\n",
       "      <td>112823.183</td>\n",
       "      <td>331055.653</td>\n",
       "      <td>102736719.101</td>\n",
       "      <td>91956192.276</td>\n",
       "      <td>4603231.586</td>\n",
       "      <td>14951964.609</td>\n",
       "      <td>14174529.059</td>\n",
       "      <td>352358.129</td>\n",
       "      <td>4835.897</td>\n",
       "      <td>692298.844</td>\n",
       "      <td>3.346</td>\n",
       "      <td>6.499</td>\n",
       "      <td>1.118</td>\n",
       "    </tr>\n",
       "    <tr>\n",
       "      <th>min</th>\n",
       "      <td>-4788351.000</td>\n",
       "      <td>-4460800.000</td>\n",
       "      <td>-3373000.000</td>\n",
       "      <td>-6967000.000</td>\n",
       "      <td>-41491000.000</td>\n",
       "      <td>-3439000.000</td>\n",
       "      <td>-35645000.000</td>\n",
       "      <td>0.000</td>\n",
       "      <td>0.000</td>\n",
       "      <td>-15006.000</td>\n",
       "      <td>0.000</td>\n",
       "      <td>-90520000.000</td>\n",
       "      <td>0.012</td>\n",
       "      <td>0.003</td>\n",
       "      <td>0.000</td>\n",
       "      <td>0.000</td>\n",
       "      <td>2000.000</td>\n",
       "      <td>1.000</td>\n",
       "    </tr>\n",
       "    <tr>\n",
       "      <th>25%</th>\n",
       "      <td>33798.500</td>\n",
       "      <td>228.000</td>\n",
       "      <td>9332.000</td>\n",
       "      <td>0.000</td>\n",
       "      <td>-2140.000</td>\n",
       "      <td>0.000</td>\n",
       "      <td>0.000</td>\n",
       "      <td>366402.500</td>\n",
       "      <td>140720.750</td>\n",
       "      <td>0.000</td>\n",
       "      <td>7000.000</td>\n",
       "      <td>123710.250</td>\n",
       "      <td>9.910</td>\n",
       "      <td>11.160</td>\n",
       "      <td>25080.964</td>\n",
       "      <td>3.000</td>\n",
       "      <td>2005.000</td>\n",
       "      <td>1.000</td>\n",
       "    </tr>\n",
       "    <tr>\n",
       "      <th>50%</th>\n",
       "      <td>205175.345</td>\n",
       "      <td>43823.000</td>\n",
       "      <td>56367.000</td>\n",
       "      <td>0.000</td>\n",
       "      <td>0.000</td>\n",
       "      <td>795.000</td>\n",
       "      <td>2493.000</td>\n",
       "      <td>1711736.000</td>\n",
       "      <td>989997.500</td>\n",
       "      <td>6452.000</td>\n",
       "      <td>255000.000</td>\n",
       "      <td>568157.000</td>\n",
       "      <td>20.859</td>\n",
       "      <td>25.800</td>\n",
       "      <td>55895.352</td>\n",
       "      <td>6.000</td>\n",
       "      <td>2011.000</td>\n",
       "      <td>2.000</td>\n",
       "    </tr>\n",
       "    <tr>\n",
       "      <th>75%</th>\n",
       "      <td>860000.000</td>\n",
       "      <td>370718.000</td>\n",
       "      <td>217920.000</td>\n",
       "      <td>33.000</td>\n",
       "      <td>697.572</td>\n",
       "      <td>13000.000</td>\n",
       "      <td>20184.750</td>\n",
       "      <td>6618525.250</td>\n",
       "      <td>4359461.750</td>\n",
       "      <td>81827.000</td>\n",
       "      <td>1503723.500</td>\n",
       "      <td>1975248.250</td>\n",
       "      <td>42.290</td>\n",
       "      <td>49.040</td>\n",
       "      <td>144209.075</td>\n",
       "      <td>9.000</td>\n",
       "      <td>2016.000</td>\n",
       "      <td>3.000</td>\n",
       "    </tr>\n",
       "    <tr>\n",
       "      <th>max</th>\n",
       "      <td>152871008.000</td>\n",
       "      <td>115522000.000</td>\n",
       "      <td>131662000.000</td>\n",
       "      <td>69018000.000</td>\n",
       "      <td>129197000.000</td>\n",
       "      <td>6955000.000</td>\n",
       "      <td>39186000.000</td>\n",
       "      <td>3954687000.000</td>\n",
       "      <td>3668788000.000</td>\n",
       "      <td>300279000.000</td>\n",
       "      <td>511653000.000</td>\n",
       "      <td>508141000.000</td>\n",
       "      <td>70117187.500</td>\n",
       "      <td>528921.000</td>\n",
       "      <td>98214051.000</td>\n",
       "      <td>12.000</td>\n",
       "      <td>2022.000</td>\n",
       "      <td>4.000</td>\n",
       "    </tr>\n",
       "  </tbody>\n",
       "</table>\n",
       "</div>"
      ],
      "text/plain": [
       "            revenue          cogs          sgae   otheropexp   extraincome  \\\n",
       "count    158614.000    158309.000    158309.000   158311.000    158613.000   \n",
       "mean    1452992.639    801464.718    420278.553    40350.486    -14613.885   \n",
       "std     5403175.803   3747464.594   1740520.321   767107.107    548720.221   \n",
       "min    -4788351.000  -4460800.000  -3373000.000 -6967000.000 -41491000.000   \n",
       "25%       33798.500       228.000      9332.000        0.000     -2140.000   \n",
       "50%      205175.345     43823.000     56367.000        0.000         0.000   \n",
       "75%      860000.000    370718.000    217920.000       33.000       697.572   \n",
       "max   152871008.000 115522000.000 131662000.000 69018000.000 129197000.000   \n",
       "\n",
       "            finexp     incometax    totalassets  totalliabilities  \\\n",
       "count   158614.000    158614.000     159808.000        159808.000   \n",
       "mean     20418.493     41498.806   16670755.635      13152678.383   \n",
       "std     112823.183    331055.653  102736719.101      91956192.276   \n",
       "min   -3439000.000 -35645000.000          0.000             0.000   \n",
       "25%          0.000         0.000     366402.500        140720.750   \n",
       "50%        795.000      2493.000    1711736.000        989997.500   \n",
       "75%      13000.000     20184.750    6618525.250       4359461.750   \n",
       "max    6955000.000  39186000.000 3954687000.000    3668788000.000   \n",
       "\n",
       "          shortdebt      longdebt  stockholderequity     adjprice  \\\n",
       "count    129677.000    159595.000         159740.000   159154.000   \n",
       "mean     428951.751   2959733.848        3518161.935     3887.274   \n",
       "std     4603231.586  14951964.609       14174529.059   352358.129   \n",
       "min      -15006.000         0.000      -90520000.000        0.012   \n",
       "25%           0.000      7000.000         123710.250        9.910   \n",
       "50%        6452.000    255000.000         568157.000       20.859   \n",
       "75%       81827.000   1503723.500        1975248.250       42.290   \n",
       "max   300279000.000 511653000.000      508141000.000 70117187.500   \n",
       "\n",
       "       originalprice  sharesoutstanding  fiscalmonth       year        cto  \n",
       "count     159234.000         157822.000   159814.000 324446.000 324446.000  \n",
       "mean         142.157         201184.385        7.448   2010.755      2.478  \n",
       "std         4835.897         692298.844        3.346      6.499      1.118  \n",
       "min            0.003              0.000        0.000   2000.000      1.000  \n",
       "25%           11.160          25080.964        3.000   2005.000      1.000  \n",
       "50%           25.800          55895.352        6.000   2011.000      2.000  \n",
       "75%           49.040         144209.075        9.000   2016.000      3.000  \n",
       "max       528921.000       98214051.000       12.000   2022.000      4.000  "
      ]
     },
     "execution_count": 67,
     "metadata": {},
     "output_type": "execute_result"
    }
   ],
   "source": [
    "us.info()\n",
    "us.describe()"
   ]
  },
  {
   "cell_type": "markdown",
   "metadata": {},
   "source": [
    "#### *Limpieza y modificación de datos*\n",
    "\n",
    "1. Verificar que no existan datos nulos, duplicados\n",
    "\n",
    "2. Si no impacta en la dataset, eliminarlos o modificarlos"
   ]
  },
  {
   "cell_type": "code",
   "execution_count": 68,
   "metadata": {},
   "outputs": [
    {
     "data": {
      "text/plain": [
       "firm                      1\n",
       "q                         1\n",
       "revenue              165833\n",
       "cogs                 166138\n",
       "sgae                 166138\n",
       "otheropexp           166136\n",
       "extraincome          165834\n",
       "finexp               165833\n",
       "incometax            165833\n",
       "totalassets          164639\n",
       "totalliabilities     164639\n",
       "shortdebt            194770\n",
       "longdebt             164852\n",
       "stockholderequity    164707\n",
       "adjprice             165293\n",
       "originalprice        165213\n",
       "sharesoutstanding    166625\n",
       "fiscalmonth          164633\n",
       "year                      1\n",
       "cto                       1\n",
       "dtype: int64"
      ]
     },
     "execution_count": 68,
     "metadata": {},
     "output_type": "execute_result"
    }
   ],
   "source": [
    "# Datos nulos en el csv\n",
    "us.isna().sum() \n",
    "us.isnull().sum()"
   ]
  },
  {
   "cell_type": "code",
   "execution_count": 69,
   "metadata": {},
   "outputs": [],
   "source": [
    "# Eliminar datos nulos\n",
    "us = us.drop(index=324446,axis=0) #Eliminar fila con datos nulos"
   ]
  },
  {
   "cell_type": "code",
   "execution_count": 70,
   "metadata": {},
   "outputs": [
    {
     "data": {
      "text/html": [
       "<div>\n",
       "<style scoped>\n",
       "    .dataframe tbody tr th:only-of-type {\n",
       "        vertical-align: middle;\n",
       "    }\n",
       "\n",
       "    .dataframe tbody tr th {\n",
       "        vertical-align: top;\n",
       "    }\n",
       "\n",
       "    .dataframe thead th {\n",
       "        text-align: right;\n",
       "    }\n",
       "</style>\n",
       "<table border=\"1\" class=\"dataframe\">\n",
       "  <thead>\n",
       "    <tr style=\"text-align: right;\">\n",
       "      <th></th>\n",
       "      <th>firm</th>\n",
       "      <th>q</th>\n",
       "      <th>revenue</th>\n",
       "      <th>cogs</th>\n",
       "      <th>sgae</th>\n",
       "      <th>otheropexp</th>\n",
       "      <th>extraincome</th>\n",
       "      <th>finexp</th>\n",
       "      <th>incometax</th>\n",
       "      <th>totalassets</th>\n",
       "      <th>totalliabilities</th>\n",
       "      <th>shortdebt</th>\n",
       "      <th>longdebt</th>\n",
       "      <th>stockholderequity</th>\n",
       "      <th>adjprice</th>\n",
       "      <th>originalprice</th>\n",
       "      <th>sharesoutstanding</th>\n",
       "      <th>fiscalmonth</th>\n",
       "      <th>year</th>\n",
       "      <th>cto</th>\n",
       "    </tr>\n",
       "  </thead>\n",
       "  <tbody>\n",
       "  </tbody>\n",
       "</table>\n",
       "</div>"
      ],
      "text/plain": [
       "Empty DataFrame\n",
       "Columns: [firm, q, revenue, cogs, sgae, otheropexp, extraincome, finexp, incometax, totalassets, totalliabilities, shortdebt, longdebt, stockholderequity, adjprice, originalprice, sharesoutstanding, fiscalmonth, year, cto]\n",
       "Index: []"
      ]
     },
     "execution_count": 70,
     "metadata": {},
     "output_type": "execute_result"
    }
   ],
   "source": [
    "# Datos duplicados en el csv\n",
    "us[us.duplicated()]"
   ]
  },
  {
   "cell_type": "code",
   "execution_count": 71,
   "metadata": {},
   "outputs": [],
   "source": [
    "#firms = firms.drop([\"N\",\"Class\",\"Country\\nof Origin\",\"Type of Asset\",\"Exchange / Src\",\"Sector\\nEconomatica\",\"Sector NAICS\\nlast available\",\"partind\"], axis=1)\n",
    "#firms.head(0)"
   ]
  },
  {
   "cell_type": "markdown",
   "metadata": {},
   "source": [
    "#### *Analisis del dataset*"
   ]
  },
  {
   "cell_type": "markdown",
   "metadata": {},
   "source": [
    "***Preguntas Generales***"
   ]
  },
  {
   "cell_type": "markdown",
   "metadata": {},
   "source": [
    ">###### Por industria, ¿cuál es la composición de las empresas públicas estadounidenses en términos de tamaño de la empresa, rendimiento de las ventas y rentabilidad?\n",
    "###### **RESPUESTA.**\n",
    "\n",
    ">###### ¿Por qué algunas empresas son más rentables que otras? ¿Qué factores/variables de los estados financieros están relacionados con los rendimientos de las acciones?\n",
    "###### **RESPUESTA.**"
   ]
  },
  {
   "cell_type": "markdown",
   "metadata": {},
   "source": [
    "***Preguntas Especificas***"
   ]
  },
  {
   "cell_type": "markdown",
   "metadata": {},
   "source": [
    "*Estadistica descriptiva*"
   ]
  },
  {
   "cell_type": "markdown",
   "metadata": {},
   "source": [
    "Considerando el trimestre financiero más reciente del conjunto de datos:"
   ]
  },
  {
   "cell_type": "markdown",
   "metadata": {},
   "source": [
    ">###### Mostrar cuántas empresas por industria hay en la muestra"
   ]
  },
  {
   "cell_type": "code",
   "execution_count": 72,
   "metadata": {},
   "outputs": [
    {
     "data": {
      "text/html": [
       "<div>\n",
       "<style scoped>\n",
       "    .dataframe tbody tr th:only-of-type {\n",
       "        vertical-align: middle;\n",
       "    }\n",
       "\n",
       "    .dataframe tbody tr th {\n",
       "        vertical-align: top;\n",
       "    }\n",
       "\n",
       "    .dataframe thead th {\n",
       "        text-align: right;\n",
       "    }\n",
       "</style>\n",
       "<table border=\"1\" class=\"dataframe\">\n",
       "  <thead>\n",
       "    <tr style=\"text-align: right;\">\n",
       "      <th></th>\n",
       "      <th>Ticker</th>\n",
       "      <th>Name</th>\n",
       "      <th>Sector NAICS\\nlevel 1</th>\n",
       "      <th>firm</th>\n",
       "      <th>q</th>\n",
       "      <th>revenue</th>\n",
       "      <th>cogs</th>\n",
       "      <th>sgae</th>\n",
       "      <th>otheropexp</th>\n",
       "      <th>extraincome</th>\n",
       "      <th>finexp</th>\n",
       "      <th>incometax</th>\n",
       "      <th>totalassets</th>\n",
       "      <th>totalliabilities</th>\n",
       "      <th>shortdebt</th>\n",
       "      <th>longdebt</th>\n",
       "      <th>stockholderequity</th>\n",
       "      <th>adjprice</th>\n",
       "      <th>originalprice</th>\n",
       "      <th>sharesoutstanding</th>\n",
       "      <th>fiscalmonth</th>\n",
       "      <th>year</th>\n",
       "      <th>cto</th>\n",
       "    </tr>\n",
       "  </thead>\n",
       "  <tbody>\n",
       "  </tbody>\n",
       "</table>\n",
       "</div>"
      ],
      "text/plain": [
       "Empty DataFrame\n",
       "Columns: [Ticker, Name, Sector NAICS\n",
       "level 1, firm, q, revenue, cogs, sgae, otheropexp, extraincome, finexp, incometax, totalassets, totalliabilities, shortdebt, longdebt, stockholderequity, adjprice, originalprice, sharesoutstanding, fiscalmonth, year, cto]\n",
       "Index: []"
      ]
     },
     "execution_count": 72,
     "metadata": {},
     "output_type": "execute_result"
    }
   ],
   "source": [
    "US_Firms = firms.merge(us, left_on='Ticker', right_on='firm')\n",
    "US_Firms = US_Firms.drop([\"N\", \"Class\", \"Country\\nof Origin\", \"Type of Asset\", \"Exchange / Src\", \"Sector\\nEconomatica\", \"Sector NAICS\\nlast available\", \"partind\"], axis = 1)\n",
    "US_Firms.head(0)"
   ]
  },
  {
   "cell_type": "markdown",
   "metadata": {},
   "source": [
    "---"
   ]
  },
  {
   "cell_type": "code",
   "execution_count": 73,
   "metadata": {},
   "outputs": [],
   "source": [
    "US_Firms['q'] = pd.PeriodIndex(US_Firms['q'],freq = \"q\")\n",
    "US_Firms.set_index(['firm','q'],inplace=True)"
   ]
  },
  {
   "cell_type": "code",
   "execution_count": 74,
   "metadata": {},
   "outputs": [
    {
     "data": {
      "text/html": [
       "<div>\n",
       "<style scoped>\n",
       "    .dataframe tbody tr th:only-of-type {\n",
       "        vertical-align: middle;\n",
       "    }\n",
       "\n",
       "    .dataframe tbody tr th {\n",
       "        vertical-align: top;\n",
       "    }\n",
       "\n",
       "    .dataframe thead th {\n",
       "        text-align: right;\n",
       "    }\n",
       "</style>\n",
       "<table border=\"1\" class=\"dataframe\">\n",
       "  <thead>\n",
       "    <tr style=\"text-align: right;\">\n",
       "      <th></th>\n",
       "      <th></th>\n",
       "      <th>Ticker</th>\n",
       "      <th>Name</th>\n",
       "      <th>Sector NAICS\\nlevel 1</th>\n",
       "      <th>revenue</th>\n",
       "      <th>cogs</th>\n",
       "      <th>sgae</th>\n",
       "      <th>otheropexp</th>\n",
       "      <th>extraincome</th>\n",
       "      <th>finexp</th>\n",
       "      <th>incometax</th>\n",
       "      <th>totalassets</th>\n",
       "      <th>totalliabilities</th>\n",
       "      <th>shortdebt</th>\n",
       "      <th>longdebt</th>\n",
       "      <th>stockholderequity</th>\n",
       "      <th>adjprice</th>\n",
       "      <th>originalprice</th>\n",
       "      <th>sharesoutstanding</th>\n",
       "      <th>fiscalmonth</th>\n",
       "      <th>year</th>\n",
       "      <th>cto</th>\n",
       "    </tr>\n",
       "    <tr>\n",
       "      <th>firm</th>\n",
       "      <th>q</th>\n",
       "      <th></th>\n",
       "      <th></th>\n",
       "      <th></th>\n",
       "      <th></th>\n",
       "      <th></th>\n",
       "      <th></th>\n",
       "      <th></th>\n",
       "      <th></th>\n",
       "      <th></th>\n",
       "      <th></th>\n",
       "      <th></th>\n",
       "      <th></th>\n",
       "      <th></th>\n",
       "      <th></th>\n",
       "      <th></th>\n",
       "      <th></th>\n",
       "      <th></th>\n",
       "      <th></th>\n",
       "      <th></th>\n",
       "      <th></th>\n",
       "      <th></th>\n",
       "    </tr>\n",
       "  </thead>\n",
       "  <tbody>\n",
       "    <tr>\n",
       "      <th rowspan=\"5\" valign=\"top\">FLWS</th>\n",
       "      <th>2000Q1</th>\n",
       "      <td>FLWS</td>\n",
       "      <td>1 800 Flowers Com Inc</td>\n",
       "      <td>Retail Trade</td>\n",
       "      <td>85045.000</td>\n",
       "      <td>54143.000</td>\n",
       "      <td>52146.000</td>\n",
       "      <td>0.000</td>\n",
       "      <td>111.000</td>\n",
       "      <td>-1600.000</td>\n",
       "      <td>-268.000</td>\n",
       "      <td>248461.000</td>\n",
       "      <td>76657.000</td>\n",
       "      <td>4380.000</td>\n",
       "      <td>8869.000</td>\n",
       "      <td>171804.000</td>\n",
       "      <td>7.125</td>\n",
       "      <td>7.125</td>\n",
       "      <td>64097.913</td>\n",
       "      <td>9.000</td>\n",
       "      <td>2000.000</td>\n",
       "      <td>1.000</td>\n",
       "    </tr>\n",
       "    <tr>\n",
       "      <th>2000Q2</th>\n",
       "      <td>FLWS</td>\n",
       "      <td>1 800 Flowers Com Inc</td>\n",
       "      <td>Retail Trade</td>\n",
       "      <td>123288.000</td>\n",
       "      <td>75607.000</td>\n",
       "      <td>63201.000</td>\n",
       "      <td>0.000</td>\n",
       "      <td>27.000</td>\n",
       "      <td>-2164.000</td>\n",
       "      <td>-419.000</td>\n",
       "      <td>224641.000</td>\n",
       "      <td>65723.000</td>\n",
       "      <td>1839.000</td>\n",
       "      <td>9441.000</td>\n",
       "      <td>158918.000</td>\n",
       "      <td>5.125</td>\n",
       "      <td>5.125</td>\n",
       "      <td>64170.913</td>\n",
       "      <td>12.000</td>\n",
       "      <td>2000.000</td>\n",
       "      <td>2.000</td>\n",
       "    </tr>\n",
       "    <tr>\n",
       "      <th>2000Q3</th>\n",
       "      <td>FLWS</td>\n",
       "      <td>1 800 Flowers Com Inc</td>\n",
       "      <td>Retail Trade</td>\n",
       "      <td>72516.000</td>\n",
       "      <td>45091.000</td>\n",
       "      <td>51590.000</td>\n",
       "      <td>0.000</td>\n",
       "      <td>88.000</td>\n",
       "      <td>-1576.000</td>\n",
       "      <td>0.000</td>\n",
       "      <td>211449.000</td>\n",
       "      <td>75163.000</td>\n",
       "      <td>7654.000</td>\n",
       "      <td>10916.000</td>\n",
       "      <td>136286.000</td>\n",
       "      <td>4.984</td>\n",
       "      <td>4.984</td>\n",
       "      <td>64185.913</td>\n",
       "      <td>3.000</td>\n",
       "      <td>2000.000</td>\n",
       "      <td>3.000</td>\n",
       "    </tr>\n",
       "    <tr>\n",
       "      <th>2000Q4</th>\n",
       "      <td>FLWS</td>\n",
       "      <td>1 800 Flowers Com Inc</td>\n",
       "      <td>Retail Trade</td>\n",
       "      <td>134243.000</td>\n",
       "      <td>79099.000</td>\n",
       "      <td>67206.000</td>\n",
       "      <td>0.000</td>\n",
       "      <td>335.000</td>\n",
       "      <td>-1191.000</td>\n",
       "      <td>0.000</td>\n",
       "      <td>213983.000</td>\n",
       "      <td>88231.000</td>\n",
       "      <td>2157.000</td>\n",
       "      <td>10452.000</td>\n",
       "      <td>125752.000</td>\n",
       "      <td>4.125</td>\n",
       "      <td>4.125</td>\n",
       "      <td>64187.163</td>\n",
       "      <td>6.000</td>\n",
       "      <td>2000.000</td>\n",
       "      <td>4.000</td>\n",
       "    </tr>\n",
       "    <tr>\n",
       "      <th>2001Q1</th>\n",
       "      <td>FLWS</td>\n",
       "      <td>1 800 Flowers Com Inc</td>\n",
       "      <td>Retail Trade</td>\n",
       "      <td>103221.000</td>\n",
       "      <td>64020.000</td>\n",
       "      <td>48856.000</td>\n",
       "      <td>0.000</td>\n",
       "      <td>76.000</td>\n",
       "      <td>-1069.000</td>\n",
       "      <td>0.000</td>\n",
       "      <td>200400.000</td>\n",
       "      <td>83160.000</td>\n",
       "      <td>4777.000</td>\n",
       "      <td>12318.000</td>\n",
       "      <td>117240.000</td>\n",
       "      <td>8.000</td>\n",
       "      <td>8.000</td>\n",
       "      <td>64187.163</td>\n",
       "      <td>9.000</td>\n",
       "      <td>2001.000</td>\n",
       "      <td>1.000</td>\n",
       "    </tr>\n",
       "    <tr>\n",
       "      <th>...</th>\n",
       "      <th>...</th>\n",
       "      <td>...</td>\n",
       "      <td>...</td>\n",
       "      <td>...</td>\n",
       "      <td>...</td>\n",
       "      <td>...</td>\n",
       "      <td>...</td>\n",
       "      <td>...</td>\n",
       "      <td>...</td>\n",
       "      <td>...</td>\n",
       "      <td>...</td>\n",
       "      <td>...</td>\n",
       "      <td>...</td>\n",
       "      <td>...</td>\n",
       "      <td>...</td>\n",
       "      <td>...</td>\n",
       "      <td>...</td>\n",
       "      <td>...</td>\n",
       "      <td>...</td>\n",
       "      <td>...</td>\n",
       "      <td>...</td>\n",
       "      <td>...</td>\n",
       "    </tr>\n",
       "    <tr>\n",
       "      <th rowspan=\"5\" valign=\"top\">ZNGA</th>\n",
       "      <th>2021Q2</th>\n",
       "      <td>ZNGA</td>\n",
       "      <td>Zynga Inc</td>\n",
       "      <td>Information</td>\n",
       "      <td>720000.000</td>\n",
       "      <td>253300.000</td>\n",
       "      <td>391900.000</td>\n",
       "      <td>0.000</td>\n",
       "      <td>-9100.000</td>\n",
       "      <td>13000.000</td>\n",
       "      <td>24900.000</td>\n",
       "      <td>6132200.000</td>\n",
       "      <td>3111600.000</td>\n",
       "      <td>17700.000</td>\n",
       "      <td>1457000.000</td>\n",
       "      <td>3020600.000</td>\n",
       "      <td>10.630</td>\n",
       "      <td>10.630</td>\n",
       "      <td>1088762.805</td>\n",
       "      <td>6.000</td>\n",
       "      <td>2021.000</td>\n",
       "      <td>2.000</td>\n",
       "    </tr>\n",
       "    <tr>\n",
       "      <th>2021Q3</th>\n",
       "      <td>ZNGA</td>\n",
       "      <td>Zynga Inc</td>\n",
       "      <td>Information</td>\n",
       "      <td>704700.000</td>\n",
       "      <td>240800.000</td>\n",
       "      <td>409400.000</td>\n",
       "      <td>66800.000</td>\n",
       "      <td>-600.000</td>\n",
       "      <td>13200.000</td>\n",
       "      <td>15600.000</td>\n",
       "      <td>6067700.000</td>\n",
       "      <td>3060700.000</td>\n",
       "      <td>17600.000</td>\n",
       "      <td>1467600.000</td>\n",
       "      <td>3007000.000</td>\n",
       "      <td>7.530</td>\n",
       "      <td>7.530</td>\n",
       "      <td>1091890.649</td>\n",
       "      <td>9.000</td>\n",
       "      <td>2021.000</td>\n",
       "      <td>3.000</td>\n",
       "    </tr>\n",
       "    <tr>\n",
       "      <th>2021Q4</th>\n",
       "      <td>ZNGA</td>\n",
       "      <td>Zynga Inc</td>\n",
       "      <td>Information</td>\n",
       "      <td>695500.000</td>\n",
       "      <td>260100.000</td>\n",
       "      <td>436600.000</td>\n",
       "      <td>0.000</td>\n",
       "      <td>-10400.000</td>\n",
       "      <td>13600.000</td>\n",
       "      <td>42100.000</td>\n",
       "      <td>6358900.000</td>\n",
       "      <td>3247000.000</td>\n",
       "      <td>17100.000</td>\n",
       "      <td>1477200.000</td>\n",
       "      <td>3111900.000</td>\n",
       "      <td>6.400</td>\n",
       "      <td>6.400</td>\n",
       "      <td>1120181.490</td>\n",
       "      <td>12.000</td>\n",
       "      <td>2021.000</td>\n",
       "      <td>4.000</td>\n",
       "    </tr>\n",
       "    <tr>\n",
       "      <th>2022Q1</th>\n",
       "      <td>ZNGA</td>\n",
       "      <td>Zynga Inc</td>\n",
       "      <td>Information</td>\n",
       "      <td>691200.000</td>\n",
       "      <td>252200.000</td>\n",
       "      <td>424000.000</td>\n",
       "      <td>0.000</td>\n",
       "      <td>-15700.000</td>\n",
       "      <td>2200.000</td>\n",
       "      <td>21600.000</td>\n",
       "      <td>5860000.000</td>\n",
       "      <td>2953900.000</td>\n",
       "      <td>17900.000</td>\n",
       "      <td>1673700.000</td>\n",
       "      <td>2906100.000</td>\n",
       "      <td>9.240</td>\n",
       "      <td>9.240</td>\n",
       "      <td>1132408.337</td>\n",
       "      <td>3.000</td>\n",
       "      <td>2022.000</td>\n",
       "      <td>1.000</td>\n",
       "    </tr>\n",
       "    <tr>\n",
       "      <th>2022Q2</th>\n",
       "      <td>ZNGA</td>\n",
       "      <td>Zynga Inc</td>\n",
       "      <td>Information</td>\n",
       "      <td>NaN</td>\n",
       "      <td>NaN</td>\n",
       "      <td>NaN</td>\n",
       "      <td>NaN</td>\n",
       "      <td>NaN</td>\n",
       "      <td>NaN</td>\n",
       "      <td>NaN</td>\n",
       "      <td>NaN</td>\n",
       "      <td>NaN</td>\n",
       "      <td>NaN</td>\n",
       "      <td>NaN</td>\n",
       "      <td>NaN</td>\n",
       "      <td>8.180</td>\n",
       "      <td>8.180</td>\n",
       "      <td>1137273.677</td>\n",
       "      <td>NaN</td>\n",
       "      <td>2022.000</td>\n",
       "      <td>2.000</td>\n",
       "    </tr>\n",
       "  </tbody>\n",
       "</table>\n",
       "<p>323816 rows × 21 columns</p>\n",
       "</div>"
      ],
      "text/plain": [
       "            Ticker                   Name Sector NAICS\\nlevel 1    revenue  \\\n",
       "firm q                                                                       \n",
       "FLWS 2000Q1   FLWS  1 800 Flowers Com Inc          Retail Trade  85045.000   \n",
       "     2000Q2   FLWS  1 800 Flowers Com Inc          Retail Trade 123288.000   \n",
       "     2000Q3   FLWS  1 800 Flowers Com Inc          Retail Trade  72516.000   \n",
       "     2000Q4   FLWS  1 800 Flowers Com Inc          Retail Trade 134243.000   \n",
       "     2001Q1   FLWS  1 800 Flowers Com Inc          Retail Trade 103221.000   \n",
       "...            ...                    ...                   ...        ...   \n",
       "ZNGA 2021Q2   ZNGA              Zynga Inc           Information 720000.000   \n",
       "     2021Q3   ZNGA              Zynga Inc           Information 704700.000   \n",
       "     2021Q4   ZNGA              Zynga Inc           Information 695500.000   \n",
       "     2022Q1   ZNGA              Zynga Inc           Information 691200.000   \n",
       "     2022Q2   ZNGA              Zynga Inc           Information        NaN   \n",
       "\n",
       "                  cogs       sgae  otheropexp  extraincome    finexp  \\\n",
       "firm q                                                                 \n",
       "FLWS 2000Q1  54143.000  52146.000       0.000      111.000 -1600.000   \n",
       "     2000Q2  75607.000  63201.000       0.000       27.000 -2164.000   \n",
       "     2000Q3  45091.000  51590.000       0.000       88.000 -1576.000   \n",
       "     2000Q4  79099.000  67206.000       0.000      335.000 -1191.000   \n",
       "     2001Q1  64020.000  48856.000       0.000       76.000 -1069.000   \n",
       "...                ...        ...         ...          ...       ...   \n",
       "ZNGA 2021Q2 253300.000 391900.000       0.000    -9100.000 13000.000   \n",
       "     2021Q3 240800.000 409400.000   66800.000     -600.000 13200.000   \n",
       "     2021Q4 260100.000 436600.000       0.000   -10400.000 13600.000   \n",
       "     2022Q1 252200.000 424000.000       0.000   -15700.000  2200.000   \n",
       "     2022Q2        NaN        NaN         NaN          NaN       NaN   \n",
       "\n",
       "             incometax  totalassets  totalliabilities  shortdebt    longdebt  \\\n",
       "firm q                                                                         \n",
       "FLWS 2000Q1   -268.000   248461.000         76657.000   4380.000    8869.000   \n",
       "     2000Q2   -419.000   224641.000         65723.000   1839.000    9441.000   \n",
       "     2000Q3      0.000   211449.000         75163.000   7654.000   10916.000   \n",
       "     2000Q4      0.000   213983.000         88231.000   2157.000   10452.000   \n",
       "     2001Q1      0.000   200400.000         83160.000   4777.000   12318.000   \n",
       "...                ...          ...               ...        ...         ...   \n",
       "ZNGA 2021Q2  24900.000  6132200.000       3111600.000  17700.000 1457000.000   \n",
       "     2021Q3  15600.000  6067700.000       3060700.000  17600.000 1467600.000   \n",
       "     2021Q4  42100.000  6358900.000       3247000.000  17100.000 1477200.000   \n",
       "     2022Q1  21600.000  5860000.000       2953900.000  17900.000 1673700.000   \n",
       "     2022Q2        NaN          NaN               NaN        NaN         NaN   \n",
       "\n",
       "             stockholderequity  adjprice  originalprice  sharesoutstanding  \\\n",
       "firm q                                                                       \n",
       "FLWS 2000Q1         171804.000     7.125          7.125          64097.913   \n",
       "     2000Q2         158918.000     5.125          5.125          64170.913   \n",
       "     2000Q3         136286.000     4.984          4.984          64185.913   \n",
       "     2000Q4         125752.000     4.125          4.125          64187.163   \n",
       "     2001Q1         117240.000     8.000          8.000          64187.163   \n",
       "...                        ...       ...            ...                ...   \n",
       "ZNGA 2021Q2        3020600.000    10.630         10.630        1088762.805   \n",
       "     2021Q3        3007000.000     7.530          7.530        1091890.649   \n",
       "     2021Q4        3111900.000     6.400          6.400        1120181.490   \n",
       "     2022Q1        2906100.000     9.240          9.240        1132408.337   \n",
       "     2022Q2                NaN     8.180          8.180        1137273.677   \n",
       "\n",
       "             fiscalmonth     year   cto  \n",
       "firm q                                   \n",
       "FLWS 2000Q1        9.000 2000.000 1.000  \n",
       "     2000Q2       12.000 2000.000 2.000  \n",
       "     2000Q3        3.000 2000.000 3.000  \n",
       "     2000Q4        6.000 2000.000 4.000  \n",
       "     2001Q1        9.000 2001.000 1.000  \n",
       "...                  ...      ...   ...  \n",
       "ZNGA 2021Q2        6.000 2021.000 2.000  \n",
       "     2021Q3        9.000 2021.000 3.000  \n",
       "     2021Q4       12.000 2021.000 4.000  \n",
       "     2022Q1        3.000 2022.000 1.000  \n",
       "     2022Q2          NaN 2022.000 2.000  \n",
       "\n",
       "[323816 rows x 21 columns]"
      ]
     },
     "execution_count": 74,
     "metadata": {},
     "output_type": "execute_result"
    }
   ],
   "source": [
    "US_Firms"
   ]
  },
  {
   "cell_type": "code",
   "execution_count": 75,
   "metadata": {},
   "outputs": [
    {
     "data": {
      "text/plain": [
       "<AxesSubplot:>"
      ]
     },
     "execution_count": 75,
     "metadata": {},
     "output_type": "execute_result"
    },
    {
     "data": {
      "image/png": "[encoded data removed]",
      "text/plain": [
       "<Figure size 432x288 with 1 Axes>"
      ]
     },
     "metadata": {
      "needs_background": "light"
     },
     "output_type": "display_data"
    }
   ],
   "source": [
    "firms['Sector NAICS\\nlevel 1'].hist(grid=False, xlabelsize=7, xrot=90, bins = 35, legend=1)"
   ]
  },
  {
   "cell_type": "code",
   "execution_count": 76,
   "metadata": {},
   "outputs": [
    {
     "data": {
      "text/plain": [
       "Manufacturing                                                               1567\n",
       "Finance and Insurance                                                        703\n",
       "Information                                                                  263\n",
       "Retail Trade                                                                 152\n",
       "Professional, Scientific, and Technical Services                             145\n",
       "Administrative and Support and Waste Management and Remediation Services     133\n",
       "Mining, Quarrying, and Oil and Gas Extraction                                104\n",
       "Wholesale Trade                                                               79\n",
       "Utilities                                                                     77\n",
       "Transportation and Warehousing                                                69\n",
       "Accommodation and Food Services                                               69\n",
       "Real Estate and Rental and Leasing                                            68\n",
       "Health Care and Social Assistance                                             64\n",
       "Construction                                                                  45\n",
       "Arts, Entertainment, and Recreation                                           22\n",
       "Other Services (except Public Administration)                                 16\n",
       "Agriculture, Forestry, Fishing and Hunting                                    16\n",
       "Educational Services                                                          14\n",
       "-                                                                              2\n",
       "Name: Sector NAICS\\nlevel 1, dtype: int64"
      ]
     },
     "execution_count": 76,
     "metadata": {},
     "output_type": "execute_result"
    }
   ],
   "source": [
    "countFirms = firms['Sector NAICS\\nlevel 1'].value_counts()\n",
    "countFirms"
   ]
  },
  {
   "cell_type": "markdown",
   "metadata": {},
   "source": [
    "> Para cada sector (y para todos los sectores), \n",
    "> ###### ¿qué puede decir sobre el tamaño típico de la empresa en términos de valor de mercado y valor contable? \n",
    ">###### ¿Cuánto cambian estas variables dentro de cada industria? \n",
    ">###### ¿Cómo se distribuye el tamaño de la empresa (en valor de mercado)?\n",
    "###### **RESPUESTA.**"
   ]
  },
  {
   "cell_type": "markdown",
   "metadata": {},
   "source": [
    "**PARA OBTENER EL VALOR DE MERCADO Y EL VALOR CONTABLE DE LA EMPRESA, ES NECESARIO EMPLEAR LOS SIGUIENTES CALCULOS:**"
   ]
  },
  {
   "cell_type": "markdown",
   "metadata": {},
   "source": [
    "##### *Firm Size Measures:*\n",
    "##### * *Book value of the firm* = (TotalAssets - TotalLiabilities)\n",
    "##### * *Market value* = (OriginalPrice * SharesOutStanding)              Precio del stock historico"
   ]
  },
  {
   "cell_type": "code",
   "execution_count": 82,
   "metadata": {},
   "outputs": [
    {
     "data": {
      "text/html": [
       "<div>\n",
       "<style scoped>\n",
       "    .dataframe tbody tr th:only-of-type {\n",
       "        vertical-align: middle;\n",
       "    }\n",
       "\n",
       "    .dataframe tbody tr th {\n",
       "        vertical-align: top;\n",
       "    }\n",
       "\n",
       "    .dataframe thead th {\n",
       "        text-align: right;\n",
       "    }\n",
       "</style>\n",
       "<table border=\"1\" class=\"dataframe\">\n",
       "  <thead>\n",
       "    <tr style=\"text-align: right;\">\n",
       "      <th></th>\n",
       "      <th></th>\n",
       "      <th>Ticker</th>\n",
       "      <th>Name</th>\n",
       "      <th>Sector NAICS\\nlevel 1</th>\n",
       "      <th>revenue</th>\n",
       "      <th>cogs</th>\n",
       "      <th>sgae</th>\n",
       "      <th>otheropexp</th>\n",
       "      <th>extraincome</th>\n",
       "      <th>finexp</th>\n",
       "      <th>incometax</th>\n",
       "      <th>totalassets</th>\n",
       "      <th>totalliabilities</th>\n",
       "      <th>shortdebt</th>\n",
       "      <th>longdebt</th>\n",
       "      <th>stockholderequity</th>\n",
       "      <th>adjprice</th>\n",
       "      <th>originalprice</th>\n",
       "      <th>sharesoutstanding</th>\n",
       "      <th>fiscalmonth</th>\n",
       "      <th>year</th>\n",
       "      <th>cto</th>\n",
       "      <th>Book Value of the Firms</th>\n",
       "      <th>Market Value</th>\n",
       "      <th>Operating Profit</th>\n",
       "      <th>OPM</th>\n",
       "      <th>Net Income</th>\n",
       "      <th>Profit Margin</th>\n",
       "    </tr>\n",
       "    <tr>\n",
       "      <th>firm</th>\n",
       "      <th>q</th>\n",
       "      <th></th>\n",
       "      <th></th>\n",
       "      <th></th>\n",
       "      <th></th>\n",
       "      <th></th>\n",
       "      <th></th>\n",
       "      <th></th>\n",
       "      <th></th>\n",
       "      <th></th>\n",
       "      <th></th>\n",
       "      <th></th>\n",
       "      <th></th>\n",
       "      <th></th>\n",
       "      <th></th>\n",
       "      <th></th>\n",
       "      <th></th>\n",
       "      <th></th>\n",
       "      <th></th>\n",
       "      <th></th>\n",
       "      <th></th>\n",
       "      <th></th>\n",
       "      <th></th>\n",
       "      <th></th>\n",
       "      <th></th>\n",
       "      <th></th>\n",
       "      <th></th>\n",
       "      <th></th>\n",
       "    </tr>\n",
       "  </thead>\n",
       "  <tbody>\n",
       "    <tr>\n",
       "      <th rowspan=\"5\" valign=\"top\">FLWS</th>\n",
       "      <th>2000Q1</th>\n",
       "      <td>FLWS</td>\n",
       "      <td>1 800 Flowers Com Inc</td>\n",
       "      <td>Retail Trade</td>\n",
       "      <td>85045.000</td>\n",
       "      <td>54143.000</td>\n",
       "      <td>52146.000</td>\n",
       "      <td>0.000</td>\n",
       "      <td>111.000</td>\n",
       "      <td>-1600.000</td>\n",
       "      <td>-268.000</td>\n",
       "      <td>248461.000</td>\n",
       "      <td>76657.000</td>\n",
       "      <td>4380.000</td>\n",
       "      <td>8869.000</td>\n",
       "      <td>171804.000</td>\n",
       "      <td>7.125</td>\n",
       "      <td>7.125</td>\n",
       "      <td>64097.913</td>\n",
       "      <td>9.000</td>\n",
       "      <td>2000.000</td>\n",
       "      <td>1.000</td>\n",
       "      <td>171804.000</td>\n",
       "      <td>456697.630</td>\n",
       "      <td>-21244.000</td>\n",
       "      <td>-0.250</td>\n",
       "      <td>-19376.000</td>\n",
       "      <td>-0.228</td>\n",
       "    </tr>\n",
       "    <tr>\n",
       "      <th>2000Q2</th>\n",
       "      <td>FLWS</td>\n",
       "      <td>1 800 Flowers Com Inc</td>\n",
       "      <td>Retail Trade</td>\n",
       "      <td>123288.000</td>\n",
       "      <td>75607.000</td>\n",
       "      <td>63201.000</td>\n",
       "      <td>0.000</td>\n",
       "      <td>27.000</td>\n",
       "      <td>-2164.000</td>\n",
       "      <td>-419.000</td>\n",
       "      <td>224641.000</td>\n",
       "      <td>65723.000</td>\n",
       "      <td>1839.000</td>\n",
       "      <td>9441.000</td>\n",
       "      <td>158918.000</td>\n",
       "      <td>5.125</td>\n",
       "      <td>5.125</td>\n",
       "      <td>64170.913</td>\n",
       "      <td>12.000</td>\n",
       "      <td>2000.000</td>\n",
       "      <td>2.000</td>\n",
       "      <td>158918.000</td>\n",
       "      <td>328875.929</td>\n",
       "      <td>-15520.000</td>\n",
       "      <td>-0.126</td>\n",
       "      <td>-12937.000</td>\n",
       "      <td>-0.105</td>\n",
       "    </tr>\n",
       "    <tr>\n",
       "      <th>2000Q3</th>\n",
       "      <td>FLWS</td>\n",
       "      <td>1 800 Flowers Com Inc</td>\n",
       "      <td>Retail Trade</td>\n",
       "      <td>72516.000</td>\n",
       "      <td>45091.000</td>\n",
       "      <td>51590.000</td>\n",
       "      <td>0.000</td>\n",
       "      <td>88.000</td>\n",
       "      <td>-1576.000</td>\n",
       "      <td>0.000</td>\n",
       "      <td>211449.000</td>\n",
       "      <td>75163.000</td>\n",
       "      <td>7654.000</td>\n",
       "      <td>10916.000</td>\n",
       "      <td>136286.000</td>\n",
       "      <td>4.984</td>\n",
       "      <td>4.984</td>\n",
       "      <td>64185.913</td>\n",
       "      <td>3.000</td>\n",
       "      <td>2000.000</td>\n",
       "      <td>3.000</td>\n",
       "      <td>136286.000</td>\n",
       "      <td>319926.660</td>\n",
       "      <td>-24165.000</td>\n",
       "      <td>-0.333</td>\n",
       "      <td>-22589.000</td>\n",
       "      <td>-0.312</td>\n",
       "    </tr>\n",
       "    <tr>\n",
       "      <th>2000Q4</th>\n",
       "      <td>FLWS</td>\n",
       "      <td>1 800 Flowers Com Inc</td>\n",
       "      <td>Retail Trade</td>\n",
       "      <td>134243.000</td>\n",
       "      <td>79099.000</td>\n",
       "      <td>67206.000</td>\n",
       "      <td>0.000</td>\n",
       "      <td>335.000</td>\n",
       "      <td>-1191.000</td>\n",
       "      <td>0.000</td>\n",
       "      <td>213983.000</td>\n",
       "      <td>88231.000</td>\n",
       "      <td>2157.000</td>\n",
       "      <td>10452.000</td>\n",
       "      <td>125752.000</td>\n",
       "      <td>4.125</td>\n",
       "      <td>4.125</td>\n",
       "      <td>64187.163</td>\n",
       "      <td>6.000</td>\n",
       "      <td>2000.000</td>\n",
       "      <td>4.000</td>\n",
       "      <td>125752.000</td>\n",
       "      <td>264772.047</td>\n",
       "      <td>-12062.000</td>\n",
       "      <td>-0.090</td>\n",
       "      <td>-10871.000</td>\n",
       "      <td>-0.081</td>\n",
       "    </tr>\n",
       "    <tr>\n",
       "      <th>2001Q1</th>\n",
       "      <td>FLWS</td>\n",
       "      <td>1 800 Flowers Com Inc</td>\n",
       "      <td>Retail Trade</td>\n",
       "      <td>103221.000</td>\n",
       "      <td>64020.000</td>\n",
       "      <td>48856.000</td>\n",
       "      <td>0.000</td>\n",
       "      <td>76.000</td>\n",
       "      <td>-1069.000</td>\n",
       "      <td>0.000</td>\n",
       "      <td>200400.000</td>\n",
       "      <td>83160.000</td>\n",
       "      <td>4777.000</td>\n",
       "      <td>12318.000</td>\n",
       "      <td>117240.000</td>\n",
       "      <td>8.000</td>\n",
       "      <td>8.000</td>\n",
       "      <td>64187.163</td>\n",
       "      <td>9.000</td>\n",
       "      <td>2001.000</td>\n",
       "      <td>1.000</td>\n",
       "      <td>117240.000</td>\n",
       "      <td>513497.304</td>\n",
       "      <td>-9655.000</td>\n",
       "      <td>-0.094</td>\n",
       "      <td>-8586.000</td>\n",
       "      <td>-0.083</td>\n",
       "    </tr>\n",
       "    <tr>\n",
       "      <th>...</th>\n",
       "      <th>...</th>\n",
       "      <td>...</td>\n",
       "      <td>...</td>\n",
       "      <td>...</td>\n",
       "      <td>...</td>\n",
       "      <td>...</td>\n",
       "      <td>...</td>\n",
       "      <td>...</td>\n",
       "      <td>...</td>\n",
       "      <td>...</td>\n",
       "      <td>...</td>\n",
       "      <td>...</td>\n",
       "      <td>...</td>\n",
       "      <td>...</td>\n",
       "      <td>...</td>\n",
       "      <td>...</td>\n",
       "      <td>...</td>\n",
       "      <td>...</td>\n",
       "      <td>...</td>\n",
       "      <td>...</td>\n",
       "      <td>...</td>\n",
       "      <td>...</td>\n",
       "      <td>...</td>\n",
       "      <td>...</td>\n",
       "      <td>...</td>\n",
       "      <td>...</td>\n",
       "      <td>...</td>\n",
       "      <td>...</td>\n",
       "    </tr>\n",
       "    <tr>\n",
       "      <th rowspan=\"5\" valign=\"top\">ZNGA</th>\n",
       "      <th>2021Q2</th>\n",
       "      <td>ZNGA</td>\n",
       "      <td>Zynga Inc</td>\n",
       "      <td>Information</td>\n",
       "      <td>720000.000</td>\n",
       "      <td>253300.000</td>\n",
       "      <td>391900.000</td>\n",
       "      <td>0.000</td>\n",
       "      <td>-9100.000</td>\n",
       "      <td>13000.000</td>\n",
       "      <td>24900.000</td>\n",
       "      <td>6132200.000</td>\n",
       "      <td>3111600.000</td>\n",
       "      <td>17700.000</td>\n",
       "      <td>1457000.000</td>\n",
       "      <td>3020600.000</td>\n",
       "      <td>10.630</td>\n",
       "      <td>10.630</td>\n",
       "      <td>1088762.805</td>\n",
       "      <td>6.000</td>\n",
       "      <td>2021.000</td>\n",
       "      <td>2.000</td>\n",
       "      <td>3020600.000</td>\n",
       "      <td>11573548.617</td>\n",
       "      <td>74800.000</td>\n",
       "      <td>0.104</td>\n",
       "      <td>36900.000</td>\n",
       "      <td>0.051</td>\n",
       "    </tr>\n",
       "    <tr>\n",
       "      <th>2021Q3</th>\n",
       "      <td>ZNGA</td>\n",
       "      <td>Zynga Inc</td>\n",
       "      <td>Information</td>\n",
       "      <td>704700.000</td>\n",
       "      <td>240800.000</td>\n",
       "      <td>409400.000</td>\n",
       "      <td>66800.000</td>\n",
       "      <td>-600.000</td>\n",
       "      <td>13200.000</td>\n",
       "      <td>15600.000</td>\n",
       "      <td>6067700.000</td>\n",
       "      <td>3060700.000</td>\n",
       "      <td>17600.000</td>\n",
       "      <td>1467600.000</td>\n",
       "      <td>3007000.000</td>\n",
       "      <td>7.530</td>\n",
       "      <td>7.530</td>\n",
       "      <td>1091890.649</td>\n",
       "      <td>9.000</td>\n",
       "      <td>2021.000</td>\n",
       "      <td>3.000</td>\n",
       "      <td>3007000.000</td>\n",
       "      <td>8221936.587</td>\n",
       "      <td>-12300.000</td>\n",
       "      <td>-0.017</td>\n",
       "      <td>-41100.000</td>\n",
       "      <td>-0.058</td>\n",
       "    </tr>\n",
       "    <tr>\n",
       "      <th>2021Q4</th>\n",
       "      <td>ZNGA</td>\n",
       "      <td>Zynga Inc</td>\n",
       "      <td>Information</td>\n",
       "      <td>695500.000</td>\n",
       "      <td>260100.000</td>\n",
       "      <td>436600.000</td>\n",
       "      <td>0.000</td>\n",
       "      <td>-10400.000</td>\n",
       "      <td>13600.000</td>\n",
       "      <td>42100.000</td>\n",
       "      <td>6358900.000</td>\n",
       "      <td>3247000.000</td>\n",
       "      <td>17100.000</td>\n",
       "      <td>1477200.000</td>\n",
       "      <td>3111900.000</td>\n",
       "      <td>6.400</td>\n",
       "      <td>6.400</td>\n",
       "      <td>1120181.490</td>\n",
       "      <td>12.000</td>\n",
       "      <td>2021.000</td>\n",
       "      <td>4.000</td>\n",
       "      <td>3111900.000</td>\n",
       "      <td>7169161.536</td>\n",
       "      <td>-1200.000</td>\n",
       "      <td>-0.002</td>\n",
       "      <td>-56900.000</td>\n",
       "      <td>-0.082</td>\n",
       "    </tr>\n",
       "    <tr>\n",
       "      <th>2022Q1</th>\n",
       "      <td>ZNGA</td>\n",
       "      <td>Zynga Inc</td>\n",
       "      <td>Information</td>\n",
       "      <td>691200.000</td>\n",
       "      <td>252200.000</td>\n",
       "      <td>424000.000</td>\n",
       "      <td>0.000</td>\n",
       "      <td>-15700.000</td>\n",
       "      <td>2200.000</td>\n",
       "      <td>21600.000</td>\n",
       "      <td>5860000.000</td>\n",
       "      <td>2953900.000</td>\n",
       "      <td>17900.000</td>\n",
       "      <td>1673700.000</td>\n",
       "      <td>2906100.000</td>\n",
       "      <td>9.240</td>\n",
       "      <td>9.240</td>\n",
       "      <td>1132408.337</td>\n",
       "      <td>3.000</td>\n",
       "      <td>2022.000</td>\n",
       "      <td>1.000</td>\n",
       "      <td>2906100.000</td>\n",
       "      <td>10463453.034</td>\n",
       "      <td>15000.000</td>\n",
       "      <td>0.022</td>\n",
       "      <td>-8800.000</td>\n",
       "      <td>-0.013</td>\n",
       "    </tr>\n",
       "    <tr>\n",
       "      <th>2022Q2</th>\n",
       "      <td>ZNGA</td>\n",
       "      <td>Zynga Inc</td>\n",
       "      <td>Information</td>\n",
       "      <td>NaN</td>\n",
       "      <td>NaN</td>\n",
       "      <td>NaN</td>\n",
       "      <td>NaN</td>\n",
       "      <td>NaN</td>\n",
       "      <td>NaN</td>\n",
       "      <td>NaN</td>\n",
       "      <td>NaN</td>\n",
       "      <td>NaN</td>\n",
       "      <td>NaN</td>\n",
       "      <td>NaN</td>\n",
       "      <td>NaN</td>\n",
       "      <td>8.180</td>\n",
       "      <td>8.180</td>\n",
       "      <td>1137273.677</td>\n",
       "      <td>NaN</td>\n",
       "      <td>2022.000</td>\n",
       "      <td>2.000</td>\n",
       "      <td>NaN</td>\n",
       "      <td>9302898.678</td>\n",
       "      <td>NaN</td>\n",
       "      <td>NaN</td>\n",
       "      <td>NaN</td>\n",
       "      <td>NaN</td>\n",
       "    </tr>\n",
       "  </tbody>\n",
       "</table>\n",
       "<p>323816 rows × 27 columns</p>\n",
       "</div>"
      ],
      "text/plain": [
       "            Ticker                   Name Sector NAICS\\nlevel 1    revenue  \\\n",
       "firm q                                                                       \n",
       "FLWS 2000Q1   FLWS  1 800 Flowers Com Inc          Retail Trade  85045.000   \n",
       "     2000Q2   FLWS  1 800 Flowers Com Inc          Retail Trade 123288.000   \n",
       "     2000Q3   FLWS  1 800 Flowers Com Inc          Retail Trade  72516.000   \n",
       "     2000Q4   FLWS  1 800 Flowers Com Inc          Retail Trade 134243.000   \n",
       "     2001Q1   FLWS  1 800 Flowers Com Inc          Retail Trade 103221.000   \n",
       "...            ...                    ...                   ...        ...   \n",
       "ZNGA 2021Q2   ZNGA              Zynga Inc           Information 720000.000   \n",
       "     2021Q3   ZNGA              Zynga Inc           Information 704700.000   \n",
       "     2021Q4   ZNGA              Zynga Inc           Information 695500.000   \n",
       "     2022Q1   ZNGA              Zynga Inc           Information 691200.000   \n",
       "     2022Q2   ZNGA              Zynga Inc           Information        NaN   \n",
       "\n",
       "                  cogs       sgae  otheropexp  extraincome    finexp  \\\n",
       "firm q                                                                 \n",
       "FLWS 2000Q1  54143.000  52146.000       0.000      111.000 -1600.000   \n",
       "     2000Q2  75607.000  63201.000       0.000       27.000 -2164.000   \n",
       "     2000Q3  45091.000  51590.000       0.000       88.000 -1576.000   \n",
       "     2000Q4  79099.000  67206.000       0.000      335.000 -1191.000   \n",
       "     2001Q1  64020.000  48856.000       0.000       76.000 -1069.000   \n",
       "...                ...        ...         ...          ...       ...   \n",
       "ZNGA 2021Q2 253300.000 391900.000       0.000    -9100.000 13000.000   \n",
       "     2021Q3 240800.000 409400.000   66800.000     -600.000 13200.000   \n",
       "     2021Q4 260100.000 436600.000       0.000   -10400.000 13600.000   \n",
       "     2022Q1 252200.000 424000.000       0.000   -15700.000  2200.000   \n",
       "     2022Q2        NaN        NaN         NaN          NaN       NaN   \n",
       "\n",
       "             incometax  totalassets  totalliabilities  shortdebt    longdebt  \\\n",
       "firm q                                                                         \n",
       "FLWS 2000Q1   -268.000   248461.000         76657.000   4380.000    8869.000   \n",
       "     2000Q2   -419.000   224641.000         65723.000   1839.000    9441.000   \n",
       "     2000Q3      0.000   211449.000         75163.000   7654.000   10916.000   \n",
       "     2000Q4      0.000   213983.000         88231.000   2157.000   10452.000   \n",
       "     2001Q1      0.000   200400.000         83160.000   4777.000   12318.000   \n",
       "...                ...          ...               ...        ...         ...   \n",
       "ZNGA 2021Q2  24900.000  6132200.000       3111600.000  17700.000 1457000.000   \n",
       "     2021Q3  15600.000  6067700.000       3060700.000  17600.000 1467600.000   \n",
       "     2021Q4  42100.000  6358900.000       3247000.000  17100.000 1477200.000   \n",
       "     2022Q1  21600.000  5860000.000       2953900.000  17900.000 1673700.000   \n",
       "     2022Q2        NaN          NaN               NaN        NaN         NaN   \n",
       "\n",
       "             stockholderequity  adjprice  originalprice  sharesoutstanding  \\\n",
       "firm q                                                                       \n",
       "FLWS 2000Q1         171804.000     7.125          7.125          64097.913   \n",
       "     2000Q2         158918.000     5.125          5.125          64170.913   \n",
       "     2000Q3         136286.000     4.984          4.984          64185.913   \n",
       "     2000Q4         125752.000     4.125          4.125          64187.163   \n",
       "     2001Q1         117240.000     8.000          8.000          64187.163   \n",
       "...                        ...       ...            ...                ...   \n",
       "ZNGA 2021Q2        3020600.000    10.630         10.630        1088762.805   \n",
       "     2021Q3        3007000.000     7.530          7.530        1091890.649   \n",
       "     2021Q4        3111900.000     6.400          6.400        1120181.490   \n",
       "     2022Q1        2906100.000     9.240          9.240        1132408.337   \n",
       "     2022Q2                NaN     8.180          8.180        1137273.677   \n",
       "\n",
       "             fiscalmonth     year   cto  Book Value of the Firms  \\\n",
       "firm q                                                             \n",
       "FLWS 2000Q1        9.000 2000.000 1.000               171804.000   \n",
       "     2000Q2       12.000 2000.000 2.000               158918.000   \n",
       "     2000Q3        3.000 2000.000 3.000               136286.000   \n",
       "     2000Q4        6.000 2000.000 4.000               125752.000   \n",
       "     2001Q1        9.000 2001.000 1.000               117240.000   \n",
       "...                  ...      ...   ...                      ...   \n",
       "ZNGA 2021Q2        6.000 2021.000 2.000              3020600.000   \n",
       "     2021Q3        9.000 2021.000 3.000              3007000.000   \n",
       "     2021Q4       12.000 2021.000 4.000              3111900.000   \n",
       "     2022Q1        3.000 2022.000 1.000              2906100.000   \n",
       "     2022Q2          NaN 2022.000 2.000                      NaN   \n",
       "\n",
       "             Market Value  Operating Profit    OPM  Net Income  Profit Margin  \n",
       "firm q                                                                         \n",
       "FLWS 2000Q1    456697.630        -21244.000 -0.250  -19376.000         -0.228  \n",
       "     2000Q2    328875.929        -15520.000 -0.126  -12937.000         -0.105  \n",
       "     2000Q3    319926.660        -24165.000 -0.333  -22589.000         -0.312  \n",
       "     2000Q4    264772.047        -12062.000 -0.090  -10871.000         -0.081  \n",
       "     2001Q1    513497.304         -9655.000 -0.094   -8586.000         -0.083  \n",
       "...                   ...               ...    ...         ...            ...  \n",
       "ZNGA 2021Q2  11573548.617         74800.000  0.104   36900.000          0.051  \n",
       "     2021Q3   8221936.587        -12300.000 -0.017  -41100.000         -0.058  \n",
       "     2021Q4   7169161.536         -1200.000 -0.002  -56900.000         -0.082  \n",
       "     2022Q1  10463453.034         15000.000  0.022   -8800.000         -0.013  \n",
       "     2022Q2   9302898.678               NaN    NaN         NaN            NaN  \n",
       "\n",
       "[323816 rows x 27 columns]"
      ]
     },
     "execution_count": 82,
     "metadata": {},
     "output_type": "execute_result"
    }
   ],
   "source": [
    "US_Firms['Book Value of the Firms'] = US_Firms['totalassets'] - US_Firms['totalliabilities']\n",
    "US_Firms['Market Value'] = US_Firms['originalprice'] * US_Firms['sharesoutstanding']\n",
    "US_Firms#.head(1)"
   ]
  },
  {
   "cell_type": "markdown",
   "metadata": {},
   "source": [
    "**EN ESTE PUNTO YA SE OBTUVO EL CALCULO RESPECTIVO PARA EL VALOR DE MERCADO Y EL VALOR CONTABLE DE LAS INDUSTRIAS**\n"
   ]
  },
  {
   "cell_type": "markdown",
   "metadata": {},
   "source": [
    "###### **Profit Margin Measures:**\n",
    "###### *Operating Profit* = (Revenue - Cogs - Sgae) \n",
    "###### ---//Cogst-Costos Variables //Sgae-Costos fijos\n",
    "###### *Operating Profit Margin (OPM)* = (Ebit / Revenue)             \n",
    "###### *Profit margin* = (NetIncome / revenue)               \n",
    "###### *Net Income* = (Ebit - Incometax - Finexp)       \n",
    "###### ---//Incometax-Impuesto sobre la renta //Finexp-Gastos financieros                "
   ]
  },
  {
   "cell_type": "code",
   "execution_count": 84,
   "metadata": {},
   "outputs": [
    {
     "data": {
      "text/html": [
       "<div>\n",
       "<style scoped>\n",
       "    .dataframe tbody tr th:only-of-type {\n",
       "        vertical-align: middle;\n",
       "    }\n",
       "\n",
       "    .dataframe tbody tr th {\n",
       "        vertical-align: top;\n",
       "    }\n",
       "\n",
       "    .dataframe thead th {\n",
       "        text-align: right;\n",
       "    }\n",
       "</style>\n",
       "<table border=\"1\" class=\"dataframe\">\n",
       "  <thead>\n",
       "    <tr style=\"text-align: right;\">\n",
       "      <th></th>\n",
       "      <th></th>\n",
       "      <th>Ticker</th>\n",
       "      <th>Name</th>\n",
       "      <th>Sector NAICS\\nlevel 1</th>\n",
       "      <th>revenue</th>\n",
       "      <th>cogs</th>\n",
       "      <th>sgae</th>\n",
       "      <th>otheropexp</th>\n",
       "      <th>extraincome</th>\n",
       "      <th>finexp</th>\n",
       "      <th>incometax</th>\n",
       "      <th>totalassets</th>\n",
       "      <th>totalliabilities</th>\n",
       "      <th>shortdebt</th>\n",
       "      <th>longdebt</th>\n",
       "      <th>stockholderequity</th>\n",
       "      <th>adjprice</th>\n",
       "      <th>originalprice</th>\n",
       "      <th>sharesoutstanding</th>\n",
       "      <th>fiscalmonth</th>\n",
       "      <th>year</th>\n",
       "      <th>cto</th>\n",
       "      <th>Book Value of the Firms</th>\n",
       "      <th>Market Value</th>\n",
       "      <th>Operating Profit</th>\n",
       "      <th>OPM</th>\n",
       "      <th>Net Income</th>\n",
       "      <th>Profit Margin</th>\n",
       "    </tr>\n",
       "    <tr>\n",
       "      <th>firm</th>\n",
       "      <th>q</th>\n",
       "      <th></th>\n",
       "      <th></th>\n",
       "      <th></th>\n",
       "      <th></th>\n",
       "      <th></th>\n",
       "      <th></th>\n",
       "      <th></th>\n",
       "      <th></th>\n",
       "      <th></th>\n",
       "      <th></th>\n",
       "      <th></th>\n",
       "      <th></th>\n",
       "      <th></th>\n",
       "      <th></th>\n",
       "      <th></th>\n",
       "      <th></th>\n",
       "      <th></th>\n",
       "      <th></th>\n",
       "      <th></th>\n",
       "      <th></th>\n",
       "      <th></th>\n",
       "      <th></th>\n",
       "      <th></th>\n",
       "      <th></th>\n",
       "      <th></th>\n",
       "      <th></th>\n",
       "      <th></th>\n",
       "    </tr>\n",
       "  </thead>\n",
       "  <tbody>\n",
       "  </tbody>\n",
       "</table>\n",
       "</div>"
      ],
      "text/plain": [
       "Empty DataFrame\n",
       "Columns: [Ticker, Name, Sector NAICS\n",
       "level 1, revenue, cogs, sgae, otheropexp, extraincome, finexp, incometax, totalassets, totalliabilities, shortdebt, longdebt, stockholderequity, adjprice, originalprice, sharesoutstanding, fiscalmonth, year, cto, Book Value of the Firms, Market Value, Operating Profit, OPM, Net Income, Profit Margin]\n",
       "Index: []"
      ]
     },
     "execution_count": 84,
     "metadata": {},
     "output_type": "execute_result"
    }
   ],
   "source": [
    "# CalculosProfit Margin Measures\n",
    "US_Firms['Operating Profit'] = US_Firms['revenue'] - US_Firms['cogs'] - US_Firms['sgae'] - US_Firms['otheropexp']\n",
    "US_Firms['OPM'] = US_Firms['Operating Profit'] / US_Firms['revenue']\n",
    "US_Firms['Net Income'] = US_Firms['Operating Profit'] - US_Firms['incometax'] - US_Firms['finexp']\n",
    "US_Firms['Profit Margin'] = US_Firms['Net Income'] / US_Firms['revenue']\n",
    "US_Firms.head(0)"
   ]
  },
  {
   "cell_type": "code",
   "execution_count": 86,
   "metadata": {},
   "outputs": [],
   "source": [
    "comercial = US_Firms.loc[(US_Firms['Sector NAICS\\nlevel 1'] == \"Wholesale Trade\") | (US_Firms['Sector NAICS\\nlevel 1'] == \"Retail Trade\")]\n",
    "services = US_Firms.loc[(US_Firms['Sector NAICS\\nlevel 1'] == \"Accommodation and Food Services\") | (US_Firms['Sector NAICS\\nlevel 1'] == \"Administrative and Support and Waste Managment and Remedation Services\") | (US_Firms['Sector NAICS\\nlevel 1'] == \"Arts, Entertainment, and Recreation\") | (US_Firms['Sector NAICS\\nlevel 1'] == \"Educational Services\") | (US_Firms['Sector NAICS\\nlevel 1'] == \"Health Care and Social Assistance\") | (US_Firms['Sector NAICS\\nlevel 1'] == \"Information\") | (US_Firms['Sector NAICS\\nlevel 1'] == \"Other Services (except Public Administration)\") | (US_Firms['Sector NAICS\\nlevel 1'] == \"Profession, Scientific and Technical Services\") | (US_Firms['Sector NAICS\\nlevel 1'] == \"Transportation and Warehousing\")]\n",
    "financial = US_Firms.loc[(US_Firms['Sector NAICS\\nlevel 1'] == \"Finance and Insurance\") | (US_Firms['Sector NAICS\\nlevel 1'] == \"Real Estate and Rental and Leasing\")]\n",
    "manufacturing = US_Firms.loc[(US_Firms['Sector NAICS\\nlevel 1'] == \"Manufacturing\")]"
   ]
  },
  {
   "cell_type": "code",
   "execution_count": 95,
   "metadata": {},
   "outputs": [
    {
     "name": "stdout",
     "output_type": "stream",
     "text": [
      "Commercial :          (231, 24)\n",
      "Services :            (514, 24)\n",
      "Financial Services :  (769, 24)\n",
      "Manufacturing :      (1565, 24)\n"
     ]
    }
   ],
   "source": [
    "# Conteo por industrias\n",
    "print('Commercial :         ', comercial.groupby([\"firm\"]).sum().shape)\n",
    "print('Services :           ', services.groupby([\"firm\"]).sum().shape)\n",
    "print('Financial Services : ', financial.groupby([\"firm\"]).sum().shape)\n",
    "print('Manufacturing :     ',  manufacturing.groupby([\"firm\"]).sum().shape)"
   ]
  },
  {
   "cell_type": "code",
   "execution_count": 101,
   "metadata": {},
   "outputs": [
    {
     "name": "stdout",
     "output_type": "stream",
     "text": [
      "Todas las industrias :  1570573.461\n"
     ]
    }
   ],
   "source": [
    "# Para todas las industrias en función del valor de mercado\n",
    "print('Todas las industrias : ',round(US_Firms[\"Market Value\"].median(),3))"
   ]
  },
  {
   "cell_type": "code",
   "execution_count": 98,
   "metadata": {},
   "outputs": [
    {
     "data": {
      "image/png": "[encoded data removed]",
      "text/plain": [
       "<Figure size 432x288 with 1 Axes>"
      ]
     },
     "metadata": {
      "needs_background": "light"
     },
     "output_type": "display_data"
    }
   ],
   "source": [
    "ax = sns.boxplot(x=US_Firms[\"Market Value\"])"
   ]
  },
  {
   "cell_type": "code",
   "execution_count": 105,
   "metadata": {},
   "outputs": [
    {
     "name": "stdout",
     "output_type": "stream",
     "text": [
      "Commercial :          2083817.971\n",
      "Services :            2184463.519\n",
      "Financial Services :  1563695.938\n",
      "Manufacturing :       1190025.11\n"
     ]
    }
   ],
   "source": [
    "# Para cada industria en función del valor de mercado\n",
    "print('Commercial :         ', round(comercial[\"Market Value\"].median(),3))\n",
    "print('Services :           ', round(services[\"Market Value\"].median(),3))\n",
    "print('Financial Services : ', round(financial[\"Market Value\"].median(),3))\n",
    "print('Manufacturing :      ',  round(manufacturing[\"Market Value\"].median(),3))"
   ]
  },
  {
   "cell_type": "code",
   "execution_count": 135,
   "metadata": {},
   "outputs": [
    {
     "data": {
      "text/plain": [
       "Text(0.5, 1.0, 'Book Value for Commercial')"
      ]
     },
     "execution_count": 135,
     "metadata": {},
     "output_type": "execute_result"
    },
    {
     "data": {
      "image/png": "[encoded data removed]",
      "text/plain": [
       "<Figure size 432x288 with 1 Axes>"
      ]
     },
     "metadata": {
      "needs_background": "light"
     },
     "output_type": "display_data"
    }
   ],
   "source": [
    "# Book Value for Commercial\n",
    "sns.boxplot(x=\"Sector NAICS\\nlevel 1\",y=\"Book Value of the Firms\",data=comercial, hue=\"Sector NAICS\\nlevel 1\").set_title(\"Book Value for Commercial\")"
   ]
  },
  {
   "cell_type": "code",
   "execution_count": 123,
   "metadata": {},
   "outputs": [
    {
     "data": {
      "text/plain": [
       "Text(0.5, 1.0, 'Market Value for Services')"
      ]
     },
     "execution_count": 123,
     "metadata": {},
     "output_type": "execute_result"
    },
    {
     "data": {
      "image/png": "[encoded data removed]",
      "text/plain": [
       "<Figure size 432x288 with 1 Axes>"
      ]
     },
     "metadata": {
      "needs_background": "light"
     },
     "output_type": "display_data"
    }
   ],
   "source": [
    "# Market Value for Services\n",
    "sns.boxplot(x=\"Sector NAICS\\nlevel 1\",y=\"Market Value\",data=services, hue=\"Sector NAICS\\nlevel 1\").set_title(\"Market Value for Services\")"
   ]
  },
  {
   "cell_type": "code",
   "execution_count": 125,
   "metadata": {},
   "outputs": [
    {
     "data": {
      "text/plain": [
       "Text(0.5, 1.0, 'Market Value for Financial Services')"
      ]
     },
     "execution_count": 125,
     "metadata": {},
     "output_type": "execute_result"
    },
    {
     "data": {
      "image/png": "[encoded data removed]",
      "text/plain": [
       "<Figure size 432x288 with 1 Axes>"
      ]
     },
     "metadata": {
      "needs_background": "light"
     },
     "output_type": "display_data"
    }
   ],
   "source": [
    "# Market Value for Financial Services\n",
    "sns.boxplot(x=\"Sector NAICS\\nlevel 1\",y=\"Market Value\",data=financial, hue=\"Sector NAICS\\nlevel 1\").set_title(\"Market Value for Financial Services\")"
   ]
  },
  {
   "cell_type": "code",
   "execution_count": 126,
   "metadata": {},
   "outputs": [
    {
     "data": {
      "text/plain": [
       "Text(0.5, 1.0, 'Market Value for Manufacturing')"
      ]
     },
     "execution_count": 126,
     "metadata": {},
     "output_type": "execute_result"
    },
    {
     "data": {
      "image/png": "[encoded data removed]",
      "text/plain": [
       "<Figure size 432x288 with 1 Axes>"
      ]
     },
     "metadata": {
      "needs_background": "light"
     },
     "output_type": "display_data"
    }
   ],
   "source": [
    "# Market Value for Manufacturing\n",
    "sns.boxplot(x=\"Sector NAICS\\nlevel 1\",y=\"Market Value\",data=manufacturing, hue=\"Sector NAICS\\nlevel 1\").set_title(\"Market Value for Manufacturing\")"
   ]
  },
  {
   "cell_type": "code",
   "execution_count": 128,
   "metadata": {},
   "outputs": [
    {
     "name": "stdout",
     "output_type": "stream",
     "text": [
      "Todas las industrias :  567545.0\n"
     ]
    }
   ],
   "source": [
    "# Para todas las industrias en función del valor contable\n",
    "print('Todas las industrias : ',round(US_Firms[\"Book Value of the Firms\"].median(),3))"
   ]
  },
  {
   "cell_type": "code",
   "execution_count": 129,
   "metadata": {},
   "outputs": [
    {
     "data": {
      "image/png": "[encoded data removed]",
      "text/plain": [
       "<Figure size 432x288 with 1 Axes>"
      ]
     },
     "metadata": {
      "needs_background": "light"
     },
     "output_type": "display_data"
    }
   ],
   "source": [
    "ax = sns.boxplot(x=US_Firms[\"Book Value of the Firms\"])"
   ]
  },
  {
   "cell_type": "code",
   "execution_count": 130,
   "metadata": {},
   "outputs": [
    {
     "name": "stdout",
     "output_type": "stream",
     "text": [
      "Commercial :          723936.0\n",
      "Services :            544419.0\n",
      "Financial Services :  893833.0\n",
      "Manufacturing :       363070.5\n"
     ]
    }
   ],
   "source": [
    "# Para cada industria en función del valor de mercado\n",
    "print('Commercial :         ', round(comercial[\"Book Value of the Firms\"].median(),3))\n",
    "print('Services :           ', round(services[\"Book Value of the Firms\"].median(),3))\n",
    "print('Financial Services : ', round(financial[\"Book Value of the Firms\"].median(),3))\n",
    "print('Manufacturing :      ',  round(manufacturing[\"Book Value of the Firms\"].median(),3))"
   ]
  },
  {
   "cell_type": "code",
   "execution_count": 131,
   "metadata": {},
   "outputs": [
    {
     "data": {
      "text/plain": [
       "Text(0.5, 1.0, 'Book Value for Commercial')"
      ]
     },
     "execution_count": 131,
     "metadata": {},
     "output_type": "execute_result"
    },
    {
     "data": {
      "image/png": "[encoded data removed]",
      "text/plain": [
       "<Figure size 432x288 with 1 Axes>"
      ]
     },
     "metadata": {
      "needs_background": "light"
     },
     "output_type": "display_data"
    }
   ],
   "source": [
    "# Book Value for Commercial\n",
    "sns.boxplot(x=\"Sector NAICS\\nlevel 1\",y=\"Book Value of the Firms\",data=comercial, hue=\"Sector NAICS\\nlevel 1\").set_title(\"Book Value for Commercial\")"
   ]
  },
  {
   "cell_type": "code",
   "execution_count": 132,
   "metadata": {},
   "outputs": [
    {
     "data": {
      "text/plain": [
       "Text(0.5, 1.0, 'Book Value for Services')"
      ]
     },
     "execution_count": 132,
     "metadata": {},
     "output_type": "execute_result"
    },
    {
     "data": {
      "image/png": "[encoded data removed]",
      "text/plain": [
       "<Figure size 432x288 with 1 Axes>"
      ]
     },
     "metadata": {
      "needs_background": "light"
     },
     "output_type": "display_data"
    }
   ],
   "source": [
    "# Book Value for Services\n",
    "sns.boxplot(x=\"Sector NAICS\\nlevel 1\",y=\"Book Value of the Firms\",data=services, hue=\"Sector NAICS\\nlevel 1\").set_title(\"Book Value for Services\")"
   ]
  },
  {
   "cell_type": "code",
   "execution_count": 133,
   "metadata": {},
   "outputs": [
    {
     "data": {
      "text/plain": [
       "Text(0.5, 1.0, 'Book Value for Financial Services')"
      ]
     },
     "execution_count": 133,
     "metadata": {},
     "output_type": "execute_result"
    },
    {
     "data": {
      "image/png": "[encoded data removed]",
      "text/plain": [
       "<Figure size 432x288 with 1 Axes>"
      ]
     },
     "metadata": {
      "needs_background": "light"
     },
     "output_type": "display_data"
    }
   ],
   "source": [
    "# Book Value for Financial\n",
    "sns.boxplot(x=\"Sector NAICS\\nlevel 1\",y=\"Book Value of the Firms\",data=financial, hue=\"Sector NAICS\\nlevel 1\").set_title(\"Book Value for Financial Services\")"
   ]
  },
  {
   "cell_type": "code",
   "execution_count": 134,
   "metadata": {},
   "outputs": [
    {
     "data": {
      "text/plain": [
       "Text(0.5, 1.0, 'Book Value for Manufacturing')"
      ]
     },
     "execution_count": 134,
     "metadata": {},
     "output_type": "execute_result"
    },
    {
     "data": {
      "image/png": "[encoded data removed]",
      "text/plain": [
       "<Figure size 432x288 with 1 Axes>"
      ]
     },
     "metadata": {
      "needs_background": "light"
     },
     "output_type": "display_data"
    }
   ],
   "source": [
    "# Book Value for Manufacturing\n",
    "sns.boxplot(x=\"Sector NAICS\\nlevel 1\",y=\"Book Value of the Firms\",data=manufacturing, hue=\"Sector NAICS\\nlevel 1\").set_title(\"Book Value for Manufacturing\")"
   ]
  },
  {
   "cell_type": "markdown",
   "metadata": {},
   "source": [
    ">###### Para cada sector (y para todos los sectores), ¿qué puede decir sobre el margen de beneficio de las empresas? mostrar a) estadísticas descriptivas del margen de beneficios y b) gráfico(s) para ilustrar cómo cambia el margen de beneficios entre las industrias.\n",
    "###### **RESPUESTA.**\n",
    "\n",
    ">###### ¿Cuáles son las 10 empresas estadounidenses más grandes en términos de valor de mercado y a qué distancia están del tamaño típico de una empresa estadounidense?\n",
    "###### **RESPUESTA.**\n",
    "\n",
    ">###### ¿Cuáles son las 10 empresas estadounidenses más importantes en términos de valor contable y a qué distancia están del tamaño típico de una empresa estadounidense?\n",
    "###### **RESPUESTA.**"
   ]
  },
  {
   "cell_type": "markdown",
   "metadata": {},
   "source": [
    "Considerando todo el historial de datos financieros de todas las empresas:\n",
    "\n",
    ">###### ¿Cómo se puede medir la rentabilidad de las empresas que se puede utilizar para comparar el rendimiento entre empresas de diferentes tamaños? Seleccionar y justificar al menos 3 medidas y mostrar estadísticas descriptivas\n",
    "###### **RESPUESTA.**\n",
    "\n",
    ">###### Calcular y explicar las ganancias por acción deflactadas por precio.\n",
    "###### **RESPUESTA.**"
   ]
  },
  {
   "cell_type": "markdown",
   "metadata": {},
   "source": [
    "*Modelado estadistico*"
   ]
  },
  {
   "cell_type": "markdown",
   "metadata": {},
   "source": [
    "Seleccionar un grupo de empresas de acuerdo con su clasificación general de la industria: ***Industrias de servicios***"
   ]
  },
  {
   "cell_type": "code",
   "execution_count": null,
   "metadata": {},
   "outputs": [],
   "source": []
  },
  {
   "cell_type": "markdown",
   "metadata": {},
   "source": [
    "Utilizando su subconjunto de empresas que pertenecen a su sector, ¿qué factores (variables) podrían estar relacionados con la rentabilidad anual de las acciones en un trimestre en el futuro? Seleccione al menos 3 factores y explique brevemente. ¿por qué cree que podrían estar relacionados con la rentabilidad de las acciones?.\n",
    "###### **RESPUESTA.**\n",
    "\n",
    ">###### Realice histogramas para cada factor/variable e interpretarlos\n",
    "###### **RESPUESTA.**\n",
    "\n",
    ">###### Realice trazados para visualizar la posible relación que cada factor podría tener con la variable dependiente.\n",
    "###### **RESPUESTA.**\n",
    "\n",
    ">###### Mostrar estadísticas descriptivas de estos factores.\n",
    "###### **RESPUESTA.**"
   ]
  },
  {
   "cell_type": "markdown",
   "metadata": {},
   "source": [
    "> Diseñe y ejecute un modelo de regresión múltiple para examinar si los factores seleccionados y las ganancias por acción deflactadas por precio pueden explicar/predecir las ganancias anuales de las acciones. Usted tiene que controlar para la industria y el tamaño de la firma. Para controlar estas variables, debe incluirlas como variables independientes adicionales en el modelo.\n",
    "###### **RESPUESTA.**\n",
    "\n",
    ">###### Las variables independientes deben estar en la escala correcta para poder comparar los valores de las variables entre diferentes firmas de cualquier tamaño.\n",
    "###### **RESPUESTA.**\n",
    "\n",
    ">###### Para cada variable independiente debe comprobar si hay valores atípicos y realizar los ajustes correspondientes para evitar resultados no fiables en el modelo de regresión.\n",
    "###### **RESPUESTA.**\n",
    "\n",
    ">###### Debe comprobar si existen posibles problemas de multicolinealidad. Explique brevemente qué es multicolinealidad, ejecute e interprete la prueba correspondiente.\n",
    "###### **RESPUESTA.**"
   ]
  },
  {
   "cell_type": "markdown",
   "metadata": {},
   "source": [
    "> Interpretar el modelo\n",
    "\n",
    ">###### Interpretar los resultados de cada coeficiente (beta y su significación estadística)\n",
    "###### **RESPUESTA.**\n",
    "\n",
    ">###### Interpretar el R-cuadrado del modelo\n",
    "###### **RESPUESTA.**"
   ]
  },
  {
   "cell_type": "markdown",
   "metadata": {},
   "source": [
    "> Ajustes a su modelo. Si hay una o más variables independientes (factores o variables de control) que no son significativas, elimínelas del modelo. Usted tiene que ejecutar e interpretar su modelo final."
   ]
  },
  {
   "cell_type": "markdown",
   "metadata": {},
   "source": [
    "nOTAS\n",
    "\n",
    "\n",
    "###### **hist** (*self, by=by, ax=ax, grid=grid, xlabelsize=xlabelsize, xrot=xrot, ylabelsize=ylabelsize, yrot=yrot, figsize=figsize, bins=bins, legend=legend*)"
   ]
  }
 ],
 "metadata": {
  "kernelspec": {
   "display_name": "Python 3.10.6 64-bit (windows store)",
   "language": "python",
   "name": "python3"
  },
  "language_info": {
   "codemirror_mode": {
    "name": "ipython",
    "version": 3
   },
   "file_extension": ".py",
   "mimetype": "text/x-python",
   "name": "python",
   "nbconvert_exporter": "python",
   "pygments_lexer": "ipython3",
   "version": "3.10.7"
  },
  "orig_nbformat": 4,
  "vscode": {
   "interpreter": {
    "hash": "f58006e3a6b3697db5a2671151387509a500f2e72d8fe07fc4154091e95c0813"
   }
  }
 },
 "nbformat": 4,
 "nbformat_minor": 2
}
